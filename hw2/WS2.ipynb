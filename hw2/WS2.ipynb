{
  "nbformat": 4,
  "nbformat_minor": 0,
  "metadata": {
    "colab": {
      "name": "WS2.ipynb",
      "provenance": [],
      "collapsed_sections": []
    },
    "kernelspec": {
      "display_name": "Python 3",
      "language": "python",
      "name": "python3"
    },
    "language_info": {
      "codemirror_mode": {
        "name": "ipython",
        "version": 3
      },
      "file_extension": ".py",
      "mimetype": "text/x-python",
      "name": "python",
      "nbconvert_exporter": "python",
      "pygments_lexer": "ipython3",
      "version": "3.7.1"
    }
  },
  "cells": [
    {
      "cell_type": "markdown",
      "metadata": {
        "id": "9Mpd38HztkAh"
      },
      "source": [
        "<center>\n",
        "<h1>236606 - Machine Learning and Human Behavior</h1>\n",
        "<h2>Workshop #2 - Discrete Choice ✨</h2>\n",
        "</center>"
      ]
    },
    {
      "cell_type": "markdown",
      "metadata": {
        "id": "MWK5QJd7opXM"
      },
      "source": [
        "## Preliminaries\n",
        "Run these cells to load into memory objects and functions that will be used throughtout today's workshop."
      ]
    },
    {
      "cell_type": "code",
      "metadata": {
        "id": "25Ie6znsg1gU",
        "colab": {
          "base_uri": "https://localhost:8080/"
        },
        "outputId": "cfcb1e00-d589-4c32-88f8-a09ab2eb96a7"
      },
      "source": [
        "import numpy as np\n",
        "import matplotlib.pyplot as plt\n",
        "import pandas as pd\n",
        "import abc\n",
        "import string\n",
        "import statsmodels.api as sm\n",
        "import itertools\n",
        "from sklearn import svm, linear_model\n",
        "import pandas as pd\n",
        "import sys\n",
        "\n",
        "from collections import OrderedDict\n",
        "\n",
        "%config InlineBackend.figure_format = 'retina'"
      ],
      "execution_count": 1,
      "outputs": [
        {
          "output_type": "stream",
          "name": "stderr",
          "text": [
            "/usr/local/lib/python3.7/dist-packages/statsmodels/tools/_testing.py:19: FutureWarning: pandas.util.testing is deprecated. Use the functions in the public API at pandas.testing instead.\n",
            "  import pandas.util.testing as tm\n"
          ]
        }
      ]
    },
    {
      "cell_type": "markdown",
      "metadata": {
        "id": "AFQfhGX_wYkJ"
      },
      "source": [
        "**Context UserModels**"
      ]
    },
    {
      "cell_type": "code",
      "metadata": {
        "id": "XMrZjWm_qQZZ"
      },
      "source": [
        "# Generate Choice \n",
        "\n",
        "class UserModel(abc.ABC):\n",
        "  @abc.abstractclassmethod\n",
        "  def __call__(self, X, *args):\n",
        "    '''\n",
        "    Given items X, calculate the user's valuation v(x) for each item x\n",
        "    '''\n",
        "    raise NotImplementedError()\n",
        "  \n",
        "  def predict(self, X, *args):\n",
        "    raise NotImplementedError()\n"
      ],
      "execution_count": 2,
      "outputs": []
    },
    {
      "cell_type": "code",
      "metadata": {
        "id": "-57rrztworxu"
      },
      "source": [
        "# user model types - paste your user model here!\n",
        "\n",
        "class RationalUserModel(UserModel):\n",
        "\n",
        "  def __init__(self, num_features, beta_h):\n",
        "    self.num_features = num_features\n",
        "    self.beta_h = beta_h\n",
        "\n",
        "  def __call__(self, X):\n",
        "    return X@self.beta_h\n",
        "  \n",
        "  def choice(self, X):\n",
        "    return np.argmax(self(X), axis=0)\n",
        "\n",
        "\n",
        "class AttractionUserModel(UserModel):\n",
        "\n",
        "  def __init__(self, beta_h, alpha_attr):\n",
        "    # rational_utility_weights\n",
        "    #   shape=(num_features,)\n",
        "    #   weights for linear \"rational decision model\"\n",
        "    self.rational_utility_weights = beta_h \n",
        "    # attraction_coefficient\n",
        "    #   scalar\n",
        "    #   weight of attraction effect $\\alpha_j^a$\n",
        "    self.attraction_coefficient = alpha_attr \n",
        "\n",
        "  def __call__(self, X):\n",
        "    # X: shape=(num_items,num_features) - Item covariates\n",
        "    return (\n",
        "        self._rational_decision_term(X)\n",
        "        + self.attraction_coefficient*self._attraction_term(X)\n",
        "    )\n",
        "\n",
        "  def _rational_decision_term(self, X):\n",
        "    return X@self.rational_utility_weights\n",
        "\n",
        "  def _attraction_term(self, X):\n",
        "    # Calculate preference vector\n",
        "    preference_vector = X.max(axis=0)-X.min(axis=0)\n",
        "    preference_vector_normalized = (\n",
        "        preference_vector\n",
        "        /np.sqrt(preference_vector@preference_vector)\n",
        "    )\n",
        "    # Calculate dominance and distance matrices\n",
        "    N = len(X)\n",
        "    dominance = np.zeros((N,N))\n",
        "    distance = np.zeros((N,N))\n",
        "    for i in range(N):\n",
        "      for j in range(N):\n",
        "        dominance[i,j] = (+1)*np.all(X[i]-X[j] >= 0) + (-1)*np.all(X[j]-X[i] >= 0)\n",
        "        distance[i,j] = abs(preference_vector_normalized@(X[i]-X[j]))\n",
        "\n",
        "    attraction_terms = (dominance*distance).sum(axis=1)\n",
        "    return attraction_terms\n",
        "  \n",
        "  def choice(self, X):\n",
        "    return np.argmax(self(X), axis=0)\n",
        "\n",
        "\n",
        "class SimilarityUserModel(UserModel):\n",
        "\n",
        "  def __init__(self, beta_h, beta_sim):\n",
        "    self.beta_h = beta_h\n",
        "    self.beta_sim = beta_sim\n",
        "\n",
        "  def __call__(self, X):\n",
        "\n",
        "    # calculate actual value\n",
        "    v_ih = X@self.beta_h\n",
        "\n",
        "    # calculate perference vector\n",
        "    pref_vec = X.max(axis=0) - X.min(axis=0)\n",
        "\n",
        "    # project on the ortogonal hyperplane\n",
        "    X_projected = np.zeros(X.shape)\n",
        "    projection_size = np.zeros(X.shape[0])\n",
        "\n",
        "    for i in range(X.shape[0]):\n",
        "        X_projected[i, :] = X[i,:] -  (X[i,:].dot(pref_vec) / np.linalg.norm(pref_vec)) * pref_vec\n",
        "\n",
        "    # find min distance on projected\n",
        "\n",
        "    distances = np.zeros((X_projected.shape[0], X_projected.shape[0]))\n",
        "\n",
        "    for i in range(X_projected.shape[0]): # could be optimized (cal half mat etc..)\n",
        "      for j in range(X_projected.shape[0]):\n",
        "        distances[i,j] = np.linalg.norm(X_projected[i,:] - X_projected[j,:])\n",
        "    \n",
        "    # avoide i == j\n",
        "    distances = distances + np.eye(distances.shape[0])*distances.max()\n",
        "\n",
        "    min_distances = distances.min(axis=1) # go over columns\n",
        "\n",
        "    return v_ih + self.beta_sim*-min_distances\n",
        "  \n",
        "  def choice(self, X):\n",
        "    return np.argmax(self(X))\n",
        "\n",
        "\n",
        "class CompromiseUserModel(UserModel):\n",
        "  \n",
        "  def __init__(self, beta: np.ndarray, alpha: float):\n",
        "    self.beta = beta\n",
        "    self.alpha = alpha\n",
        "\n",
        "  def _com(self, X: np.ndarray) -> np.ndarray:\n",
        "    N, Q = X.shape  # (#items, #features)\n",
        "    r = (np.min(X, axis=0, keepdims=True) + np.max(X, axis=0, keepdims=True)) / 2\n",
        "    # r = np.expand_dims(r, 0)\n",
        "    # r = np.repeat(r, N, axis=0)\n",
        "    com = -np.linalg.norm(X - r, ord=2, axis=1)\n",
        "    return com\n",
        "\n",
        "  def __call__(self, X, *args) -> np.ndarray:\n",
        "    M, N, Q = X.shape  # (#sets, #items, #features)\n",
        "    v = np.zeros((M, N))\n",
        "    for m in range(M):\n",
        "      v[m, :] = X[m] @ self.beta + self.alpha * self._com(X[m])\n",
        "    return v\n",
        "  \n",
        "  def choice(self, X: np.ndarray, *args) -> np.ndarray:\n",
        "    M, N, Q = X.shape  # (#sets, #items, #features)\n",
        "    choice = np.argmax(self(X, *args), axis=1)\n",
        "    return choice"
      ],
      "execution_count": 3,
      "outputs": []
    },
    {
      "cell_type": "markdown",
      "metadata": {
        "id": "4FtJntklBqhk"
      },
      "source": [
        "**Synthetic Data Generation**"
      ]
    },
    {
      "cell_type": "code",
      "metadata": {
        "id": "5P-NCc3qSddR"
      },
      "source": [
        "np.random.seed(42)\n",
        "\n",
        "# just data\n",
        "def generate_synth_data(num_examples, num_features, num_items):\n",
        "  items = np.random.uniform(low=0.0, high=10.0, size=(num_examples, num_items, num_features))\n",
        "  return items\n",
        "\n",
        "beta_com = 100\n",
        "beta_atter = 100\n",
        "beta_sim = 100\n",
        "\n",
        "# data and user behavior\n",
        "def generate_data_and_user_selections(num_examples=100, num_items=5, num_features=3):\n",
        "  \"\"\" returns data and dictionary with user predictions for each user model \"\"\"\n",
        "  beta_h = np.arange(num_features) * 1\n",
        "\n",
        "  X = generate_synth_data(num_examples, num_features, num_items)\n",
        "  args = {\"beta_h\":beta_h, \"beta_com\":beta_com} \n",
        "\n",
        "  a_user = AttractionUserModel(beta_h, beta_atter)\n",
        "  c_user = CompromiseUserModel(beta_h, beta_com)\n",
        "  s_user = SimilarityUserModel(beta_h, beta_sim)\n",
        "  r_user = RationalUserModel(num_features, beta_h)\n",
        "\n",
        "  y_r = np.zeros((num_examples, num_items))\n",
        "  y_c = np.zeros((num_examples, num_items))\n",
        "  y_s = np.zeros((num_examples, num_items))\n",
        "  y_a = np.zeros((num_examples, num_items))\n",
        "\n",
        "  for i in range(num_examples):\n",
        "    selection = a_user.choice(X[i])\n",
        "    y_a[i, selection] = 1\n",
        "    selection = r_user.choice(X[i])\n",
        "    y_r[i, selection] = 1\n",
        "    selection = c_user.choice(X[i].reshape((1, num_items, num_features))).squeeze()\n",
        "    y_c[i, selection] = 1\n",
        "    selection = s_user.choice(X[i])\n",
        "    y_s[i, selection] = 1\n",
        "  \n",
        "  return X, {'Rational':y_r, 'Compromise':y_c, 'Similarity':y_s, 'Attraction':y_a}, {'Rational':r_user, 'Compromise':c_user, 'Similarity':s_user, 'Attraction':a_user}"
      ],
      "execution_count": 4,
      "outputs": []
    },
    {
      "cell_type": "markdown",
      "metadata": {
        "id": "9zegIuLRG5y5"
      },
      "source": [
        "\n",
        "\n",
        "-----------------\n",
        "-----------------"
      ]
    },
    {
      "cell_type": "markdown",
      "metadata": {
        "id": "LUKD_nqn3ner"
      },
      "source": [
        "## Task 1: engineering choice sets\n",
        "\n",
        "In this task, you will play \"evil designer\" and construct sets of available items that cause (non-rational) users to choose items that are bad for them (i.e., have suboptimal value), but good for the system. In particular, users in this task will be susceptible to the *Attracttion* context effect, and the way you construct the set of items should make use of this knowledge.\n",
        "\n",
        "----------------------------------------\n",
        "\n",
        "**Recommendation procedure:**\n",
        "1. The collection of available items is the *ground set* $\\Omega=\\{x_1,...,x_n\\}$ ($n$ may be different in different parts of this task). Each item $x \\in s$ is described by two features, $x=(x_1, x_2)$.\n",
        "2. There is a single user whose (true) value function is $v(x)=\\alpha^\\top x$. I.e., if the user chooses item $x_i$, then she receives $\\alpha_1\\cdot x_{i1} + \\alpha_2\\cdot x_{i2}$ utility from this choice. **The value vector $\\alpha$ is known to the system**.\n",
        "3. System also benefits from user choices. If the user chooses item $x_i$, then the system receives $e_i$ utility. The values $e_i$ are predetermined, known to the system, and do not depend on features.\n",
        "4. The system recommends to the user the top-5 items $x\\in \\Omega$ having highest value. We will call this the *choice set*, denoted $s \\in \\Omega$.\n",
        "5. The user chooses exactly one item $x \\in s$. This is the item with highest *perceived value*, as determined by the attraction effect:\n",
        "$$\n",
        "  \\tilde{v}(x|s) = \\alpha^\\top x + \\mathtt{att}(x|s)\n",
        "$$\n",
        "where $\\mathtt{att}$ is as was defined in class. We will denote the chosen item by $y = \\mathtt{argmax}_{x \\in s} \\tilde{v}(x|s)$.\n",
        "6. User receives utility $v(y)$, and system receives utility $e_y$.\n",
        "\n",
        "----------------------------------------\n",
        "\n",
        "In the above description, the system recommends in a way that is optimal to users. In this task, *you are an agent of the system*, and your goal is to maximize the system's utility.\n",
        "\n",
        "Of course, you cannot simply force the user to choose a certain item, nor can you change the recommendation procedure. The only thing you are allowed to do is to modify $\\Omega$ by adding one additional item from a different set of items, $\\Omega'$. Once $\\Omega$ is modified (i.e., includes one additional item), the recommendation procedure and user choice behavior is as described above.\n",
        "Hence, your goal is to (manually) choose $x \\in \\Omega$ such that the choice $y$ derived from a top-5 recommended set $s$ based on the collection of items $\\Omega \\cup \\{x\\}$ will results in high system utility $e_y$ (and possibly with lower utility $v(y)$ to the user).\n",
        "\n",
        "As you will see, items in  $\\Omega'$ actually have lower system values $e_i$ than items in $\\Omega$ ($\\forall e \\in E_S, e' \\in E_S':  e > e'$). Therefore, the item you add will serve as a *decoy*: these serve to modify the preceived values of items in $s$, in a way that utilizes the attraction effect to affect choice behavior. "
      ]
    },
    {
      "cell_type": "markdown",
      "metadata": {
        "id": "4sm5Z1Pr-Nbe"
      },
      "source": [
        "### 1.1 Guided example - a gentle start:\n",
        "\n",
        "Set $\\Omega$ consists of 7 items:\n",
        "\n",
        "\\begin{align}\n",
        "{A:(1,1), B:(3,7.5), C:(3,5), D:(4,4), E:(10,5), F:(4,6), G:(2,1)}\n",
        "\\end{align}\n",
        "\n",
        "with the following system utility values $e_s=\\{e_1,\\dots,e_n\\}$:\n",
        "\\begin{align}\n",
        "\\{10, 20, 30, 40, 30, 80, 100\\}\n",
        "\\end{align}\n",
        "\n",
        "Additionally, we have set $\\Omega'$:\n",
        "\\begin{align}\n",
        "{I:(4,4.5), J:(2.5,6), K:(4.5,5)}\n",
        "\\end{align}\n",
        "with the following values $e_{s'}$:\n",
        "\\begin{align}\n",
        "\\{5, 8, 3\\}\n",
        "\\end{align}\n",
        "\n",
        "The parameter $\\alpha$ of the user value function is: \n",
        "\\begin{align}\n",
        "\\alpha_1 = 2, \\alpha_2 = 3\n",
        "\\end{align}\n",
        "\n",
        "------------"
      ]
    },
    {
      "cell_type": "markdown",
      "metadata": {
        "id": "9HFE1ClPH3NR"
      },
      "source": [
        "1.1.1 First, let's see what happens before you intervene. Run the code below to see what 5 items are recommended by the system when $\\Omega$ is the ground set,\n",
        "and what item the user chooses. Make sure you understand what the code does."
      ]
    },
    {
      "cell_type": "code",
      "metadata": {
        "id": "nElEn6waxzKh"
      },
      "source": [
        "# Our data:\n",
        "omega = np.array([[1,3,3,4,10,4,2],[1,7.5,5,4,5,6,1]])  # Set of 7 items from omega: A..G\n",
        "E_s = np.array([10, 20, 30, 40, 30, 80,100])\n",
        "\n",
        "omega_tag = np.array([[4,2.5,4.5],[4.5,6,5]])\n",
        "E_s_tag = np.array([5, 8, 3])\n",
        "\n",
        "alpha = [1, 9] # rational user attributes\n",
        "\n",
        "alpha_attr = 3   # attraction coefficient\n",
        "\n",
        "a_user = AttractionUserModel(\n",
        "    beta_h=np.array(alpha),\n",
        "    alpha_attr=alpha_attr,\n",
        ")"
      ],
      "execution_count": null,
      "outputs": []
    },
    {
      "cell_type": "code",
      "metadata": {
        "id": "hcFU-kZjJoU8"
      },
      "source": [
        "def rec_and_choose(omega, alpha):\n",
        "  # system computes user values\n",
        "  rantional_user_val = omega.T@alpha\n",
        "\n",
        "  # system recommends top-5 items\n",
        "  top_5 = rantional_user_val.argsort()[-5:][::-1]\n",
        "\n",
        "  # user chooses item with highest perceived value\n",
        "  chosen = top_5[a_user.choice(omega[:,top_5].T)]\n",
        "\n",
        "  return top_5, chosen, rantional_user_val\n",
        "\n",
        "top_5, chosen, rantional_user_val = rec_and_choose(omega, alpha)"
      ],
      "execution_count": null,
      "outputs": []
    },
    {
      "cell_type": "markdown",
      "metadata": {
        "id": "TU5AUnijJ7Hq"
      },
      "source": [
        "1.1.2 Print a table showing for each item (rows) the true value and perceived value for the user (columns)."
      ]
    },
    {
      "cell_type": "code",
      "metadata": {
        "id": "4z5PdvaJJ10Z",
        "colab": {
          "base_uri": "https://localhost:8080/",
          "height": 282
        },
        "outputId": "c9b6c86c-cb8d-4018-905c-b29dea6d6fff"
      },
      "source": [
        "import pandas as pd\n",
        "\n",
        "df = pd.DataFrame(columns=(\"true value\", \"perceived value\"))\n",
        "df[\"true value\"] = rantional_user_val\n",
        "df[\"perceived value\"] = a_user(omega.T)\n",
        "df"
      ],
      "execution_count": null,
      "outputs": [
        {
          "output_type": "execute_result",
          "data": {
            "text/html": [
              "<div>\n",
              "<style scoped>\n",
              "    .dataframe tbody tr th:only-of-type {\n",
              "        vertical-align: middle;\n",
              "    }\n",
              "\n",
              "    .dataframe tbody tr th {\n",
              "        vertical-align: top;\n",
              "    }\n",
              "\n",
              "    .dataframe thead th {\n",
              "        text-align: right;\n",
              "    }\n",
              "</style>\n",
              "<table border=\"1\" class=\"dataframe\">\n",
              "  <thead>\n",
              "    <tr style=\"text-align: right;\">\n",
              "      <th></th>\n",
              "      <th>true value</th>\n",
              "      <th>perceived value</th>\n",
              "    </tr>\n",
              "  </thead>\n",
              "  <tbody>\n",
              "    <tr>\n",
              "      <th>0</th>\n",
              "      <td>10.0</td>\n",
              "      <td>-78.161366</td>\n",
              "    </tr>\n",
              "    <tr>\n",
              "      <th>1</th>\n",
              "      <td>70.5</td>\n",
              "      <td>105.021424</td>\n",
              "    </tr>\n",
              "    <tr>\n",
              "      <th>2</th>\n",
              "      <td>48.0</td>\n",
              "      <td>43.743934</td>\n",
              "    </tr>\n",
              "    <tr>\n",
              "      <th>3</th>\n",
              "      <td>40.0</td>\n",
              "      <td>42.837377</td>\n",
              "    </tr>\n",
              "    <tr>\n",
              "      <th>4</th>\n",
              "      <td>55.0</td>\n",
              "      <td>143.769376</td>\n",
              "    </tr>\n",
              "    <tr>\n",
              "      <th>5</th>\n",
              "      <td>58.0</td>\n",
              "      <td>95.426358</td>\n",
              "    </tr>\n",
              "    <tr>\n",
              "      <th>6</th>\n",
              "      <td>11.0</td>\n",
              "      <td>-60.137102</td>\n",
              "    </tr>\n",
              "  </tbody>\n",
              "</table>\n",
              "</div>"
            ],
            "text/plain": [
              "   true value  perceived value\n",
              "0        10.0       -78.161366\n",
              "1        70.5       105.021424\n",
              "2        48.0        43.743934\n",
              "3        40.0        42.837377\n",
              "4        55.0       143.769376\n",
              "5        58.0        95.426358\n",
              "6        11.0       -60.137102"
            ]
          },
          "metadata": {},
          "execution_count": 60
        }
      ]
    },
    {
      "cell_type": "markdown",
      "metadata": {
        "id": "O5kMKUejKZBj"
      },
      "source": [
        "1.1.3 The following code block plots all items in 2D space and highlights the top-5 items and the user's choice:"
      ]
    },
    {
      "cell_type": "code",
      "metadata": {
        "id": "fv3ga2KQbyXL",
        "colab": {
          "base_uri": "https://localhost:8080/",
          "height": 321
        },
        "outputId": "533b6d25-cbd8-4075-fda5-7001d751ad41"
      },
      "source": [
        "# plot over \n",
        "\n",
        "def plot_omega(omega, top_5, chosen):\n",
        "  area = 20\n",
        "\n",
        "  fig, ax = plt.subplots()\n",
        "  ax.scatter(omega[0,:], omega[1,:], s=80,label=\"$\\Omega$\")\n",
        "  plt.title('Items in $\\Omega$', fontsize=20)\n",
        "  plt.xlabel('$X_1$')\n",
        "  plt.ylabel('$X_2$')\n",
        "  plt.grid()\n",
        "  # # color the top three items\n",
        "  ax.scatter(omega[0,top_5], omega[1,top_5], s=80, color='red')\n",
        "  # add annotations\n",
        "  S_len = omega.shape[1]\n",
        "  for i, txt in enumerate(string.ascii_uppercase[:S_len]):\n",
        "      ax.annotate(txt, (omega[0,:][i]+0.05, omega[1,:][i]+0.07))\n",
        "  ax.scatter(omega[0,chosen], omega[1,chosen], s=80, color='red',edgecolors='black',linewidths=2)\n",
        "\n",
        "plot_omega(omega, top_5, chosen)"
      ],
      "execution_count": null,
      "outputs": [
        {
          "output_type": "display_data",
          "data": {
            "image/png": "[encoded data removed]",
            "text/plain": [
              "<Figure size 432x288 with 1 Axes>"
            ]
          },
          "metadata": {
            "image/png": {
              "width": 377,
              "height": 284
            },
            "needs_background": "light"
          }
        }
      ]
    },
    {
      "cell_type": "markdown",
      "metadata": {
        "id": "I8ec9tKqbyE_"
      },
      "source": [
        "In the above plot, items in $\\Omega$ are dots. Top-5 items that are currently selected from $\\omega$ are colored red, and all others are blue. The chosen item has a black border.\n",
        "\n",
        "Some things to note:\n",
        "* Items C and D are dominated by E and F (make sure you understand what this means, and why it holds).\n",
        "* User chooses item E, meaning it has the highest perceived value. Here, item E also has the highest true value, and so the user is happy.\n",
        "* The value to the system form the user choosing item E is $e_E=30$."
      ]
    },
    {
      "cell_type": "markdown",
      "metadata": {
        "id": "HvRnRCRxLo4p"
      },
      "source": [
        "1.1.4 \n",
        "What can you do to improve the system's utility?\n",
        "The next block of code plots items in both $\\Omega$ and $\\Omega'$ in 2D space:"
      ]
    },
    {
      "cell_type": "code",
      "metadata": {
        "id": "nouCbut-50U4",
        "colab": {
          "base_uri": "https://localhost:8080/",
          "height": 321
        },
        "outputId": "0a6a8212-4fc5-49d9-d359-fe4106e6b5da"
      },
      "source": [
        "def plot_two_sets(omega,omega_tag):\n",
        "  area = 20\n",
        "\n",
        "  fig, ax = plt.subplots()\n",
        "  ax.scatter(omega[0,:], omega[1,:], s=80,label=\"$\\Omega$\")\n",
        "  plt.title('Items in both sets', fontsize=20)\n",
        "  plt.xlabel('$X_1$')\n",
        "  plt.ylabel('$X_2$')\n",
        "  plt.grid()\n",
        "  # inspect set of decoyes \n",
        "  ax.scatter(omega_tag[0,:],omega_tag[1,:], s=80, label=\"$\\Omega'$\")\n",
        "  plt.legend(loc='lower right')\n",
        "\n",
        "\n",
        "  # add annotations and print user values\n",
        "  S_len = omega.shape[1]\n",
        "  Sw_s = S_len + 1\n",
        "  Sw_len = Sw_s + omega_tag.shape[1]\n",
        "  for i, txt in enumerate(string.ascii_uppercase[:S_len]):\n",
        "      ax.annotate(txt, (omega[0,:][i]+0.05, omega[1,:][i]+0.07))\n",
        "\n",
        "  for i, txt in enumerate(string.ascii_uppercase[Sw_s:Sw_len]):\n",
        "      ax.annotate(txt, (omega_tag[0,:][i]+0.1, omega_tag[1,:][i]+0.1))\n",
        "  \n",
        "  return\n",
        "\n",
        "plot_two_sets(omega,omega_tag)"
      ],
      "execution_count": null,
      "outputs": [
        {
          "output_type": "display_data",
          "data": {
            "image/png": "[encoded data removed]",
            "text/plain": [
              "<Figure size 432x288 with 1 Axes>"
            ]
          },
          "metadata": {
            "image/png": {
              "width": 377,
              "height": 284
            },
            "needs_background": "light"
          }
        }
      ]
    },
    {
      "cell_type": "markdown",
      "metadata": {
        "id": "StRfUYsT_cOt"
      },
      "source": [
        "Examine the plot. Using your knowledge about how the attraction effect works, think: if you are allowed to add one item from $\\Omega'$ to $\\Omega$, and if you are interested in maximizing system utility - which item would you add?\n",
        "\n",
        "Write your answer, and provide an explanation for your choice."
      ]
    },
    {
      "cell_type": "markdown",
      "metadata": {
        "id": "bZbDYktKkxIn"
      },
      "source": [
        "### Answer:\n",
        "\n",
        "The item we would add is: **J**.\n",
        "\n",
        "### The reason is:\n",
        "All items in $\\Omega'$ don't change the preference vector (since their features are not maximal nor minimal). The perceived value is composed of two terms, and after adding a new item, the attraction term is the only term that might change. Thus, we need to increase the attraction of items with higher system utility than E. Adding J will increase the. The attraction of F while not changing the attraction of E, causing the user to choose F, an item with higher system utility. "
      ]
    },
    {
      "cell_type": "markdown",
      "metadata": {
        "id": "4P8NeR5FKwKs"
      },
      "source": [
        "1.1.5 Next, let's examine what happens when we add $H$ to $\\Omega$:"
      ]
    },
    {
      "cell_type": "code",
      "metadata": {
        "id": "ENJ--nAxxg3h",
        "colab": {
          "base_uri": "https://localhost:8080/",
          "height": 321
        },
        "outputId": "6c05b6e3-a3e8-4c99-8450-459729bef5fc"
      },
      "source": [
        "# plot over scatter\n",
        "# Add new item to S\n",
        "index = 1 #this is the index of H in Omega'\n",
        "omega_new = np.hstack([omega,omega_tag[:,index].reshape(2,1)])\n",
        "E_s_new =np.hstack([E_s,E_s_tag[1]])\n",
        "\n",
        "top_5_new, chosen_new, rantional_user_val = rec_and_choose(omega_new, alpha)\n",
        "plot_omega(omega_new, top_5_new, chosen_new)"
      ],
      "execution_count": null,
      "outputs": [
        {
          "output_type": "display_data",
          "data": {
            "image/png": "[encoded data removed]",
            "text/plain": [
              "<Figure size 432x288 with 1 Axes>"
            ]
          },
          "metadata": {
            "image/png": {
              "width": 377,
              "height": 284
            },
            "needs_background": "light"
          }
        }
      ]
    },
    {
      "cell_type": "markdown",
      "metadata": {
        "id": "5komX9WBOG1H"
      },
      "source": [
        "Print a table of true value, perceived value, and system utility for all top-5 items:"
      ]
    },
    {
      "cell_type": "code",
      "metadata": {
        "id": "hazEJbG6OM2M",
        "colab": {
          "base_uri": "https://localhost:8080/",
          "height": 313
        },
        "outputId": "86a175b0-ad8d-4a7c-d44b-ec8abb21642e"
      },
      "source": [
        "import pandas as pd\n",
        "\n",
        "df = pd.DataFrame(columns=(\"true value\", \"perceived value\", \"system utility\"))\n",
        "df[\"true value\"] = rantional_user_val\n",
        "df[\"perceived value\"] = a_user(omega_new.T)\n",
        "df[\"system utility\"] = E_s_new\n",
        "df"
      ],
      "execution_count": null,
      "outputs": [
        {
          "output_type": "execute_result",
          "data": {
            "text/html": [
              "<div>\n",
              "<style scoped>\n",
              "    .dataframe tbody tr th:only-of-type {\n",
              "        vertical-align: middle;\n",
              "    }\n",
              "\n",
              "    .dataframe tbody tr th {\n",
              "        vertical-align: top;\n",
              "    }\n",
              "\n",
              "    .dataframe thead th {\n",
              "        text-align: right;\n",
              "    }\n",
              "</style>\n",
              "<table border=\"1\" class=\"dataframe\">\n",
              "  <thead>\n",
              "    <tr style=\"text-align: right;\">\n",
              "      <th></th>\n",
              "      <th>true value</th>\n",
              "      <th>perceived value</th>\n",
              "      <th>system utility</th>\n",
              "    </tr>\n",
              "  </thead>\n",
              "  <tbody>\n",
              "    <tr>\n",
              "      <th>0</th>\n",
              "      <td>10.0</td>\n",
              "      <td>-90.591781</td>\n",
              "      <td>10</td>\n",
              "    </tr>\n",
              "    <tr>\n",
              "      <th>1</th>\n",
              "      <td>70.5</td>\n",
              "      <td>108.872150</td>\n",
              "      <td>20</td>\n",
              "    </tr>\n",
              "    <tr>\n",
              "      <th>2</th>\n",
              "      <td>48.0</td>\n",
              "      <td>43.743934</td>\n",
              "      <td>30</td>\n",
              "    </tr>\n",
              "    <tr>\n",
              "      <th>3</th>\n",
              "      <td>40.0</td>\n",
              "      <td>42.837377</td>\n",
              "      <td>40</td>\n",
              "    </tr>\n",
              "    <tr>\n",
              "      <th>4</th>\n",
              "      <td>55.0</td>\n",
              "      <td>143.769376</td>\n",
              "      <td>30</td>\n",
              "    </tr>\n",
              "    <tr>\n",
              "      <th>5</th>\n",
              "      <td>58.0</td>\n",
              "      <td>99.074414</td>\n",
              "      <td>80</td>\n",
              "    </tr>\n",
              "    <tr>\n",
              "      <th>6</th>\n",
              "      <td>11.0</td>\n",
              "      <td>-70.135479</td>\n",
              "      <td>100</td>\n",
              "    </tr>\n",
              "    <tr>\n",
              "      <th>7</th>\n",
              "      <td>56.5</td>\n",
              "      <td>71.430009</td>\n",
              "      <td>8</td>\n",
              "    </tr>\n",
              "  </tbody>\n",
              "</table>\n",
              "</div>"
            ],
            "text/plain": [
              "   true value  perceived value  system utility\n",
              "0        10.0       -90.591781              10\n",
              "1        70.5       108.872150              20\n",
              "2        48.0        43.743934              30\n",
              "3        40.0        42.837377              40\n",
              "4        55.0       143.769376              30\n",
              "5        58.0        99.074414              80\n",
              "6        11.0       -70.135479             100\n",
              "7        56.5        71.430009               8"
            ]
          },
          "metadata": {},
          "execution_count": 64
        }
      ]
    },
    {
      "cell_type": "markdown",
      "metadata": {
        "id": "xmZMvrLZysAp"
      },
      "source": [
        "Notice how $H$ contributed to the perceived value of $F$, just enough to make it more appealing than $E$.\n",
        "\n",
        "Congrats! The system now gets $e_F=80$ utility! (recall it was 30 before)"
      ]
    },
    {
      "cell_type": "markdown",
      "metadata": {
        "id": "G1Dy6n1Rp54D"
      },
      "source": [
        "1.1.6 Finally, let's compute:\n",
        "* welfare - this is the actual value to the user from choice\n",
        "* regret - this is the gap between the percieved value and true value of the chosen item\n",
        "(if there were more than one user, we would measure the average).\n",
        "\n",
        "Run the following code blocks and print welfare and regret for Omega before and after adding the additional item."
      ]
    },
    {
      "cell_type": "code",
      "metadata": {
        "id": "rBtm0A21y9_y",
        "colab": {
          "base_uri": "https://localhost:8080/"
        },
        "outputId": "6b61fb89-3209-4f53-c239-c28bcdcb6268"
      },
      "source": [
        "# welfare\n",
        "welfare_before = (omega[0,chosen]*alpha[0] +omega[1,chosen]*alpha[1])\n",
        "welfare_after = (omega_new[0,chosen_new]*alpha[0] +omega_new[1,chosen_new]*alpha[1])\n",
        "print(f'Welfare before adding the item: {welfare_before}')\n",
        "print(f'Welfare after adding the item: {welfare_after}')"
      ],
      "execution_count": null,
      "outputs": [
        {
          "output_type": "stream",
          "name": "stdout",
          "text": [
            "Welfare before adding the item: 35.0\n",
            "Welfare after adding the item: 26.0\n"
          ]
        }
      ]
    },
    {
      "cell_type": "code",
      "metadata": {
        "id": "yJDwXClI9uCX",
        "colab": {
          "base_uri": "https://localhost:8080/"
        },
        "outputId": "6fb090b8-b446-4565-c261-b19bad95b4cf"
      },
      "source": [
        "# regret\n",
        "regret_before = a_user(omega[:,top_5].T)[chosen-1] - (omega[0,chosen]*alpha[0] + omega[1,chosen]*alpha[1])\n",
        "regret_after = a_user(omega_new[:,top_5_new].T)[chosen_new-1] - (omega_new[0,chosen_new]*alpha[0] +omega_new[1,chosen_new]*alpha[1])\n",
        "print(f'Regret before adding the item: {regret_before}')\n",
        "print(f'Regret after adding the item: {regret_after}')"
      ],
      "execution_count": null,
      "outputs": [
        {
          "output_type": "stream",
          "name": "stdout",
          "text": [
            "Regret before adding the item: 17.5\n",
            "Regret after adding the item: 25.0\n"
          ]
        }
      ]
    },
    {
      "cell_type": "markdown",
      "metadata": {
        "id": "AM8nQec-zEDN"
      },
      "source": [
        "### 1.2 **Now You: Find an item to add without any guidance**\n",
        "\n",
        "In this section, your goal is to repeat the task of finding an item to add, but without guidance - we will just give you the sets $\\Omega$ and $\\Omega'$.\n"
      ]
    },
    {
      "cell_type": "code",
      "metadata": {
        "id": "uO3zDK4DzHCn"
      },
      "source": [
        "# New data:\n",
        "omega = np.array([[6,8,8.5,4,10,8,2, 1],[10,7,4,4,5,6,1, 9]])\n",
        "E_s = np.array([10, 90, 30, 50, 30, 40,100,90])\n",
        "\n",
        "omega_tag = np.array([[4,3,4.5,6],[8,6,5,6]])\n",
        "E_s_tag = np.array([5, 8, 3, 9])\n"
      ],
      "execution_count": null,
      "outputs": []
    },
    {
      "cell_type": "markdown",
      "metadata": {
        "id": "9m-_jCJ5Rk6y"
      },
      "source": [
        "1.2.1 Add code in the given blocks to generate relevant scatter plots. Use these to reason about which item to add - write your answer and explanation in the relevant blocks.\n"
      ]
    },
    {
      "cell_type": "code",
      "metadata": {
        "id": "76oYR8_UVvnT"
      },
      "source": [
        "# TODO: plot Omega, top-5, and choice"
      ],
      "execution_count": null,
      "outputs": []
    },
    {
      "cell_type": "code",
      "metadata": {
        "id": "Fiyjd1q2wkdo"
      },
      "source": [
        "# TODO: plot Omega and Omega'"
      ],
      "execution_count": null,
      "outputs": []
    },
    {
      "cell_type": "markdown",
      "metadata": {
        "id": "Cdg-QyKkivvQ"
      },
      "source": [
        "**Which item will you add and why?** (you can use the code to experiment)"
      ]
    },
    {
      "cell_type": "code",
      "metadata": {
        "id": "AqJ9nROiNizB"
      },
      "source": [
        "Answer: ... "
      ],
      "execution_count": null,
      "outputs": []
    },
    {
      "cell_type": "markdown",
      "metadata": {
        "id": "6O0YEMXJRm8f"
      },
      "source": [
        "1.2.2 Add code to generate the final plot, showing recommendations and choice after you have added the additional item."
      ]
    },
    {
      "cell_type": "code",
      "metadata": {
        "id": "Wum1D-NSi4AK"
      },
      "source": [
        "\"\"\"\n",
        "YOUR CODE: FINAL PLOT\n",
        "\"\"\""
      ],
      "execution_count": null,
      "outputs": []
    },
    {
      "cell_type": "markdown",
      "metadata": {
        "id": "ViyT713yuuTT"
      },
      "source": [
        "1.2.3 Calculate welfare and regret for before and after adding the additional item. Print your results.\n"
      ]
    },
    {
      "cell_type": "code",
      "metadata": {
        "id": "jeTXEPz8jFSU"
      },
      "source": [
        "\"\"\"\n",
        "YOUR CODE GOES HERE\n",
        "\"\"\""
      ],
      "execution_count": null,
      "outputs": []
    },
    {
      "cell_type": "markdown",
      "metadata": {
        "id": "n88hPyADw5G-"
      },
      "source": [
        "### 1.3 Automate the process\n",
        "1.3.1 In this section, you will write a simple algorithm that automatically finds the optimal item in $\\Omega'$ to add to $\\Omega$ in order to maximize system utility.\n",
        "\n",
        "In particular, your algorithm recieves as input:\n",
        "* Two sets of items, $\\Omega,\\Omega'$, where each is a 2D numpy array of sizes $(n,2)$ and $(n',2)$ ($n,n'$ can vary)\n",
        "* Corresponding system utilities $e_{\\Omega}, e_{\\Omega'}$, each a numpy array of sizes $n$ and $n'$\n",
        "* A user model, giving acces to the true value vector $\\alpha$ and a choice function .choose().\n",
        "\n",
        "The algorithm should output:\n",
        "* The index in $\\Omega'$ of the item you wish to add to $\\Omega$\n",
        "* The utility of the system after adding this item\n",
        "\n",
        "We will give you a collection of 50 example inputs to your algorithm (that is, 50 sets of $(\\Omega,\\Omega')$ pairs) with $n=15, n'=100$. Write code that applies your algorithm to each of these 50 inputs, and **prints the added items and their corresponding system utilities.**\n",
        "\n",
        "**Limitations**:\n",
        "You may call AttractionUserModel *up to 30 times* per input. Write efficient code!"
      ]
    },
    {
      "cell_type": "markdown",
      "metadata": {
        "id": "Ggqta9VsizfP"
      },
      "source": [
        "**Bonus:** We will have a competition between submited algorithms. We will run your code on a fresh batch of inputs - the two teams achieving the highest system utility will get 5 bonus points for this exercise.\n",
        "\n",
        "**WORK ON THIS BONUS ONLY AFTER YOU'VE COMPLETED THE ENTIRE WORKSHOP.** "
      ]
    },
    {
      "cell_type": "code",
      "metadata": {
        "id": "5Y6IMXziyxcc",
        "colab": {
          "base_uri": "https://localhost:8080/",
          "height": 232
        },
        "outputId": "ea4195c3-92b1-4671-d99e-9a6bb51c75f7"
      },
      "source": [
        "# Input\n",
        "np.random.seed(42) \n",
        "num_items_omega = 15\n",
        "\n",
        "omega_multi = np.random.randint(20,size=(50,num_items_omega,2))\n",
        "Es_multi = np.random.randint(20,100,size=(50,num_items_omega))\n",
        "\n",
        "omega_w_multi = np.random.randint(20,size=(50,100,2))\n",
        "Ew_multi = np.random.randint(20,size=(50,100))\n",
        "\n",
        "original_system_values = np.zeros(50)\n",
        "new_system_values = np.zeros(50)\n",
        "\n",
        "original_user_values = np.zeros(50)\n",
        "new_user_values = np.zeros(50)\n",
        "\n",
        "a_user = AttractionUserModel(beta_h=np.array(alpha), alpha_attr=100)"
      ],
      "execution_count": null,
      "outputs": [
        {
          "output_type": "error",
          "ename": "NameError",
          "evalue": "ignored",
          "traceback": [
            "\u001b[0;31m---------------------------------------------------------------------------\u001b[0m",
            "\u001b[0;31mNameError\u001b[0m                                 Traceback (most recent call last)",
            "\u001b[0;32m<ipython-input-17-18dd421e2b6d>\u001b[0m in \u001b[0;36m<module>\u001b[0;34m()\u001b[0m\n\u001b[1;32m      3\u001b[0m \u001b[0mnum_items_omega\u001b[0m \u001b[0;34m=\u001b[0m \u001b[0;36m15\u001b[0m\u001b[0;34m\u001b[0m\u001b[0;34m\u001b[0m\u001b[0m\n\u001b[1;32m      4\u001b[0m \u001b[0;34m\u001b[0m\u001b[0m\n\u001b[0;32m----> 5\u001b[0;31m \u001b[0momega_multi\u001b[0m \u001b[0;34m=\u001b[0m \u001b[0mnp\u001b[0m\u001b[0;34m.\u001b[0m\u001b[0mrandom\u001b[0m\u001b[0;34m.\u001b[0m\u001b[0mrandint\u001b[0m\u001b[0;34m(\u001b[0m\u001b[0;36m20\u001b[0m\u001b[0;34m,\u001b[0m\u001b[0msize\u001b[0m\u001b[0;34m=\u001b[0m\u001b[0;34m(\u001b[0m\u001b[0;36m50\u001b[0m\u001b[0;34m,\u001b[0m\u001b[0mnum_items_s\u001b[0m\u001b[0;34m,\u001b[0m\u001b[0;36m2\u001b[0m\u001b[0;34m)\u001b[0m\u001b[0;34m)\u001b[0m\u001b[0;34m\u001b[0m\u001b[0;34m\u001b[0m\u001b[0m\n\u001b[0m\u001b[1;32m      6\u001b[0m \u001b[0mEs_multi\u001b[0m \u001b[0;34m=\u001b[0m \u001b[0mnp\u001b[0m\u001b[0;34m.\u001b[0m\u001b[0mrandom\u001b[0m\u001b[0;34m.\u001b[0m\u001b[0mrandint\u001b[0m\u001b[0;34m(\u001b[0m\u001b[0;36m20\u001b[0m\u001b[0;34m,\u001b[0m\u001b[0;36m100\u001b[0m\u001b[0;34m,\u001b[0m\u001b[0msize\u001b[0m\u001b[0;34m=\u001b[0m\u001b[0;34m(\u001b[0m\u001b[0;36m50\u001b[0m\u001b[0;34m,\u001b[0m\u001b[0mnum_items_s\u001b[0m\u001b[0;34m)\u001b[0m\u001b[0;34m)\u001b[0m\u001b[0;34m\u001b[0m\u001b[0;34m\u001b[0m\u001b[0m\n\u001b[1;32m      7\u001b[0m \u001b[0;34m\u001b[0m\u001b[0m\n",
            "\u001b[0;31mNameError\u001b[0m: name 'num_items_s' is not defined"
          ]
        }
      ]
    },
    {
      "cell_type": "code",
      "metadata": {
        "id": "YveP6g8OjcUl",
        "colab": {
          "base_uri": "https://localhost:8080/",
          "height": 37
        },
        "outputId": "20928539-79c3-4f6c-8a39-9d288ca14bc3"
      },
      "source": [
        "\"\"\"\n",
        "\n",
        "YOUR CODE GOES HERE\n",
        "\n",
        "\"\"\"\n"
      ],
      "execution_count": null,
      "outputs": [
        {
          "output_type": "execute_result",
          "data": {
            "application/vnd.google.colaboratory.intrinsic+json": {
              "type": "string"
            },
            "text/plain": [
              "'\\n\\nYOUR CODE GOES HERE\\n\\n'"
            ]
          },
          "metadata": {},
          "execution_count": 18
        }
      ]
    },
    {
      "cell_type": "markdown",
      "metadata": {
        "id": "1j6aTCLNyzju"
      },
      "source": [
        "1.3.2 **Explain your algorithm.**\n",
        "\n",
        "What is the basic principle underlying your implementation? Explain how your approach utilizes the attraction effect.\n"
      ]
    },
    {
      "cell_type": "code",
      "metadata": {
        "id": "mY8rfGd0zFhh"
      },
      "source": [
        "Answer: ..."
      ],
      "execution_count": null,
      "outputs": []
    },
    {
      "cell_type": "markdown",
      "metadata": {
        "id": "CeSkJyqHH2_8"
      },
      "source": [
        "Given that you could not evalute all items in in $ֿ\\Omega'$ (restriction was 30 out of 100) - how did you prioritize evaluations?"
      ]
    },
    {
      "cell_type": "code",
      "metadata": {
        "id": "bn0m6ca1jm0z"
      },
      "source": [
        "Answer: ... "
      ],
      "execution_count": null,
      "outputs": []
    },
    {
      "cell_type": "markdown",
      "metadata": {
        "id": "JTyrMW_HzI4q"
      },
      "source": [
        "Compute welfare - before and after the change:"
      ]
    },
    {
      "cell_type": "code",
      "metadata": {
        "id": "hYdTo-MAzJQU"
      },
      "source": [
        "# welfare"
      ],
      "execution_count": null,
      "outputs": []
    },
    {
      "cell_type": "markdown",
      "metadata": {
        "id": "cXJn99fMRiLP"
      },
      "source": [
        "## Task 2: Prediction and IIA\n",
        "In this exercise you will examine the sensitivity of different predictive models to behavioral violations of IIA. We will use behavioral choice models, including those you implemented at home, to generate choice behavior that deviates from IIA in different ways. Then, we will evaluate the performance of predictive models trained on generated choice data."
      ]
    },
    {
      "cell_type": "markdown",
      "metadata": {
        "id": "lF2u7YAcS012"
      },
      "source": [
        "### User models\n",
        "In the beggining of the notebook you loaded into memory user model classes.\n",
        "These include: **Rational**, **Similarity**, **Compromise**, and **Attraction**. In this task you will repeat the same learning pipeline for each of these users, and compare results.\n"
      ]
    },
    {
      "cell_type": "markdown",
      "metadata": {
        "id": "Kb2n9XdUzeCY"
      },
      "source": [
        "### 2.1 Train predictive models"
      ]
    },
    {
      "cell_type": "markdown",
      "metadata": {
        "id": "EDs0F1n6H3dk"
      },
      "source": [
        "In this section we will compare the performance of two predictive models:\n",
        "1. MNL, and\n",
        "2. the pairwise ranker you implemented at home\n",
        "(as was announced, you may choose the school-solution pairwise ranker instead, but we encourage you to try and work with your own implementation)."
      ]
    },
    {
      "cell_type": "markdown",
      "metadata": {
        "id": "jQrTuPRyXkmZ"
      },
      "source": [
        "2.1.1 Start by generating data. The function generating data (also loaded into memory at the head of the notebook) outputs two objects:\n",
        "* X: An array of size [num_examples,num_items,num_features] describing num_examples=500 choice sets of num_items=7 items described by num_features=5 features\n",
        "* Y: A dictionary with keys describing user types and values as arrays of size [num_examples,num_items] of 1-hot choices. The possible user types are: 'Rational', 'Compromise', 'Similarity', and 'Attraction'. For example, Y['Compromise'][i,j] is 1 if compromise-type user $i$ chose item $j$, and 0 otherwise."
      ]
    },
    {
      "cell_type": "markdown",
      "metadata": {
        "id": "5hZFKQwGAKx0"
      },
      "source": [
        "(Note: In the \"raw\" version of the notebook, an exception is thrown because the code for `CompromiseUserModel` does not exist - If the user model from the homework was pasted into the notebook and the cell has run, then re-running the cell below will not cause errors)"
      ]
    },
    {
      "cell_type": "code",
      "metadata": {
        "id": "2Xd6y-18fpWn"
      },
      "source": [
        "# generate data\n",
        "\n",
        "num_features = 5\n",
        "num_items = 7\n",
        "num_examples = 500\n",
        "beta_h = np.arange(num_features)\n",
        "\n",
        "X, y, users_models = generate_data_and_user_selections(num_examples=num_examples, num_items=num_items,num_features=num_features)"
      ],
      "execution_count": null,
      "outputs": []
    },
    {
      "cell_type": "markdown",
      "metadata": {
        "id": "z5nlL3ElX7Rf"
      },
      "source": [
        "2.1.2 Next, for each user type (do this in a for loop over user types):\n",
        "* Train an MNL model, and evaluate its test performance using the given accuracy() function. \n",
        "* Use the X, y inputs generated above. Split them into train and test 70:30.\n",
        "* Print accuracy.\n",
        "\n",
        "You are encouraged to wrap your code in a function acc=eval(X,y) that takes as input the data and outputs accuracies for all user types. This will be helpful in the next sections.\n",
        "\n",
        "Our MNL code uses an external publically available implementation. Below we provide some helper functions and examples on how to use it in our setting."
      ]
    },
    {
      "cell_type": "code",
      "metadata": {
        "id": "ZG-tKudy9Kxq"
      },
      "source": [
        "# utils - helper class for running MNL\n",
        "\n",
        "def prepare_mnl(X, y):\n",
        "\n",
        "  \"\"\"\n",
        "  handle data for mnl package.\n",
        "  transforms X to shape [num_round, num_features*num_items+1], appending 1s at the end\n",
        "  \"\"\"\n",
        "  X_mnl = X.reshape(X.shape[0], X.shape[1]*X.shape[2])\n",
        "  X_mnl = sm.add_constant(X_mnl, prepend=False)\n",
        "  y_mnl = y.argmax(axis=1)\n",
        "\n",
        "  return X_mnl, y_mnl\n",
        "\n",
        "\n",
        "def features_of_chosen_items(X, y):\n",
        "  X = X[:, :-1]\n",
        "  X = X.reshape(-1, num_items, num_features)\n",
        "  chosen = np.take_along_axis(X, y[..., None, None], axis=1)\n",
        "  chosen = chosen.squeeze()\n",
        "  return chosen\n",
        "\n",
        "\n",
        "def perceived_values_of_chosen_items(X, y, user_model):\n",
        "  X = X[:, :-1]\n",
        "  X = X.reshape(-1, num_items, num_features)\n",
        "  if isinstance(user_model, CompromiseUserModel):\n",
        "    perceived_values = user_model(X)\n",
        "  else:\n",
        "    perceived_values = []\n",
        "    for example in range(X.shape[0]):\n",
        "      perceived_values.append(user_model(X[example]))\n",
        "    perceived_values = np.vstack(perceived_values)\n",
        "\n",
        "  chosen = np.take_along_axis(perceived_values, y[..., None], axis=1)\n",
        "  chosen = chosen.squeeze()\n",
        "  return chosen\n",
        "\n",
        "def accuracy(y, y_pred, model_type):\n",
        "\n",
        "  \"\"\"\n",
        "  given y, y_pred vectors returns accuracy \n",
        "  \"\"\"\n",
        "  return (y_pred == y).mean()"
      ],
      "execution_count": null,
      "outputs": []
    },
    {
      "cell_type": "code",
      "metadata": {
        "id": "UGQVFsSrYP0M"
      },
      "source": [
        "from sklearn.model_selection import train_test_split\n",
        "from statsmodels.tools.sm_exceptions import ConvergenceWarning\n",
        "from warnings import simplefilter\n",
        "\n",
        "simplefilter(\"ignore\", category=ConvergenceWarning)\n",
        "\n",
        "\n",
        "def eval_mnl(X, y, users_models):\n",
        "  accuracies = {}\n",
        "  chosen_items_features = {}\n",
        "  chosen_items_values = {}\n",
        "  for user_type, y_user in y.items():\n",
        "    x, y_user = prepare_mnl(X, y_user)\n",
        "    x_train, x_test, y_train, y_test = train_test_split(x, y_user, test_size=0.3, random_state=0)\n",
        "    mlogit_mod = sm.MNLogit(y_train, x_train)\n",
        "    mdl_fit = mlogit_mod.fit(method='bfgs', maxiter=10000)\n",
        "    pred = mdl_fit.predict(x_test).argmax(axis=1)\n",
        "    accuracies[user_type] = accuracy(y_test, pred, user_type)\n",
        "    chosen_items_features[user_type] = features_of_chosen_items(x_test, pred)\n",
        "    chosen_items_values[user_type] = perceived_values_of_chosen_items(x_test, pred, users_models[user_type])\n",
        "\n",
        "  return accuracies, chosen_items_features, chosen_items_values"
      ],
      "execution_count": null,
      "outputs": []
    },
    {
      "cell_type": "code",
      "metadata": {
        "colab": {
          "base_uri": "https://localhost:8080/"
        },
        "id": "tLR0HD0Jn8WN",
        "outputId": "224d85b7-8bdf-4a25-bc98-25c53e717da3"
      },
      "source": [
        "mnl_accuracies, mnl_chosen_items_features, mnl_chosen_items_values = eval_mnl(X, y, users_models)\n",
        "print(\"user model accuracies with MNL:\")\n",
        "mnl_accuracies"
      ],
      "execution_count": null,
      "outputs": [
        {
          "output_type": "stream",
          "name": "stdout",
          "text": [
            "Optimization terminated successfully.\n",
            "         Current function value: 0.000001\n",
            "         Iterations: 32\n",
            "         Function evaluations: 37\n",
            "         Gradient evaluations: 37\n",
            "Optimization terminated successfully.\n",
            "         Current function value: 1.588533\n",
            "         Iterations: 105\n",
            "         Function evaluations: 110\n",
            "         Gradient evaluations: 110\n",
            "Optimization terminated successfully.\n",
            "         Current function value: 1.413003\n",
            "         Iterations: 115\n",
            "         Function evaluations: 119\n",
            "         Gradient evaluations: 119\n",
            "Optimization terminated successfully.\n",
            "         Current function value: 0.414472\n",
            "         Iterations: 444\n",
            "         Function evaluations: 450\n",
            "         Gradient evaluations: 450\n",
            "user model accuracies with MNL:\n"
          ]
        },
        {
          "output_type": "execute_result",
          "data": {
            "text/plain": [
              "{'Attraction': 0.5266666666666666,\n",
              " 'Compromise': 0.07333333333333333,\n",
              " 'Rational': 0.7466666666666667,\n",
              " 'Similarity': 0.24666666666666667}"
            ]
          },
          "metadata": {},
          "execution_count": 86
        }
      ]
    },
    {
      "cell_type": "markdown",
      "metadata": {
        "id": "OwhRiQlNXeM4"
      },
      "source": [
        "2.1.3 Train your pairwise ranker. Repeat the above procedure.\n",
        "\n",
        "(make sure you use different named variables for performance measures, so they do not overwrite the MNL results)"
      ]
    },
    {
      "cell_type": "code",
      "metadata": {
        "id": "MvHZihIQ6xPQ"
      },
      "source": [
        "from sklearn import svm\n",
        "\n",
        "\n",
        "def transform_pairwise(X: np.ndarray, y: np.ndarray):\n",
        "  N, Q = X.shape\n",
        "  K = N - 1\n",
        "  Xy = X[y]\n",
        "  X = np.delete(X, obj=y, axis=0)\n",
        "\n",
        "  ynew = np.random.choice([-1, 1], size=(K, ))\n",
        "  Xnew = np.expand_dims(ynew, 1) * (Xy - X)\n",
        "\n",
        "  return Xnew, ynew\n",
        "\n",
        "\n",
        "class MyRanker(svm.LinearSVC):\n",
        "  def shape_transform (self, X, y):\n",
        "    M, N, Q = X.shape\n",
        "    K = N - 1\n",
        "\n",
        "    Xnew, ynew = [], []\n",
        "    for m in range(M):\n",
        "      Xnew_, ynew_ = transform_pairwise(X[m], y[m])\n",
        "      Xnew.append(Xnew_)\n",
        "      ynew.append(ynew_)\n",
        "    \n",
        "    Xnew = np.concatenate(Xnew)\n",
        "    ynew = np.concatenate(ynew)\n",
        "    \n",
        "    return Xnew, ynew\n",
        "  \n",
        "  def fit(self, X, y):\n",
        "    Xnew, ynew = self.shape_transform(X, y)\n",
        "    super().fit(Xnew, ynew)\n",
        "  \n",
        "  def predict(self, X: np.ndarray) -> np.ndarray:\n",
        "    coef = self.coef_.squeeze()\n",
        "    intercept = self.intercept_\n",
        "    v = X @ coef + intercept\n",
        "    y = np.argmax(v, axis=1)\n",
        "    return y\n",
        "  \n",
        "  def features_of_chosen_items(self, X, y):\n",
        "    chosen = np.take_along_axis(X, y[..., None, None], axis=1)\n",
        "    chosen = chosen.squeeze()\n",
        "    return chosen\n",
        "  \n",
        "  def perceived_values_of_chosen_items(self, X, y, user_model):\n",
        "    if isinstance(user_model, CompromiseUserModel):\n",
        "      perceived_values = user_model(X)\n",
        "    else:\n",
        "      perceived_values = []\n",
        "      for example in range(X.shape[0]):\n",
        "        perceived_values.append(user_model(X[example]))\n",
        "      perceived_values = np.vstack(perceived_values)\n",
        "\n",
        "    chosen = np.take_along_axis(perceived_values, y[..., None], axis=1)\n",
        "    chosen = chosen.squeeze()\n",
        "    return chosen"
      ],
      "execution_count": null,
      "outputs": []
    },
    {
      "cell_type": "code",
      "metadata": {
        "id": "UwQyKtU3Z98G"
      },
      "source": [
        "from sklearn.exceptions import ConvergenceWarning\n",
        "from sklearn.model_selection import train_test_split\n",
        "from warnings import simplefilter\n",
        "\n",
        "simplefilter(\"ignore\", category=ConvergenceWarning)\n",
        "\n",
        "\n",
        "def eval_pw_ranker(X, y, users_models):\n",
        "  pw_ranker = MyRanker()\n",
        "  accuracies = {}\n",
        "  chosen_items_features = {}\n",
        "  chosen_items_values = {}\n",
        "  for user_type, y_user in y.items():\n",
        "    y_user = y_user.argmax(axis=1)\n",
        "    x_train, x_test, y_train, y_test = train_test_split(X, y_user, test_size=0.3, random_state=0)\n",
        "    pw_ranker.fit(x_train, y_train)\n",
        "    pred = pw_ranker.predict(x_test)\n",
        "    accuracies[user_type] = accuracy(y_test, pred, user_type)\n",
        "    chosen_items_features[user_type] = pw_ranker.features_of_chosen_items(x_test, pred)\n",
        "    chosen_items_values[user_type] = pw_ranker.perceived_values_of_chosen_items(x_test, pred, users_models[user_type])\n",
        "\n",
        "  return accuracies, chosen_items_features, chosen_items_values"
      ],
      "execution_count": null,
      "outputs": []
    },
    {
      "cell_type": "code",
      "metadata": {
        "colab": {
          "base_uri": "https://localhost:8080/"
        },
        "id": "kg7Tfzde4etF",
        "outputId": "c5e3a074-49d4-418a-eb6b-317f5b705c92"
      },
      "source": [
        "pw_ranker_accuracies, pw_ranker_chosen_items_features, pw_ranker_chosen_items_values = eval_pw_ranker(X, y, users_models)\n",
        "print(\"user model accuracies with pairwise Ranker:\")\n",
        "pw_ranker_accuracies"
      ],
      "execution_count": null,
      "outputs": [
        {
          "output_type": "stream",
          "name": "stdout",
          "text": [
            "user model accuracies with pairwise Ranker:\n"
          ]
        },
        {
          "output_type": "execute_result",
          "data": {
            "text/plain": [
              "{'Attraction': 0.74,\n",
              " 'Compromise': 0.1,\n",
              " 'Rational': 0.9866666666666667,\n",
              " 'Similarity': 0.24}"
            ]
          },
          "metadata": {},
          "execution_count": 89
        }
      ]
    },
    {
      "cell_type": "markdown",
      "metadata": {
        "id": "nVhCJrEePuva"
      },
      "source": [
        "2.1.4 Plot your results - compare MNL and the pairwise ranker.\n",
        "\n",
        "Plot a bar graph that compares the performance of each method accorss the differet behavioral models.\n",
        "* Genarate 3 figures, one for each performance measure: accuracy, welfare and regret.\n",
        "* For each performance measure, generate a bar plot with 4 bar groups (one per user model), with each group having two bars (one per method).\n",
        "* Remember to include: title, axis labels, and a lengend.\n",
        "\n"
      ]
    },
    {
      "cell_type": "code",
      "metadata": {
        "id": "B-U09Fmoak7U",
        "colab": {
          "base_uri": "https://localhost:8080/",
          "height": 333
        },
        "outputId": "b086deb6-e82d-4a50-808a-d78b324edc6b"
      },
      "source": [
        "import pandas as pd\n",
        "import matplotlib.pyplot as plt\n",
        "import seaborn as sns\n",
        "\n",
        "sns.set_style(\"darkgrid\")\n",
        "plt.rcParams[\"font.family\"] = \"serif\"\n",
        "\n",
        "mnl_acc_df = pd.DataFrame([dict(user_model=k,accuracy=v) for k, v in mnl_accuracies.items()])\n",
        "mnl_acc_df[\"method\"] = \"MNL\"\n",
        "\n",
        "pw_ranker_acc_df = pd.DataFrame([dict(user_model=k,accuracy=v) for k, v in pw_ranker_accuracies.items()])\n",
        "pw_ranker_acc_df[\"method\"] = \"Pairwise Ranker\"\n",
        "\n",
        "df = pd.concat([mnl_acc_df, pw_ranker_acc_df], ignore_index=True)\n",
        "\n",
        "_, axs = plt.subplots(figsize=(10, 5))\n",
        "sns.barplot(data=df, x=\"user_model\", y=\"accuracy\", hue=\"method\", ax=axs)\n",
        "plt.show()"
      ],
      "execution_count": null,
      "outputs": [
        {
          "output_type": "display_data",
          "data": {
            "image/png": "[encoded data removed]",
            "text/plain": [
              "<Figure size 720x360 with 1 Axes>"
            ]
          },
          "metadata": {
            "image/png": {
              "width": 608,
              "height": 316
            }
          }
        }
      ]
    },
    {
      "cell_type": "code",
      "metadata": {
        "id": "WqJpHDoearDQ",
        "colab": {
          "base_uri": "https://localhost:8080/",
          "height": 333
        },
        "outputId": "38a6179c-7126-4fff-e898-7ba29d028438"
      },
      "source": [
        "import pandas as pd\n",
        "import matplotlib.pyplot as plt\n",
        "import seaborn as sns\n",
        "\n",
        "sns.set_style(\"darkgrid\")\n",
        "plt.rcParams[\"font.family\"] = \"serif\"\n",
        "\n",
        "mnl_welfare_df = pd.DataFrame([dict(user_model=k,welfare=np.mean(v@beta_h)) for k, v in mnl_chosen_items_features.items()])\n",
        "mnl_welfare_df[\"method\"] = \"MNL\"\n",
        "\n",
        "pw_ranker_welfare_df = pd.DataFrame([dict(user_model=k,welfare=np.mean(v@beta_h)) for k, v in pw_ranker_chosen_items_features.items()])\n",
        "pw_ranker_welfare_df[\"method\"] = \"Pairwise Ranker\"\n",
        "\n",
        "df = pd.concat([mnl_welfare_df, pw_ranker_welfare_df], ignore_index=True)\n",
        "\n",
        "_, axs = plt.subplots(figsize=(10, 5))\n",
        "sns.barplot(data=df, x=\"user_model\", y=\"welfare\", hue=\"method\", ax=axs)\n",
        "plt.show()"
      ],
      "execution_count": null,
      "outputs": [
        {
          "output_type": "display_data",
          "data": {
            "image/png": "[encoded data removed]",
            "text/plain": [
              "<Figure size 720x360 with 1 Axes>"
            ]
          },
          "metadata": {
            "image/png": {
              "width": 605,
              "height": 316
            }
          }
        }
      ]
    },
    {
      "cell_type": "code",
      "metadata": {
        "colab": {
          "base_uri": "https://localhost:8080/",
          "height": 333
        },
        "id": "9YttA3rujHP0",
        "outputId": "4abd8333-efa5-4017-ea12-4d9c7dc58371"
      },
      "source": [
        "import pandas as pd\n",
        "import matplotlib.pyplot as plt\n",
        "import seaborn as sns\n",
        "\n",
        "sns.set_style(\"darkgrid\")\n",
        "plt.rcParams[\"font.family\"] = \"serif\"\n",
        "\n",
        "mnl_welfare_df = pd.DataFrame([dict(user_model=k,regret=np.mean(mnl_chosen_items_values[k] - mnl_chosen_items_features[k]@beta_h)) for k in users_models.keys()])\n",
        "mnl_welfare_df[\"method\"] = \"MNL\"\n",
        "\n",
        "pw_ranker_welfare_df = pd.DataFrame([dict(user_model=k,regret=np.mean(pw_ranker_chosen_items_values[k] - pw_ranker_chosen_items_features[k]@beta_h)) for k in users_models.keys()])\n",
        "pw_ranker_welfare_df[\"method\"] = \"Pairwise Ranker\"\n",
        "\n",
        "df = pd.concat([mnl_welfare_df, pw_ranker_welfare_df], ignore_index=True)\n",
        "\n",
        "_, axs = plt.subplots(figsize=(10, 5))\n",
        "sns.barplot(data=df, x=\"user_model\", y=\"regret\", hue=\"method\", ax=axs)\n",
        "plt.show()"
      ],
      "execution_count": null,
      "outputs": [
        {
          "output_type": "display_data",
          "data": {
            "image/png": "[encoded data removed]",
            "text/plain": [
              "<Figure size 720x360 with 1 Axes>"
            ]
          },
          "metadata": {
            "image/png": {
              "width": 626,
              "height": 316
            }
          }
        }
      ]
    },
    {
      "cell_type": "markdown",
      "metadata": {
        "id": "M-4S1xyAKoM3"
      },
      "source": [
        "2.1.5 Explain your results. What determines differences? What determines similarites? Would you expect these results to hold in general?"
      ]
    },
    {
      "cell_type": "code",
      "metadata": {
        "id": "MSn_4v-eKomK",
        "colab": {
          "base_uri": "https://localhost:8080/",
          "height": 130
        },
        "outputId": "128615f0-21f1-478a-fe40-5e5986e81f3f"
      },
      "source": [
        "your Answer:..."
      ],
      "execution_count": null,
      "outputs": [
        {
          "output_type": "error",
          "ename": "SyntaxError",
          "evalue": "ignored",
          "traceback": [
            "\u001b[0;36m  File \u001b[0;32m\"<ipython-input-22-1cb05a7f0c78>\"\u001b[0;36m, line \u001b[0;32m1\u001b[0m\n\u001b[0;31m    your Answer:...\u001b[0m\n\u001b[0m              ^\u001b[0m\n\u001b[0;31mSyntaxError\u001b[0m\u001b[0;31m:\u001b[0m invalid syntax\n"
          ]
        }
      ]
    },
    {
      "cell_type": "markdown",
      "metadata": {
        "id": "eIGH946Jzos9"
      },
      "source": [
        "### 2.2 Varying choice set size\n"
      ]
    },
    {
      "cell_type": "markdown",
      "metadata": {
        "id": "4izBP44WaNKJ"
      },
      "source": [
        "In this section we will evaluate the effect of the number of items in the choice set on performance.\n",
        "\n",
        "2.2.1 Choose one method - MNL or pairwise ranking. Write code that evaluates your method of choice sets of varying sizes, $|s| \\in [3,5,10,20]$.\n",
        "For each size, randomly generate data, train your model, and calculate test accuracy. Repeat this 5 times and report average accuracy.\n",
        "\n",
        "Repeat the above procedure for each of the four user types. Store and don't overwrite results."
      ]
    },
    {
      "cell_type": "code",
      "metadata": {
        "id": "AS_Hi1gHbb86"
      },
      "source": [
        "import pandas as pd\n",
        "\n",
        "\n",
        "num_features = 5\n",
        "num_examples = 500\n",
        "beta_h = np.arange(num_features)\n",
        "\n",
        "df = pd.DataFrame(columns=(\"num items\", \"user model\", \"accuracy\"))\n",
        "for num_items in (3, 5, 10, 20):\n",
        "  for i in range(5):\n",
        "    X, y = generate_data_and_user_selections(num_examples=num_examples, num_items=num_items,num_features=num_features)\n",
        "    accuracies = eval_pw_ranker(X, y)\n",
        "    df_tmp = pd.DataFrame({\"user model\": list(accuracies.keys()), \"accuracy\": list(accuracies.values())})\n",
        "    df_tmp[\"num items\"] = num_items\n",
        "\n",
        "    df = pd.concat([df, df_tmp], ignore_index=True)\n",
        "\n",
        "df_avg = df.groupby([\"num items\", \"user model\"]).mean().reset_index()"
      ],
      "execution_count": null,
      "outputs": []
    },
    {
      "cell_type": "markdown",
      "metadata": {
        "id": "Pprgkx9YLBf-"
      },
      "source": [
        "2.2.2 Plot your results.\n",
        "\n",
        "Plot the results using line plot, using $|s|$ for the x-axis and accuracy for the y-axis. Draw one figure, with one line per user type. Add a legend."
      ]
    },
    {
      "cell_type": "code",
      "metadata": {
        "id": "xXQCuijtSye3",
        "colab": {
          "base_uri": "https://localhost:8080/",
          "height": 333
        },
        "outputId": "94413307-124d-4f21-9b33-d58b17fa1f5f"
      },
      "source": [
        "import matplotlib.pyplot as plt\n",
        "import seaborn as sns\n",
        "\n",
        "sns.set_style(\"darkgrid\")\n",
        "plt.rcParams[\"font.family\"] = \"serif\"\n",
        "\n",
        "\n",
        "_, axs = plt.subplots(figsize=(10, 5))\n",
        "sns.lineplot(data=df_avg, x=\"num items\", y=\"accuracy\", hue=\"user model\", ax=axs)\n",
        "plt.show()"
      ],
      "execution_count": null,
      "outputs": [
        {
          "output_type": "display_data",
          "data": {
            "image/png": "[encoded data removed]",
            "text/plain": [
              "<Figure size 720x360 with 1 Axes>"
            ]
          },
          "metadata": {
            "image/png": {
              "width": 608,
              "height": 316
            }
          }
        }
      ]
    },
    {
      "cell_type": "markdown",
      "metadata": {
        "id": "4uVn4ZpxzT_6"
      },
      "source": [
        "## Task 3:  behavioral bias or self-fulfilling prophecy?"
      ]
    },
    {
      "cell_type": "markdown",
      "metadata": {
        "id": "voafWwL5aPJ_"
      },
      "source": [
        "In this exercise we move beyond unordered sets and set-dependent context effects, and investigate the importance of ordering on (possibly order-dependent) user behavior and on system performance."
      ]
    },
    {
      "cell_type": "markdown",
      "metadata": {
        "id": "qCAaegyNlhdP"
      },
      "source": [
        "In this section, the system provides users with an **ordered** set of items.\n",
        "The system determines the order of items using a simple policy implemented in the following BaseRanker() class. Here, the rank() function takes as inputs an (unordered) set of items, and returns them in a specific order, determined by an internal parameter $\\hat{\\beta}$. In particular, BaseRanker() ranks items according to a linear score $\\hat{\\beta}^\\top x$. We will think of $\\hat{\\beta}$ as an estimate of a user's internal value vector.\n",
        "\n",
        "Note that BaseRanker() simply uses *some* $\\hat{\\beta}$, and there is no learning involved."
      ]
    },
    {
      "cell_type": "code",
      "metadata": {
        "id": "hrJ-pGih4M-_"
      },
      "source": [
        "np.random.seed(42)\n",
        "\n",
        "# just data\n",
        "def generate_synth_data(num_examples, num_features, num_items):\n",
        "  items = np.random.uniform(low=0.0, high=10.0, size=(num_examples, num_items, num_features))\n",
        "  return items"
      ],
      "execution_count": 5,
      "outputs": []
    },
    {
      "cell_type": "code",
      "metadata": {
        "id": "lI3LxGSFSJC7"
      },
      "source": [
        "class BaseRanker():\n",
        "\n",
        "  def __init__(self, beta_h_hat):\n",
        "    self.beta_h = beta_h_hat\n",
        "\n",
        "  def __call__(self, X):\n",
        "\n",
        "    return X@self.beta_h\n",
        "  \n",
        "  def rank(self, X):\n",
        "    return np.argsort(-self(X), axis=0)\n"
      ],
      "execution_count": 6,
      "outputs": []
    },
    {
      "cell_type": "markdown",
      "metadata": {
        "id": "K0x5eWwuhfyB"
      },
      "source": [
        "The following sequence determines one round of recommendation and choice:\n",
        "1. Nature generates a set of 7 items that are made available in this round (different set every round)\n",
        "2. System orders these items using BaseRanker\n",
        "3. Items are displayed to the user as an ordered list\n",
        "4. User selects an item from the ordered list\n",
        "5. System stores (i) the chosen item, and (ii) the item's position in the ordered list\n",
        "\n",
        "In this section, choices are generated by an **unknown** user model called XUserModel, which chooses from ordered lists generated by a BaseRanker ranker (having some internal $\\hat{\\beta}$).\n",
        "The next block of code loads an array describing the positions (within the ordered list) of the items chosen by xuser across multiple rounds. "
      ]
    },
    {
      "cell_type": "code",
      "metadata": {
        "id": "VUkyEJcKoAC7"
      },
      "source": [
        "x_user_choice_positions = np.load('x_user_click_positions.npy')"
      ],
      "execution_count": 7,
      "outputs": []
    },
    {
      "cell_type": "markdown",
      "metadata": {
        "id": "Bdr-m4PMdbeh"
      },
      "source": [
        "3.0.1 Plot a histogram of position counts: position of chosen item on the x-axis, number of times this position appeared accross all rounds in the y-axis."
      ]
    },
    {
      "cell_type": "code",
      "metadata": {
        "id": "j0QT4jTEQ0mp",
        "colab": {
          "base_uri": "https://localhost:8080/",
          "height": 286
        },
        "outputId": "456de80a-1b89-4d27-f0cf-dbfdfef341d6"
      },
      "source": [
        "import matplotlib.pyplot as plt\n",
        "\n",
        "_, axs = plt.subplots()\n",
        "axs.hist(x_user_choice_positions, bins=[i - 0.5 for i in range(7)] + [6.5], rwidth=0.75)\n",
        "axs.set_xticks(list(range(7)))\n",
        "axs.set_xticklabels([str(i) for i in range(7)])\n",
        "plt.show()"
      ],
      "execution_count": 8,
      "outputs": [
        {
          "output_type": "display_data",
          "data": {
            "image/png": "[encoded data removed]",
            "text/plain": [
              "<Figure size 432x288 with 1 Axes>"
            ]
          },
          "metadata": {
            "image/png": {
              "width": 375,
              "height": 249
            },
            "needs_background": "light"
          }
        }
      ]
    },
    {
      "cell_type": "markdown",
      "metadata": {
        "id": "dLUxESFPsTj2"
      },
      "source": [
        "3.0.2 Does user behavior showcase order bias? What type?\n",
        "Explain your answer."
      ]
    },
    {
      "cell_type": "markdown",
      "metadata": {
        "id": "6Ys7dvfwMNdE"
      },
      "source": [
        "Not necessarily. The above shows a high correlation between how the BaseRanker orders the items and x_user choose them. This correlation does not indicate causation. "
      ]
    },
    {
      "cell_type": "markdown",
      "metadata": {
        "id": "VizOwtmdifH3"
      },
      "source": [
        "### 3.1 Learning to rank\n",
        "\n",
        "Next, let's examine the preformance of a *learning-based* ranker.\n",
        "\n",
        "Train a ranking-based recommender using the XGBoost ranker package\n",
        "and with the pairwise objective function (this is useful for ranking).\n",
        "\n",
        "*Note: XGBoost is a widely used machine learning library, which uses gradient boosting techniques to build a better model by combining multiple weak models.*\n",
        "\n",
        "*Note:* XGBoost ranker takes into account the set of item by setting a certain 'group' attribute, but does not take position into account.\n",
        "\n",
        "First, load the package:"
      ]
    },
    {
      "cell_type": "code",
      "metadata": {
        "id": "k3qsYLzczbT_"
      },
      "source": [
        "\n",
        "import xgboost as xgb\n",
        "\n",
        "class_weights = {1:100, 2:10}\n",
        "\n",
        "model = xgb.XGBRanker(  \n",
        "    booster='gbtree',\n",
        "    objective='rank:pairwise',\n",
        "    random_state=42, \n",
        "    learning_rate=0.1,\n",
        "    colsample_bytree=0.9, \n",
        "    eta=0.05, \n",
        "    max_depth=6, \n",
        "    n_estimators=110, \n",
        "    subsample=0.75,\n",
        "    class_weights =  class_weights\n",
        "    )"
      ],
      "execution_count": 9,
      "outputs": []
    },
    {
      "cell_type": "markdown",
      "metadata": {
        "id": "gZmCMgJv2B-P"
      },
      "source": [
        "In the next block of code, you will load into memory an instance of XUserModel. **This code his hidden from you** - consider XUserModel() as a black box which you may only use to generate choice behavior for ordered list inputs.\n",
        "\n",
        "**Follow these steps carefully:**\n",
        "1. Press the 'Play' icon to run the block of code\n",
        "2. Do **NOT** double click on the title (we will see if you did this...)\n",
        "3. You may **NOT** access xuser's code in any other way, modify it, or change xuser's instantiation."
      ]
    },
    {
      "cell_type": "code",
      "metadata": {
        "id": "8uTxaGehugFT"
      },
      "source": [
        "#@title xuser\n",
        "\n",
        "\n",
        "class XUserModel(UserModel):\n",
        "\n",
        "  def __init__(self, num_features, beta_h, c, beta_p, c_p=0):\n",
        "    self.num_features = num_features\n",
        "    self.beta_1 = np.arange(num_features)\n",
        "    self.beta_2 = beta_p\n",
        "    self.c = c\n",
        "    self.c1 = c_p\n",
        "    self.beta_3 = self.beta_1 + self.c * self.beta_2\n",
        "\n",
        "  def __call__(self, X):\n",
        "    pos = np.arange(X.shape[0])\n",
        "    z = X@self.beta_1\n",
        "    z_ = X@self.beta_3 + self.c*pos\n",
        "    z_ip = z_ + self.c* np.random.randn(X.shape[0])\n",
        "    z_p = z + self.c* np.random.randn(X.shape[0])\n",
        "    b = z_ip + z_p \n",
        "    z_b = z_p + self.c1*b\n",
        "    return z_b\n",
        "  \n",
        "  def select(self, X):\n",
        "    return np.argmax(self(X), axis=0)\n",
        "\n",
        "beta_h = np.arange(5)\n",
        "x_click_user = XUserModel(5, beta_h, c=0.7, beta_p=beta_h)"
      ],
      "execution_count": 10,
      "outputs": []
    },
    {
      "cell_type": "markdown",
      "metadata": {
        "id": "4HFl8kl6xxPI"
      },
      "source": [
        "The next blocks of code run the following preparation steps:\n",
        "* Initialize BaseRanker\n",
        "* Generate examples\n",
        "* Sort by BaseRanker\n",
        "* Prepare inputs for XGBoost ranker\n",
        "* Train the ranker"
      ]
    },
    {
      "cell_type": "code",
      "metadata": {
        "id": "pPvoTM0SsQqO"
      },
      "source": [
        "# input is flatten for XGBRanker\n",
        "np.random.seed(42)\n",
        "num_rounds = 500\n",
        "num_items = 7\n",
        "num_features = 5\n",
        "beta_h = np.arange(num_features)\n",
        "\n",
        "X = generate_synth_data(num_rounds, num_features, num_items)\n",
        "base_ranker = BaseRanker(beta_h)\n",
        "x_user_click_positions = np.zeros(X.shape[0])\n",
        "y_x = np.ones((num_rounds, num_items)) * 2 # holds ground truth\n",
        "X_flatten = np.zeros((X.shape[1]*X.shape[0], X.shape[2]+1))\n",
        "y_pos = np.zeros(num_rounds) # holds round truth\n",
        "X_display = list()\n",
        "\n",
        "# sort by BaseRanker & generate user clicks\n",
        "for i in range(X.shape[0]):\n",
        "  ranks = base_ranker.rank(X[i])\n",
        "  X_display.append(X[i][ranks])\n",
        "  selection = x_click_user.select(X_display[i])\n",
        "  y_x[i, selection] = 1\n",
        "  y_pos[i] = selection\n",
        "\n",
        "# round_id is inserted so predictions would be made per group\n",
        "X_flatten[:,0] = np.repeat(np.arange(num_rounds), num_items)\n",
        "X_flatten[:,1:] = np.vstack(X_display)\n",
        "df = pd.DataFrame(X_flatten)"
      ],
      "execution_count": 11,
      "outputs": []
    },
    {
      "cell_type": "code",
      "metadata": {
        "id": "3Wu-CGWbYPzg",
        "colab": {
          "base_uri": "https://localhost:8080/"
        },
        "outputId": "d916a419-b0f5-4294-c87a-b23a529a8ed7"
      },
      "source": [
        "from sklearn.model_selection import GroupShuffleSplit\n",
        "\n",
        "np.random.seed(42)\n",
        "\n",
        "def predict(model, df):\n",
        "    return model.predict(df.loc[:, ~df.columns.isin(['id'])])\n",
        "\n",
        "df['rank'] = y_x.flatten()\n",
        "df.rename(columns={0:'id'}, inplace=True)\n",
        "gss = GroupShuffleSplit(test_size=.30, n_splits=1, random_state = 42).split(df, groups=df['id'])\n",
        "X_train_inds, X_test_inds = next(gss)\n",
        "train_data = df.iloc[X_train_inds]\n",
        "test_data = df.iloc[X_test_inds]\n",
        "\n",
        "X_train = train_data.loc[:, ~train_data.columns.isin(['id','rank'])]\n",
        "y_train = train_data.loc[:, train_data.columns.isin(['rank'])]\n",
        "groups = train_data.groupby('id').size().to_frame('size')['size'].to_numpy()\n",
        "\n",
        "# fit model\n",
        "model.fit(X_train, y_train, group=groups, verbose=True)\n",
        "\n",
        "# test model\n",
        "test_features= test_data.loc[:, ~df.columns.isin(['rank'])]\n",
        "test_group_ids = test_data['id'].unique()\n",
        "\n",
        "pred_values = (test_features.groupby('id').apply(lambda x: predict(model, x)))\n",
        "\n",
        "# translate to positions\n",
        "click_predictions = pred_values.apply(lambda x: np.argmin(x))\n",
        "\n",
        "# evaluate accuracy\n",
        "print(f'Accuracy: {np.sum(click_predictions == y_pos[test_group_ids.astype(int)])/len(test_group_ids)}')"
      ],
      "execution_count": 12,
      "outputs": [
        {
          "output_type": "stream",
          "name": "stdout",
          "text": [
            "Accuracy: 0.82\n"
          ]
        }
      ]
    },
    {
      "cell_type": "markdown",
      "metadata": {
        "id": "eagUNtBshGTK"
      },
      "source": [
        "3.1.1 Build a wrapper class for the XGBoost ranker that improves it's predictive perfomance. \n",
        "\n",
        "Recall that the ranker does not make use of information regarding the position of items in the ranked list. Think of how you can utilize this for training better predictive models, but using learning-to-rank as your core method.\n",
        "\n",
        "Note that to use the ranker for xuser choices, choices are transformed intopartial ranks. For example, if the ordered list includes three items, and the user chose the third item, then the input to the ranker is of the form (2,2,1), where 1 encodes 'chosen' and 2 encodes 'not chosen'.\n"
      ]
    },
    {
      "cell_type": "code",
      "metadata": {
        "id": "PlEKjes9brYP"
      },
      "source": [
        "class AugXGBRanker(xgb.XGBRanker):\n",
        "\n",
        "  @staticmethod\n",
        "  def aug_with_ranks(df):\n",
        "    return df.assign(**{\"ranks\": df.index.values % num_items})\n",
        "\n",
        "  def fit(self, X_train, y_train, group, verbose=True):\n",
        "    X_train = self.aug_with_ranks(X_train)\n",
        "    super().fit(X_train, y_train, group, verbose=True)\n",
        "\n",
        "\n",
        "def predict(model, df):\n",
        "  df = AugXGBRanker.aug_with_ranks(df)\n",
        "  return model.predict(df.loc[:, ~df.columns.isin(['id'])])"
      ],
      "execution_count": 13,
      "outputs": []
    },
    {
      "cell_type": "markdown",
      "metadata": {
        "id": "iXbSrESTbZWH"
      },
      "source": [
        "3.1.2 Explain your reasoning behind your algorithm."
      ]
    },
    {
      "cell_type": "code",
      "metadata": {
        "id": "nZX9FOBxk6iW"
      },
      "source": [
        "Answer: ... "
      ],
      "execution_count": 14,
      "outputs": []
    },
    {
      "cell_type": "markdown",
      "metadata": {
        "id": "QDajk4pkbwMH"
      },
      "source": [
        "3.1.3 Train and evaluate your new ranker on the same data as. Print accuracy, and compare it to the original ranker."
      ]
    },
    {
      "cell_type": "code",
      "metadata": {
        "id": "ZENtsrTJb3Of",
        "colab": {
          "base_uri": "https://localhost:8080/"
        },
        "outputId": "7f747aeb-c641-4772-befc-475d7d7e1c1a"
      },
      "source": [
        "model = AugXGBRanker(  \n",
        "    booster='gbtree',\n",
        "    objective='rank:pairwise',\n",
        "    random_state=42, \n",
        "    learning_rate=0.1,\n",
        "    colsample_bytree=0.9, \n",
        "    eta=0.05, \n",
        "    max_depth=6, \n",
        "    n_estimators=110, \n",
        "    subsample=0.75,\n",
        "    class_weights =  class_weights\n",
        "    )\n",
        "\n",
        "# fit model\n",
        "model.fit(X_train, y_train, group=groups, verbose=True)\n",
        "\n",
        "# test model\n",
        "test_features = test_data.loc[:, ~df.columns.isin(['rank'])]\n",
        "test_group_ids = test_data['id'].unique()\n",
        "\n",
        "pred_values = (test_features.groupby('id').apply(lambda x: predict(model, x)))\n",
        "\n",
        "# translate to positions\n",
        "click_predictions = pred_values.apply(lambda x: np.argmin(x))\n",
        "\n",
        "# evaluate accuracy\n",
        "print(f'Accuracy: {np.sum(click_predictions == y_pos[test_group_ids.astype(int)])/len(test_group_ids)}')"
      ],
      "execution_count": 15,
      "outputs": [
        {
          "output_type": "stream",
          "name": "stdout",
          "text": [
            "Accuracy: 0.9666666666666667\n"
          ]
        }
      ]
    },
    {
      "cell_type": "markdown",
      "metadata": {
        "id": "sMHUF939lAli"
      },
      "source": [
        "3.1.4 Examine the relation between choices and item position.\n",
        "\n",
        "Plot a histogram of the number of items chosen overall per item position (i.e., have one bar in the histogram for each possible position, where the height of the bar is the number of items that where chosen that were at that position).\n"
      ]
    },
    {
      "cell_type": "code",
      "metadata": {
        "id": "f7Tzx799k9UC",
        "colab": {
          "base_uri": "https://localhost:8080/",
          "height": 286
        },
        "outputId": "1ccd1da9-848c-47c1-f37f-6bd375aebc0d"
      },
      "source": [
        "import matplotlib.pyplot as plt\n",
        "\n",
        "_, axs = plt.subplots()\n",
        "axs.hist(click_predictions, bins=[i - 0.5 for i in range(7)] + [6.5], rwidth=0.75)\n",
        "axs.set_xticks(list(range(7)))\n",
        "axs.set_xticklabels([str(i) for i in range(7)])\n",
        "plt.show()\n"
      ],
      "execution_count": 16,
      "outputs": [
        {
          "output_type": "display_data",
          "data": {
            "image/png": "[encoded data removed]",
            "text/plain": [
              "<Figure size 432x288 with 1 Axes>"
            ]
          },
          "metadata": {
            "image/png": {
              "width": 375,
              "height": 248
            },
            "needs_background": "light"
          }
        }
      ]
    },
    {
      "cell_type": "markdown",
      "metadata": {
        "id": "Oi1Xiq30qOY2"
      },
      "source": [
        "3.1.5 Does the plot align with your expectations? Explain."
      ]
    },
    {
      "cell_type": "code",
      "metadata": {
        "id": "6bXIl5b4qd7q"
      },
      "source": [
        "Answer: ..."
      ],
      "execution_count": 17,
      "outputs": []
    },
    {
      "cell_type": "markdown",
      "metadata": {
        "id": "Q8f5F1cOnvRv"
      },
      "source": [
        "### 3.2 User Behavior Analysis\n",
        "\n",
        "In the previous tasks you examined the relationship between postion in the list and choice behavior. While plotting them together may *suggest* of a possible connection between them, one cannot infer the *cause* for this relationship.\n",
        "\n",
        "**Don't confuse correlation with causation!**"
      ]
    },
    {
      "cell_type": "markdown",
      "metadata": {
        "id": "7JFzOvlys_K7"
      },
      "source": [
        "3.2.1 Write an algorithm that *determines* whether a user model *really* exhibits order bias, and attempt to quantify the extent of this bias.\n",
        "\n",
        "**Think**: How should you approach this?\n",
        "\n",
        "Start by explicitly writing your approach (in text), and only then proceed to writing this in code.\n",
        "\n",
        "**Hint**: You can use the given xuser to run \"experiments\"."
      ]
    },
    {
      "cell_type": "code",
      "metadata": {
        "id": "4NusMIj1_8CM"
      },
      "source": [
        "Answer:..."
      ],
      "execution_count": 18,
      "outputs": []
    },
    {
      "cell_type": "code",
      "metadata": {
        "id": "NE7cLCdg7JFh",
        "colab": {
          "base_uri": "https://localhost:8080/"
        },
        "outputId": "464c3fb6-82e4-44ae-a9d2-593a0093d84d"
      },
      "source": [
        "from scipy.stats import chisquare\n",
        "\n",
        "\n",
        "def order_bias(df, user_model):\n",
        "  selections = []\n",
        "  for _, group in df.groupby(\"id\"):\n",
        "    group = group.drop(columns=[\"id\", \"rank\"]).values\n",
        "    perm = np.random.permutation(group.shape[0])\n",
        "    unordered_group = group[perm, ...]\n",
        "    selection = user_model.select(unordered_group)\n",
        "    selections.append(selection)\n",
        "  score = chisquare(selections)\n",
        "  return score, selections\n",
        "  \n",
        "score, _ = order_bias(df, user_model=x_click_user)\n",
        "score\n",
        "# test_features"
      ],
      "execution_count": 19,
      "outputs": [
        {
          "output_type": "execute_result",
          "data": {
            "text/plain": [
              "Power_divergenceResult(statistic=635.196405648267, pvalue=3.272220601722313e-05)"
            ]
          },
          "metadata": {},
          "execution_count": 19
        }
      ]
    },
    {
      "cell_type": "markdown",
      "metadata": {
        "id": "oz4K_8lB7SiO"
      },
      "source": [
        "3.2.2 Now that you've implemented your validation procedure, use it to determine which of the following **three user models** (called 'click models') are prone to order bias, and to what extent.\n",
        "\n",
        "Explain your results, and support your claims using appropriate bar plot(s)."
      ]
    },
    {
      "cell_type": "code",
      "metadata": {
        "id": "km5DJorc7V7I"
      },
      "source": [
        "# click-model classes\n",
        "\n",
        "class AUserModel(UserModel):\n",
        "  def __init__(self, num_features):\n",
        "    self.num_features = num_features\n",
        "    \n",
        "  def __call__(self, X):\n",
        "    return 1\n",
        "\n",
        "  def select(self, X):\n",
        "    return 1\n",
        "\n",
        "class BUserModel(UserModel):\n",
        "  def __init__(self,beta_h=np.arange(num_features), c=5):\n",
        "    print(f'beta_h: {beta_h}')\n",
        "    self.num_features = num_features\n",
        "    self.beta_h = beta_h\n",
        "    self.c = c\n",
        "\n",
        "  def __call__(self, X):\n",
        "\n",
        "    return X@np.arange(num_features) - self.c*np.arange(X.shape[0])\n",
        "  \n",
        "  def select(self, X):\n",
        "    return np.argmax(self(X), axis=0)\n",
        "\n",
        "class CUserModel(UserModel):\n",
        "\n",
        "  def __init__(self,beta_h=np.arange(num_features)):\n",
        "    self.num_features = num_features\n",
        "    self.beta_h = beta_h\n",
        "\n",
        "  def __call__(self, X):\n",
        "    penalty = np.zeros(X.shape[0])\n",
        "    penalty[1] = 8\n",
        "    return X@np.arange(num_features) - penalty\n",
        "  \n",
        "  def select(self, X):\n",
        "    return np.argmax(self(X), axis=0)\n"
      ],
      "execution_count": 20,
      "outputs": []
    },
    {
      "cell_type": "code",
      "metadata": {
        "id": "kOEk1m4F8FJZ",
        "colab": {
          "base_uri": "https://localhost:8080/"
        },
        "outputId": "7d028e31-ed83-46ad-8911-e9ccc797bc8c"
      },
      "source": [
        "beta_h = np.arange(num_features)\n",
        "a_click_user = AUserModel(num_features)\n",
        "b_click_user = BUserModel(num_features)\n",
        "c_click_user = CUserModel(num_features)"
      ],
      "execution_count": 21,
      "outputs": [
        {
          "output_type": "stream",
          "name": "stdout",
          "text": [
            "beta_h: 5\n"
          ]
        }
      ]
    },
    {
      "cell_type": "markdown",
      "metadata": {
        "id": "Cxmjc5LT8T6C"
      },
      "source": [
        "Run you procedure on the three user models:"
      ]
    },
    {
      "cell_type": "code",
      "metadata": {
        "id": "HzPaBQf4-PRf",
        "colab": {
          "base_uri": "https://localhost:8080/"
        },
        "outputId": "5e8a91fe-8827-4511-b783-1e8809a56204"
      },
      "source": [
        "out = {x.__class__.__name__: order_bias(df, user_model=x) for x in [a_click_user, b_click_user, c_click_user]}\n",
        "print(f\"pvalues: \", {k: v[0].pvalue for k, v in out.items()})"
      ],
      "execution_count": 22,
      "outputs": [
        {
          "output_type": "stream",
          "name": "stdout",
          "text": [
            "pvalues:  {'AUserModel': 1.0, 'BUserModel': 3.475535371609835e-15, 'CUserModel': 5.049231635912291e-07}\n"
          ]
        }
      ]
    },
    {
      "cell_type": "markdown",
      "metadata": {
        "id": "_s1HJLs6-XkY"
      },
      "source": [
        "Provide relevant plots:"
      ]
    },
    {
      "cell_type": "code",
      "metadata": {
        "id": "ZZF5nRCW-eyX",
        "colab": {
          "base_uri": "https://localhost:8080/",
          "height": 355
        },
        "outputId": "23149e65-9d12-4fa7-a9df-2a19e79427a4"
      },
      "source": [
        "import matplotlib.pyplot as plt\n",
        "\n",
        "_, axs = plt.subplots(1, len(out.keys()), figsize=(15, 5))\n",
        "for i, click_user in enumerate(out.keys()):\n",
        "  axs[i].hist(out[click_user][1], bins=[i - 0.5 for i in range(7)] + [6.5], rwidth=0.75)\n",
        "  axs[i].set_xticks(list(range(7)))\n",
        "  axs[i].set_xticklabels([str(i) for i in range(7)])\n",
        "  axs[i].set_title(click_user)\n",
        "plt.show()"
      ],
      "execution_count": 23,
      "outputs": [
        {
          "output_type": "display_data",
          "data": {
            "image/png": "[encoded data removed]",
            "text/plain": [
              "<Figure size 1080x360 with 3 Axes>"
            ]
          },
          "metadata": {
            "image/png": {
              "width": 877,
              "height": 318
            },
            "needs_background": "light"
          }
        }
      ]
    },
    {
      "cell_type": "code",
      "metadata": {
        "id": "UJE3y8GLsXOi"
      },
      "source": [
        ""
      ],
      "execution_count": null,
      "outputs": []
    }
  ]
}