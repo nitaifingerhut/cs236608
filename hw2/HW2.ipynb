{
  "nbformat": 4,
  "nbformat_minor": 0,
  "metadata": {
    "colab": {
      "name": "HW2.ipynb",
      "provenance": [],
      "collapsed_sections": []
    },
    "kernelspec": {
      "name": "python3",
      "display_name": "Python 3"
    },
    "language_info": {
      "name": "python"
    }
  },
  "cells": [
    {
      "cell_type": "markdown",
      "metadata": {
        "id": "view-in-github"
      },
      "source": [
        "<a href=\"https://colab.research.google.com/github/nitaifingerhut/cs236608/blob/master/HW2.ipynb\" target=\"_parent\"><img src=\"https://colab.research.google.com/assets/colab-badge.svg\" alt=\"Open In Colab\"/></a>"
      ]
    },
    {
      "cell_type": "markdown",
      "metadata": {
        "id": "O-b-Fqlzh68O"
      },
      "source": [
        "\n",
        "IDs:\n",
        "* 302919402\n",
        "* 204030720"
      ]
    },
    {
      "cell_type": "code",
      "metadata": {
        "id": "tV1uwS4ch96n"
      },
      "source": [
        "import abc\n",
        "\n",
        "class UserModel(abc.ABC):\n",
        "  @abc.abstractclassmethod\n",
        "  def utility(self, X, *args):\n",
        "    raise NotImplementedError()\n",
        "  \n",
        "  def choice(self, X, *args):\n",
        "    raise NotImplementedError()"
      ],
      "execution_count": 1,
      "outputs": []
    },
    {
      "cell_type": "markdown",
      "metadata": {
        "id": "eOr5T7YqQrd6"
      },
      "source": [
        "## Q1"
      ]
    },
    {
      "cell_type": "code",
      "metadata": {
        "id": "HA7ZiqNdiSuu"
      },
      "source": [
        "import numpy as np\n",
        "\n",
        "class CompromiseUserModel(UserModel):\n",
        "  def __init__(self, beta: np.ndarray, alpha: float):\n",
        "    self.beta = beta\n",
        "    self.alpha = alpha\n",
        "\n",
        "  def _com(self, X: np.ndarray) -> np.ndarray:\n",
        "    N, Q = X.shape  # (#items, #features)\n",
        "    r = (np.min(X, axis=0, keepdims=True) + np.max(X, axis=0, keepdims=True)) / 2\n",
        "    # r = np.expand_dims(r, 0)\n",
        "    # r = np.repeat(r, N, axis=0)\n",
        "    com = -np.linalg.norm(X - r, ord=2, axis=1)\n",
        "    return com\n",
        "\n",
        "  def utility(self, X: np.ndarray, *args) -> np.ndarray:\n",
        "    M, N, Q = X.shape  # (#sets, #items, #features)\n",
        "    v = np.zeros((M, N))\n",
        "    for m in range(M):\n",
        "      v[m, :] = X[m] @ self.beta + self.alpha * self._com(X[m])\n",
        "    return v\n",
        "  \n",
        "  def choice(self, X: np.ndarray, *args) -> np.ndarray:\n",
        "    M, N, Q = X.shape  # (#sets, #items, #features)\n",
        "    choice = np.argmax(self.utility(X, *args), axis=1)\n",
        "    return choice"
      ],
      "execution_count": 2,
      "outputs": []
    },
    {
      "cell_type": "markdown",
      "metadata": {
        "id": "8-IwgCiseZTY"
      },
      "source": [
        "### Unitest "
      ]
    },
    {
      "cell_type": "code",
      "metadata": {
        "colab": {
          "base_uri": "https://localhost:8080/",
          "height": 296
        },
        "id": "7NiRqN5FgekH",
        "outputId": "cf798839-ff77-4a80-c408-4b6b3b320e79"
      },
      "source": [
        "import matplotlib.pyplot as plt\n",
        "\n",
        "\n",
        "cameras_ds = np.asarray([[[1, 1], [2, 2], [3, 3]]])  # features = (price, quality)\n",
        "num_items, num_features = cameras_ds.shape[1:]\n",
        "\n",
        "_, ax = plt.subplots()\n",
        "\n",
        "beta = np.random.rand(num_features)\n",
        "alpha_vec = np.linspace(0, 2, 100)\n",
        "\n",
        "c = []\n",
        "for alpha in alpha_vec:\n",
        "  model = CompromiseUserModel(beta, alpha)\n",
        "  c.append(model.choice(cameras_ds))\n",
        "\n",
        "ax.plot(alpha_vec, c)\n",
        "ax.plot(alpha_vec, c, '+')\n",
        "ax.set(xlabel=r\"$\\alpha$\", ylabel=\"item index\", title=r\"chosen item vs. $\\alpha$\")\n",
        "ax.set_ylim([-1, num_items])\n",
        "ax.set_yticks([i for i in range(num_items)])\n",
        "ax.set_yticklabels([str(i) for i in range(num_items)])\n",
        "plt.show()"
      ],
      "execution_count": 3,
      "outputs": [
        {
          "output_type": "display_data",
          "data": {
            "image/png": "[encoded data removed]",
            "text/plain": [
              "<Figure size 432x288 with 1 Axes>"
            ]
          },
          "metadata": {
            "needs_background": "light"
          }
        }
      ]
    },
    {
      "cell_type": "markdown",
      "metadata": {
        "id": "uy8V0f85jCDF"
      },
      "source": [
        "### Test with given data"
      ]
    },
    {
      "cell_type": "code",
      "metadata": {
        "id": "KIt091cO3VT0"
      },
      "source": [
        "import pickle\n",
        "\n",
        "with open ('users_validation (1).pkl', 'rb') as f:\n",
        "  user_validation = pickle.load(f)"
      ],
      "execution_count": 4,
      "outputs": []
    },
    {
      "cell_type": "code",
      "metadata": {
        "colab": {
          "base_uri": "https://localhost:8080/"
        },
        "id": "MV2OQH893jfT",
        "outputId": "39dffdde-ad05-49ca-9957-4a3879792aeb"
      },
      "source": [
        "X = np.stack(user_validation['input_list'], axis=0)\n",
        "y = np.asarray(user_validation['comp_selections'])\n",
        "\n",
        "model = CompromiseUserModel(beta=np.arange(X.shape[2]), alpha=100)\n",
        "y_pred = model.choice(X)\n",
        "acc = np.sum(y_pred == y) / np.prod(y.shape)\n",
        "print(f\"accuracy = {acc}\")"
      ],
      "execution_count": 5,
      "outputs": [
        {
          "output_type": "stream",
          "name": "stdout",
          "text": [
            "accuracy = 1.0\n"
          ]
        }
      ]
    },
    {
      "cell_type": "markdown",
      "metadata": {
        "id": "IY7yV_VSQzyF"
      },
      "source": [
        "###Q2"
      ]
    },
    {
      "cell_type": "code",
      "metadata": {
        "id": "gZVVHE-84xh-"
      },
      "source": [
        "np.random.seed(0)"
      ],
      "execution_count": 6,
      "outputs": []
    },
    {
      "cell_type": "code",
      "metadata": {
        "id": "obArUn_6jeRq"
      },
      "source": [
        "def transform_pairwise(X: np.ndarray, y: np.ndarray):\n",
        "  N, Q = X.shape\n",
        "  K = N - 1\n",
        "  Xy = X[y]\n",
        "  X = np.delete(X, obj=y, axis=0)\n",
        "\n",
        "  ynew = np.random.choice([-1, 1], size=(K, ))\n",
        "  Xnew = np.expand_dims(ynew, 1) * (Xy - X)\n",
        "\n",
        "  return Xnew, ynew"
      ],
      "execution_count": 7,
      "outputs": []
    },
    {
      "cell_type": "code",
      "metadata": {
        "id": "IgKNgbC28aCL"
      },
      "source": [
        "from sklearn import svm\n",
        "\n",
        "class MyRanker(svm.LinearSVC):\n",
        "  def shape_transform (self, X, y):\n",
        "    M, N, Q = X.shape\n",
        "    K = N - 1\n",
        "\n",
        "    Xnew, ynew = [], []\n",
        "    for m in range(M):\n",
        "      Xnew_, ynew_ = transform_pairwise(X[m], y[m])\n",
        "      Xnew.append(Xnew_)\n",
        "      ynew.append(ynew_)\n",
        "    \n",
        "    Xnew = np.concatenate(Xnew)\n",
        "    ynew = np.concatenate(ynew)\n",
        "    \n",
        "    return Xnew, ynew\n",
        "  \n",
        "  def fit(self, X, y):\n",
        "    Xnew, ynew = self.shape_transform(X, y)\n",
        "    super().fit(Xnew, ynew)\n",
        "  \n",
        "  def predict(self, X: np.ndarray) -> np.ndarray:\n",
        "    coef = self.coef_.squeeze()\n",
        "    intercept = self.intercept_\n",
        "    v = X @ coef + intercept\n",
        "    y = np.argmax(v, axis=1)\n",
        "    return y"
      ],
      "execution_count": 8,
      "outputs": []
    },
    {
      "cell_type": "code",
      "metadata": {
        "id": "X2U94KsIivje"
      },
      "source": [
        "import pickle\n",
        "\n",
        "with open ('pairwise_validation.pkl', 'rb') as f:\n",
        "  pairwise_validation = pickle.load(f)"
      ],
      "execution_count": 9,
      "outputs": []
    },
    {
      "cell_type": "code",
      "metadata": {
        "colab": {
          "base_uri": "https://localhost:8080/"
        },
        "id": "mng2KS1Y_q6P",
        "outputId": "51ff2d1c-dd7f-4a5b-f817-90cda6576346"
      },
      "source": [
        "x_train = pairwise_validation['x_train']\n",
        "y_train = np.argmax(pairwise_validation['y_train'], axis=1)\n",
        "x_test = pairwise_validation['x_test']\n",
        "y_test = np.argmax(pairwise_validation['y_test'], axis=1)\n",
        "\n",
        "ranker = MyRanker()\n",
        "ranker.fit(x_train, y_train)\n",
        "y_pred = ranker.predict(x_test)\n",
        "acc = np.sum(y_pred == y_test) / np.prod(y_test.shape)\n",
        "print(f\"test accuracy = {acc}\")"
      ],
      "execution_count": 10,
      "outputs": [
        {
          "output_type": "stream",
          "name": "stdout",
          "text": [
            "test accuracy = 0.9878787878787879\n"
          ]
        },
        {
          "output_type": "stream",
          "name": "stderr",
          "text": [
            "/usr/local/lib/python3.7/dist-packages/sklearn/svm/_base.py:1208: ConvergenceWarning: Liblinear failed to converge, increase the number of iterations.\n",
            "  ConvergenceWarning,\n"
          ]
        }
      ]
    },
    {
      "cell_type": "code",
      "metadata": {
        "id": "KEB6KtVwk-t9"
      },
      "source": [
        ""
      ],
      "execution_count": 10,
      "outputs": []
    }
  ]
}