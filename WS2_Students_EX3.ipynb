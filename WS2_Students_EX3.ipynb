{
  "nbformat": 4,
  "nbformat_minor": 0,
  "metadata": {
    "colab": {
      "name": "WS2_Students_EX3.ipynb",
      "provenance": [],
      "collapsed_sections": [],
      "include_colab_link": true
    },
    "kernelspec": {
      "display_name": "Python 3 (ipykernel)",
      "language": "python",
      "name": "python3"
    },
    "language_info": {
      "codemirror_mode": {
        "name": "ipython",
        "version": 3
      },
      "file_extension": ".py",
      "mimetype": "text/x-python",
      "name": "python",
      "nbconvert_exporter": "python",
      "pygments_lexer": "ipython3",
      "version": "3.9.7"
    }
  },
  "cells": [
    {
      "cell_type": "markdown",
      "metadata": {
        "id": "view-in-github",
        "colab_type": "text"
      },
      "source": [
        "<a href=\"https://colab.research.google.com/github/nitaifingerhut/cs236608/blob/master/WS2_Students_EX3.ipynb\" target=\"_parent\"><img src=\"https://colab.research.google.com/assets/colab-badge.svg\" alt=\"Open In Colab\"/></a>"
      ]
    },
    {
      "cell_type": "code",
      "metadata": {
        "colab": {
          "base_uri": "https://localhost:8080/"
        },
        "id": "25Ie6znsg1gU",
        "outputId": "06e0d8bd-2dc7-4309-b293-a6f842f7f40f"
      },
      "source": [
        "import numpy as np\n",
        "import matplotlib.pyplot as plt\n",
        "import pandas as pd\n",
        "import abc\n",
        "import string\n",
        "import statsmodels.api as sm\n",
        "import itertools\n",
        "from sklearn import svm, linear_model\n",
        "import pandas as pd\n",
        "import sys\n",
        "\n",
        "from collections import OrderedDict\n",
        "\n",
        "%config InlineBackend.figure_format = 'retina'"
      ],
      "execution_count": 1,
      "outputs": [
        {
          "output_type": "stream",
          "name": "stderr",
          "text": [
            "/usr/local/lib/python3.7/dist-packages/statsmodels/tools/_testing.py:19: FutureWarning: pandas.util.testing is deprecated. Use the functions in the public API at pandas.testing instead.\n",
            "  import pandas.util.testing as tm\n"
          ]
        }
      ]
    },
    {
      "cell_type": "markdown",
      "metadata": {
        "id": "AFQfhGX_wYkJ"
      },
      "source": [
        "**Context UserModels**"
      ]
    },
    {
      "cell_type": "code",
      "metadata": {
        "id": "XMrZjWm_qQZZ"
      },
      "source": [
        "# Generate Choice \n",
        "\n",
        "class UserModel(abc.ABC):\n",
        "  @abc.abstractclassmethod\n",
        "  def __call__(self, X, *args):\n",
        "    '''\n",
        "    Given items X, calculate the user's valuation v(x) for each item x\n",
        "    '''\n",
        "    raise NotImplementedError()\n",
        "  \n",
        "  def predict(self, X, *args):\n",
        "    raise NotImplementedError()\n"
      ],
      "execution_count": 2,
      "outputs": []
    },
    {
      "cell_type": "code",
      "metadata": {
        "id": "5P-NCc3qSddR"
      },
      "source": [
        "np.random.seed(42)\n",
        "\n",
        "# just data\n",
        "def generate_synth_data(num_examples, num_features, num_items):\n",
        "  items = np.random.uniform(low=0.0, high=10.0, size=(num_examples, num_items, num_features))\n",
        "  return items"
      ],
      "execution_count": 3,
      "outputs": []
    },
    {
      "cell_type": "markdown",
      "metadata": {
        "id": "9zegIuLRG5y5"
      },
      "source": [
        "\n",
        "\n",
        "-----------------\n",
        "-----------------"
      ]
    },
    {
      "cell_type": "markdown",
      "metadata": {
        "id": "4uVn4ZpxzT_6"
      },
      "source": [
        "## Task 3:  behavioral bias or self-fulfilling prophecy?"
      ]
    },
    {
      "cell_type": "markdown",
      "metadata": {
        "id": "voafWwL5aPJ_"
      },
      "source": [
        "In this exercise we move beyond unordered sets and set-dependent context effects, and investigate the importance of ordering on (possibly order-dependent) user behavior and on system performance."
      ]
    },
    {
      "cell_type": "markdown",
      "metadata": {
        "id": "qCAaegyNlhdP"
      },
      "source": [
        "In this section, the system provides users with an **ordered** set of items.\n",
        "The system determines the order of items using a simple policy implemented in the following BaseRanker() class. Here, the rank() function takes as inputs an (unordered) set of items, and returns them in a specific order, determined by an internal parameter $\\hat{\\beta}$. In particular, BaseRanker() ranks items according to a linear score $\\hat{\\beta}^\\top x$. We will think of $\\hat{\\beta}$ as an estimate of a user's internal value vector.\n",
        "\n",
        "Note that BaseRanker() simply uses *some* $\\hat{\\beta}$, and there is no learning involved."
      ]
    },
    {
      "cell_type": "code",
      "metadata": {
        "id": "lI3LxGSFSJC7"
      },
      "source": [
        "class BaseRanker():\n",
        "\n",
        "  def __init__(self, beta_h_hat):\n",
        "    self.beta_h = beta_h_hat\n",
        "\n",
        "  def __call__(self, X):\n",
        "\n",
        "    return X@self.beta_h\n",
        "  \n",
        "  def rank(self, X):\n",
        "    return np.argsort(-self(X), axis=0)\n"
      ],
      "execution_count": 4,
      "outputs": []
    },
    {
      "cell_type": "markdown",
      "metadata": {
        "id": "K0x5eWwuhfyB"
      },
      "source": [
        "The following sequence determines one round of recommendation and choice:\n",
        "1. Nature generates a set of 7 items that are made available in this round (different set every round)\n",
        "2. System orders these items using BaseRanker\n",
        "3. Items are displayed to the user as an ordered list\n",
        "4. User selects an item from the ordered list\n",
        "5. System stores (i) the chosen item, and (ii) the item's position in the ordered list\n",
        "\n",
        "In this section, choices are generated by an **unknown** user model called XUserModel, which chooses from ordered lists generated by a BaseRanker ranker (having some internal $\\hat{\\beta}$).\n",
        "The next block of code loads an array describing the positions (within the ordered list) of the items chosen by xuser across multiple rounds. "
      ]
    },
    {
      "cell_type": "code",
      "metadata": {
        "colab": {
          "base_uri": "https://localhost:8080/"
        },
        "id": "SGDmDFahAVqN",
        "outputId": "f7c3a1cd-7135-4fc9-9a67-58324f01b561"
      },
      "source": [
        "!unzip x_user_click_positions.npy.zip"
      ],
      "execution_count": 5,
      "outputs": [
        {
          "output_type": "stream",
          "name": "stdout",
          "text": [
            "Archive:  x_user_click_positions.npy.zip\n",
            "replace x_user_click_positions.npy? [y]es, [n]o, [A]ll, [N]one, [r]ename: n\n",
            "replace __MACOSX/._x_user_click_positions.npy? [y]es, [n]o, [A]ll, [N]one, [r]ename: n\n"
          ]
        }
      ]
    },
    {
      "cell_type": "code",
      "metadata": {
        "id": "VUkyEJcKoAC7"
      },
      "source": [
        "x_user_choice_positions = np.load('x_user_click_positions.npy')"
      ],
      "execution_count": 6,
      "outputs": []
    },
    {
      "cell_type": "markdown",
      "metadata": {
        "id": "Bdr-m4PMdbeh"
      },
      "source": [
        "3.0.1 Plot a histogram of position counts: position of chosen item on the x-axis, number of times this position appeared accross all rounds in the y-axis.\n",
        "\n"
      ]
    },
    {
      "cell_type": "code",
      "metadata": {
        "id": "j0QT4jTEQ0mp",
        "colab": {
          "base_uri": "https://localhost:8080/",
          "height": 266
        },
        "outputId": "d2afad8e-cb80-4979-88d0-3c229394e2e4"
      },
      "source": [
        "import matplotlib.pyplot as plt\n",
        "\n",
        "_, axs = plt.subplots()\n",
        "axs.hist(x_user_choice_positions, bins=[i - 0.5 for i in range(7)] + [6.5], rwidth=0.75)\n",
        "axs.set_xticks(list(range(7)))\n",
        "axs.set_xticklabels([str(i) for i in range(7)])\n",
        "plt.show()"
      ],
      "execution_count": 7,
      "outputs": [
        {
          "output_type": "display_data",
          "data": {
            "image/png": "[encoded data removed]",
            "text/plain": [
              "<Figure size 432x288 with 1 Axes>"
            ]
          },
          "metadata": {
            "image/png": {
              "width": 375,
              "height": 249
            },
            "needs_background": "light"
          }
        }
      ]
    },
    {
      "cell_type": "markdown",
      "metadata": {
        "id": "dLUxESFPsTj2"
      },
      "source": [
        "3.0.2 Does user behavior showcase order bias? What type?\n",
        "Explain your answer."
      ]
    },
    {
      "cell_type": "markdown",
      "metadata": {
        "id": "0nzg4nQ0Az2F"
      },
      "source": [
        "Answer: User tend to choose the first item she see. In some cases she chooses the second item she see, and never choose later items."
      ]
    },
    {
      "cell_type": "markdown",
      "metadata": {
        "id": "VizOwtmdifH3"
      },
      "source": [
        "### 3.1 Predicting choices\n",
        "\n",
        "Next, let's examine how well we can predict choice behavior in this setting.\n",
        "We will provide you with functions that:\n",
        "* Generate inputs of sets of items\n",
        "* Ranks them (transforming them into ordered lists)\n",
        "* Generates choices and item positions (using query-access to an XUser Model)\n",
        "* A learning algorithm for predicting choice\n"
      ]
    },
    {
      "cell_type": "markdown",
      "metadata": {
        "id": "U-CzdG6I7p75"
      },
      "source": [
        "First, load into memory an instance of xuser of the class XUserModel. **This code his hidden from you** - consider xuser as a black box which you may only use to generate choice behavior for ordered list inputs. We will later use th xuser.select(X) function to generate choices.\n",
        "\n",
        "\n",
        "To load xuser, **follow these steps carefully:**\n",
        "1. Press the 'Play' icon to run the block of code\n",
        "2. Do **NOT** double click on the title (we will see if you did this...)\n",
        "3. You may **NOT** access xuser's code in any other way, modify it, or change xuser's instantiation."
      ]
    },
    {
      "cell_type": "code",
      "metadata": {
        "cellView": "form",
        "id": "8uTxaGehugFT"
      },
      "source": [
        "#@title xuser\n",
        "\n",
        "\n",
        "class XUserModel(UserModel):\n",
        "\n",
        "  def __init__(self, num_features, beta_h, c, beta_p, c_p=0):\n",
        "    self.num_features = num_features\n",
        "    self.beta_1 = np.arange(num_features)\n",
        "    self.beta_2 = beta_p\n",
        "    self.c = c\n",
        "    self.c1 = c_p\n",
        "    self.beta_3 = self.beta_1 + self.c * self.beta_2\n",
        "\n",
        "  def __call__(self, X):\n",
        "    pos = np.arange(X.shape[0])\n",
        "    z = X@self.beta_1\n",
        "    z_ = X@self.beta_3 + self.c*pos\n",
        "    z_ip = z_ + self.c* np.random.randn(X.shape[0])\n",
        "    z_p = z + self.c* np.random.randn(X.shape[0])\n",
        "    b = z_ip + z_p \n",
        "    z_b = z_p + self.c1*b\n",
        "    return z_b\n",
        "  \n",
        "  def select(self, X):\n",
        "    return np.argmax(self(X), axis=0)\n",
        "\n",
        "beta_h = np.arange(5)\n",
        "xuser = XUserModel(5, beta_h, c=0.7, beta_p=beta_h)"
      ],
      "execution_count": 8,
      "outputs": []
    },
    {
      "cell_type": "markdown",
      "metadata": {
        "id": "4HFl8kl6xxPI"
      },
      "source": [
        "Next, generate data. The next block of code generates items sets, orders them as lists use BaseRanker, and generate choices using xuser:\n"
      ]
    },
    {
      "cell_type": "code",
      "metadata": {
        "id": "W1B7uvUC8m4O"
      },
      "source": [
        "np.random.seed(42)\n",
        "num_features = 5\n",
        "num_items =7\n",
        "num_rounds = 500\n",
        "\n",
        "# generate data:\n",
        "X = generate_synth_data(num_rounds, num_features, num_items)\n",
        "\n",
        "# order items:\n",
        "beta_h = np.arange(num_features) #arbitrary\n",
        "base_ranker = BaseRanker(beta_h)\n",
        "X_display = list()\n",
        "y_x = np.ones((num_rounds, num_items)) * 2 # holds ground truth\n",
        "y_idx = np.zeros(num_rounds)\n",
        "\n",
        "# for each round, order items and generate user choices:\n",
        "for i in range(X.shape[0]):\n",
        "  ranks = base_ranker.rank(X[i])\n",
        "  X_display.append(X[i][ranks])\n",
        "  selection = xuser.select(X_display[i])\n",
        "  y_x[i, selection] = 1\n",
        "  y_idx[i] = selection"
      ],
      "execution_count": 9,
      "outputs": []
    },
    {
      "cell_type": "markdown",
      "metadata": {
        "id": "r75U8nU20lQm"
      },
      "source": [
        "Next, initialize a predictive model.\n",
        "\n",
        "In this section our predcitive model will use a pair-wise partial ranking method implemented in the XGBoost ranker (this is a widely-used machine learning library based on gradient boosting). Note that this method (just like your pair-wise ranker implementation) does *not* take item positions into account.\n",
        "\n",
        "The next blocks of code load the xgboost package, initializes a model, and define two helper functions: prep_xgboost_data() which prepares inputs to be in a format that xgboost uses; and eval_xgboost(), which evaluates the performance of a learned model. We will use these later.\n",
        "\n",
        "**No need to go over this code! Just run the cells.**"
      ]
    },
    {
      "cell_type": "code",
      "metadata": {
        "id": "k3qsYLzczbT_"
      },
      "source": [
        "\n",
        "import xgboost as xgb\n",
        "\n",
        "class_weights = {1:100, 2:10}\n",
        "\n",
        "model = xgb.XGBRanker(  \n",
        "    booster='gbtree',\n",
        "    objective='rank:pairwise',\n",
        "    random_state=42, \n",
        "    learning_rate=0.1,\n",
        "    colsample_bytree=0.9, \n",
        "    eta=0.05, \n",
        "    max_depth=6, \n",
        "    n_estimators=110, \n",
        "    subsample=0.75,\n",
        "    class_weights =  class_weights\n",
        "    )"
      ],
      "execution_count": 10,
      "outputs": []
    },
    {
      "cell_type": "code",
      "metadata": {
        "id": "H8od2vnIAqp6"
      },
      "source": [
        "from sklearn.model_selection import GroupShuffleSplit\n",
        "\n",
        "def prep_xgboost_data(X,y_x,y_idx):\n",
        "  # x_user_click_positions = np.zeros(X.shape[0])\n",
        "  X_flatten = np.zeros((X.shape[1]*X.shape[0], X.shape[2]+1))\n",
        "\n",
        "  # round_id is inserted so predictions would be made per group\n",
        "  X_flatten[:,0] = np.repeat(np.arange(num_rounds), num_items)\n",
        "  X_flatten[:,1:] = np.vstack(X)\n",
        "  df = pd.DataFrame(X_flatten)\n",
        "\n",
        "  np.random.seed(42)\n",
        "  df['rank'] = y_x.flatten()\n",
        "  df.rename(columns={0:'id'}, inplace=True)\n",
        "  gss = GroupShuffleSplit(test_size=.30, n_splits=1, random_state = 42).split(df, groups=df['id'])\n",
        "  X_train_inds, X_test_inds = next(gss)\n",
        "  train_data = df.iloc[X_train_inds]\n",
        "  X_test = df.iloc[X_test_inds]\n",
        "  y_test = y_idx[X_test['id'].unique().astype(int)]\n",
        "\n",
        "  X_train = train_data.loc[:, ~train_data.columns.isin(['id','rank'])]\n",
        "  y_train = train_data.loc[:, train_data.columns.isin(['rank'])]\n",
        "  groups = train_data.groupby('id').size().to_frame('size')['size'].to_numpy()\n",
        "  return X_train, y_train, X_test, y_test, groups\n",
        "\n",
        "\n",
        "def eval_xgboost(X_, y_):\n",
        "  def predict_xgboost(model, X_):\n",
        "      return model.predict(X_.loc[:, ~X_.columns.isin(['id'])])\n",
        "  # test model\n",
        "  test_features= X_.loc[:, ~X_.columns.isin(['rank'])]\n",
        "  test_group_ids = X_test['id'].unique()\n",
        "\n",
        "  pred_values = (test_features.groupby('id').apply(lambda x: predict_xgboost(model, x)))\n",
        "\n",
        "  # translate to predictions\n",
        "  yhat = pred_values.apply(lambda x: np.argmin(x))\n",
        "  # evaluate accuracy\n",
        "  acc = np.sum(yhat == y_)/len(y_)\n",
        "  return yhat, acc\n"
      ],
      "execution_count": 11,
      "outputs": []
    },
    {
      "cell_type": "markdown",
      "metadata": {
        "id": "72W1Ql0L_dzh"
      },
      "source": [
        "Finally, train and evaluate the performance of the model."
      ]
    },
    {
      "cell_type": "code",
      "metadata": {
        "colab": {
          "base_uri": "https://localhost:8080/"
        },
        "id": "eigMWaLy_ek6",
        "outputId": "2417e750-171e-4da2-ca41-f627819f4fbb"
      },
      "source": [
        "# prep data\n",
        "X_train, y_train, X_test, y_test, groups = prep_xgboost_data(X,y_x,y_idx)\n",
        "\n",
        "# fit model\n",
        "model.fit(X_train, y_train, group=groups, verbose=True)\n",
        "\n",
        "# evaluate\n",
        "yhat, acc = eval_xgboost(X_test, y_test)\n",
        "print(acc)"
      ],
      "execution_count": 12,
      "outputs": [
        {
          "output_type": "stream",
          "name": "stdout",
          "text": [
            "0.19333333333333333\n"
          ]
        }
      ]
    },
    {
      "cell_type": "markdown",
      "metadata": {
        "id": "eagUNtBshGTK"
      },
      "source": [
        "3.1.1 In this section, we will try to improve predictive performance by utilizing the position items in the ordered lists as additional input.\n",
        "\n",
        "Augment the input data by adding to each item an additional feature that encodes the position of that item in the list to which it belongs. This is a very simple procedure - note that the information exists in X, since the position of the item is simply its index in the array.\n",
        "\n",
        "Run xgboost on this new data, and compare performance."
      ]
    },
    {
      "cell_type": "code",
      "metadata": {
        "id": "a49Pz74iCZBo",
        "colab": {
          "base_uri": "https://localhost:8080/"
        },
        "outputId": "98919c33-77f7-4086-dd0a-021fe69aa7b6"
      },
      "source": [
        "# augment inputs with item positions as an additional feature\n",
        "def augment_with_positions(X):\n",
        "  Xnew = np.concatenate((X, np.zeros((X.shape[0], X.shape[1], 1))), axis=2)\n",
        "  for i in range(X.shape[0]):\n",
        "    ranks = base_ranker.rank(X[i])\n",
        "    Xnew[i][:,-1] = ranks\n",
        "  return Xnew\n",
        "\n",
        "X_aug = augment_with_positions(X)\n",
        "\n",
        "# prep data\n",
        "X_train2, y_train2, X_test2, y_test2, groups2 = prep_xgboost_data(X_aug, y_x, y_idx)\n",
        "\n",
        "# fit model\n",
        "model.fit(X_train2, y_train2, group=groups2, verbose=True)\n",
        "\n",
        "# evaluate\n",
        "yhat2, acc2 = eval_xgboost(X_test2, y_test2)\n",
        "print(acc2)"
      ],
      "execution_count": 13,
      "outputs": [
        {
          "output_type": "stream",
          "name": "stdout",
          "text": [
            "0.22\n"
          ]
        }
      ]
    },
    {
      "cell_type": "markdown",
      "metadata": {
        "id": "q8biNUsYCqIC"
      },
      "source": [
        "Did adding position as a feature impropve performance? Explain why."
      ]
    },
    {
      "cell_type": "markdown",
      "metadata": {
        "id": "xZ5wLVB2M8wV"
      },
      "source": [
        "Answer: Yes, it improved the accuracy from 0.19 to 0.22. It makes sense, since now the learner gets information about the position on the item in the set,\n",
        "and we know that this information is critical for the user decision (non-rational model in data generation)."
      ]
    },
    {
      "cell_type": "markdown",
      "metadata": {
        "id": "QDajk4pkbwMH"
      },
      "source": [
        "3.1.3 In this section we will repeat the same procedure, but this time, **without** ranking items using BaseRanker (that is, user receives a list of items in their initial, unsorted order)."
      ]
    },
    {
      "cell_type": "code",
      "metadata": {
        "id": "ZENtsrTJb3Of"
      },
      "source": [
        "np.random.seed(42)\n",
        "\n",
        "# generate data:\n",
        "X = generate_synth_data(num_rounds, num_features, num_items)\n",
        "\n",
        "# order items:\n",
        "X_display = list()\n",
        "y_x = np.ones((num_rounds, num_items)) * 2 # holds ground truth\n",
        "y_idx = np.zeros(num_rounds)\n",
        "\n",
        "# for each round, order items and generate user choices:\n",
        "for i in range(X.shape[0]):\n",
        "  ranks = base_ranker.rank(X[i])\n",
        "  X_display.append(X[i][ranks])\n",
        "  # We commented out this line (we consider it as a typo) because it doesnt make sense.\n",
        "  # This code block is exactly the same as the previous one beneath the model import.\n",
        "  selection = xuser.select(X_display[i])  \n",
        "  # selection = xuser.select(X[i])\n",
        "  y_x[i, selection] = 1\n",
        "  y_idx[i] = selection"
      ],
      "execution_count": 33,
      "outputs": []
    },
    {
      "cell_type": "markdown",
      "metadata": {
        "id": "Fk5M0ztiEijx"
      },
      "source": [
        " Plot a histogram of position counts:"
      ]
    },
    {
      "cell_type": "code",
      "metadata": {
        "id": "Q6DZZFrUEolX",
        "colab": {
          "base_uri": "https://localhost:8080/",
          "height": 266
        },
        "outputId": "31347c68-30a9-4fd6-911b-7b07b54ace4c"
      },
      "source": [
        "_, axs = plt.subplots()\n",
        "axs.hist(y_idx, bins=[i - 0.5 for i in range(7)] + [6.5], rwidth=0.75)\n",
        "axs.set_xticks(list(range(7)))\n",
        "axs.set_xticklabels([str(i) for i in range(7)])\n",
        "plt.show()"
      ],
      "execution_count": 34,
      "outputs": [
        {
          "output_type": "display_data",
          "data": {
            "image/png": "[encoded data removed]",
            "text/plain": [
              "<Figure size 432x288 with 1 Axes>"
            ]
          },
          "metadata": {
            "image/png": {
              "width": 375,
              "height": 249
            },
            "needs_background": "light"
          }
        }
      ]
    },
    {
      "cell_type": "markdown",
      "metadata": {
        "id": "tTTRTOvaE00t"
      },
      "source": [
        "Does the plot align with your expectations? Explain your observations."
      ]
    },
    {
      "cell_type": "markdown",
      "metadata": {
        "id": "wkcI4qJEPA5F"
      },
      "source": [
        "Answer: Yes, now we observe no bias towards any specific position (rational). "
      ]
    },
    {
      "cell_type": "markdown",
      "metadata": {
        "id": "Tlw6zUSkFFG0"
      },
      "source": [
        "3.1.4 Train and evaluate a new xgboost model, once **without** positions as a featuere, and once **with** position as a feature. Use your code for augmenting the data from above.\n",
        "\n",
        "Compare the performance of both approaches."
      ]
    },
    {
      "cell_type": "code",
      "metadata": {
        "id": "iEdljcApEpMh",
        "colab": {
          "base_uri": "https://localhost:8080/"
        },
        "outputId": "02c88858-d8eb-4698-db9f-b6349fc09c60"
      },
      "source": [
        "# train model and evaluate *without* position bias as a feature\n",
        "X_train, y_train, X_test, y_test, groups = prep_xgboost_data(X, y_x, y_idx)\n",
        "print(X_train.head())\n",
        "print(X_train.describe())\n",
        "print(y_train.head())\n",
        "print(y_train.describe())\n",
        "model.fit(X_train, y_train, group=groups, verbose=True)\n",
        "yhat, acc = eval_xgboost(X_test, y_test)\n",
        "print(acc)"
      ],
      "execution_count": 35,
      "outputs": [
        {
          "output_type": "stream",
          "name": "stdout",
          "text": [
            "           1         2         3         4         5\n",
            "7   8.083973  3.046138  0.976721  6.842330  4.401525\n",
            "8   1.220382  4.951769  0.343885  9.093204  2.587800\n",
            "9   6.625223  3.117111  5.200680  5.467103  1.848545\n",
            "10  9.695846  7.751328  9.394989  8.948274  5.979000\n",
            "11  9.218742  0.884925  1.959829  0.452273  3.253303\n",
            "                 1            2            3            4            5\n",
            "count  2450.000000  2450.000000  2450.000000  2450.000000  2450.000000\n",
            "mean      4.928328     4.947750     5.113018     5.099921     4.972993\n",
            "std       2.899121     2.889027     2.926435     2.847524     2.883607\n",
            "min       0.002270     0.000307     0.002409     0.001577     0.001347\n",
            "25%       2.499625     2.389876     2.543450     2.650380     2.491822\n",
            "50%       4.923741     5.038040     5.251258     5.199514     4.920461\n",
            "75%       7.458417     7.415572     7.635509     7.573031     7.489558\n",
            "max       9.998051     9.977494     9.995052     9.999248     9.994137\n",
            "    rank\n",
            "7    1.0\n",
            "8    2.0\n",
            "9    2.0\n",
            "10   2.0\n",
            "11   2.0\n",
            "              rank\n",
            "count  2450.000000\n",
            "mean      1.857143\n",
            "std       0.349999\n",
            "min       1.000000\n",
            "25%       2.000000\n",
            "50%       2.000000\n",
            "75%       2.000000\n",
            "max       2.000000\n",
            "0.19333333333333333\n"
          ]
        }
      ]
    },
    {
      "cell_type": "code",
      "metadata": {
        "id": "jm4a7D-_Fc0d",
        "colab": {
          "base_uri": "https://localhost:8080/"
        },
        "outputId": "06ae187b-1ae6-4370-c364-2ed51eb97359"
      },
      "source": [
        "# train model and evaluate *with* position bias as a feature\n",
        "X_aug = augment_with_positions(X) #USES YOUR FUNCTION FROM ABOVE\n",
        "X_train2, y_train2, X_test2, y_test2, groups2 = prep_xgboost_data(X_aug, y_x, y_idx)\n",
        "print(X_train2.head())\n",
        "print(X_train2.describe())\n",
        "print(y_train2.head())\n",
        "print(y_train2.describe())\n",
        "model.fit(X_train2, y_train2, group=groups2, verbose=True)\n",
        "yhat2, acc2 = eval_xgboost(X_test2, y_test2)\n",
        "print(acc2)"
      ],
      "execution_count": 36,
      "outputs": [
        {
          "output_type": "stream",
          "name": "stdout",
          "text": [
            "           1         2         3         4         5    6\n",
            "7   8.083973  3.046138  0.976721  6.842330  4.401525  3.0\n",
            "8   1.220382  4.951769  0.343885  9.093204  2.587800  6.0\n",
            "9   6.625223  3.117111  5.200680  5.467103  1.848545  1.0\n",
            "10  9.695846  7.751328  9.394989  8.948274  5.979000  0.0\n",
            "11  9.218742  0.884925  1.959829  0.452273  3.253303  5.0\n",
            "                 1            2  ...            5            6\n",
            "count  2450.000000  2450.000000  ...  2450.000000  2450.000000\n",
            "mean      4.928328     4.947750  ...     4.972993     3.000000\n",
            "std       2.899121     2.889027  ...     2.883607     2.000408\n",
            "min       0.002270     0.000307  ...     0.001347     0.000000\n",
            "25%       2.499625     2.389876  ...     2.491822     1.000000\n",
            "50%       4.923741     5.038040  ...     4.920461     3.000000\n",
            "75%       7.458417     7.415572  ...     7.489558     5.000000\n",
            "max       9.998051     9.977494  ...     9.994137     6.000000\n",
            "\n",
            "[8 rows x 6 columns]\n",
            "    rank\n",
            "7    1.0\n",
            "8    2.0\n",
            "9    2.0\n",
            "10   2.0\n",
            "11   2.0\n",
            "              rank\n",
            "count  2450.000000\n",
            "mean      1.857143\n",
            "std       0.349999\n",
            "min       1.000000\n",
            "25%       2.000000\n",
            "50%       2.000000\n",
            "75%       2.000000\n",
            "max       2.000000\n",
            "0.22\n"
          ]
        }
      ]
    },
    {
      "cell_type": "markdown",
      "metadata": {
        "id": "jt2qOLVzF2by"
      },
      "source": [
        "Explain your results."
      ]
    },
    {
      "cell_type": "code",
      "metadata": {
        "id": "DOHB7gs4F5sa"
      },
      "source": [
        "Answer: ..."
      ],
      "execution_count": 18,
      "outputs": []
    },
    {
      "cell_type": "markdown",
      "metadata": {
        "id": "Q8f5F1cOnvRv"
      },
      "source": [
        "### 3.2 User Behavior Analysis\n",
        "\n",
        "In the previous tasks you examined the relationship between postion in the list and choice behavior. While plotting them together may *suggest* of a possible connection between them, one cannot infer the *cause* for this relationship.\n",
        "\n",
        "**Don't confuse correlation with causation!**"
      ]
    },
    {
      "cell_type": "markdown",
      "metadata": {
        "id": "7JFzOvlys_K7"
      },
      "source": [
        "3.2.1 Write an algorithm that *determines* whether a user model *really* exhibits order bias, and attempt to quantify the extent of this bias.\n",
        "\n",
        "**Think**: How should you approach this?\n",
        "\n",
        "Start by explicitly writing your approach (in text), and only then proceed to writing this in code.\n",
        "\n",
        "**Hint**: You can use the given xuser to run \"experiments\"."
      ]
    },
    {
      "cell_type": "code",
      "metadata": {
        "id": "4NusMIj1_8CM"
      },
      "source": [
        "Answer:..."
      ],
      "execution_count": 19,
      "outputs": []
    },
    {
      "cell_type": "code",
      "metadata": {
        "id": "NE7cLCdg7JFh",
        "colab": {
          "base_uri": "https://localhost:8080/",
          "height": 35
        },
        "outputId": "8c2152f6-b550-459b-ff4c-41f44264c14e"
      },
      "source": [
        "\"\"\"\n",
        "\n",
        "YOUR CODE \n",
        "\"\"\""
      ],
      "execution_count": 20,
      "outputs": [
        {
          "output_type": "execute_result",
          "data": {
            "application/vnd.google.colaboratory.intrinsic+json": {
              "type": "string"
            },
            "text/plain": [
              "'\\n\\nYOUR CODE \\n'"
            ]
          },
          "metadata": {},
          "execution_count": 20
        }
      ]
    },
    {
      "cell_type": "markdown",
      "metadata": {
        "id": "oz4K_8lB7SiO"
      },
      "source": [
        "3.2.2 Now that you've implemented your validation procedure, use it to determine which of the following **three user models** (called 'click models') are prone to order bias, and to what extent.\n",
        "\n",
        "Explain your results, and support your claims using appropriate bar plot(s)."
      ]
    },
    {
      "cell_type": "code",
      "metadata": {
        "id": "km5DJorc7V7I"
      },
      "source": [
        "# click-model classes\n",
        "\n",
        "class AUserModel(UserModel):\n",
        "  def __init__(self, num_features):\n",
        "    self.num_features = num_features\n",
        "    \n",
        "  def __call__(self, X):\n",
        "    return 1\n",
        "\n",
        "  def select(self, X):\n",
        "    return 1\n",
        "\n",
        "class BUserModel(UserModel):\n",
        "  def __init__(self,beta_h=np.arange(num_features), c=5):\n",
        "    print(f'beta_h: {beta_h}')\n",
        "    self.num_features = num_features\n",
        "    self.beta_h = beta_h\n",
        "    self.c = c\n",
        "\n",
        "  def __call__(self, X):\n",
        "\n",
        "    return X@np.arange(num_features) - self.c*np.arange(X.shape[0])\n",
        "  \n",
        "  def select(self, X):\n",
        "    return np.argmax(self(X), axis=0)\n",
        "\n",
        "class CUserModel(UserModel):\n",
        "\n",
        "  def __init__(self,beta_h=np.arange(num_features)):\n",
        "    self.num_features = num_features\n",
        "    self.beta_h = beta_h\n",
        "\n",
        "  def __call__(self, X):\n",
        "    penalty = np.zeros(X.shape[0])\n",
        "    penalty[1] = 8\n",
        "    return X@np.arange(num_features) - penalty\n",
        "  \n",
        "  def select(self, X):\n",
        "    return np.argmax(self(X), axis=0)\n"
      ],
      "execution_count": 21,
      "outputs": []
    },
    {
      "cell_type": "code",
      "metadata": {
        "id": "kOEk1m4F8FJZ",
        "colab": {
          "base_uri": "https://localhost:8080/"
        },
        "outputId": "ff28bf30-fe1d-4fef-cfcc-2d99f0c89bf7"
      },
      "source": [
        "beta_h = np.arange(num_features)\n",
        "a_click_user = AUserModel(num_features)\n",
        "b_click_user = BUserModel(num_features)\n",
        "c_click_user = CUserModel(num_features)"
      ],
      "execution_count": 22,
      "outputs": [
        {
          "output_type": "stream",
          "name": "stdout",
          "text": [
            "beta_h: 5\n"
          ]
        }
      ]
    },
    {
      "cell_type": "code",
      "metadata": {
        "id": "crlq74uU8GqM",
        "colab": {
          "base_uri": "https://localhost:8080/",
          "height": 35
        },
        "outputId": "4e63cc31-e151-4b35-f9bb-9e4893b968c0"
      },
      "source": [
        "\"\"\"\n",
        "\n",
        "YOUR IMPLEMNTATION GOES HERE\n",
        "\n",
        "\"\"\""
      ],
      "execution_count": 23,
      "outputs": [
        {
          "output_type": "execute_result",
          "data": {
            "application/vnd.google.colaboratory.intrinsic+json": {
              "type": "string"
            },
            "text/plain": [
              "'\\n\\nYOUR IMPLEMNTATION GOES HERE\\n\\n'"
            ]
          },
          "metadata": {},
          "execution_count": 23
        }
      ]
    },
    {
      "cell_type": "markdown",
      "metadata": {
        "id": "Cxmjc5LT8T6C"
      },
      "source": [
        "Run your procedure on the three user models:"
      ]
    },
    {
      "cell_type": "code",
      "metadata": {
        "id": "HzPaBQf4-PRf",
        "colab": {
          "base_uri": "https://localhost:8080/",
          "height": 35
        },
        "outputId": "5047d644-216a-47b8-b0c2-ab7d548ccc3a"
      },
      "source": [
        "\"\"\"\n",
        "\n",
        "YOUR CODE GOES HERE\n",
        "\n",
        "\"\"\""
      ],
      "execution_count": 24,
      "outputs": [
        {
          "output_type": "execute_result",
          "data": {
            "application/vnd.google.colaboratory.intrinsic+json": {
              "type": "string"
            },
            "text/plain": [
              "'\\n\\nYOUR CODE GOES HERE\\n\\n'"
            ]
          },
          "metadata": {},
          "execution_count": 24
        }
      ]
    },
    {
      "cell_type": "markdown",
      "metadata": {
        "id": "_s1HJLs6-XkY"
      },
      "source": [
        "Provide relevant plots:"
      ]
    },
    {
      "cell_type": "code",
      "metadata": {
        "id": "ZZF5nRCW-eyX",
        "colab": {
          "base_uri": "https://localhost:8080/",
          "height": 35
        },
        "outputId": "73c2be2b-b13f-4fb5-8ae7-549ba4129958"
      },
      "source": [
        "\"\"\"\n",
        "YOUR PLOT\n",
        "\"\"\""
      ],
      "execution_count": 25,
      "outputs": [
        {
          "output_type": "execute_result",
          "data": {
            "application/vnd.google.colaboratory.intrinsic+json": {
              "type": "string"
            },
            "text/plain": [
              "'\\nYOUR PLOT\\n'"
            ]
          },
          "metadata": {},
          "execution_count": 25
        }
      ]
    }
  ]
}