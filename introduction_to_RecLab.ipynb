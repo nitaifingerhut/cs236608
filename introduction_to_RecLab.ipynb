{
  "nbformat": 4,
  "nbformat_minor": 0,
  "metadata": {
    "colab": {
      "name": "introduction_to_RecLab.ipynb",
      "provenance": [],
      "collapsed_sections": [],
      "include_colab_link": true
    },
    "kernelspec": {
      "name": "python3",
      "display_name": "Python 3"
    },
    "language_info": {
      "name": "python"
    }
  },
  "cells": [
    {
      "cell_type": "markdown",
      "metadata": {
        "id": "view-in-github",
        "colab_type": "text"
      },
      "source": [
        "<a href=\"https://colab.research.google.com/github/nitaifingerhut/cs236608/blob/master/introduction_to_RecLab.ipynb\" target=\"_parent\"><img src=\"https://colab.research.google.com/assets/colab-badge.svg\" alt=\"Open In Colab\"/></a>"
      ]
    },
    {
      "cell_type": "code",
      "metadata": {
        "id": "Um9W-Nj4W_1z"
      },
      "source": [
        "# Reclab installation. This may take a minute or two\n",
        "!pip install pybind11\n",
        "!pip install reclab[recommenders]\n",
        "!cp /usr/local/lib/python3.7/dist-packages/wpyfm/pyfm.cpython-36m-x86_64-linux-gnu.so /usr/local/lib/python3.7/dist-packages/wpyfm/pyfm.so\n",
        "!git clone https://github.com/berkeley-reclab/RecLab /usr/local/lib/python3.7/dist-packages/reclab2\n",
        "!cp -a /usr/local/lib/python3.7/dist-packages/reclab2/reclab/recommenders/. /usr/local/lib/python3.7/dist-packages/reclab/recommenders/"
      ],
      "execution_count": null,
      "outputs": []
    },
    {
      "cell_type": "markdown",
      "metadata": {
        "id": "IoFvh2kTXC33"
      },
      "source": [
        "# Introduction to RecLab\n",
        "In our next workshop we will be using *RecLab* - a simulation framework for evaluating different recommendation algorithms ([Reclab's website](https://berkeley-reclab.github.io/), [arxiv](https://arxiv.org/pdf/2011.07931.pdf)).\n",
        "\n",
        "The framework consists of 2 main components - Environments and Recommenders."
      ]
    },
    {
      "cell_type": "markdown",
      "metadata": {
        "id": "Ii1DIR9Xea87"
      },
      "source": [
        "**Environment:**\n",
        "\n",
        "An *Environment* defines the population of users and the collection of available items. It specifies the users' behavior, their preferences and the way they change over time, how the users rate items, etc.\n",
        "\n",
        "**Recommender:**\n",
        "\n",
        "A *Recommender* generates item recommendations to users based on past ratings.\n",
        "\n",
        "You can create environments and recommenders of your own, however we will be using some of the pre-defined ones provided by RecLab. \\\n",
        "[List](https://github.com/berkeley-reclab/RecLab/tree/master/reclab/environments) of available environments: ([documentation](https://berkeley-reclab.github.io/docs/environments)). \\\n",
        "[List](https://github.com/berkeley-reclab/RecLab/tree/master/reclab/recommenders) of available recommenders: ([documentation](https://berkeley-reclab.github.io/docs/recommenders)).\n",
        "\n",
        "**Notes:**\n",
        "* A simulation works in discrete time steps $t=1,2,\\dots$. \n",
        "* At each step, only some of the users request a recommendation. We denote these users as *online users*.\n",
        "* All recommenders we consider in this workshop are *prediction-based*, meaning, the recommender predicts the rating a user will give to each item, and recommend on the ones with the highest predicted rating.\n",
        "* The recommender only recommends *unseen items*. It will not recommend an item to a user if they already rated it (even if it has the highest predicted rating)."
      ]
    },
    {
      "cell_type": "markdown",
      "source": [
        "In the following demonstration of reclab and the recommendation process we will be using The ```topics-static``` environment ([documentation](https://berkeley-reclab.github.io/docs/environments/topics.html)), and a standard *matrix factorization* recommendation model ([documentation](https://berkeley-reclab.github.io/docs/recommenders/libfm.html)).\n",
        "\n",
        "In the ```Topics-static``` environment, each item is assigned to one of $K$ topics, and\n",
        "users prefer certain topics. \\\\\n",
        "The preference of user $u$ for items $i$ of topic $k_i$\n",
        "is initialized as $\\pi(u, k_i) \\sim Uni(0.5, 5.5)$, while the topic\n",
        "$k_i$ of item $i$ is chosen randomly from the set of all topics. \\\\\n",
        "When user $u$ is recommended item $i$ it\n",
        "will rate the item as $r_t(u, i) = clip(\\pi(u, k_i) + \\epsilon)$ where $\\epsilon \\sim N(0, \\sigma ^2)$ represents exogenous noise not\n",
        "modeled by the simulation, and clip truncates values to be between $1$ and $5$.\n"
      ],
      "metadata": {
        "id": "NIvAdngDXa0B"
      }
    },
    {
      "cell_type": "markdown",
      "metadata": {
        "id": "QdwDbEYElaZa"
      },
      "source": [
        "**The simulation works in steps:** \\\n",
        "1. First, we initialize an environment with some users and items, and generate initial ratings from some of the users for some of the items."
      ]
    },
    {
      "cell_type": "code",
      "metadata": {
        "id": "C815ANxEpSFY"
      },
      "source": [
        "import numpy as np\n",
        "import reclab\n",
        "from reclab.environments import Topics\n",
        "\n",
        "NUM_USERS = 100\n",
        "NUM_ITEMS = 100\n",
        "\n",
        "# Create a pre-defined environment (topics-static).\n",
        "env = Topics(num_topics=10,\n",
        "            num_users=NUM_USERS,                                # total number of users\n",
        "            num_items=NUM_ITEMS,                                # total number of items\n",
        "            rating_frequency=0.2,                               # fraction of online users chosen randomly at each time step\n",
        "            num_init_ratings=NUM_USERS*NUM_ITEMS//5)            # number of initial user-item ratings\n",
        "env.seed(0)\n",
        "\n",
        "# Initialize item collection, user population, and initial ratings\n",
        "items, users, ratings = env.reset()"
      ],
      "execution_count": null,
      "outputs": []
    },
    {
      "cell_type": "markdown",
      "metadata": {
        "id": "8j3r6D5nkZAM"
      },
      "source": [
        "2. We then initialize a ```recommender``` with that information."
      ]
    },
    {
      "cell_type": "code",
      "metadata": {
        "id": "Eqpf-bJ8mnTh"
      },
      "source": [
        "from reclab.recommenders.libfm import LibFM\n",
        "from reclab.recommenders import RandomRec, TopPop, KNNRecommender, Autorec\n",
        "\n",
        "# Create a pre-defined recommender object (Matrix factorization)\n",
        "recommender = LibFM(num_user_features=0,\n",
        "                        num_item_features=0,\n",
        "                        num_rating_features=0,\n",
        "                        max_num_users=NUM_USERS,\n",
        "                        max_num_items=NUM_ITEMS)\n",
        "\n",
        "# Initialize the recommender with the items, users, and initial ratings\n",
        "recommender.reset(items, users, ratings)"
      ],
      "execution_count": null,
      "outputs": []
    },
    {
      "cell_type": "markdown",
      "metadata": {
        "id": "AmZqvlHrsQLo"
      },
      "source": [
        "3. Then we get some recommendations for our online users."
      ]
    },
    {
      "cell_type": "code",
      "metadata": {
        "id": "VQdUh2BNqeMj"
      },
      "source": [
        "# Recommendations per user. For this workshop, we will only consuder RPU = 1\n",
        "RPU = 1\n",
        "\n",
        "# Get current online users\n",
        "online_users = env.online_users\n",
        "\n",
        "# Generate 10 recommendations for each online user\n",
        "recommendations, predicted_ratings = recommender.recommend(online_users, RPU)"
      ],
      "execution_count": null,
      "outputs": []
    },
    {
      "cell_type": "markdown",
      "metadata": {
        "id": "mERqMnOYss5H"
      },
      "source": [
        "4. We feed these recommendations to our environment in order to:\n",
        "* get the true ratings for the recommended items.\n",
        "* update the environment according to the users' behavior.\n",
        "* decide on new online users."
      ]
    },
    {
      "cell_type": "code",
      "metadata": {
        "id": "kYKqulhrtWVT"
      },
      "source": [
        "# Run one timestep of the environment\n",
        "_, _, ratings, _ = env.step(recommendations)"
      ],
      "execution_count": null,
      "outputs": []
    },
    {
      "cell_type": "markdown",
      "metadata": {
        "id": "WqgDK9_PuBQe"
      },
      "source": [
        "5. update the recommender with the new rating data."
      ]
    },
    {
      "cell_type": "code",
      "metadata": {
        "id": "Hh5G_wV9uJMo"
      },
      "source": [
        "# Update the recommender with information of the new ratings\n",
        "recommender.update(ratings=ratings)"
      ],
      "execution_count": null,
      "outputs": []
    },
    {
      "cell_type": "markdown",
      "metadata": {
        "id": "fP3F5P1j7ZE2"
      },
      "source": [
        "**Evaluation**\\\n",
        "to evaluate our recommendation algorithm at each timestep we will use the following ```RMSE``` function. This function gets the true ratings of *all* users for *all* items and compares them to the ones predicted by the recommendation model (as it is *prediction-based*!). The function returns the $RMSE$ between the true ratings and the predicted ratings."
      ]
    },
    {
      "cell_type": "code",
      "metadata": {
        "id": "qex-ZmX1u03q"
      },
      "source": [
        "def RMSE(env, recommender):\n",
        "  true_ratings = env.dense_ratings\n",
        "  predicted_ratings = recommender.dense_predictions\n",
        "  return np.sqrt(np.mean((predicted_ratings-true_ratings)**2))"
      ],
      "execution_count": null,
      "outputs": []
    },
    {
      "cell_type": "markdown",
      "metadata": {
        "id": "VOghKaZ88Okt"
      },
      "source": [
        "**Let's test our recommendation algorithm!**\n",
        "We will run for $100$ timesteps, recommending one item to each online user."
      ]
    },
    {
      "cell_type": "code",
      "metadata": {
        "id": "afs0GS6gwp2Q"
      },
      "source": [
        "from tqdm import tqdm\n",
        "\n",
        "\"\"\"\n",
        "params:\n",
        "env - reclab environment.\n",
        "recommender - reclab recommender.\n",
        "steps - number of simulation iterations. in each step the recommender recommends items to online users and gets their true ratings.\n",
        "rpu - recommendations per user.\n",
        "retrain - retrain model after each step (True) or not (False).\n",
        "callbacks - a list of functions. each gets (env, recommender) as arguments. before every timestep all callbacks are invoked.\n",
        "reset - reset the environment and recommender at the beggining of the simulation (True) or not (False)\n",
        "\n",
        "return:\n",
        "a list of lists. Each list contains the return values of its corresponding callback for all timesteps.\n",
        "\"\"\"\n",
        "def simulation(env, recommender, steps=100, rpu=1, retrain=True, callbacks=None, reset=True):\n",
        "  if reset:\n",
        "    env.seed(0)\n",
        "    items, users, ratings = env.reset()\n",
        "    recommender.reset(items, users, ratings)\n",
        "\n",
        "  results = None\n",
        "  if callbacks is not None:\n",
        "    results = [[] for _ in callbacks]\n",
        "    \n",
        "  for i in tqdm(range(steps)):\n",
        "    if callbacks is not None:\n",
        "      for j, callback in enumerate(callbacks):\n",
        "        res = callback(env, recommender)\n",
        "        results[j].append(res)\n",
        "\n",
        "    online_users = env.online_users\n",
        "    recommendations, predicted_ratings = recommender.recommend(online_users, rpu)\n",
        "    _, _, ratings, _ = env.step(recommendations)\n",
        "\n",
        "    if retrain:\n",
        "      recommender.update(ratings=ratings)\n",
        "\n",
        "  return results"
      ],
      "execution_count": null,
      "outputs": []
    },
    {
      "cell_type": "code",
      "metadata": {
        "id": "_bXITr0yhs9V"
      },
      "source": [
        "# callbacks is a list of functions taking (environment, recommender) as arguments.\n",
        "# each callback will be called during the simulation before each timestep.\n",
        "callbacks = [RMSE]\n",
        "losses = simulation(env, recommender, steps=100, callbacks=callbacks)[0]"
      ],
      "execution_count": null,
      "outputs": []
    },
    {
      "cell_type": "markdown",
      "source": [
        "**Plotting the losses graph:**"
      ],
      "metadata": {
        "id": "koojN7pHbjDV"
      }
    },
    {
      "cell_type": "code",
      "metadata": {
        "id": "oP7-fyrE0PPU"
      },
      "source": [
        "import matplotlib.pyplot as plt\n",
        "%config InlineBackend.figure_format = 'retina'\n",
        "\n",
        "# This is an auxillery function that, given some lists of values, plots the values of each list as a function of the index of the values.\n",
        "def plot_graphs(*lists, title=r'recommendation model evaluation at different timesteps'):\n",
        "  fig,ax = plt.subplots()\n",
        "  for i,l in enumerate(lists):\n",
        "    ax.plot(\n",
        "        np.arange(len(l)),\n",
        "        l,\n",
        "        '.-',\n",
        "        label=str(i+1)\n",
        "    )\n",
        "  ax.set_xlabel(r'$timestep$')\n",
        "  ax.set_title(title)\n",
        "  ax.legend()\n",
        "\n",
        "  plt.show()"
      ],
      "execution_count": null,
      "outputs": []
    },
    {
      "cell_type": "code",
      "metadata": {
        "id": "ig-HfrrL_EB1"
      },
      "source": [
        "plot_graphs(losses, title=\"RMSE\")"
      ],
      "execution_count": null,
      "outputs": []
    },
    {
      "cell_type": "markdown",
      "metadata": {
        "id": "QUQcb6btBehd"
      },
      "source": [
        "In the workshop, we will explore these results in more detail."
      ]
    }
  ]
}