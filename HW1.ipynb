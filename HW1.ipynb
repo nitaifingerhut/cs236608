{
  "nbformat": 4,
  "nbformat_minor": 0,
  "metadata": {
    "colab": {
      "name": "HW1.ipynb",
      "provenance": [],
      "collapsed_sections": []
    },
    "kernelspec": {
      "name": "python3",
      "display_name": "Python 3"
    },
    "language_info": {
      "name": "python"
    },
    "widgets": {
      "application/vnd.jupyter.widget-state+json": {
        "278a154dbb0b47d6b21fdb1884ee5a14": {
          "model_module": "@jupyter-widgets/controls",
          "model_name": "HBoxModel",
          "model_module_version": "1.5.0",
          "state": {
            "_view_name": "HBoxView",
            "_dom_classes": [],
            "_model_name": "HBoxModel",
            "_view_module": "@jupyter-widgets/controls",
            "_model_module_version": "1.5.0",
            "_view_count": null,
            "_view_module_version": "1.5.0",
            "box_style": "",
            "layout": "IPY_MODEL_817a35e5e0904ef2ba4da92ff5a7c490",
            "_model_module": "@jupyter-widgets/controls",
            "children": [
              "IPY_MODEL_4532e31ea8b24d0e95f7196c6a2a49b7",
              "IPY_MODEL_ac1f7500d02045e18f20f320e2798493",
              "IPY_MODEL_de9d7ac7005a4e2ca742b63c5ceeeb2a"
            ]
          }
        },
        "817a35e5e0904ef2ba4da92ff5a7c490": {
          "model_module": "@jupyter-widgets/base",
          "model_name": "LayoutModel",
          "model_module_version": "1.2.0",
          "state": {
            "_view_name": "LayoutView",
            "grid_template_rows": null,
            "right": null,
            "justify_content": null,
            "_view_module": "@jupyter-widgets/base",
            "overflow": null,
            "_model_module_version": "1.2.0",
            "_view_count": null,
            "flex_flow": null,
            "width": null,
            "min_width": null,
            "border": null,
            "align_items": null,
            "bottom": null,
            "_model_module": "@jupyter-widgets/base",
            "top": null,
            "grid_column": null,
            "overflow_y": null,
            "overflow_x": null,
            "grid_auto_flow": null,
            "grid_area": null,
            "grid_template_columns": null,
            "flex": null,
            "_model_name": "LayoutModel",
            "justify_items": null,
            "grid_row": null,
            "max_height": null,
            "align_content": null,
            "visibility": null,
            "align_self": null,
            "height": null,
            "min_height": null,
            "padding": null,
            "grid_auto_rows": null,
            "grid_gap": null,
            "max_width": null,
            "order": null,
            "_view_module_version": "1.2.0",
            "grid_template_areas": null,
            "object_position": null,
            "object_fit": null,
            "grid_auto_columns": null,
            "margin": null,
            "display": null,
            "left": null
          }
        },
        "4532e31ea8b24d0e95f7196c6a2a49b7": {
          "model_module": "@jupyter-widgets/controls",
          "model_name": "HTMLModel",
          "model_module_version": "1.5.0",
          "state": {
            "_view_name": "HTMLView",
            "style": "IPY_MODEL_487f9bda64c24f448f09f6bbbc247201",
            "_dom_classes": [],
            "description": "",
            "_model_name": "HTMLModel",
            "placeholder": "​",
            "_view_module": "@jupyter-widgets/controls",
            "_model_module_version": "1.5.0",
            "value": "100%",
            "_view_count": null,
            "_view_module_version": "1.5.0",
            "description_tooltip": null,
            "_model_module": "@jupyter-widgets/controls",
            "layout": "IPY_MODEL_2eae7bacbd404cf489b6a47c376451ec"
          }
        },
        "ac1f7500d02045e18f20f320e2798493": {
          "model_module": "@jupyter-widgets/controls",
          "model_name": "FloatProgressModel",
          "model_module_version": "1.5.0",
          "state": {
            "_view_name": "ProgressView",
            "style": "IPY_MODEL_89f64e8b45fc439ba9069c8b3dbd9114",
            "_dom_classes": [],
            "description": "",
            "_model_name": "FloatProgressModel",
            "bar_style": "success",
            "max": 100,
            "_view_module": "@jupyter-widgets/controls",
            "_model_module_version": "1.5.0",
            "value": 100,
            "_view_count": null,
            "_view_module_version": "1.5.0",
            "orientation": "horizontal",
            "min": 0,
            "description_tooltip": null,
            "_model_module": "@jupyter-widgets/controls",
            "layout": "IPY_MODEL_ee6fc06611214622ade88f5f7d283cf4"
          }
        },
        "de9d7ac7005a4e2ca742b63c5ceeeb2a": {
          "model_module": "@jupyter-widgets/controls",
          "model_name": "HTMLModel",
          "model_module_version": "1.5.0",
          "state": {
            "_view_name": "HTMLView",
            "style": "IPY_MODEL_6940e31b61e8429c92c4613a177a8354",
            "_dom_classes": [],
            "description": "",
            "_model_name": "HTMLModel",
            "placeholder": "​",
            "_view_module": "@jupyter-widgets/controls",
            "_model_module_version": "1.5.0",
            "value": " 100/100 [00:52&lt;00:00,  1.89it/s]",
            "_view_count": null,
            "_view_module_version": "1.5.0",
            "description_tooltip": null,
            "_model_module": "@jupyter-widgets/controls",
            "layout": "IPY_MODEL_cbb5deeb1b3d4dae9281d1da4b6df403"
          }
        },
        "487f9bda64c24f448f09f6bbbc247201": {
          "model_module": "@jupyter-widgets/controls",
          "model_name": "DescriptionStyleModel",
          "model_module_version": "1.5.0",
          "state": {
            "_view_name": "StyleView",
            "_model_name": "DescriptionStyleModel",
            "description_width": "",
            "_view_module": "@jupyter-widgets/base",
            "_model_module_version": "1.5.0",
            "_view_count": null,
            "_view_module_version": "1.2.0",
            "_model_module": "@jupyter-widgets/controls"
          }
        },
        "2eae7bacbd404cf489b6a47c376451ec": {
          "model_module": "@jupyter-widgets/base",
          "model_name": "LayoutModel",
          "model_module_version": "1.2.0",
          "state": {
            "_view_name": "LayoutView",
            "grid_template_rows": null,
            "right": null,
            "justify_content": null,
            "_view_module": "@jupyter-widgets/base",
            "overflow": null,
            "_model_module_version": "1.2.0",
            "_view_count": null,
            "flex_flow": null,
            "width": null,
            "min_width": null,
            "border": null,
            "align_items": null,
            "bottom": null,
            "_model_module": "@jupyter-widgets/base",
            "top": null,
            "grid_column": null,
            "overflow_y": null,
            "overflow_x": null,
            "grid_auto_flow": null,
            "grid_area": null,
            "grid_template_columns": null,
            "flex": null,
            "_model_name": "LayoutModel",
            "justify_items": null,
            "grid_row": null,
            "max_height": null,
            "align_content": null,
            "visibility": null,
            "align_self": null,
            "height": null,
            "min_height": null,
            "padding": null,
            "grid_auto_rows": null,
            "grid_gap": null,
            "max_width": null,
            "order": null,
            "_view_module_version": "1.2.0",
            "grid_template_areas": null,
            "object_position": null,
            "object_fit": null,
            "grid_auto_columns": null,
            "margin": null,
            "display": null,
            "left": null
          }
        },
        "89f64e8b45fc439ba9069c8b3dbd9114": {
          "model_module": "@jupyter-widgets/controls",
          "model_name": "ProgressStyleModel",
          "model_module_version": "1.5.0",
          "state": {
            "_view_name": "StyleView",
            "_model_name": "ProgressStyleModel",
            "description_width": "",
            "_view_module": "@jupyter-widgets/base",
            "_model_module_version": "1.5.0",
            "_view_count": null,
            "_view_module_version": "1.2.0",
            "bar_color": null,
            "_model_module": "@jupyter-widgets/controls"
          }
        },
        "ee6fc06611214622ade88f5f7d283cf4": {
          "model_module": "@jupyter-widgets/base",
          "model_name": "LayoutModel",
          "model_module_version": "1.2.0",
          "state": {
            "_view_name": "LayoutView",
            "grid_template_rows": null,
            "right": null,
            "justify_content": null,
            "_view_module": "@jupyter-widgets/base",
            "overflow": null,
            "_model_module_version": "1.2.0",
            "_view_count": null,
            "flex_flow": null,
            "width": null,
            "min_width": null,
            "border": null,
            "align_items": null,
            "bottom": null,
            "_model_module": "@jupyter-widgets/base",
            "top": null,
            "grid_column": null,
            "overflow_y": null,
            "overflow_x": null,
            "grid_auto_flow": null,
            "grid_area": null,
            "grid_template_columns": null,
            "flex": null,
            "_model_name": "LayoutModel",
            "justify_items": null,
            "grid_row": null,
            "max_height": null,
            "align_content": null,
            "visibility": null,
            "align_self": null,
            "height": null,
            "min_height": null,
            "padding": null,
            "grid_auto_rows": null,
            "grid_gap": null,
            "max_width": null,
            "order": null,
            "_view_module_version": "1.2.0",
            "grid_template_areas": null,
            "object_position": null,
            "object_fit": null,
            "grid_auto_columns": null,
            "margin": null,
            "display": null,
            "left": null
          }
        },
        "6940e31b61e8429c92c4613a177a8354": {
          "model_module": "@jupyter-widgets/controls",
          "model_name": "DescriptionStyleModel",
          "model_module_version": "1.5.0",
          "state": {
            "_view_name": "StyleView",
            "_model_name": "DescriptionStyleModel",
            "description_width": "",
            "_view_module": "@jupyter-widgets/base",
            "_model_module_version": "1.5.0",
            "_view_count": null,
            "_view_module_version": "1.2.0",
            "_model_module": "@jupyter-widgets/controls"
          }
        },
        "cbb5deeb1b3d4dae9281d1da4b6df403": {
          "model_module": "@jupyter-widgets/base",
          "model_name": "LayoutModel",
          "model_module_version": "1.2.0",
          "state": {
            "_view_name": "LayoutView",
            "grid_template_rows": null,
            "right": null,
            "justify_content": null,
            "_view_module": "@jupyter-widgets/base",
            "overflow": null,
            "_model_module_version": "1.2.0",
            "_view_count": null,
            "flex_flow": null,
            "width": null,
            "min_width": null,
            "border": null,
            "align_items": null,
            "bottom": null,
            "_model_module": "@jupyter-widgets/base",
            "top": null,
            "grid_column": null,
            "overflow_y": null,
            "overflow_x": null,
            "grid_auto_flow": null,
            "grid_area": null,
            "grid_template_columns": null,
            "flex": null,
            "_model_name": "LayoutModel",
            "justify_items": null,
            "grid_row": null,
            "max_height": null,
            "align_content": null,
            "visibility": null,
            "align_self": null,
            "height": null,
            "min_height": null,
            "padding": null,
            "grid_auto_rows": null,
            "grid_gap": null,
            "max_width": null,
            "order": null,
            "_view_module_version": "1.2.0",
            "grid_template_areas": null,
            "object_position": null,
            "object_fit": null,
            "grid_auto_columns": null,
            "margin": null,
            "display": null,
            "left": null
          }
        }
      }
    }
  },
  "cells": [
    {
      "cell_type": "markdown",
      "metadata": {
        "id": "J7ZrCcoOMEad"
      },
      "source": [
        "IDs:\n",
        "* 302919402\n",
        "*204030720"
      ]
    },
    {
      "cell_type": "markdown",
      "metadata": {
        "id": "XZ8O1MKGeH0T"
      },
      "source": [
        "# Introduction"
      ]
    },
    {
      "cell_type": "markdown",
      "metadata": {
        "id": "Wsbo8ifteUpZ"
      },
      "source": [
        "In our setting users make a binary decision of whether or not to consume an item. Each item is represented by a vector $x\\in\\mathbb{R}^n$, and the outcome is represented using binary variable $y\\in\\left\\{-1,1\\right\\}$, such that $y=1$ when the item was consumed. "
      ]
    },
    {
      "cell_type": "markdown",
      "metadata": {
        "id": "l4tGDh0JCXcX"
      },
      "source": [
        "For the implementation of behavioral bias models, we define the following abstract class:"
      ]
    },
    {
      "cell_type": "code",
      "metadata": {
        "id": "6ek1dYG9CZrG"
      },
      "source": [
        "import abc\n",
        "\n",
        "class UserModel(abc.ABC):\n",
        "  @abc.abstractclassmethod\n",
        "  def __call__(self, X, *args):\n",
        "    '''\n",
        "    Given items X, calculate the user's valuation v(x) for each item x\n",
        "    '''\n",
        "    raise NotImplementedError()\n",
        "  \n",
        "  def predict(self, X, *args):\n",
        "    '''\n",
        "    Given items X, calculate the user's preference (-1/1) for each item x\n",
        "    '''\n",
        "    raise NotImplementedError()\n",
        "\n",
        "\n",
        "class PopulationModel(abc.ABC):\n",
        "  @abc.abstractclassmethod\n",
        "  def __call__(self, X, *args):\n",
        "    '''\n",
        "    Given items X, calculate each user's valuation v(x) for each item x\n",
        "    '''\n",
        "    raise NotImplementedError()\n",
        "  \n",
        "  def predict(self, X, *args):\n",
        "    '''\n",
        "    Given items X, calculate each user's preference y for each item x\n",
        "    '''\n",
        "    raise NotImplementedError()\n"
      ],
      "execution_count": null,
      "outputs": []
    },
    {
      "cell_type": "markdown",
      "metadata": {
        "id": "8o4nN3RNCPBg"
      },
      "source": [
        "## **A simple example**"
      ]
    },
    {
      "cell_type": "markdown",
      "metadata": {
        "id": "I2PoFBaSCab8"
      },
      "source": [
        "**Create a user model**"
      ]
    },
    {
      "cell_type": "code",
      "metadata": {
        "id": "As_I5sNbCcUw"
      },
      "source": [
        "import numpy as np\n",
        "\n",
        "class NoiseUserModel(UserModel):\n",
        "  \"\"\"\n",
        "  v(x) = u*x + noise\n",
        "  for a randomly generated u vector\n",
        "  \"\"\"\n",
        "\n",
        "  def __init__(self, num_features):\n",
        "    self.num_features = num_features\n",
        "    self.utility_vec = np.random.randn(num_features)\n",
        "\n",
        "  def __call__(self, X, noise_std):\n",
        "    noise = noise_std * np.random.randn(X.shape[0])\n",
        "    return X @ self.utility_vec + noise\n",
        "  \n",
        "  def predict(self, X, noise_std):\n",
        "    return np.sign(self(X, noise_std))"
      ],
      "execution_count": null,
      "outputs": []
    },
    {
      "cell_type": "markdown",
      "metadata": {
        "id": "C1iD-Bx5A8Sm"
      },
      "source": [
        "**Create a population model**"
      ]
    },
    {
      "cell_type": "code",
      "metadata": {
        "id": "XIr71iiXBBRq"
      },
      "source": [
        "class NoisePopulationModel(PopulationModel):\n",
        "  \"\"\"\n",
        "  aggregates a population of users into a population model \n",
        "  \"\"\"\n",
        "\n",
        "  def __init__(self, num_users, num_features):\n",
        "    self.user_models = [NoiseUserModel(num_features) for i in range(num_users)]\n",
        "\n",
        "  def __call__(self, X, noise_std):\n",
        "    \"\"\"\n",
        "    returns a matrix of size (number of items X number of uesrs)\n",
        "    \"\"\"\n",
        "    return np.array([m(X, noise_std) for m in self.user_models]).T\n",
        "  \n",
        "  def predict(self, X, noise_std):\n",
        "    return np.sign(self(X, noise_std))"
      ],
      "execution_count": null,
      "outputs": []
    },
    {
      "cell_type": "markdown",
      "metadata": {
        "id": "ay9_hKBOlE_0"
      },
      "source": [
        "**Load dataset**"
      ]
    },
    {
      "cell_type": "code",
      "metadata": {
        "id": "SwUzX-GKeHUl"
      },
      "source": [
        "def generate_synth_data(num_features, num_items):\n",
        "  \"\"\"\n",
        "  Generates a random dataset of items of size (num_items X num_features)\n",
        "  \"\"\"\n",
        "  items = np.random.randn(num_items, num_features)\n",
        "  return items"
      ],
      "execution_count": null,
      "outputs": []
    },
    {
      "cell_type": "code",
      "metadata": {
        "id": "HyX_Bb8IKoHa"
      },
      "source": [
        "num_features = 3\n",
        "num_items = 100\n",
        "num_users = 10\n",
        "\n",
        "# Create a population model\n",
        "population_model = NoisePopulationModel(num_users, num_features)\n",
        "\n",
        "# Generate items\n",
        "X = generate_synth_data(num_features, num_items)\n",
        "args = {\"noise_std\":0.5}\n",
        "\n",
        "# calculate users preferences according to the model\n",
        "y = population_model.predict(X, **args)"
      ],
      "execution_count": null,
      "outputs": []
    },
    {
      "cell_type": "markdown",
      "metadata": {
        "id": "qWik4S0EJLDj"
      },
      "source": [
        "**Create a training pipeline**"
      ]
    },
    {
      "cell_type": "code",
      "metadata": {
        "id": "TBj445OHJSAY"
      },
      "source": [
        "from sklearn.model_selection import train_test_split\n",
        "\n",
        "class TrainingPipeline():\n",
        "  def __init__(self, training_model, metrics, test_size=0.33,\n",
        "               seed=0):\n",
        "    \"\"\"\n",
        "    training_model: a scikit training model\n",
        "    metrics: a dictionary of metric functions (values) and their names (keys).\n",
        "    each one takes (training_model, population_model, model_args, X) as arguments.\n",
        "    \"\"\"\n",
        "    self.training_model = training_model\n",
        "    self.metrics = metrics\n",
        "    self.test_size = test_size\n",
        "    self.seed = seed\n",
        "\n",
        "  # Splits the data into train and test sets\n",
        "  def split(self, X, y):\n",
        "    return train_test_split(X, y, test_size=self.test_size, random_state=self.seed)\n",
        "\n",
        "  # train the model on the train dataset\n",
        "  def fit(self, X_train, y_train):\n",
        "    self.training_model.fit(X_train, y_train)\n",
        "\n",
        "  # activate each metric on the the test set\n",
        "  def evaluate(self, population_model, model_args, X_test):\n",
        "    if model_args is None:\n",
        "      model_args = {}\n",
        "    return {name : metric(self.training_model, population_model, model_args, X_test) for name, metric in\n",
        "            metrics.items()}\n",
        "\n",
        "  # Split, fit and evaluate\n",
        "  def __call__(self, X, y, population_model, model_args=None):\n",
        "    \"\"\"\n",
        "    Calls split, then trains the model and then evaluates it according to each metric \n",
        "    \"\"\"\n",
        "    X_train, X_test, y_train, y_test = self.split(X, y)\n",
        "    self.fit(X_train, y_train)\n",
        "    return self.evaluate(population_model, model_args, X_test)"
      ],
      "execution_count": null,
      "outputs": []
    },
    {
      "cell_type": "markdown",
      "metadata": {
        "id": "su5OWdC6Me8Q"
      },
      "source": [
        "**Create some evaluation metrics**"
      ]
    },
    {
      "cell_type": "code",
      "metadata": {
        "id": "3cOCFJrRMjiI"
      },
      "source": [
        "from sklearn.metrics import accuracy_score\n",
        "\n",
        "# calculates the accuracy of the training_model\n",
        "def accuracy(training_model, population_model, model_args, X):\n",
        "  true_valuations = population_model(X, **model_args)\n",
        "  pred_valuations = training_model.predict(X)\n",
        "\n",
        "  return accuracy_score(np.sign(true_valuations).flatten(),\n",
        "                        np.sign(pred_valuations).flatten())"
      ],
      "execution_count": null,
      "outputs": []
    },
    {
      "cell_type": "markdown",
      "metadata": {
        "id": "8zZmNJKAOTZo"
      },
      "source": [
        "**Train!**"
      ]
    },
    {
      "cell_type": "code",
      "metadata": {
        "id": "qFSbJVMFOcty",
        "colab": {
          "base_uri": "https://localhost:8080/"
        },
        "outputId": "a5b85d34-cd5c-4380-cb2c-5e97d52c7620"
      },
      "source": [
        "from sklearn.linear_model import LinearRegression, LogisticRegression\n",
        "from sklearn.multioutput import MultiOutputClassifier\n",
        "\n",
        "# Create linear regression object\n",
        "training_model = LinearRegression()\n",
        "\n",
        "# Create metrics list\n",
        "metrics = {\"accuracy\" : accuracy}\n",
        "\n",
        "# Create pipeline\n",
        "t = TrainingPipeline(training_model, metrics)\n",
        "\n",
        "# Train and evaluate\n",
        "args = {\"noise_std\": 0.5}\n",
        "results = t(X, y, population_model, args)\n",
        "results"
      ],
      "execution_count": null,
      "outputs": [
        {
          "output_type": "execute_result",
          "data": {
            "text/plain": [
              "{'accuracy': 0.8939393939393939}"
            ]
          },
          "metadata": {},
          "execution_count": 8
        }
      ]
    },
    {
      "cell_type": "markdown",
      "metadata": {
        "id": "-StWtlkiMVE5"
      },
      "source": [
        "**Q3:**"
      ]
    },
    {
      "cell_type": "code",
      "metadata": {
        "id": "k7EhIWVbMb7A"
      },
      "source": [
        "import numpy as np\n",
        "\n",
        "\n",
        "def sigmoid(x):\n",
        "  return 1 / (1 + np.exp(-x))\n",
        "\n",
        "\n",
        "class SigmoidUserModel(UserModel):\n",
        "  \"\"\"\n",
        "  v(x) = sigmoid(u*x) - 0.5\n",
        "  for a randomly generated u vector\n",
        "  \"\"\"\n",
        "  def __init__(self, num_features, valuation_bias: float = 0.5):\n",
        "    self.num_features = num_features\n",
        "    self.utility_vec = np.random.randn(num_features)\n",
        "    self.valuation_bias = valuation_bias\n",
        "  \n",
        "  def __call__(self, X):\n",
        "    return sigmoid(X @ self.utility_vec) - self.valuation_bias\n",
        "  \n",
        "  def predict(self, X):\n",
        "    return np.sign(self(X))"
      ],
      "execution_count": null,
      "outputs": []
    },
    {
      "cell_type": "code",
      "metadata": {
        "id": "zfGgmd0rNOfL"
      },
      "source": [
        "class SigmoidPopulationModel(PopulationModel):\n",
        "  \"\"\"\n",
        "  aggregates a population of users into a population model \n",
        "  \"\"\"\n",
        "  def __init__(self, num_users, num_features):\n",
        "    self.user_models = [SigmoidUserModel(num_features) for i in range(num_users)]\n",
        "\n",
        "  def __call__(self, X):\n",
        "    \"\"\"\n",
        "    returns a matrix of size (number of items X number of uesrs)\n",
        "    \"\"\"\n",
        "    return np.array([m(X) for m in self.user_models]).T\n",
        "  \n",
        "  def predict(self, X):\n",
        "    return np.sign(self(X))"
      ],
      "execution_count": null,
      "outputs": []
    },
    {
      "cell_type": "markdown",
      "metadata": {
        "id": "wNeuWTvZN0ba"
      },
      "source": [
        "**Q4:**"
      ]
    },
    {
      "cell_type": "code",
      "metadata": {
        "id": "YVPfvd3ON4hy"
      },
      "source": [
        "num_features = 3\n",
        "num_items = 1000\n",
        "num_users = 100\n",
        "\n",
        "# Create a population model\n",
        "sig_population_model = SigmoidPopulationModel(num_users, num_features)\n",
        "\n",
        "# Generate items\n",
        "X = generate_synth_data(num_features, num_items)\n",
        "args = {}\n",
        "\n",
        "# calculate users preferences according to the model\n",
        "sig_y = sig_population_model.predict(X, **args)"
      ],
      "execution_count": null,
      "outputs": []
    },
    {
      "cell_type": "code",
      "metadata": {
        "colab": {
          "base_uri": "https://localhost:8080/"
        },
        "id": "e1WSEHawOL6Y",
        "outputId": "837177ec-b819-4e58-eefc-3b5548533e23"
      },
      "source": [
        "from sklearn.linear_model import LinearRegression, LogisticRegression\n",
        "from sklearn.multioutput import MultiOutputClassifier\n",
        "\n",
        "# Create linear regression object\n",
        "lin_training_model = LinearRegression()\n",
        "\n",
        "# Create metrics list\n",
        "metrics = {\"accuracy\" : accuracy}\n",
        "\n",
        "# Create pipeline\n",
        "lin_t = TrainingPipeline(lin_training_model, metrics)\n",
        "\n",
        "# Train and evaluate\n",
        "args = {}\n",
        "results = lin_t(X, sig_y, sig_population_model, args)\n",
        "results"
      ],
      "execution_count": null,
      "outputs": [
        {
          "output_type": "execute_result",
          "data": {
            "text/plain": [
              "{'accuracy': 0.984030303030303}"
            ]
          },
          "metadata": {},
          "execution_count": 12
        }
      ]
    },
    {
      "cell_type": "markdown",
      "metadata": {
        "id": "FAIZI7tNPXHk"
      },
      "source": [
        "**Q5:**"
      ]
    },
    {
      "cell_type": "code",
      "metadata": {
        "colab": {
          "base_uri": "https://localhost:8080/"
        },
        "id": "6NnRDzp_PY5Y",
        "outputId": "de9d11a2-3db8-4d4b-f9ed-339e60ad3a49"
      },
      "source": [
        "from sklearn.linear_model import LinearRegression, LogisticRegression\n",
        "from sklearn.multioutput import MultiOutputClassifier\n",
        "\n",
        "# Create linear regression object\n",
        "log_training_model = MultiOutputClassifier(LogisticRegression())\n",
        "\n",
        "# Create metrics list\n",
        "metrics = {\"accuracy\" : accuracy}\n",
        "\n",
        "# Create pipeline\n",
        "log_t = TrainingPipeline(log_training_model, metrics)\n",
        "\n",
        "# Train and evaluate\n",
        "args = {}\n",
        "results = log_t(X, sig_y, sig_population_model, args)\n",
        "results"
      ],
      "execution_count": null,
      "outputs": [
        {
          "output_type": "execute_result",
          "data": {
            "text/plain": [
              "{'accuracy': 0.9922727272727273}"
            ]
          },
          "metadata": {},
          "execution_count": 13
        }
      ]
    },
    {
      "cell_type": "markdown",
      "metadata": {
        "id": "fFkLaR1ZVSe8"
      },
      "source": [
        "**Q6:**"
      ]
    },
    {
      "cell_type": "code",
      "metadata": {
        "colab": {
          "base_uri": "https://localhost:8080/",
          "height": 534,
          "referenced_widgets": [
            "278a154dbb0b47d6b21fdb1884ee5a14",
            "817a35e5e0904ef2ba4da92ff5a7c490",
            "4532e31ea8b24d0e95f7196c6a2a49b7",
            "ac1f7500d02045e18f20f320e2798493",
            "de9d7ac7005a4e2ca742b63c5ceeeb2a",
            "487f9bda64c24f448f09f6bbbc247201",
            "2eae7bacbd404cf489b6a47c376451ec",
            "89f64e8b45fc439ba9069c8b3dbd9114",
            "ee6fc06611214622ade88f5f7d283cf4",
            "6940e31b61e8429c92c4613a177a8354",
            "cbb5deeb1b3d4dae9281d1da4b6df403"
          ]
        },
        "id": "MOnXRcZESQ0_",
        "outputId": "a40e1a5f-41dd-4bf8-9989-d0ed6588e361"
      },
      "source": [
        "import matplotlib.pyplot as plt\n",
        "import seaborn as sns\n",
        "\n",
        "%matplotlib inline\n",
        "sns.set()\n",
        "\n",
        "from tqdm.notebook import tqdm\n",
        "\n",
        "\n",
        "num_features = 3\n",
        "num_items = 1000\n",
        "num_users = 100\n",
        "\n",
        "lin_results = []\n",
        "log_results = []\n",
        "lin_running_mean = []\n",
        "log_running_mean = []\n",
        "\n",
        "for i in tqdm(range(100)):\n",
        "  # Create a population model\n",
        "  sig_population_model = SigmoidPopulationModel(num_users, num_features)\n",
        "\n",
        "  # Generate items\n",
        "  X = generate_synth_data(num_features, num_items)\n",
        "  args = {}\n",
        "\n",
        "  # calculate users preferences according to the model\n",
        "  sig_y = sig_population_model.predict(X, **args)\n",
        "\n",
        "  # Train and evaluate\n",
        "  args = {}\n",
        "  lin_results.append(lin_t(X, sig_y, sig_population_model, {})['accuracy'])\n",
        "  lin_running_mean.append(sum(lin_results) / len(lin_results))\n",
        "\n",
        "  # Train and evaluate\n",
        "  args = {}\n",
        "  log_results.append(log_t(X, sig_y, sig_population_model, {})['accuracy'])\n",
        "  log_running_mean.append(sum(log_results) / len(log_results))\n",
        "\n",
        "fig, ax = plt.subplots(figsize=(16, 8))\n",
        "ax.plot(lin_results, label='linear regression')\n",
        "ax.plot(lin_running_mean, label='linear regression - running mean')\n",
        "ax.plot(log_results, label='logistic regression')\n",
        "ax.plot(log_running_mean, label='logistic regression - running mean')\n",
        "ax.legend(loc='upper center', bbox_to_anchor=(0.5, 1.05), ncol=4, fancybox=True, shadow=True)\n",
        "plt.show()"
      ],
      "execution_count": null,
      "outputs": [
        {
          "output_type": "display_data",
          "data": {
            "application/vnd.jupyter.widget-view+json": {
              "model_id": "278a154dbb0b47d6b21fdb1884ee5a14",
              "version_minor": 0,
              "version_major": 2
            },
            "text/plain": [
              "  0%|          | 0/100 [00:00<?, ?it/s]"
            ]
          },
          "metadata": {}
        },
        {
          "output_type": "display_data",
          "data": {
            "image/png": "[encoded data removed]",
            "text/plain": [
              "<Figure size 1152x576 with 1 Axes>"
            ]
          },
          "metadata": {}
        }
      ]
    },
    {
      "cell_type": "markdown",
      "metadata": {
        "id": "jOZhWzpwZQJs"
      },
      "source": [
        "**Q7:**"
      ]
    },
    {
      "cell_type": "markdown",
      "metadata": {
        "id": "QUdhn5AXZYZ4"
      },
      "source": [
        "We observe that the Logistic Regression model achieves approx. 1% better accuracy compared to the sign(Linear Regression) model. This happens because Logistic Regression is more suited for classification problems than Linear Regression (which is preferable for regression problems).\n",
        "\n",
        "Linear regression uses OLS (ordinary least squares), while logistic regression uses MLE (maximum likelihood). This lead to the desired behavior for the classification task;\n",
        "Linear regression quadratically penalizes outliers, and heavily affected y them, while Logistic regression penalizes large errors just by an asymptotically constant. \n",
        "e.g: applying Linear/Logistic regression for the categorical prediction {-1, 1} and assuming the model predicted 100: Linear regression will try to reduce the outcome towards 1, while Logistic regression would do it with far less strictness. \n",
        "\n",
        "The first population model (NoisePopulationModel) was (noisy) linear, hence the linear regression model could approximate it properly. However, the second population model (SigmoidPopulationModel) was not linear (sigmoid), thus the Linear regression predictive model performed worse than the Logistic regression predictive model.\n"
      ]
    },
    {
      "cell_type": "markdown",
      "metadata": {
        "id": "C1mm8hAMakGW"
      },
      "source": [
        "**Q8:**"
      ]
    },
    {
      "cell_type": "code",
      "metadata": {
        "colab": {
          "base_uri": "https://localhost:8080/"
        },
        "id": "2o07oYFYZo_Q",
        "outputId": "c2363a3c-b792-48b7-dc83-223700a65e47"
      },
      "source": [
        "def welfare(training_model, population_model, model_args, X):\n",
        "  U = len(population_model.user_models)\n",
        "  f = training_model.predict(X)\n",
        "  sign = np.sign(f)\n",
        "  I = (sign == 1).astype(np.int)\n",
        "  v = population_model(X)\n",
        "  welfare = np.sum(I*v)/U\n",
        "\n",
        "  return welfare\n",
        "\n",
        "print(welfare(lin_training_model, sig_population_model, {}, X))\n",
        "print(welfare(log_training_model, sig_population_model, {}, X))"
      ],
      "execution_count": null,
      "outputs": [
        {
          "output_type": "stream",
          "name": "stdout",
          "text": [
            "113.41368457427897\n",
            "113.53669029863826\n"
          ]
        }
      ]
    },
    {
      "cell_type": "markdown",
      "metadata": {
        "id": "WSmu3FzBesVn"
      },
      "source": [
        "**Q9:**"
      ]
    },
    {
      "cell_type": "code",
      "metadata": {
        "colab": {
          "base_uri": "https://localhost:8080/"
        },
        "id": "uwpXGHrfbkft",
        "outputId": "295b9188-0c89-484c-9d70-1f8e48e0ad5d"
      },
      "source": [
        "def MSE(training_model, population_model, model_args, X):\n",
        "  U = len(population_model.user_models)\n",
        "  M = X.shape[0]\n",
        "  f = training_model.predict(X)\n",
        "  v = population_model(X)\n",
        "  MSE = np.sum((f-v)**2)*(1/(U*M))\n",
        "  return MSE\n",
        "\n",
        "print(MSE(lin_training_model, sig_population_model, {}, X))\n",
        "print(MSE(log_training_model, sig_population_model, {}, X))"
      ],
      "execution_count": null,
      "outputs": [
        {
          "output_type": "stream",
          "name": "stdout",
          "text": [
            "0.2995504484351881\n",
            "0.6163860262849952\n"
          ]
        }
      ]
    }
  ]
}