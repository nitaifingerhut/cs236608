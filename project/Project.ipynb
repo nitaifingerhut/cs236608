{
  "nbformat": 4,
  "nbformat_minor": 0,
  "metadata": {
    "colab": {
      "name": "Project.ipynb",
      "provenance": [],
      "include_colab_link": true
    },
    "kernelspec": {
      "name": "python3",
      "display_name": "Python 3"
    },
    "language_info": {
      "name": "python"
    }
  },
  "cells": [
    {
      "cell_type": "markdown",
      "metadata": {
        "id": "view-in-github",
        "colab_type": "text"
      },
      "source": [
        "<a href=\"https://colab.research.google.com/github/nitaifingerhut/cs236608/blob/master/project/Project.ipynb\" target=\"_parent\"><img src=\"https://colab.research.google.com/assets/colab-badge.svg\" alt=\"Open In Colab\"/></a>"
      ]
    },
    {
      "cell_type": "code",
      "execution_count": 1,
      "metadata": {
        "id": "etFtVT1btVG_",
        "outputId": "c9c425c2-fb66-4491-8863-5a4a7073b7a0",
        "colab": {
          "base_uri": "https://localhost:8080/"
        }
      },
      "outputs": [
        {
          "output_type": "stream",
          "name": "stdout",
          "text": [
            "Collecting pybind11\n",
            "  Downloading pybind11-2.9.1-py2.py3-none-any.whl (211 kB)\n",
            "\u001b[?25l\r\u001b[K     |█▌                              | 10 kB 18.6 MB/s eta 0:00:01\r\u001b[K     |███                             | 20 kB 22.0 MB/s eta 0:00:01\r\u001b[K     |████▋                           | 30 kB 25.6 MB/s eta 0:00:01\r\u001b[K     |██████▏                         | 40 kB 26.4 MB/s eta 0:00:01\r\u001b[K     |███████▊                        | 51 kB 18.7 MB/s eta 0:00:01\r\u001b[K     |█████████▎                      | 61 kB 16.1 MB/s eta 0:00:01\r\u001b[K     |██████████▉                     | 71 kB 15.2 MB/s eta 0:00:01\r\u001b[K     |████████████▍                   | 81 kB 16.6 MB/s eta 0:00:01\r\u001b[K     |██████████████                  | 92 kB 16.6 MB/s eta 0:00:01\r\u001b[K     |███████████████▌                | 102 kB 15.9 MB/s eta 0:00:01\r\u001b[K     |█████████████████               | 112 kB 15.9 MB/s eta 0:00:01\r\u001b[K     |██████████████████▋             | 122 kB 15.9 MB/s eta 0:00:01\r\u001b[K     |████████████████████▏           | 133 kB 15.9 MB/s eta 0:00:01\r\u001b[K     |█████████████████████▊          | 143 kB 15.9 MB/s eta 0:00:01\r\u001b[K     |███████████████████████▎        | 153 kB 15.9 MB/s eta 0:00:01\r\u001b[K     |████████████████████████▉       | 163 kB 15.9 MB/s eta 0:00:01\r\u001b[K     |██████████████████████████▍     | 174 kB 15.9 MB/s eta 0:00:01\r\u001b[K     |████████████████████████████    | 184 kB 15.9 MB/s eta 0:00:01\r\u001b[K     |█████████████████████████████▌  | 194 kB 15.9 MB/s eta 0:00:01\r\u001b[K     |███████████████████████████████ | 204 kB 15.9 MB/s eta 0:00:01\r\u001b[K     |████████████████████████████████| 211 kB 15.9 MB/s \n",
            "\u001b[?25hInstalling collected packages: pybind11\n",
            "Successfully installed pybind11-2.9.1\n",
            "Collecting reclab[recommenders]\n",
            "  Downloading RecLab-0.1.2.tar.gz (45 kB)\n",
            "\u001b[K     |████████████████████████████████| 45 kB 1.9 MB/s \n",
            "\u001b[?25hRequirement already satisfied: numpy>=1.19.0 in /usr/local/lib/python3.7/dist-packages (from reclab[recommenders]) (1.19.5)\n",
            "Requirement already satisfied: pandas>=1.0.5 in /usr/local/lib/python3.7/dist-packages (from reclab[recommenders]) (1.3.5)\n",
            "Requirement already satisfied: scipy>=1.4.1 in /usr/local/lib/python3.7/dist-packages (from reclab[recommenders]) (1.4.1)\n",
            "Requirement already satisfied: keras>=2.4.3 in /usr/local/lib/python3.7/dist-packages (from reclab[recommenders]) (2.7.0)\n",
            "Requirement already satisfied: scikit-learn>=0.23.1 in /usr/local/lib/python3.7/dist-packages (from reclab[recommenders]) (1.0.2)\n",
            "Requirement already satisfied: tensorflow>=2.2.0 in /usr/local/lib/python3.7/dist-packages (from reclab[recommenders]) (2.7.0)\n",
            "Requirement already satisfied: torch>=1.5.1 in /usr/local/lib/python3.7/dist-packages (from reclab[recommenders]) (1.10.0+cu111)\n",
            "Collecting wpyfm>=0.1.9\n",
            "  Downloading wpyfm-0.1.9.tar.gz (824 kB)\n",
            "\u001b[K     |████████████████████████████████| 824 kB 21.5 MB/s \n",
            "\u001b[?25hRequirement already satisfied: python-dateutil>=2.7.3 in /usr/local/lib/python3.7/dist-packages (from pandas>=1.0.5->reclab[recommenders]) (2.8.2)\n",
            "Requirement already satisfied: pytz>=2017.3 in /usr/local/lib/python3.7/dist-packages (from pandas>=1.0.5->reclab[recommenders]) (2018.9)\n",
            "Requirement already satisfied: six>=1.5 in /usr/local/lib/python3.7/dist-packages (from python-dateutil>=2.7.3->pandas>=1.0.5->reclab[recommenders]) (1.15.0)\n",
            "Requirement already satisfied: joblib>=0.11 in /usr/local/lib/python3.7/dist-packages (from scikit-learn>=0.23.1->reclab[recommenders]) (1.1.0)\n",
            "Requirement already satisfied: threadpoolctl>=2.0.0 in /usr/local/lib/python3.7/dist-packages (from scikit-learn>=0.23.1->reclab[recommenders]) (3.1.0)\n",
            "Requirement already satisfied: wrapt>=1.11.0 in /usr/local/lib/python3.7/dist-packages (from tensorflow>=2.2.0->reclab[recommenders]) (1.13.3)\n",
            "Requirement already satisfied: typing-extensions>=3.6.6 in /usr/local/lib/python3.7/dist-packages (from tensorflow>=2.2.0->reclab[recommenders]) (3.10.0.2)\n",
            "Requirement already satisfied: gast<0.5.0,>=0.2.1 in /usr/local/lib/python3.7/dist-packages (from tensorflow>=2.2.0->reclab[recommenders]) (0.4.0)\n",
            "Requirement already satisfied: grpcio<2.0,>=1.24.3 in /usr/local/lib/python3.7/dist-packages (from tensorflow>=2.2.0->reclab[recommenders]) (1.43.0)\n",
            "Requirement already satisfied: keras-preprocessing>=1.1.1 in /usr/local/lib/python3.7/dist-packages (from tensorflow>=2.2.0->reclab[recommenders]) (1.1.2)\n",
            "Requirement already satisfied: tensorflow-estimator<2.8,~=2.7.0rc0 in /usr/local/lib/python3.7/dist-packages (from tensorflow>=2.2.0->reclab[recommenders]) (2.7.0)\n",
            "Requirement already satisfied: termcolor>=1.1.0 in /usr/local/lib/python3.7/dist-packages (from tensorflow>=2.2.0->reclab[recommenders]) (1.1.0)\n",
            "Requirement already satisfied: protobuf>=3.9.2 in /usr/local/lib/python3.7/dist-packages (from tensorflow>=2.2.0->reclab[recommenders]) (3.17.3)\n",
            "Requirement already satisfied: absl-py>=0.4.0 in /usr/local/lib/python3.7/dist-packages (from tensorflow>=2.2.0->reclab[recommenders]) (1.0.0)\n",
            "Requirement already satisfied: opt-einsum>=2.3.2 in /usr/local/lib/python3.7/dist-packages (from tensorflow>=2.2.0->reclab[recommenders]) (3.3.0)\n",
            "Requirement already satisfied: libclang>=9.0.1 in /usr/local/lib/python3.7/dist-packages (from tensorflow>=2.2.0->reclab[recommenders]) (13.0.0)\n",
            "Requirement already satisfied: google-pasta>=0.1.1 in /usr/local/lib/python3.7/dist-packages (from tensorflow>=2.2.0->reclab[recommenders]) (0.2.0)\n",
            "Requirement already satisfied: tensorflow-io-gcs-filesystem>=0.21.0 in /usr/local/lib/python3.7/dist-packages (from tensorflow>=2.2.0->reclab[recommenders]) (0.23.1)\n",
            "Requirement already satisfied: wheel<1.0,>=0.32.0 in /usr/local/lib/python3.7/dist-packages (from tensorflow>=2.2.0->reclab[recommenders]) (0.37.1)\n",
            "Requirement already satisfied: h5py>=2.9.0 in /usr/local/lib/python3.7/dist-packages (from tensorflow>=2.2.0->reclab[recommenders]) (3.1.0)\n",
            "Requirement already satisfied: astunparse>=1.6.0 in /usr/local/lib/python3.7/dist-packages (from tensorflow>=2.2.0->reclab[recommenders]) (1.6.3)\n",
            "Requirement already satisfied: tensorboard~=2.6 in /usr/local/lib/python3.7/dist-packages (from tensorflow>=2.2.0->reclab[recommenders]) (2.7.0)\n",
            "Requirement already satisfied: flatbuffers<3.0,>=1.12 in /usr/local/lib/python3.7/dist-packages (from tensorflow>=2.2.0->reclab[recommenders]) (2.0)\n",
            "Requirement already satisfied: cached-property in /usr/local/lib/python3.7/dist-packages (from h5py>=2.9.0->tensorflow>=2.2.0->reclab[recommenders]) (1.5.2)\n",
            "Requirement already satisfied: google-auth<3,>=1.6.3 in /usr/local/lib/python3.7/dist-packages (from tensorboard~=2.6->tensorflow>=2.2.0->reclab[recommenders]) (1.35.0)\n",
            "Requirement already satisfied: google-auth-oauthlib<0.5,>=0.4.1 in /usr/local/lib/python3.7/dist-packages (from tensorboard~=2.6->tensorflow>=2.2.0->reclab[recommenders]) (0.4.6)\n",
            "Requirement already satisfied: werkzeug>=0.11.15 in /usr/local/lib/python3.7/dist-packages (from tensorboard~=2.6->tensorflow>=2.2.0->reclab[recommenders]) (1.0.1)\n",
            "Requirement already satisfied: tensorboard-plugin-wit>=1.6.0 in /usr/local/lib/python3.7/dist-packages (from tensorboard~=2.6->tensorflow>=2.2.0->reclab[recommenders]) (1.8.1)\n",
            "Requirement already satisfied: markdown>=2.6.8 in /usr/local/lib/python3.7/dist-packages (from tensorboard~=2.6->tensorflow>=2.2.0->reclab[recommenders]) (3.3.6)\n",
            "Requirement already satisfied: requests<3,>=2.21.0 in /usr/local/lib/python3.7/dist-packages (from tensorboard~=2.6->tensorflow>=2.2.0->reclab[recommenders]) (2.23.0)\n",
            "Requirement already satisfied: tensorboard-data-server<0.7.0,>=0.6.0 in /usr/local/lib/python3.7/dist-packages (from tensorboard~=2.6->tensorflow>=2.2.0->reclab[recommenders]) (0.6.1)\n",
            "Requirement already satisfied: setuptools>=41.0.0 in /usr/local/lib/python3.7/dist-packages (from tensorboard~=2.6->tensorflow>=2.2.0->reclab[recommenders]) (57.4.0)\n",
            "Requirement already satisfied: cachetools<5.0,>=2.0.0 in /usr/local/lib/python3.7/dist-packages (from google-auth<3,>=1.6.3->tensorboard~=2.6->tensorflow>=2.2.0->reclab[recommenders]) (4.2.4)\n",
            "Requirement already satisfied: pyasn1-modules>=0.2.1 in /usr/local/lib/python3.7/dist-packages (from google-auth<3,>=1.6.3->tensorboard~=2.6->tensorflow>=2.2.0->reclab[recommenders]) (0.2.8)\n",
            "Requirement already satisfied: rsa<5,>=3.1.4 in /usr/local/lib/python3.7/dist-packages (from google-auth<3,>=1.6.3->tensorboard~=2.6->tensorflow>=2.2.0->reclab[recommenders]) (4.8)\n",
            "Requirement already satisfied: requests-oauthlib>=0.7.0 in /usr/local/lib/python3.7/dist-packages (from google-auth-oauthlib<0.5,>=0.4.1->tensorboard~=2.6->tensorflow>=2.2.0->reclab[recommenders]) (1.3.1)\n",
            "Requirement already satisfied: importlib-metadata>=4.4 in /usr/local/lib/python3.7/dist-packages (from markdown>=2.6.8->tensorboard~=2.6->tensorflow>=2.2.0->reclab[recommenders]) (4.10.1)\n",
            "Requirement already satisfied: zipp>=0.5 in /usr/local/lib/python3.7/dist-packages (from importlib-metadata>=4.4->markdown>=2.6.8->tensorboard~=2.6->tensorflow>=2.2.0->reclab[recommenders]) (3.7.0)\n",
            "Requirement already satisfied: pyasn1<0.5.0,>=0.4.6 in /usr/local/lib/python3.7/dist-packages (from pyasn1-modules>=0.2.1->google-auth<3,>=1.6.3->tensorboard~=2.6->tensorflow>=2.2.0->reclab[recommenders]) (0.4.8)\n",
            "Requirement already satisfied: certifi>=2017.4.17 in /usr/local/lib/python3.7/dist-packages (from requests<3,>=2.21.0->tensorboard~=2.6->tensorflow>=2.2.0->reclab[recommenders]) (2021.10.8)\n",
            "Requirement already satisfied: chardet<4,>=3.0.2 in /usr/local/lib/python3.7/dist-packages (from requests<3,>=2.21.0->tensorboard~=2.6->tensorflow>=2.2.0->reclab[recommenders]) (3.0.4)\n",
            "Requirement already satisfied: idna<3,>=2.5 in /usr/local/lib/python3.7/dist-packages (from requests<3,>=2.21.0->tensorboard~=2.6->tensorflow>=2.2.0->reclab[recommenders]) (2.10)\n",
            "Requirement already satisfied: urllib3!=1.25.0,!=1.25.1,<1.26,>=1.21.1 in /usr/local/lib/python3.7/dist-packages (from requests<3,>=2.21.0->tensorboard~=2.6->tensorflow>=2.2.0->reclab[recommenders]) (1.24.3)\n",
            "Requirement already satisfied: oauthlib>=3.0.0 in /usr/local/lib/python3.7/dist-packages (from requests-oauthlib>=0.7.0->google-auth-oauthlib<0.5,>=0.4.1->tensorboard~=2.6->tensorflow>=2.2.0->reclab[recommenders]) (3.2.0)\n",
            "Requirement already satisfied: pybind11 in /usr/local/lib/python3.7/dist-packages (from wpyfm>=0.1.9->reclab[recommenders]) (2.9.1)\n",
            "Building wheels for collected packages: reclab, wpyfm\n",
            "  Building wheel for reclab (setup.py) ... \u001b[?25l\u001b[?25hdone\n",
            "  Created wheel for reclab: filename=RecLab-0.1.2-py3-none-any.whl size=60733 sha256=24874ee23a57e57e2d661aa821de51bc073c8fa929dadbed9b2a2dfe9450ffc2\n",
            "  Stored in directory: /root/.cache/pip/wheels/39/7b/c4/3ead22ed36019505396283006cea7af209322c971c291680c1\n",
            "  Building wheel for wpyfm (setup.py) ... \u001b[?25l\u001b[?25hdone\n",
            "  Created wheel for wpyfm: filename=wpyfm-0.1.9-py3-none-any.whl size=175097 sha256=2f9d9f2bc977fde900200d0ed7b49a9d6637c65e9a5b96a732989d8055981d9d\n",
            "  Stored in directory: /root/.cache/pip/wheels/f6/e7/c1/0204800051d90a6abcfc63941f6aab399f157ccd3f63012a36\n",
            "Successfully built reclab wpyfm\n",
            "Installing collected packages: wpyfm, reclab\n",
            "Successfully installed reclab-0.1.2 wpyfm-0.1.9\n",
            "Cloning into '/usr/local/lib/python3.7/dist-packages/reclab2'...\n",
            "remote: Enumerating objects: 5123, done.\u001b[K\n",
            "remote: Counting objects: 100% (249/249), done.\u001b[K\n",
            "remote: Compressing objects: 100% (163/163), done.\u001b[K\n",
            "remote: Total 5123 (delta 145), reused 156 (delta 84), pack-reused 4874\u001b[K\n",
            "Receiving objects: 100% (5123/5123), 44.29 MiB | 22.96 MiB/s, done.\n",
            "Resolving deltas: 100% (3501/3501), done.\n"
          ]
        }
      ],
      "source": [
        "# Reclab installation. This may take a minute or two\n",
        "!pip install pybind11\n",
        "!pip install reclab[recommenders]\n",
        "!cp /usr/local/lib/python3.7/dist-packages/wpyfm/pyfm.cpython-36m-x86_64-linux-gnu.so /usr/local/lib/python3.7/dist-packages/wpyfm/pyfm.so\n",
        "!git clone https://github.com/berkeley-reclab/RecLab /usr/local/lib/python3.7/dist-packages/reclab2\n",
        "!cp -a /usr/local/lib/python3.7/dist-packages/reclab2/reclab/recommenders/. /usr/local/lib/python3.7/dist-packages/reclab/recommenders/"
      ]
    },
    {
      "cell_type": "code",
      "source": [
        "import scipy.sparse\n",
        "import wpyfm\n",
        "from reclab.recommenders.libfm import LibFM\n",
        "\n",
        "class LibFM_MLHB(LibFM):\n",
        "  def _predict(self, user_item):  # noqa: D102\n",
        "    # Create a test_inputs array that can be parsed by our output function.\n",
        "    test_inputs = []\n",
        "    data = []\n",
        "    row_col = [[], []]\n",
        "    for row, (user_id, item_id, rating_context) in enumerate(user_item):\n",
        "        user_features = self._users[user_id]\n",
        "        item_features = self._items[item_id]\n",
        "        row_col[0].append(row)\n",
        "        row_col[1].append(user_id)\n",
        "        data.append(1)\n",
        "        for i, feature in enumerate(user_features):\n",
        "            row_col[0].append(row)\n",
        "            row_col[1].append(self._max_num_users + i)\n",
        "            data.append(feature)\n",
        "        row_col[0].append(row)\n",
        "        row_col[1].append(self._max_num_users + len(user_features) + item_id)\n",
        "        data.append(1)\n",
        "        for i, feature in enumerate(item_features):\n",
        "            row_col[0].append(row)\n",
        "            row_col[1].append(self._max_num_users + len(user_features) +\n",
        "                              self._max_num_items + i)\n",
        "            data.append(feature)\n",
        "        for i, feature in enumerate(rating_context):\n",
        "            row_col[0].append(row)\n",
        "            row_col[1].append(self._max_num_users + len(user_features) +\n",
        "                              self._max_num_items + len(item_features) + i)\n",
        "            data.append(feature)\n",
        "\n",
        "    test_inputs = scipy.sparse.csr_matrix((data, row_col),\n",
        "                                          shape=(len(user_item), self._num_features))\n",
        "    test_data = wpyfm.Data(test_inputs, np.zeros(test_inputs.shape[0]), has_xt=self._has_xt)\n",
        "    predictions = self._model.predict(test_data)\n",
        "\n",
        "    return predictions\n",
        "\n",
        "  def reset(self, users=None, items=None, ratings=None):  # noqa: D102\n",
        "    rating_inputs = scipy.sparse.csr_matrix((0, self._num_features))\n",
        "    rating_outputs = np.empty((0,))\n",
        "    self._train_data = wpyfm.Data(rating_inputs, rating_outputs, has_xt=self._has_xt)\n",
        "    super().reset(users, items, ratings)\n",
        "    self._model.train(self._train_data)"
      ],
      "metadata": {
        "id": "MRGmpnnkMyFX"
      },
      "execution_count": 2,
      "outputs": []
    },
    {
      "cell_type": "code",
      "source": [
        "import numpy as np\n",
        "import reclab\n",
        "from reclab.environments import Topics\n",
        "from reclab.recommenders.libfm import LibFM\n",
        "from reclab.recommenders import RandomRec, TopPop, KNNRecommender, Autorec\n",
        "\n",
        "NUM_USERS         = 100\n",
        "NUM_ITEMS         = 100\n",
        "NUM_TOPICS        = 10\n",
        "RATING_FREQ       = 0.2\n",
        "NUM_INIT_RATINGS  = NUM_USERS * NUM_ITEMS // 5\n",
        "\n",
        "env_params = {\n",
        "    'num_topics':       NUM_TOPICS,\n",
        "    'num_users':        NUM_USERS,\n",
        "    'num_items':        NUM_ITEMS,\n",
        "    'rating_frequency': RATING_FREQ,\n",
        "    'num_init_ratings': NUM_INIT_RATINGS,\n",
        "}\n",
        "\n",
        "env = Topics(**env_params)\n",
        "\n",
        "SEED = 42\n",
        "\n",
        "env.seed(SEED)\n",
        "\n",
        "NUM_USER_FEATURES   = 0\n",
        "NUM_ITEM_FEATURES   = 0\n",
        "NUM_RATING_FEATURES = 0\n",
        "\n",
        "rec_params = {\n",
        "    'num_user_features':    NUM_USER_FEATURES,\n",
        "    'num_item_features':    NUM_ITEM_FEATURES,\n",
        "    'num_rating_features':  NUM_RATING_FEATURES,\n",
        "    'max_num_users':        NUM_USERS,\n",
        "    'max_num_items':        NUM_ITEMS,\n",
        "    'seed':                 SEED,\n",
        "}\n",
        "\n",
        "recommender = LibFM_MLHB(**rec_params)"
      ],
      "metadata": {
        "id": "hkN7Qx8TO4ZC"
      },
      "execution_count": 3,
      "outputs": []
    },
    {
      "cell_type": "code",
      "source": [
        "def RMSE_func(env, recommender):\n",
        "  true_ratings = env.dense_ratings\n",
        "  predicted_ratings = recommender.dense_predictions\n",
        "  return np.sqrt(np.mean((predicted_ratings-true_ratings)**2))\n",
        "\n",
        "def ARRI_func(env, recommender):\n",
        "  all_users = env.users\n",
        "  recommendations, _ = recommender.recommend(all_users, 1)\n",
        "  true_ratings = env.dense_ratings\n",
        "  return np.mean(true_ratings[np.arange(len(all_users)), np.squeeze(recommendations)])"
      ],
      "metadata": {
        "id": "lZ3JkBK_Pn65"
      },
      "execution_count": 4,
      "outputs": []
    },
    {
      "cell_type": "code",
      "source": [
        "from tqdm import tqdm\n",
        "\n",
        "def simulation(env, recommender, steps, rpu, retrain=True, callbacks=None, reset=True, seed=0):\n",
        "  if reset:\n",
        "    env.seed(seed)\n",
        "    if hasattr(env, '_topic_change'):\n",
        "      temp = env._topic_change # Specificaly for topics.\n",
        "      env._topic_change = 0\n",
        "      #items, users, ratings = env.reset()  # Wrong order of return values (manorz, Jan 01)\n",
        "      users, items, ratings = env.reset()\n",
        "      env._topic_change = temp\n",
        "    elif hasattr(env, '_affinity_change '):\n",
        "      temp = env._affinity_change  # Specificaly for latent factor.\n",
        "      env._affinity_change = 0\n",
        "      # items, users, ratings = env.reset()\n",
        "      users, items, ratings = env.reset()\n",
        "      env._affinity_change = temp\n",
        "    else:\n",
        "      # items, users, ratings = env.reset()\n",
        "      users, items, ratings = env.reset()\n",
        "    \n",
        "    recommender.reset(items, users, ratings)\n",
        "\n",
        "  results = None\n",
        "  if callbacks is not None:\n",
        "    results = [[] for _ in callbacks]\n",
        "    \n",
        "  for i in tqdm(range(steps)):\n",
        "    if callbacks is not None:\n",
        "      for j, callback in enumerate(callbacks):\n",
        "        res = callback(env, recommender)\n",
        "        results[j].append(res)\n",
        "\n",
        "    online_users = env.online_users\n",
        "    recommendations, predicted_ratings = recommender.recommend(online_users, rpu)\n",
        "    _, _, ratings, _ = env.step(recommendations)\n",
        "    recommender.update(ratings=ratings)\n",
        "\n",
        "    if retrain and hasattr(recommender, '_model'):\n",
        "        recommender._model.train(recommender._train_data) # Specificaly for libfm.\n",
        "  return results"
      ],
      "metadata": {
        "id": "lrQXRQCaQzmL"
      },
      "execution_count": 5,
      "outputs": []
    },
    {
      "cell_type": "code",
      "source": [
        "import matplotlib.pyplot as plt\n",
        "%config InlineBackend.figure_format = 'retina'\n",
        "\n",
        "def plot_graphs(*lists, title, legend=False, label=None, show=False, save=False):\n",
        "  fig, ax = plt.subplots()\n",
        "  for i, l in enumerate(lists):\n",
        "    ax.plot(\n",
        "        np.arange(len(l)),\n",
        "        l,\n",
        "        '.-',\n",
        "        label=(str(i+1) if label is None else label[i])\n",
        "    )\n",
        "  ax.set_xlabel(r'$timestep$')\n",
        "  ax.set_title(title)\n",
        "  if legend:\n",
        "    ax.legend()\n",
        "  if save:\n",
        "    plt.savefig(title + '.png')\n",
        "  if show:\n",
        "    plt.show()\n",
        "  else:\n",
        "    plt.close()"
      ],
      "metadata": {
        "id": "C0wHEk-tTJNd"
      },
      "execution_count": 6,
      "outputs": []
    },
    {
      "cell_type": "code",
      "source": [
        "# import pandas as pd\n",
        "# import re\n",
        "\n",
        "# def experiment(env_params, recommender, steps, repeats, rpu, retrain=True, callbacks=None, reset=True, **kwargs):\n",
        "#   metrics_names = [c.__name__ for c in callbacks]\n",
        "#   metrics_names = [c[:-5] for c in metrics_names if c.endswith('_func')]\n",
        "#   cols_names = metrics_names + ['REPEAT']\n",
        "  \n",
        "#   if len(kwargs) != 0:\n",
        "#     k = list(kwargs.keys())[0]\n",
        "#     v = list(kwargs.values())[0]\n",
        "#     print(f\"{k}: {v}\")\n",
        "#     cols_names.append(k.upper())\n",
        "  \n",
        "#   res_df = pd.DataFrame(columns=cols_names)\n",
        "\n",
        "#   if len(kwargs) != 0:\n",
        "#     for vv in v:\n",
        "#       env_params[k] = vv\n",
        "#       env = Topics(**env_params)\n",
        "#       for r in range(repeats):\n",
        "#         print(f'[I] - running simulation with {k}={vv}, repeat {r}')\n",
        "#         _res = simulation(env, recommender, steps, rpu, retrain, callbacks, reset, r)\n",
        "#         _df = pd.DataFrame(columns=cols_names)\n",
        "#         for i, m in enumerate(metrics_names):\n",
        "#           _df[m] = _res[i]\n",
        "#         _df['REPEAT'] = r\n",
        "#         _df[k.upper()] = vv\n",
        "#         res_df = pd.concat((res_df, _df), axis=0, ignore_index=True)        \n",
        "#   else:\n",
        "#     env = Topics(**env_params)\n",
        "#     for r in range(repeats):\n",
        "#       print(f'[I] - running simulation, repeat {r}')\n",
        "#       _res = simulation(env, recommender, steps, rpu, retrain, callbacks, reset, r)\n",
        "#       _df = pd.DataFrame(columns=cols_names)\n",
        "#       for i, m in enumerate(metrics_names):\n",
        "#         _df[m] = _res[i]\n",
        "#       _df['REPEAT'] = r\n",
        "#       res_df = pd.concat((res_df, _df), axis=0, ignore_index=True)\n",
        "  \n",
        "#   if len(kwargs) != 0:\n",
        "#     mean_df = pd.DataFrame(columns=cols_names)\n",
        "#     for vv in v:\n",
        "#       print(vv)\n",
        "#       print(res_df[res_df[k.upper()] == vv].mean(axis=0))\n",
        "#       mean_df.append(res_df[res_df[k.upper()] == vv].mean(axis=0))\n",
        "#   else:\n",
        "#     mean_cols_names = metrics_names\n",
        "#     mean_df = pd.DataFrame(columns=mean_cols_names)\n",
        "  \n",
        "#   return res_df, mean_df"
      ],
      "metadata": {
        "id": "jPJSlfBvT0Ee"
      },
      "execution_count": 7,
      "outputs": []
    },
    {
      "cell_type": "code",
      "source": [
        "import pandas as pd\n",
        "import re\n",
        "\n",
        "def experiment(env_params, recommender, steps, repeats, rpu, retrain=True, callbacks=None, reset=True, **kwargs):\n",
        "  callbacks_names = [c.__name__ for c in callbacks]\n",
        "  callbacks_names = [c[:-5] for c in callbacks_names if c.endswith('_func')]\n",
        "\n",
        "  if len(kwargs) != 0:\n",
        "    k = list(kwargs.keys())[0]\n",
        "    v = list(kwargs.values())[0]\n",
        "    print(f\"{k}: {v}\")\n",
        "  \n",
        "  callbacks_res = {n: {vv: [] for vv in v} for n in callbacks_names}\n",
        "  print(callbacks_res)\n",
        "\n",
        "  if len(kwargs) != 0:\n",
        "    for vv in v:\n",
        "      env_params[k] = vv\n",
        "      env = Topics(**env_params)\n",
        "      for r in range(repeats):\n",
        "        print(f'[I] - running simulation with {k}={vv}, repeat {r}')\n",
        "        _res = simulation(env, recommender, steps, rpu, retrain, callbacks, reset, r)\n",
        "        for i, n in enumerate(callbacks_names):\n",
        "          callbacks_res[n][vv].append(_res[i])\n",
        "      \n",
        "      for i, n in enumerate(callbacks_names):\n",
        "        callbacks_res[n][vv] = list(np.mean(np.asarray(callbacks_res[n][vv]), axis=0))\n",
        "    \n",
        "  return callbacks_res        "
      ],
      "metadata": {
        "id": "sbhRzM_99rbY"
      },
      "execution_count": 8,
      "outputs": []
    },
    {
      "cell_type": "code",
      "source": [
        "STEPS =     100\n",
        "RPU   =     1\n",
        "RETRAIN =   True\n",
        "RESET =     True\n",
        "CALLBACKS = [RMSE_func, ARRI_func]\n",
        "\n",
        "RMSE, ARRI = simulation(env, recommender, STEPS, RPU, RETRAIN, CALLBACKS, RESET, SEED)"
      ],
      "metadata": {
        "id": "KEslyJZRSHN-",
        "outputId": "3f452022-5f2e-48d1-8f54-f42948250f28",
        "colab": {
          "base_uri": "https://localhost:8080/"
        }
      },
      "execution_count": 9,
      "outputs": [
        {
          "output_type": "stream",
          "name": "stderr",
          "text": [
            "100%|██████████| 100/100 [00:27<00:00,  3.68it/s]\n"
          ]
        }
      ]
    },
    {
      "cell_type": "code",
      "source": [
        "plot_graphs(RMSE, title=\"rmse\", show=True, save=True)\n",
        "plot_graphs(ARRI, title=\"arri\", show=True, save=True)"
      ],
      "metadata": {
        "id": "NN06Mx7pTGal",
        "outputId": "c88121d5-7ab9-45a7-a558-50b60c4a429f",
        "colab": {
          "base_uri": "https://localhost:8080/",
          "height": 594
        }
      },
      "execution_count": 10,
      "outputs": [
        {
          "output_type": "display_data",
          "data": {
            "image/png": "[encoded data removed]",
            "text/plain": [
              "<Figure size 432x288 with 1 Axes>"
            ]
          },
          "metadata": {
            "image/png": {
              "width": 372,
              "height": 279
            },
            "needs_background": "light"
          }
        },
        {
          "output_type": "display_data",
          "data": {
            "image/png": "[encoded data removed]",
            "text/plain": [
              "<Figure size 432x288 with 1 Axes>"
            ]
          },
          "metadata": {
            "image/png": {
              "width": 372,
              "height": 279
            },
            "needs_background": "light"
          }
        }
      ]
    },
    {
      "cell_type": "code",
      "source": [
        "REPEATS = 50\n",
        "\n",
        "res = experiment(env_params, recommender, STEPS, REPEATS, RPU, RETRAIN, CALLBACKS, RESET, topic_change=[0,1,2])"
      ],
      "metadata": {
        "id": "9_7XCBEzTjPM",
        "outputId": "e5166b26-34df-47bb-846c-36ab533f31b2",
        "colab": {
          "base_uri": "https://localhost:8080/"
        }
      },
      "execution_count": 13,
      "outputs": [
        {
          "output_type": "stream",
          "name": "stdout",
          "text": [
            "topic_change: [0, 1, 2]\n",
            "{'RMSE': {0: [], 1: [], 2: []}, 'ARRI': {0: [], 1: [], 2: []}}\n",
            "[I] - running simulation with topic_change=0, repeat 0\n"
          ]
        },
        {
          "output_type": "stream",
          "name": "stderr",
          "text": [
            "100%|██████████| 100/100 [00:22<00:00,  4.46it/s]\n"
          ]
        },
        {
          "output_type": "stream",
          "name": "stdout",
          "text": [
            "[I] - running simulation with topic_change=0, repeat 1\n"
          ]
        },
        {
          "output_type": "stream",
          "name": "stderr",
          "text": [
            "100%|██████████| 100/100 [00:22<00:00,  4.51it/s]\n"
          ]
        },
        {
          "output_type": "stream",
          "name": "stdout",
          "text": [
            "[I] - running simulation with topic_change=0, repeat 2\n"
          ]
        },
        {
          "output_type": "stream",
          "name": "stderr",
          "text": [
            "100%|██████████| 100/100 [00:22<00:00,  4.48it/s]\n"
          ]
        },
        {
          "output_type": "stream",
          "name": "stdout",
          "text": [
            "[I] - running simulation with topic_change=0, repeat 3\n"
          ]
        },
        {
          "output_type": "stream",
          "name": "stderr",
          "text": [
            "100%|██████████| 100/100 [00:22<00:00,  4.54it/s]\n"
          ]
        },
        {
          "output_type": "stream",
          "name": "stdout",
          "text": [
            "[I] - running simulation with topic_change=0, repeat 4\n"
          ]
        },
        {
          "output_type": "stream",
          "name": "stderr",
          "text": [
            "100%|██████████| 100/100 [00:22<00:00,  4.52it/s]\n"
          ]
        },
        {
          "output_type": "stream",
          "name": "stdout",
          "text": [
            "[I] - running simulation with topic_change=0, repeat 5\n"
          ]
        },
        {
          "output_type": "stream",
          "name": "stderr",
          "text": [
            "100%|██████████| 100/100 [00:22<00:00,  4.47it/s]\n"
          ]
        },
        {
          "output_type": "stream",
          "name": "stdout",
          "text": [
            "[I] - running simulation with topic_change=0, repeat 6\n"
          ]
        },
        {
          "output_type": "stream",
          "name": "stderr",
          "text": [
            "100%|██████████| 100/100 [00:22<00:00,  4.49it/s]\n"
          ]
        },
        {
          "output_type": "stream",
          "name": "stdout",
          "text": [
            "[I] - running simulation with topic_change=0, repeat 7\n"
          ]
        },
        {
          "output_type": "stream",
          "name": "stderr",
          "text": [
            "100%|██████████| 100/100 [00:22<00:00,  4.52it/s]\n"
          ]
        },
        {
          "output_type": "stream",
          "name": "stdout",
          "text": [
            "[I] - running simulation with topic_change=0, repeat 8\n"
          ]
        },
        {
          "output_type": "stream",
          "name": "stderr",
          "text": [
            "100%|██████████| 100/100 [00:22<00:00,  4.49it/s]\n"
          ]
        },
        {
          "output_type": "stream",
          "name": "stdout",
          "text": [
            "[I] - running simulation with topic_change=0, repeat 9\n"
          ]
        },
        {
          "output_type": "stream",
          "name": "stderr",
          "text": [
            "100%|██████████| 100/100 [00:22<00:00,  4.47it/s]\n"
          ]
        },
        {
          "output_type": "stream",
          "name": "stdout",
          "text": [
            "[I] - running simulation with topic_change=0, repeat 10\n"
          ]
        },
        {
          "output_type": "stream",
          "name": "stderr",
          "text": [
            "100%|██████████| 100/100 [00:22<00:00,  4.49it/s]\n"
          ]
        },
        {
          "output_type": "stream",
          "name": "stdout",
          "text": [
            "[I] - running simulation with topic_change=0, repeat 11\n"
          ]
        },
        {
          "output_type": "stream",
          "name": "stderr",
          "text": [
            "100%|██████████| 100/100 [00:22<00:00,  4.49it/s]\n"
          ]
        },
        {
          "output_type": "stream",
          "name": "stdout",
          "text": [
            "[I] - running simulation with topic_change=0, repeat 12\n"
          ]
        },
        {
          "output_type": "stream",
          "name": "stderr",
          "text": [
            "100%|██████████| 100/100 [00:22<00:00,  4.44it/s]\n"
          ]
        },
        {
          "output_type": "stream",
          "name": "stdout",
          "text": [
            "[I] - running simulation with topic_change=0, repeat 13\n"
          ]
        },
        {
          "output_type": "stream",
          "name": "stderr",
          "text": [
            "100%|██████████| 100/100 [00:22<00:00,  4.50it/s]\n"
          ]
        },
        {
          "output_type": "stream",
          "name": "stdout",
          "text": [
            "[I] - running simulation with topic_change=0, repeat 14\n"
          ]
        },
        {
          "output_type": "stream",
          "name": "stderr",
          "text": [
            "100%|██████████| 100/100 [00:22<00:00,  4.53it/s]\n"
          ]
        },
        {
          "output_type": "stream",
          "name": "stdout",
          "text": [
            "[I] - running simulation with topic_change=0, repeat 15\n"
          ]
        },
        {
          "output_type": "stream",
          "name": "stderr",
          "text": [
            "100%|██████████| 100/100 [00:22<00:00,  4.52it/s]\n"
          ]
        },
        {
          "output_type": "stream",
          "name": "stdout",
          "text": [
            "[I] - running simulation with topic_change=0, repeat 16\n"
          ]
        },
        {
          "output_type": "stream",
          "name": "stderr",
          "text": [
            "100%|██████████| 100/100 [00:22<00:00,  4.51it/s]\n"
          ]
        },
        {
          "output_type": "stream",
          "name": "stdout",
          "text": [
            "[I] - running simulation with topic_change=0, repeat 17\n"
          ]
        },
        {
          "output_type": "stream",
          "name": "stderr",
          "text": [
            "100%|██████████| 100/100 [00:22<00:00,  4.51it/s]\n"
          ]
        },
        {
          "output_type": "stream",
          "name": "stdout",
          "text": [
            "[I] - running simulation with topic_change=0, repeat 18\n"
          ]
        },
        {
          "output_type": "stream",
          "name": "stderr",
          "text": [
            "100%|██████████| 100/100 [00:22<00:00,  4.50it/s]\n"
          ]
        },
        {
          "output_type": "stream",
          "name": "stdout",
          "text": [
            "[I] - running simulation with topic_change=0, repeat 19\n"
          ]
        },
        {
          "output_type": "stream",
          "name": "stderr",
          "text": [
            "100%|██████████| 100/100 [00:22<00:00,  4.46it/s]\n"
          ]
        },
        {
          "output_type": "stream",
          "name": "stdout",
          "text": [
            "[I] - running simulation with topic_change=0, repeat 20\n"
          ]
        },
        {
          "output_type": "stream",
          "name": "stderr",
          "text": [
            "100%|██████████| 100/100 [00:22<00:00,  4.51it/s]\n"
          ]
        },
        {
          "output_type": "stream",
          "name": "stdout",
          "text": [
            "[I] - running simulation with topic_change=0, repeat 21\n"
          ]
        },
        {
          "output_type": "stream",
          "name": "stderr",
          "text": [
            "100%|██████████| 100/100 [00:22<00:00,  4.50it/s]\n"
          ]
        },
        {
          "output_type": "stream",
          "name": "stdout",
          "text": [
            "[I] - running simulation with topic_change=0, repeat 22\n"
          ]
        },
        {
          "output_type": "stream",
          "name": "stderr",
          "text": [
            "100%|██████████| 100/100 [00:22<00:00,  4.53it/s]\n"
          ]
        },
        {
          "output_type": "stream",
          "name": "stdout",
          "text": [
            "[I] - running simulation with topic_change=0, repeat 23\n"
          ]
        },
        {
          "output_type": "stream",
          "name": "stderr",
          "text": [
            "100%|██████████| 100/100 [00:22<00:00,  4.54it/s]\n"
          ]
        },
        {
          "output_type": "stream",
          "name": "stdout",
          "text": [
            "[I] - running simulation with topic_change=0, repeat 24\n"
          ]
        },
        {
          "output_type": "stream",
          "name": "stderr",
          "text": [
            "100%|██████████| 100/100 [00:22<00:00,  4.49it/s]\n"
          ]
        },
        {
          "output_type": "stream",
          "name": "stdout",
          "text": [
            "[I] - running simulation with topic_change=0, repeat 25\n"
          ]
        },
        {
          "output_type": "stream",
          "name": "stderr",
          "text": [
            "100%|██████████| 100/100 [00:22<00:00,  4.52it/s]\n"
          ]
        },
        {
          "output_type": "stream",
          "name": "stdout",
          "text": [
            "[I] - running simulation with topic_change=0, repeat 26\n"
          ]
        },
        {
          "output_type": "stream",
          "name": "stderr",
          "text": [
            "100%|██████████| 100/100 [00:22<00:00,  4.47it/s]\n"
          ]
        },
        {
          "output_type": "stream",
          "name": "stdout",
          "text": [
            "[I] - running simulation with topic_change=0, repeat 27\n"
          ]
        },
        {
          "output_type": "stream",
          "name": "stderr",
          "text": [
            "100%|██████████| 100/100 [00:22<00:00,  4.50it/s]\n"
          ]
        },
        {
          "output_type": "stream",
          "name": "stdout",
          "text": [
            "[I] - running simulation with topic_change=0, repeat 28\n"
          ]
        },
        {
          "output_type": "stream",
          "name": "stderr",
          "text": [
            "100%|██████████| 100/100 [00:21<00:00,  4.55it/s]\n"
          ]
        },
        {
          "output_type": "stream",
          "name": "stdout",
          "text": [
            "[I] - running simulation with topic_change=0, repeat 29\n"
          ]
        },
        {
          "output_type": "stream",
          "name": "stderr",
          "text": [
            "100%|██████████| 100/100 [00:22<00:00,  4.52it/s]\n"
          ]
        },
        {
          "output_type": "stream",
          "name": "stdout",
          "text": [
            "[I] - running simulation with topic_change=0, repeat 30\n"
          ]
        },
        {
          "output_type": "stream",
          "name": "stderr",
          "text": [
            "100%|██████████| 100/100 [00:22<00:00,  4.50it/s]\n"
          ]
        },
        {
          "output_type": "stream",
          "name": "stdout",
          "text": [
            "[I] - running simulation with topic_change=0, repeat 31\n"
          ]
        },
        {
          "output_type": "stream",
          "name": "stderr",
          "text": [
            "100%|██████████| 100/100 [00:22<00:00,  4.52it/s]\n"
          ]
        },
        {
          "output_type": "stream",
          "name": "stdout",
          "text": [
            "[I] - running simulation with topic_change=0, repeat 32\n"
          ]
        },
        {
          "output_type": "stream",
          "name": "stderr",
          "text": [
            "100%|██████████| 100/100 [00:21<00:00,  4.56it/s]\n"
          ]
        },
        {
          "output_type": "stream",
          "name": "stdout",
          "text": [
            "[I] - running simulation with topic_change=0, repeat 33\n"
          ]
        },
        {
          "output_type": "stream",
          "name": "stderr",
          "text": [
            "100%|██████████| 100/100 [00:22<00:00,  4.48it/s]\n"
          ]
        },
        {
          "output_type": "stream",
          "name": "stdout",
          "text": [
            "[I] - running simulation with topic_change=0, repeat 34\n"
          ]
        },
        {
          "output_type": "stream",
          "name": "stderr",
          "text": [
            "100%|██████████| 100/100 [00:22<00:00,  4.51it/s]\n"
          ]
        },
        {
          "output_type": "stream",
          "name": "stdout",
          "text": [
            "[I] - running simulation with topic_change=0, repeat 35\n"
          ]
        },
        {
          "output_type": "stream",
          "name": "stderr",
          "text": [
            "100%|██████████| 100/100 [00:22<00:00,  4.50it/s]\n"
          ]
        },
        {
          "output_type": "stream",
          "name": "stdout",
          "text": [
            "[I] - running simulation with topic_change=0, repeat 36\n"
          ]
        },
        {
          "output_type": "stream",
          "name": "stderr",
          "text": [
            "100%|██████████| 100/100 [00:22<00:00,  4.52it/s]\n"
          ]
        },
        {
          "output_type": "stream",
          "name": "stdout",
          "text": [
            "[I] - running simulation with topic_change=0, repeat 37\n"
          ]
        },
        {
          "output_type": "stream",
          "name": "stderr",
          "text": [
            "100%|██████████| 100/100 [00:22<00:00,  4.49it/s]\n"
          ]
        },
        {
          "output_type": "stream",
          "name": "stdout",
          "text": [
            "[I] - running simulation with topic_change=0, repeat 38\n"
          ]
        },
        {
          "output_type": "stream",
          "name": "stderr",
          "text": [
            "100%|██████████| 100/100 [00:22<00:00,  4.46it/s]\n"
          ]
        },
        {
          "output_type": "stream",
          "name": "stdout",
          "text": [
            "[I] - running simulation with topic_change=0, repeat 39\n"
          ]
        },
        {
          "output_type": "stream",
          "name": "stderr",
          "text": [
            "100%|██████████| 100/100 [00:22<00:00,  4.46it/s]\n"
          ]
        },
        {
          "output_type": "stream",
          "name": "stdout",
          "text": [
            "[I] - running simulation with topic_change=0, repeat 40\n"
          ]
        },
        {
          "output_type": "stream",
          "name": "stderr",
          "text": [
            "100%|██████████| 100/100 [00:22<00:00,  4.47it/s]\n"
          ]
        },
        {
          "output_type": "stream",
          "name": "stdout",
          "text": [
            "[I] - running simulation with topic_change=0, repeat 41\n"
          ]
        },
        {
          "output_type": "stream",
          "name": "stderr",
          "text": [
            "100%|██████████| 100/100 [00:22<00:00,  4.54it/s]\n"
          ]
        },
        {
          "output_type": "stream",
          "name": "stdout",
          "text": [
            "[I] - running simulation with topic_change=0, repeat 42\n"
          ]
        },
        {
          "output_type": "stream",
          "name": "stderr",
          "text": [
            "100%|██████████| 100/100 [00:22<00:00,  4.54it/s]\n"
          ]
        },
        {
          "output_type": "stream",
          "name": "stdout",
          "text": [
            "[I] - running simulation with topic_change=0, repeat 43\n"
          ]
        },
        {
          "output_type": "stream",
          "name": "stderr",
          "text": [
            "100%|██████████| 100/100 [00:22<00:00,  4.53it/s]\n"
          ]
        },
        {
          "output_type": "stream",
          "name": "stdout",
          "text": [
            "[I] - running simulation with topic_change=0, repeat 44\n"
          ]
        },
        {
          "output_type": "stream",
          "name": "stderr",
          "text": [
            "100%|██████████| 100/100 [00:22<00:00,  4.52it/s]\n"
          ]
        },
        {
          "output_type": "stream",
          "name": "stdout",
          "text": [
            "[I] - running simulation with topic_change=0, repeat 45\n"
          ]
        },
        {
          "output_type": "stream",
          "name": "stderr",
          "text": [
            "100%|██████████| 100/100 [00:24<00:00,  4.16it/s]\n"
          ]
        },
        {
          "output_type": "stream",
          "name": "stdout",
          "text": [
            "[I] - running simulation with topic_change=0, repeat 46\n"
          ]
        },
        {
          "output_type": "stream",
          "name": "stderr",
          "text": [
            "100%|██████████| 100/100 [00:22<00:00,  4.50it/s]\n"
          ]
        },
        {
          "output_type": "stream",
          "name": "stdout",
          "text": [
            "[I] - running simulation with topic_change=0, repeat 47\n"
          ]
        },
        {
          "output_type": "stream",
          "name": "stderr",
          "text": [
            "100%|██████████| 100/100 [00:22<00:00,  4.44it/s]\n"
          ]
        },
        {
          "output_type": "stream",
          "name": "stdout",
          "text": [
            "[I] - running simulation with topic_change=0, repeat 48\n"
          ]
        },
        {
          "output_type": "stream",
          "name": "stderr",
          "text": [
            "100%|██████████| 100/100 [00:22<00:00,  4.47it/s]\n"
          ]
        },
        {
          "output_type": "stream",
          "name": "stdout",
          "text": [
            "[I] - running simulation with topic_change=0, repeat 49\n"
          ]
        },
        {
          "output_type": "stream",
          "name": "stderr",
          "text": [
            "100%|██████████| 100/100 [00:22<00:00,  4.48it/s]\n"
          ]
        },
        {
          "output_type": "stream",
          "name": "stdout",
          "text": [
            "[I] - running simulation with topic_change=1, repeat 0\n"
          ]
        },
        {
          "output_type": "stream",
          "name": "stderr",
          "text": [
            "100%|██████████| 100/100 [00:22<00:00,  4.50it/s]\n"
          ]
        },
        {
          "output_type": "stream",
          "name": "stdout",
          "text": [
            "[I] - running simulation with topic_change=1, repeat 1\n"
          ]
        },
        {
          "output_type": "stream",
          "name": "stderr",
          "text": [
            "100%|██████████| 100/100 [00:22<00:00,  4.48it/s]\n"
          ]
        },
        {
          "output_type": "stream",
          "name": "stdout",
          "text": [
            "[I] - running simulation with topic_change=1, repeat 2\n"
          ]
        },
        {
          "output_type": "stream",
          "name": "stderr",
          "text": [
            "100%|██████████| 100/100 [00:22<00:00,  4.45it/s]\n"
          ]
        },
        {
          "output_type": "stream",
          "name": "stdout",
          "text": [
            "[I] - running simulation with topic_change=1, repeat 3\n"
          ]
        },
        {
          "output_type": "stream",
          "name": "stderr",
          "text": [
            "100%|██████████| 100/100 [00:22<00:00,  4.49it/s]\n"
          ]
        },
        {
          "output_type": "stream",
          "name": "stdout",
          "text": [
            "[I] - running simulation with topic_change=1, repeat 4\n"
          ]
        },
        {
          "output_type": "stream",
          "name": "stderr",
          "text": [
            "100%|██████████| 100/100 [00:22<00:00,  4.44it/s]\n"
          ]
        },
        {
          "output_type": "stream",
          "name": "stdout",
          "text": [
            "[I] - running simulation with topic_change=1, repeat 5\n"
          ]
        },
        {
          "output_type": "stream",
          "name": "stderr",
          "text": [
            "100%|██████████| 100/100 [00:22<00:00,  4.50it/s]\n"
          ]
        },
        {
          "output_type": "stream",
          "name": "stdout",
          "text": [
            "[I] - running simulation with topic_change=1, repeat 6\n"
          ]
        },
        {
          "output_type": "stream",
          "name": "stderr",
          "text": [
            "100%|██████████| 100/100 [00:22<00:00,  4.45it/s]\n"
          ]
        },
        {
          "output_type": "stream",
          "name": "stdout",
          "text": [
            "[I] - running simulation with topic_change=1, repeat 7\n"
          ]
        },
        {
          "output_type": "stream",
          "name": "stderr",
          "text": [
            "100%|██████████| 100/100 [00:22<00:00,  4.47it/s]\n"
          ]
        },
        {
          "output_type": "stream",
          "name": "stdout",
          "text": [
            "[I] - running simulation with topic_change=1, repeat 8\n"
          ]
        },
        {
          "output_type": "stream",
          "name": "stderr",
          "text": [
            "100%|██████████| 100/100 [00:22<00:00,  4.50it/s]\n"
          ]
        },
        {
          "output_type": "stream",
          "name": "stdout",
          "text": [
            "[I] - running simulation with topic_change=1, repeat 9\n"
          ]
        },
        {
          "output_type": "stream",
          "name": "stderr",
          "text": [
            "100%|██████████| 100/100 [00:22<00:00,  4.48it/s]\n"
          ]
        },
        {
          "output_type": "stream",
          "name": "stdout",
          "text": [
            "[I] - running simulation with topic_change=1, repeat 10\n"
          ]
        },
        {
          "output_type": "stream",
          "name": "stderr",
          "text": [
            "100%|██████████| 100/100 [00:22<00:00,  4.50it/s]\n"
          ]
        },
        {
          "output_type": "stream",
          "name": "stdout",
          "text": [
            "[I] - running simulation with topic_change=1, repeat 11\n"
          ]
        },
        {
          "output_type": "stream",
          "name": "stderr",
          "text": [
            "100%|██████████| 100/100 [00:22<00:00,  4.49it/s]\n"
          ]
        },
        {
          "output_type": "stream",
          "name": "stdout",
          "text": [
            "[I] - running simulation with topic_change=1, repeat 12\n"
          ]
        },
        {
          "output_type": "stream",
          "name": "stderr",
          "text": [
            "100%|██████████| 100/100 [00:22<00:00,  4.50it/s]\n"
          ]
        },
        {
          "output_type": "stream",
          "name": "stdout",
          "text": [
            "[I] - running simulation with topic_change=1, repeat 13\n"
          ]
        },
        {
          "output_type": "stream",
          "name": "stderr",
          "text": [
            "100%|██████████| 100/100 [00:22<00:00,  4.48it/s]\n"
          ]
        },
        {
          "output_type": "stream",
          "name": "stdout",
          "text": [
            "[I] - running simulation with topic_change=1, repeat 14\n"
          ]
        },
        {
          "output_type": "stream",
          "name": "stderr",
          "text": [
            "100%|██████████| 100/100 [00:22<00:00,  4.50it/s]\n"
          ]
        },
        {
          "output_type": "stream",
          "name": "stdout",
          "text": [
            "[I] - running simulation with topic_change=1, repeat 15\n"
          ]
        },
        {
          "output_type": "stream",
          "name": "stderr",
          "text": [
            "100%|██████████| 100/100 [00:22<00:00,  4.46it/s]\n"
          ]
        },
        {
          "output_type": "stream",
          "name": "stdout",
          "text": [
            "[I] - running simulation with topic_change=1, repeat 16\n"
          ]
        },
        {
          "output_type": "stream",
          "name": "stderr",
          "text": [
            "100%|██████████| 100/100 [00:22<00:00,  4.45it/s]\n"
          ]
        },
        {
          "output_type": "stream",
          "name": "stdout",
          "text": [
            "[I] - running simulation with topic_change=1, repeat 17\n"
          ]
        },
        {
          "output_type": "stream",
          "name": "stderr",
          "text": [
            "100%|██████████| 100/100 [00:22<00:00,  4.46it/s]\n"
          ]
        },
        {
          "output_type": "stream",
          "name": "stdout",
          "text": [
            "[I] - running simulation with topic_change=1, repeat 18\n"
          ]
        },
        {
          "output_type": "stream",
          "name": "stderr",
          "text": [
            "100%|██████████| 100/100 [00:22<00:00,  4.43it/s]\n"
          ]
        },
        {
          "output_type": "stream",
          "name": "stdout",
          "text": [
            "[I] - running simulation with topic_change=1, repeat 19\n"
          ]
        },
        {
          "output_type": "stream",
          "name": "stderr",
          "text": [
            "100%|██████████| 100/100 [00:22<00:00,  4.47it/s]\n"
          ]
        },
        {
          "output_type": "stream",
          "name": "stdout",
          "text": [
            "[I] - running simulation with topic_change=1, repeat 20\n"
          ]
        },
        {
          "output_type": "stream",
          "name": "stderr",
          "text": [
            "100%|██████████| 100/100 [00:22<00:00,  4.50it/s]\n"
          ]
        },
        {
          "output_type": "stream",
          "name": "stdout",
          "text": [
            "[I] - running simulation with topic_change=1, repeat 21\n"
          ]
        },
        {
          "output_type": "stream",
          "name": "stderr",
          "text": [
            "100%|██████████| 100/100 [00:22<00:00,  4.47it/s]\n"
          ]
        },
        {
          "output_type": "stream",
          "name": "stdout",
          "text": [
            "[I] - running simulation with topic_change=1, repeat 22\n"
          ]
        },
        {
          "output_type": "stream",
          "name": "stderr",
          "text": [
            "100%|██████████| 100/100 [00:22<00:00,  4.47it/s]\n"
          ]
        },
        {
          "output_type": "stream",
          "name": "stdout",
          "text": [
            "[I] - running simulation with topic_change=1, repeat 23\n"
          ]
        },
        {
          "output_type": "stream",
          "name": "stderr",
          "text": [
            "100%|██████████| 100/100 [00:22<00:00,  4.48it/s]\n"
          ]
        },
        {
          "output_type": "stream",
          "name": "stdout",
          "text": [
            "[I] - running simulation with topic_change=1, repeat 24\n"
          ]
        },
        {
          "output_type": "stream",
          "name": "stderr",
          "text": [
            "100%|██████████| 100/100 [00:22<00:00,  4.47it/s]\n"
          ]
        },
        {
          "output_type": "stream",
          "name": "stdout",
          "text": [
            "[I] - running simulation with topic_change=1, repeat 25\n"
          ]
        },
        {
          "output_type": "stream",
          "name": "stderr",
          "text": [
            "100%|██████████| 100/100 [00:22<00:00,  4.44it/s]\n"
          ]
        },
        {
          "output_type": "stream",
          "name": "stdout",
          "text": [
            "[I] - running simulation with topic_change=1, repeat 26\n"
          ]
        },
        {
          "output_type": "stream",
          "name": "stderr",
          "text": [
            "100%|██████████| 100/100 [00:22<00:00,  4.47it/s]\n"
          ]
        },
        {
          "output_type": "stream",
          "name": "stdout",
          "text": [
            "[I] - running simulation with topic_change=1, repeat 27\n"
          ]
        },
        {
          "output_type": "stream",
          "name": "stderr",
          "text": [
            "100%|██████████| 100/100 [00:22<00:00,  4.48it/s]\n"
          ]
        },
        {
          "output_type": "stream",
          "name": "stdout",
          "text": [
            "[I] - running simulation with topic_change=1, repeat 28\n"
          ]
        },
        {
          "output_type": "stream",
          "name": "stderr",
          "text": [
            "100%|██████████| 100/100 [00:22<00:00,  4.45it/s]\n"
          ]
        },
        {
          "output_type": "stream",
          "name": "stdout",
          "text": [
            "[I] - running simulation with topic_change=1, repeat 29\n"
          ]
        },
        {
          "output_type": "stream",
          "name": "stderr",
          "text": [
            "100%|██████████| 100/100 [00:22<00:00,  4.48it/s]\n"
          ]
        },
        {
          "output_type": "stream",
          "name": "stdout",
          "text": [
            "[I] - running simulation with topic_change=1, repeat 30\n"
          ]
        },
        {
          "output_type": "stream",
          "name": "stderr",
          "text": [
            "100%|██████████| 100/100 [00:22<00:00,  4.47it/s]\n"
          ]
        },
        {
          "output_type": "stream",
          "name": "stdout",
          "text": [
            "[I] - running simulation with topic_change=1, repeat 31\n"
          ]
        },
        {
          "output_type": "stream",
          "name": "stderr",
          "text": [
            "100%|██████████| 100/100 [00:22<00:00,  4.44it/s]\n"
          ]
        },
        {
          "output_type": "stream",
          "name": "stdout",
          "text": [
            "[I] - running simulation with topic_change=1, repeat 32\n"
          ]
        },
        {
          "output_type": "stream",
          "name": "stderr",
          "text": [
            "100%|██████████| 100/100 [00:22<00:00,  4.44it/s]\n"
          ]
        },
        {
          "output_type": "stream",
          "name": "stdout",
          "text": [
            "[I] - running simulation with topic_change=1, repeat 33\n"
          ]
        },
        {
          "output_type": "stream",
          "name": "stderr",
          "text": [
            "100%|██████████| 100/100 [00:22<00:00,  4.52it/s]\n"
          ]
        },
        {
          "output_type": "stream",
          "name": "stdout",
          "text": [
            "[I] - running simulation with topic_change=1, repeat 34\n"
          ]
        },
        {
          "output_type": "stream",
          "name": "stderr",
          "text": [
            "100%|██████████| 100/100 [00:22<00:00,  4.51it/s]\n"
          ]
        },
        {
          "output_type": "stream",
          "name": "stdout",
          "text": [
            "[I] - running simulation with topic_change=1, repeat 35\n"
          ]
        },
        {
          "output_type": "stream",
          "name": "stderr",
          "text": [
            "100%|██████████| 100/100 [00:22<00:00,  4.48it/s]\n"
          ]
        },
        {
          "output_type": "stream",
          "name": "stdout",
          "text": [
            "[I] - running simulation with topic_change=1, repeat 36\n"
          ]
        },
        {
          "output_type": "stream",
          "name": "stderr",
          "text": [
            "100%|██████████| 100/100 [00:22<00:00,  4.51it/s]\n"
          ]
        },
        {
          "output_type": "stream",
          "name": "stdout",
          "text": [
            "[I] - running simulation with topic_change=1, repeat 37\n"
          ]
        },
        {
          "output_type": "stream",
          "name": "stderr",
          "text": [
            "100%|██████████| 100/100 [00:22<00:00,  4.49it/s]\n"
          ]
        },
        {
          "output_type": "stream",
          "name": "stdout",
          "text": [
            "[I] - running simulation with topic_change=1, repeat 38\n"
          ]
        },
        {
          "output_type": "stream",
          "name": "stderr",
          "text": [
            "100%|██████████| 100/100 [00:22<00:00,  4.49it/s]\n"
          ]
        },
        {
          "output_type": "stream",
          "name": "stdout",
          "text": [
            "[I] - running simulation with topic_change=1, repeat 39\n"
          ]
        },
        {
          "output_type": "stream",
          "name": "stderr",
          "text": [
            "100%|██████████| 100/100 [00:22<00:00,  4.46it/s]\n"
          ]
        },
        {
          "output_type": "stream",
          "name": "stdout",
          "text": [
            "[I] - running simulation with topic_change=1, repeat 40\n"
          ]
        },
        {
          "output_type": "stream",
          "name": "stderr",
          "text": [
            "100%|██████████| 100/100 [00:22<00:00,  4.50it/s]\n"
          ]
        },
        {
          "output_type": "stream",
          "name": "stdout",
          "text": [
            "[I] - running simulation with topic_change=1, repeat 41\n"
          ]
        },
        {
          "output_type": "stream",
          "name": "stderr",
          "text": [
            "100%|██████████| 100/100 [00:22<00:00,  4.47it/s]\n"
          ]
        },
        {
          "output_type": "stream",
          "name": "stdout",
          "text": [
            "[I] - running simulation with topic_change=1, repeat 42\n"
          ]
        },
        {
          "output_type": "stream",
          "name": "stderr",
          "text": [
            "100%|██████████| 100/100 [00:22<00:00,  4.47it/s]\n"
          ]
        },
        {
          "output_type": "stream",
          "name": "stdout",
          "text": [
            "[I] - running simulation with topic_change=1, repeat 43\n"
          ]
        },
        {
          "output_type": "stream",
          "name": "stderr",
          "text": [
            "100%|██████████| 100/100 [00:22<00:00,  4.48it/s]\n"
          ]
        },
        {
          "output_type": "stream",
          "name": "stdout",
          "text": [
            "[I] - running simulation with topic_change=1, repeat 44\n"
          ]
        },
        {
          "output_type": "stream",
          "name": "stderr",
          "text": [
            "100%|██████████| 100/100 [00:22<00:00,  4.49it/s]\n"
          ]
        },
        {
          "output_type": "stream",
          "name": "stdout",
          "text": [
            "[I] - running simulation with topic_change=1, repeat 45\n"
          ]
        },
        {
          "output_type": "stream",
          "name": "stderr",
          "text": [
            "100%|██████████| 100/100 [00:22<00:00,  4.48it/s]\n"
          ]
        },
        {
          "output_type": "stream",
          "name": "stdout",
          "text": [
            "[I] - running simulation with topic_change=1, repeat 46\n"
          ]
        },
        {
          "output_type": "stream",
          "name": "stderr",
          "text": [
            "100%|██████████| 100/100 [00:22<00:00,  4.48it/s]\n"
          ]
        },
        {
          "output_type": "stream",
          "name": "stdout",
          "text": [
            "[I] - running simulation with topic_change=1, repeat 47\n"
          ]
        },
        {
          "output_type": "stream",
          "name": "stderr",
          "text": [
            "100%|██████████| 100/100 [00:22<00:00,  4.50it/s]\n"
          ]
        },
        {
          "output_type": "stream",
          "name": "stdout",
          "text": [
            "[I] - running simulation with topic_change=1, repeat 48\n"
          ]
        },
        {
          "output_type": "stream",
          "name": "stderr",
          "text": [
            "100%|██████████| 100/100 [00:22<00:00,  4.53it/s]\n"
          ]
        },
        {
          "output_type": "stream",
          "name": "stdout",
          "text": [
            "[I] - running simulation with topic_change=1, repeat 49\n"
          ]
        },
        {
          "output_type": "stream",
          "name": "stderr",
          "text": [
            "100%|██████████| 100/100 [00:22<00:00,  4.53it/s]\n"
          ]
        },
        {
          "output_type": "stream",
          "name": "stdout",
          "text": [
            "[I] - running simulation with topic_change=2, repeat 0\n"
          ]
        },
        {
          "output_type": "stream",
          "name": "stderr",
          "text": [
            "100%|██████████| 100/100 [00:22<00:00,  4.50it/s]\n"
          ]
        },
        {
          "output_type": "stream",
          "name": "stdout",
          "text": [
            "[I] - running simulation with topic_change=2, repeat 1\n"
          ]
        },
        {
          "output_type": "stream",
          "name": "stderr",
          "text": [
            "100%|██████████| 100/100 [00:22<00:00,  4.44it/s]\n"
          ]
        },
        {
          "output_type": "stream",
          "name": "stdout",
          "text": [
            "[I] - running simulation with topic_change=2, repeat 2\n"
          ]
        },
        {
          "output_type": "stream",
          "name": "stderr",
          "text": [
            "100%|██████████| 100/100 [00:22<00:00,  4.51it/s]\n"
          ]
        },
        {
          "output_type": "stream",
          "name": "stdout",
          "text": [
            "[I] - running simulation with topic_change=2, repeat 3\n"
          ]
        },
        {
          "output_type": "stream",
          "name": "stderr",
          "text": [
            "100%|██████████| 100/100 [00:22<00:00,  4.44it/s]\n"
          ]
        },
        {
          "output_type": "stream",
          "name": "stdout",
          "text": [
            "[I] - running simulation with topic_change=2, repeat 4\n"
          ]
        },
        {
          "output_type": "stream",
          "name": "stderr",
          "text": [
            "100%|██████████| 100/100 [00:22<00:00,  4.35it/s]\n"
          ]
        },
        {
          "output_type": "stream",
          "name": "stdout",
          "text": [
            "[I] - running simulation with topic_change=2, repeat 5\n"
          ]
        },
        {
          "output_type": "stream",
          "name": "stderr",
          "text": [
            "100%|██████████| 100/100 [00:23<00:00,  4.23it/s]\n"
          ]
        },
        {
          "output_type": "stream",
          "name": "stdout",
          "text": [
            "[I] - running simulation with topic_change=2, repeat 6\n"
          ]
        },
        {
          "output_type": "stream",
          "name": "stderr",
          "text": [
            "100%|██████████| 100/100 [00:22<00:00,  4.49it/s]\n"
          ]
        },
        {
          "output_type": "stream",
          "name": "stdout",
          "text": [
            "[I] - running simulation with topic_change=2, repeat 7\n"
          ]
        },
        {
          "output_type": "stream",
          "name": "stderr",
          "text": [
            "100%|██████████| 100/100 [00:22<00:00,  4.50it/s]\n"
          ]
        },
        {
          "output_type": "stream",
          "name": "stdout",
          "text": [
            "[I] - running simulation with topic_change=2, repeat 8\n"
          ]
        },
        {
          "output_type": "stream",
          "name": "stderr",
          "text": [
            "100%|██████████| 100/100 [00:22<00:00,  4.44it/s]\n"
          ]
        },
        {
          "output_type": "stream",
          "name": "stdout",
          "text": [
            "[I] - running simulation with topic_change=2, repeat 9\n"
          ]
        },
        {
          "output_type": "stream",
          "name": "stderr",
          "text": [
            "100%|██████████| 100/100 [00:22<00:00,  4.41it/s]\n"
          ]
        },
        {
          "output_type": "stream",
          "name": "stdout",
          "text": [
            "[I] - running simulation with topic_change=2, repeat 10\n"
          ]
        },
        {
          "output_type": "stream",
          "name": "stderr",
          "text": [
            "100%|██████████| 100/100 [00:22<00:00,  4.46it/s]\n"
          ]
        },
        {
          "output_type": "stream",
          "name": "stdout",
          "text": [
            "[I] - running simulation with topic_change=2, repeat 11\n"
          ]
        },
        {
          "output_type": "stream",
          "name": "stderr",
          "text": [
            "100%|██████████| 100/100 [00:22<00:00,  4.49it/s]\n"
          ]
        },
        {
          "output_type": "stream",
          "name": "stdout",
          "text": [
            "[I] - running simulation with topic_change=2, repeat 12\n"
          ]
        },
        {
          "output_type": "stream",
          "name": "stderr",
          "text": [
            "100%|██████████| 100/100 [00:22<00:00,  4.52it/s]\n"
          ]
        },
        {
          "output_type": "stream",
          "name": "stdout",
          "text": [
            "[I] - running simulation with topic_change=2, repeat 13\n"
          ]
        },
        {
          "output_type": "stream",
          "name": "stderr",
          "text": [
            "100%|██████████| 100/100 [00:22<00:00,  4.45it/s]\n"
          ]
        },
        {
          "output_type": "stream",
          "name": "stdout",
          "text": [
            "[I] - running simulation with topic_change=2, repeat 14\n"
          ]
        },
        {
          "output_type": "stream",
          "name": "stderr",
          "text": [
            "100%|██████████| 100/100 [00:22<00:00,  4.46it/s]\n"
          ]
        },
        {
          "output_type": "stream",
          "name": "stdout",
          "text": [
            "[I] - running simulation with topic_change=2, repeat 15\n"
          ]
        },
        {
          "output_type": "stream",
          "name": "stderr",
          "text": [
            "100%|██████████| 100/100 [00:22<00:00,  4.47it/s]\n"
          ]
        },
        {
          "output_type": "stream",
          "name": "stdout",
          "text": [
            "[I] - running simulation with topic_change=2, repeat 16\n"
          ]
        },
        {
          "output_type": "stream",
          "name": "stderr",
          "text": [
            "100%|██████████| 100/100 [00:22<00:00,  4.48it/s]\n"
          ]
        },
        {
          "output_type": "stream",
          "name": "stdout",
          "text": [
            "[I] - running simulation with topic_change=2, repeat 17\n"
          ]
        },
        {
          "output_type": "stream",
          "name": "stderr",
          "text": [
            "100%|██████████| 100/100 [00:22<00:00,  4.40it/s]\n"
          ]
        },
        {
          "output_type": "stream",
          "name": "stdout",
          "text": [
            "[I] - running simulation with topic_change=2, repeat 18\n"
          ]
        },
        {
          "output_type": "stream",
          "name": "stderr",
          "text": [
            "100%|██████████| 100/100 [00:22<00:00,  4.42it/s]\n"
          ]
        },
        {
          "output_type": "stream",
          "name": "stdout",
          "text": [
            "[I] - running simulation with topic_change=2, repeat 19\n"
          ]
        },
        {
          "output_type": "stream",
          "name": "stderr",
          "text": [
            "100%|██████████| 100/100 [00:22<00:00,  4.43it/s]\n"
          ]
        },
        {
          "output_type": "stream",
          "name": "stdout",
          "text": [
            "[I] - running simulation with topic_change=2, repeat 20\n"
          ]
        },
        {
          "output_type": "stream",
          "name": "stderr",
          "text": [
            "100%|██████████| 100/100 [00:22<00:00,  4.49it/s]\n"
          ]
        },
        {
          "output_type": "stream",
          "name": "stdout",
          "text": [
            "[I] - running simulation with topic_change=2, repeat 21\n"
          ]
        },
        {
          "output_type": "stream",
          "name": "stderr",
          "text": [
            "100%|██████████| 100/100 [00:22<00:00,  4.46it/s]\n"
          ]
        },
        {
          "output_type": "stream",
          "name": "stdout",
          "text": [
            "[I] - running simulation with topic_change=2, repeat 22\n"
          ]
        },
        {
          "output_type": "stream",
          "name": "stderr",
          "text": [
            "100%|██████████| 100/100 [00:22<00:00,  4.45it/s]\n"
          ]
        },
        {
          "output_type": "stream",
          "name": "stdout",
          "text": [
            "[I] - running simulation with topic_change=2, repeat 23\n"
          ]
        },
        {
          "output_type": "stream",
          "name": "stderr",
          "text": [
            "100%|██████████| 100/100 [00:22<00:00,  4.42it/s]\n"
          ]
        },
        {
          "output_type": "stream",
          "name": "stdout",
          "text": [
            "[I] - running simulation with topic_change=2, repeat 24\n"
          ]
        },
        {
          "output_type": "stream",
          "name": "stderr",
          "text": [
            "100%|██████████| 100/100 [00:22<00:00,  4.45it/s]\n"
          ]
        },
        {
          "output_type": "stream",
          "name": "stdout",
          "text": [
            "[I] - running simulation with topic_change=2, repeat 25\n"
          ]
        },
        {
          "output_type": "stream",
          "name": "stderr",
          "text": [
            "100%|██████████| 100/100 [00:22<00:00,  4.47it/s]\n"
          ]
        },
        {
          "output_type": "stream",
          "name": "stdout",
          "text": [
            "[I] - running simulation with topic_change=2, repeat 26\n"
          ]
        },
        {
          "output_type": "stream",
          "name": "stderr",
          "text": [
            "100%|██████████| 100/100 [00:22<00:00,  4.45it/s]\n"
          ]
        },
        {
          "output_type": "stream",
          "name": "stdout",
          "text": [
            "[I] - running simulation with topic_change=2, repeat 27\n"
          ]
        },
        {
          "output_type": "stream",
          "name": "stderr",
          "text": [
            "100%|██████████| 100/100 [00:22<00:00,  4.45it/s]\n"
          ]
        },
        {
          "output_type": "stream",
          "name": "stdout",
          "text": [
            "[I] - running simulation with topic_change=2, repeat 28\n"
          ]
        },
        {
          "output_type": "stream",
          "name": "stderr",
          "text": [
            "100%|██████████| 100/100 [00:22<00:00,  4.48it/s]\n"
          ]
        },
        {
          "output_type": "stream",
          "name": "stdout",
          "text": [
            "[I] - running simulation with topic_change=2, repeat 29\n"
          ]
        },
        {
          "output_type": "stream",
          "name": "stderr",
          "text": [
            "100%|██████████| 100/100 [00:22<00:00,  4.42it/s]\n"
          ]
        },
        {
          "output_type": "stream",
          "name": "stdout",
          "text": [
            "[I] - running simulation with topic_change=2, repeat 30\n"
          ]
        },
        {
          "output_type": "stream",
          "name": "stderr",
          "text": [
            "100%|██████████| 100/100 [00:22<00:00,  4.47it/s]\n"
          ]
        },
        {
          "output_type": "stream",
          "name": "stdout",
          "text": [
            "[I] - running simulation with topic_change=2, repeat 31\n"
          ]
        },
        {
          "output_type": "stream",
          "name": "stderr",
          "text": [
            "100%|██████████| 100/100 [00:22<00:00,  4.40it/s]\n"
          ]
        },
        {
          "output_type": "stream",
          "name": "stdout",
          "text": [
            "[I] - running simulation with topic_change=2, repeat 32\n"
          ]
        },
        {
          "output_type": "stream",
          "name": "stderr",
          "text": [
            "100%|██████████| 100/100 [00:22<00:00,  4.49it/s]\n"
          ]
        },
        {
          "output_type": "stream",
          "name": "stdout",
          "text": [
            "[I] - running simulation with topic_change=2, repeat 33\n"
          ]
        },
        {
          "output_type": "stream",
          "name": "stderr",
          "text": [
            "100%|██████████| 100/100 [00:22<00:00,  4.48it/s]\n"
          ]
        },
        {
          "output_type": "stream",
          "name": "stdout",
          "text": [
            "[I] - running simulation with topic_change=2, repeat 34\n"
          ]
        },
        {
          "output_type": "stream",
          "name": "stderr",
          "text": [
            "100%|██████████| 100/100 [00:22<00:00,  4.49it/s]\n"
          ]
        },
        {
          "output_type": "stream",
          "name": "stdout",
          "text": [
            "[I] - running simulation with topic_change=2, repeat 35\n"
          ]
        },
        {
          "output_type": "stream",
          "name": "stderr",
          "text": [
            "100%|██████████| 100/100 [00:22<00:00,  4.43it/s]\n"
          ]
        },
        {
          "output_type": "stream",
          "name": "stdout",
          "text": [
            "[I] - running simulation with topic_change=2, repeat 36\n"
          ]
        },
        {
          "output_type": "stream",
          "name": "stderr",
          "text": [
            "100%|██████████| 100/100 [00:22<00:00,  4.49it/s]\n"
          ]
        },
        {
          "output_type": "stream",
          "name": "stdout",
          "text": [
            "[I] - running simulation with topic_change=2, repeat 37\n"
          ]
        },
        {
          "output_type": "stream",
          "name": "stderr",
          "text": [
            "100%|██████████| 100/100 [00:22<00:00,  4.45it/s]\n"
          ]
        },
        {
          "output_type": "stream",
          "name": "stdout",
          "text": [
            "[I] - running simulation with topic_change=2, repeat 38\n"
          ]
        },
        {
          "output_type": "stream",
          "name": "stderr",
          "text": [
            "100%|██████████| 100/100 [00:22<00:00,  4.44it/s]\n"
          ]
        },
        {
          "output_type": "stream",
          "name": "stdout",
          "text": [
            "[I] - running simulation with topic_change=2, repeat 39\n"
          ]
        },
        {
          "output_type": "stream",
          "name": "stderr",
          "text": [
            "100%|██████████| 100/100 [00:22<00:00,  4.51it/s]\n"
          ]
        },
        {
          "output_type": "stream",
          "name": "stdout",
          "text": [
            "[I] - running simulation with topic_change=2, repeat 40\n"
          ]
        },
        {
          "output_type": "stream",
          "name": "stderr",
          "text": [
            "100%|██████████| 100/100 [00:22<00:00,  4.50it/s]\n"
          ]
        },
        {
          "output_type": "stream",
          "name": "stdout",
          "text": [
            "[I] - running simulation with topic_change=2, repeat 41\n"
          ]
        },
        {
          "output_type": "stream",
          "name": "stderr",
          "text": [
            "100%|██████████| 100/100 [00:22<00:00,  4.47it/s]\n"
          ]
        },
        {
          "output_type": "stream",
          "name": "stdout",
          "text": [
            "[I] - running simulation with topic_change=2, repeat 42\n"
          ]
        },
        {
          "output_type": "stream",
          "name": "stderr",
          "text": [
            "100%|██████████| 100/100 [00:22<00:00,  4.44it/s]\n"
          ]
        },
        {
          "output_type": "stream",
          "name": "stdout",
          "text": [
            "[I] - running simulation with topic_change=2, repeat 43\n"
          ]
        },
        {
          "output_type": "stream",
          "name": "stderr",
          "text": [
            "100%|██████████| 100/100 [00:22<00:00,  4.44it/s]\n"
          ]
        },
        {
          "output_type": "stream",
          "name": "stdout",
          "text": [
            "[I] - running simulation with topic_change=2, repeat 44\n"
          ]
        },
        {
          "output_type": "stream",
          "name": "stderr",
          "text": [
            "100%|██████████| 100/100 [00:22<00:00,  4.46it/s]\n"
          ]
        },
        {
          "output_type": "stream",
          "name": "stdout",
          "text": [
            "[I] - running simulation with topic_change=2, repeat 45\n"
          ]
        },
        {
          "output_type": "stream",
          "name": "stderr",
          "text": [
            "100%|██████████| 100/100 [00:22<00:00,  4.43it/s]\n"
          ]
        },
        {
          "output_type": "stream",
          "name": "stdout",
          "text": [
            "[I] - running simulation with topic_change=2, repeat 46\n"
          ]
        },
        {
          "output_type": "stream",
          "name": "stderr",
          "text": [
            "100%|██████████| 100/100 [00:22<00:00,  4.44it/s]\n"
          ]
        },
        {
          "output_type": "stream",
          "name": "stdout",
          "text": [
            "[I] - running simulation with topic_change=2, repeat 47\n"
          ]
        },
        {
          "output_type": "stream",
          "name": "stderr",
          "text": [
            "100%|██████████| 100/100 [00:22<00:00,  4.50it/s]\n"
          ]
        },
        {
          "output_type": "stream",
          "name": "stdout",
          "text": [
            "[I] - running simulation with topic_change=2, repeat 48\n"
          ]
        },
        {
          "output_type": "stream",
          "name": "stderr",
          "text": [
            "100%|██████████| 100/100 [00:22<00:00,  4.47it/s]\n"
          ]
        },
        {
          "output_type": "stream",
          "name": "stdout",
          "text": [
            "[I] - running simulation with topic_change=2, repeat 49\n"
          ]
        },
        {
          "output_type": "stream",
          "name": "stderr",
          "text": [
            "100%|██████████| 100/100 [00:22<00:00,  4.46it/s]\n"
          ]
        }
      ]
    },
    {
      "cell_type": "code",
      "source": [
        "for k, v in res.items():\n",
        "  plot_graphs(*list(v.values()), title=k, legend=True, label=['topic_change=0','topic_change=1','topic_change=2'], show=True, save=True)"
      ],
      "metadata": {
        "id": "dKeUE47iBxmz",
        "outputId": "6876591b-acc0-4795-ab73-d0af3646ff5d",
        "colab": {
          "base_uri": "https://localhost:8080/",
          "height": 594
        }
      },
      "execution_count": 14,
      "outputs": [
        {
          "output_type": "display_data",
          "data": {
            "image/png": "[encoded data removed]",
            "text/plain": [
              "<Figure size 432x288 with 1 Axes>"
            ]
          },
          "metadata": {
            "image/png": {
              "width": 372,
              "height": 279
            },
            "needs_background": "light"
          }
        },
        {
          "output_type": "display_data",
          "data": {
            "image/png": "[encoded data removed]",
            "text/plain": [
              "<Figure size 432x288 with 1 Axes>"
            ]
          },
          "metadata": {
            "image/png": {
              "width": 372,
              "height": 279
            },
            "needs_background": "light"
          }
        }
      ]
    },
    {
      "cell_type": "code",
      "source": [
        ""
      ],
      "metadata": {
        "id": "7aIhCBY0CdrX"
      },
      "execution_count": 12,
      "outputs": []
    }
  ]
}