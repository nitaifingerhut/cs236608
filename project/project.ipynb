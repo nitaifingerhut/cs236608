{
 "cells": [
  {
   "cell_type": "markdown",
   "metadata": {},
   "source": [
    "**Table of Contents**\n",
    "1) Mission statment\n",
    "2) Topics-Dynamic User Model\\\n",
    "    2.1) Why it does not represent the phanomena we deal with\\\n",
    "    2.2) Preferences change over time\n",
    "3) Topics-Dynamic-Reverse User Model\\\n",
    "3.1) Preferences change over time\n",
    "4) Topic-Dynamic-Rec-Agnostic\\\n",
    "4.1) Breaking the recommender-environment feedback loop\n",
    "5) Baseline - Vanilla AutoRec\\\n",
    "    5.1) Multiple decision rules\\\n",
    "    5.2) MRSE\\\n",
    "    5.3) ARRI\\\n",
    "    5.4) Model Convergence\n",
    "6) AutoRec with ratings history\\\n",
    "    6.1) Different temporal window size\\\n",
    "    6.2) Different initialization user-item-window tensor\\\n",
    "    6.3) MRSE\\\n",
    "    6.4) ARRI\\\n",
    "    6.5) Model Convergence\n",
    "7) AutoRec with ratings history & recommendations history\\\n",
    "    7.1) Different temporal window size\\\n",
    "    7.2) Different initialization user-item-window tensor\\\n",
    "    7.3) MRSE\\\n",
    "    7.4) ARRI\\\n",
    "    7.5) Model Convergence\n",
    "8) Conclusion\n"
   ]
  },
  {
   "cell_type": "markdown",
   "metadata": {},
   "source": [
    "**Section 1: Mission Statment**\\\n",
    "Recommending items from a fixed-size set of items to a fixed-szie set of users is an open challenge for the followiung reasons (partial list): \n",
    "1) i.i.d principle violation:\\\n",
    "One of the basic assumptions in training a 'classic' predictive model is independence & identically distribution of the training data.\\\n",
    "As a consequnce, one assumes that all data points presented to the model during training are drawn from a time-invariant distribution function.\\\n",
    "But in Rec Systems, this is not hold. The users change their behaviors (their underlyning distributions) as a response to the recommender decisions.\\\n",
    "This forces the recommender to be strategic in the face of uncertainity, which is quite difficult during training, when the recommender is yet uncapable in term of predictive performance. \n",
    "2) Even regardless to the feedback loop between the recommender & the users, still the user model changes frequently over time during training.\\\n",
    "Since the recommender model (at least the vanilla version) does not have a ense of time, it is hardly capable learning the prefernces changing function, even when it is user-invariant, time-invariant and changes slow enough. \n",
    "3) We hypothesize that if a model would be capable to learn the users underlying change function, it could use this information for better predictions, which in turn would lead to better recommendations.\n",
    "4) We examined various recommender models that were trained on a tensor of obeserved ratings over last k iterations rather than a single frameshot ratings matrix in the vanilla AutoRec version.\n",
    "5) Furthermore, wed hypothesized that if we will feed the model with its previous decisions (another temporal window of recommendations), it will be able to mitigate the phanomena presented in 1).\n",
    "TL;DR it didn't work though. "
   ]
  },
  {
   "cell_type": "markdown",
   "metadata": {},
   "source": [
    "**Section 2: Topics-Dynamic User-Model**\n",
    "There are countless user models, aka, ways that the user can change their behavior over time.\\\n",
    "We choose to keep it simple, and stay close as possible to the Topics-Dynamic User-Model we saw in class.\\\n",
    "In this User-Model, all items are grouped into topics, and users prefers topics, rather than an individual items.\\\n",
    "The preference of user $u$ for items $i$ of topic $k$\n",
    "is initialized as $\\pi(u, k) \\sim U(0.5, 5.5)$,\\\n",
    "while the topic, $k$ of item $i$ is chosen randomly from the set of all topics.\\\n",
    "When user $u$ is recommended item $i$ it will rate the item as $r_t(u, i)=clip(\\pi(u, k)+\\epsilon)$ where $\\epsilon \\sim N(0,\\sigma^2)$ represents exogenous noise not,\n",
    "modeled by the simulation, and clip truncates values to be between $1$ and $5$."
   ]
  },
  {
   "cell_type": "markdown",
   "metadata": {},
   "source": []
  }
 ],
 "metadata": {
  "interpreter": {
   "hash": "1c81bb6c5d07bc74241c85ef62b264aeeba785eadb258e083c9c642a1ca48f83"
  },
  "kernelspec": {
   "display_name": "Python 3.8.11 ('cs236608')",
   "language": "python",
   "name": "python3"
  },
  "language_info": {
   "name": "python",
   "version": "3.8.11"
  },
  "orig_nbformat": 4
 },
 "nbformat": 4,
 "nbformat_minor": 2
}
