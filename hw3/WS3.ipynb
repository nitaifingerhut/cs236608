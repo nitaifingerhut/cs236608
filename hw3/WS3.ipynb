{
  "nbformat": 4,
  "nbformat_minor": 0,
  "metadata": {
    "colab": {
      "name": "Copy of WS3_Students.ipynb",
      "provenance": [],
      "collapsed_sections": []
    },
    "kernelspec": {
      "name": "python3",
      "display_name": "Python 3"
    },
    "language_info": {
      "name": "python"
    },
    "widgets": {
      "application/vnd.jupyter.widget-state+json": {
        "a95bd351e99e4d8d83bd96329d2d22f0": {
          "model_module": "@jupyter-widgets/controls",
          "model_name": "HBoxModel",
          "model_module_version": "1.5.0",
          "state": {
            "_view_name": "HBoxView",
            "_dom_classes": [],
            "_model_name": "HBoxModel",
            "_view_module": "@jupyter-widgets/controls",
            "_model_module_version": "1.5.0",
            "_view_count": null,
            "_view_module_version": "1.5.0",
            "box_style": "",
            "layout": "IPY_MODEL_74e68c3e32944aec949200c85b561874",
            "_model_module": "@jupyter-widgets/controls",
            "children": [
              "IPY_MODEL_8c7c1d4a2b50489f89b62430a148e6ce",
              "IPY_MODEL_9f452e2c5c2d4c8e95349f4e8deed85a",
              "IPY_MODEL_1c81679dd39540fdaf7aa8eb6a92d347"
            ]
          }
        },
        "74e68c3e32944aec949200c85b561874": {
          "model_module": "@jupyter-widgets/base",
          "model_name": "LayoutModel",
          "model_module_version": "1.2.0",
          "state": {
            "_view_name": "LayoutView",
            "grid_template_rows": null,
            "right": null,
            "justify_content": null,
            "_view_module": "@jupyter-widgets/base",
            "overflow": null,
            "_model_module_version": "1.2.0",
            "_view_count": null,
            "flex_flow": null,
            "width": null,
            "min_width": null,
            "border": null,
            "align_items": null,
            "bottom": null,
            "_model_module": "@jupyter-widgets/base",
            "top": null,
            "grid_column": null,
            "overflow_y": null,
            "overflow_x": null,
            "grid_auto_flow": null,
            "grid_area": null,
            "grid_template_columns": null,
            "flex": null,
            "_model_name": "LayoutModel",
            "justify_items": null,
            "grid_row": null,
            "max_height": null,
            "align_content": null,
            "visibility": null,
            "align_self": null,
            "height": null,
            "min_height": null,
            "padding": null,
            "grid_auto_rows": null,
            "grid_gap": null,
            "max_width": null,
            "order": null,
            "_view_module_version": "1.2.0",
            "grid_template_areas": null,
            "object_position": null,
            "object_fit": null,
            "grid_auto_columns": null,
            "margin": null,
            "display": null,
            "left": null
          }
        },
        "8c7c1d4a2b50489f89b62430a148e6ce": {
          "model_module": "@jupyter-widgets/controls",
          "model_name": "HTMLModel",
          "model_module_version": "1.5.0",
          "state": {
            "_view_name": "HTMLView",
            "style": "IPY_MODEL_a40849bd5a7448b592179af6fa44d1f9",
            "_dom_classes": [],
            "description": "",
            "_model_name": "HTMLModel",
            "placeholder": "​",
            "_view_module": "@jupyter-widgets/controls",
            "_model_module_version": "1.5.0",
            "value": "100%",
            "_view_count": null,
            "_view_module_version": "1.5.0",
            "description_tooltip": null,
            "_model_module": "@jupyter-widgets/controls",
            "layout": "IPY_MODEL_053b579b8cee425b8b6050b1b80faf85"
          }
        },
        "9f452e2c5c2d4c8e95349f4e8deed85a": {
          "model_module": "@jupyter-widgets/controls",
          "model_name": "FloatProgressModel",
          "model_module_version": "1.5.0",
          "state": {
            "_view_name": "ProgressView",
            "style": "IPY_MODEL_57cdf4434f604e22b40ff017208139e8",
            "_dom_classes": [],
            "description": "",
            "_model_name": "FloatProgressModel",
            "bar_style": "success",
            "max": 13,
            "_view_module": "@jupyter-widgets/controls",
            "_model_module_version": "1.5.0",
            "value": 13,
            "_view_count": null,
            "_view_module_version": "1.5.0",
            "orientation": "horizontal",
            "min": 0,
            "description_tooltip": null,
            "_model_module": "@jupyter-widgets/controls",
            "layout": "IPY_MODEL_ffdf6a84d40649debb4f23c39da64dab"
          }
        },
        "1c81679dd39540fdaf7aa8eb6a92d347": {
          "model_module": "@jupyter-widgets/controls",
          "model_name": "HTMLModel",
          "model_module_version": "1.5.0",
          "state": {
            "_view_name": "HTMLView",
            "style": "IPY_MODEL_b6d6a4e47a574c9a8cfb6835d159994c",
            "_dom_classes": [],
            "description": "",
            "_model_name": "HTMLModel",
            "placeholder": "​",
            "_view_module": "@jupyter-widgets/controls",
            "_model_module_version": "1.5.0",
            "value": " 13/13 [00:06&lt;00:00,  2.09it/s]",
            "_view_count": null,
            "_view_module_version": "1.5.0",
            "description_tooltip": null,
            "_model_module": "@jupyter-widgets/controls",
            "layout": "IPY_MODEL_b8ca167be34943a49b77053628430fc4"
          }
        },
        "a40849bd5a7448b592179af6fa44d1f9": {
          "model_module": "@jupyter-widgets/controls",
          "model_name": "DescriptionStyleModel",
          "model_module_version": "1.5.0",
          "state": {
            "_view_name": "StyleView",
            "_model_name": "DescriptionStyleModel",
            "description_width": "",
            "_view_module": "@jupyter-widgets/base",
            "_model_module_version": "1.5.0",
            "_view_count": null,
            "_view_module_version": "1.2.0",
            "_model_module": "@jupyter-widgets/controls"
          }
        },
        "053b579b8cee425b8b6050b1b80faf85": {
          "model_module": "@jupyter-widgets/base",
          "model_name": "LayoutModel",
          "model_module_version": "1.2.0",
          "state": {
            "_view_name": "LayoutView",
            "grid_template_rows": null,
            "right": null,
            "justify_content": null,
            "_view_module": "@jupyter-widgets/base",
            "overflow": null,
            "_model_module_version": "1.2.0",
            "_view_count": null,
            "flex_flow": null,
            "width": null,
            "min_width": null,
            "border": null,
            "align_items": null,
            "bottom": null,
            "_model_module": "@jupyter-widgets/base",
            "top": null,
            "grid_column": null,
            "overflow_y": null,
            "overflow_x": null,
            "grid_auto_flow": null,
            "grid_area": null,
            "grid_template_columns": null,
            "flex": null,
            "_model_name": "LayoutModel",
            "justify_items": null,
            "grid_row": null,
            "max_height": null,
            "align_content": null,
            "visibility": null,
            "align_self": null,
            "height": null,
            "min_height": null,
            "padding": null,
            "grid_auto_rows": null,
            "grid_gap": null,
            "max_width": null,
            "order": null,
            "_view_module_version": "1.2.0",
            "grid_template_areas": null,
            "object_position": null,
            "object_fit": null,
            "grid_auto_columns": null,
            "margin": null,
            "display": null,
            "left": null
          }
        },
        "57cdf4434f604e22b40ff017208139e8": {
          "model_module": "@jupyter-widgets/controls",
          "model_name": "ProgressStyleModel",
          "model_module_version": "1.5.0",
          "state": {
            "_view_name": "StyleView",
            "_model_name": "ProgressStyleModel",
            "description_width": "",
            "_view_module": "@jupyter-widgets/base",
            "_model_module_version": "1.5.0",
            "_view_count": null,
            "_view_module_version": "1.2.0",
            "bar_color": null,
            "_model_module": "@jupyter-widgets/controls"
          }
        },
        "ffdf6a84d40649debb4f23c39da64dab": {
          "model_module": "@jupyter-widgets/base",
          "model_name": "LayoutModel",
          "model_module_version": "1.2.0",
          "state": {
            "_view_name": "LayoutView",
            "grid_template_rows": null,
            "right": null,
            "justify_content": null,
            "_view_module": "@jupyter-widgets/base",
            "overflow": null,
            "_model_module_version": "1.2.0",
            "_view_count": null,
            "flex_flow": null,
            "width": null,
            "min_width": null,
            "border": null,
            "align_items": null,
            "bottom": null,
            "_model_module": "@jupyter-widgets/base",
            "top": null,
            "grid_column": null,
            "overflow_y": null,
            "overflow_x": null,
            "grid_auto_flow": null,
            "grid_area": null,
            "grid_template_columns": null,
            "flex": null,
            "_model_name": "LayoutModel",
            "justify_items": null,
            "grid_row": null,
            "max_height": null,
            "align_content": null,
            "visibility": null,
            "align_self": null,
            "height": null,
            "min_height": null,
            "padding": null,
            "grid_auto_rows": null,
            "grid_gap": null,
            "max_width": null,
            "order": null,
            "_view_module_version": "1.2.0",
            "grid_template_areas": null,
            "object_position": null,
            "object_fit": null,
            "grid_auto_columns": null,
            "margin": null,
            "display": null,
            "left": null
          }
        },
        "b6d6a4e47a574c9a8cfb6835d159994c": {
          "model_module": "@jupyter-widgets/controls",
          "model_name": "DescriptionStyleModel",
          "model_module_version": "1.5.0",
          "state": {
            "_view_name": "StyleView",
            "_model_name": "DescriptionStyleModel",
            "description_width": "",
            "_view_module": "@jupyter-widgets/base",
            "_model_module_version": "1.5.0",
            "_view_count": null,
            "_view_module_version": "1.2.0",
            "_model_module": "@jupyter-widgets/controls"
          }
        },
        "b8ca167be34943a49b77053628430fc4": {
          "model_module": "@jupyter-widgets/base",
          "model_name": "LayoutModel",
          "model_module_version": "1.2.0",
          "state": {
            "_view_name": "LayoutView",
            "grid_template_rows": null,
            "right": null,
            "justify_content": null,
            "_view_module": "@jupyter-widgets/base",
            "overflow": null,
            "_model_module_version": "1.2.0",
            "_view_count": null,
            "flex_flow": null,
            "width": null,
            "min_width": null,
            "border": null,
            "align_items": null,
            "bottom": null,
            "_model_module": "@jupyter-widgets/base",
            "top": null,
            "grid_column": null,
            "overflow_y": null,
            "overflow_x": null,
            "grid_auto_flow": null,
            "grid_area": null,
            "grid_template_columns": null,
            "flex": null,
            "_model_name": "LayoutModel",
            "justify_items": null,
            "grid_row": null,
            "max_height": null,
            "align_content": null,
            "visibility": null,
            "align_self": null,
            "height": null,
            "min_height": null,
            "padding": null,
            "grid_auto_rows": null,
            "grid_gap": null,
            "max_width": null,
            "order": null,
            "_view_module_version": "1.2.0",
            "grid_template_areas": null,
            "object_position": null,
            "object_fit": null,
            "grid_auto_columns": null,
            "margin": null,
            "display": null,
            "left": null
          }
        },
        "118bb91c2bd640168ed18defb1aad0c5": {
          "model_module": "@jupyter-widgets/controls",
          "model_name": "HBoxModel",
          "model_module_version": "1.5.0",
          "state": {
            "_view_name": "HBoxView",
            "_dom_classes": [],
            "_model_name": "HBoxModel",
            "_view_module": "@jupyter-widgets/controls",
            "_model_module_version": "1.5.0",
            "_view_count": null,
            "_view_module_version": "1.5.0",
            "box_style": "",
            "layout": "IPY_MODEL_e3bb8f24bdce4fda9a796b5ccd72a20b",
            "_model_module": "@jupyter-widgets/controls",
            "children": [
              "IPY_MODEL_dc84e419478b46448c7d91dc7f33b6d5",
              "IPY_MODEL_d325b0f58f8b4e839e99e6b87c714610",
              "IPY_MODEL_e830a6ed284d4c93809e8be0a93fedab"
            ]
          }
        },
        "e3bb8f24bdce4fda9a796b5ccd72a20b": {
          "model_module": "@jupyter-widgets/base",
          "model_name": "LayoutModel",
          "model_module_version": "1.2.0",
          "state": {
            "_view_name": "LayoutView",
            "grid_template_rows": null,
            "right": null,
            "justify_content": null,
            "_view_module": "@jupyter-widgets/base",
            "overflow": null,
            "_model_module_version": "1.2.0",
            "_view_count": null,
            "flex_flow": null,
            "width": null,
            "min_width": null,
            "border": null,
            "align_items": null,
            "bottom": null,
            "_model_module": "@jupyter-widgets/base",
            "top": null,
            "grid_column": null,
            "overflow_y": null,
            "overflow_x": null,
            "grid_auto_flow": null,
            "grid_area": null,
            "grid_template_columns": null,
            "flex": null,
            "_model_name": "LayoutModel",
            "justify_items": null,
            "grid_row": null,
            "max_height": null,
            "align_content": null,
            "visibility": null,
            "align_self": null,
            "height": null,
            "min_height": null,
            "padding": null,
            "grid_auto_rows": null,
            "grid_gap": null,
            "max_width": null,
            "order": null,
            "_view_module_version": "1.2.0",
            "grid_template_areas": null,
            "object_position": null,
            "object_fit": null,
            "grid_auto_columns": null,
            "margin": null,
            "display": null,
            "left": null
          }
        },
        "dc84e419478b46448c7d91dc7f33b6d5": {
          "model_module": "@jupyter-widgets/controls",
          "model_name": "HTMLModel",
          "model_module_version": "1.5.0",
          "state": {
            "_view_name": "HTMLView",
            "style": "IPY_MODEL_58782d7c17e5487aa081ae2b401bf3fb",
            "_dom_classes": [],
            "description": "",
            "_model_name": "HTMLModel",
            "placeholder": "​",
            "_view_module": "@jupyter-widgets/controls",
            "_model_module_version": "1.5.0",
            "value": "100%",
            "_view_count": null,
            "_view_module_version": "1.5.0",
            "description_tooltip": null,
            "_model_module": "@jupyter-widgets/controls",
            "layout": "IPY_MODEL_8258d86c2b5b45a2ad6a4e5b5eb45119"
          }
        },
        "d325b0f58f8b4e839e99e6b87c714610": {
          "model_module": "@jupyter-widgets/controls",
          "model_name": "FloatProgressModel",
          "model_module_version": "1.5.0",
          "state": {
            "_view_name": "ProgressView",
            "style": "IPY_MODEL_b9f9b289c40a4c8cbc4f9cbedd3977d8",
            "_dom_classes": [],
            "description": "",
            "_model_name": "FloatProgressModel",
            "bar_style": "success",
            "max": 14,
            "_view_module": "@jupyter-widgets/controls",
            "_model_module_version": "1.5.0",
            "value": 14,
            "_view_count": null,
            "_view_module_version": "1.5.0",
            "orientation": "horizontal",
            "min": 0,
            "description_tooltip": null,
            "_model_module": "@jupyter-widgets/controls",
            "layout": "IPY_MODEL_bab82512c3fe4480b3f02df25a946179"
          }
        },
        "e830a6ed284d4c93809e8be0a93fedab": {
          "model_module": "@jupyter-widgets/controls",
          "model_name": "HTMLModel",
          "model_module_version": "1.5.0",
          "state": {
            "_view_name": "HTMLView",
            "style": "IPY_MODEL_fdb7be0fcf0d4b4b88d7bf2b775b6e4b",
            "_dom_classes": [],
            "description": "",
            "_model_name": "HTMLModel",
            "placeholder": "​",
            "_view_module": "@jupyter-widgets/controls",
            "_model_module_version": "1.5.0",
            "value": " 14/14 [00:06&lt;00:00,  2.26it/s]",
            "_view_count": null,
            "_view_module_version": "1.5.0",
            "description_tooltip": null,
            "_model_module": "@jupyter-widgets/controls",
            "layout": "IPY_MODEL_a1b9718a88e8413f8a00ba8e5fd3b314"
          }
        },
        "58782d7c17e5487aa081ae2b401bf3fb": {
          "model_module": "@jupyter-widgets/controls",
          "model_name": "DescriptionStyleModel",
          "model_module_version": "1.5.0",
          "state": {
            "_view_name": "StyleView",
            "_model_name": "DescriptionStyleModel",
            "description_width": "",
            "_view_module": "@jupyter-widgets/base",
            "_model_module_version": "1.5.0",
            "_view_count": null,
            "_view_module_version": "1.2.0",
            "_model_module": "@jupyter-widgets/controls"
          }
        },
        "8258d86c2b5b45a2ad6a4e5b5eb45119": {
          "model_module": "@jupyter-widgets/base",
          "model_name": "LayoutModel",
          "model_module_version": "1.2.0",
          "state": {
            "_view_name": "LayoutView",
            "grid_template_rows": null,
            "right": null,
            "justify_content": null,
            "_view_module": "@jupyter-widgets/base",
            "overflow": null,
            "_model_module_version": "1.2.0",
            "_view_count": null,
            "flex_flow": null,
            "width": null,
            "min_width": null,
            "border": null,
            "align_items": null,
            "bottom": null,
            "_model_module": "@jupyter-widgets/base",
            "top": null,
            "grid_column": null,
            "overflow_y": null,
            "overflow_x": null,
            "grid_auto_flow": null,
            "grid_area": null,
            "grid_template_columns": null,
            "flex": null,
            "_model_name": "LayoutModel",
            "justify_items": null,
            "grid_row": null,
            "max_height": null,
            "align_content": null,
            "visibility": null,
            "align_self": null,
            "height": null,
            "min_height": null,
            "padding": null,
            "grid_auto_rows": null,
            "grid_gap": null,
            "max_width": null,
            "order": null,
            "_view_module_version": "1.2.0",
            "grid_template_areas": null,
            "object_position": null,
            "object_fit": null,
            "grid_auto_columns": null,
            "margin": null,
            "display": null,
            "left": null
          }
        },
        "b9f9b289c40a4c8cbc4f9cbedd3977d8": {
          "model_module": "@jupyter-widgets/controls",
          "model_name": "ProgressStyleModel",
          "model_module_version": "1.5.0",
          "state": {
            "_view_name": "StyleView",
            "_model_name": "ProgressStyleModel",
            "description_width": "",
            "_view_module": "@jupyter-widgets/base",
            "_model_module_version": "1.5.0",
            "_view_count": null,
            "_view_module_version": "1.2.0",
            "bar_color": null,
            "_model_module": "@jupyter-widgets/controls"
          }
        },
        "bab82512c3fe4480b3f02df25a946179": {
          "model_module": "@jupyter-widgets/base",
          "model_name": "LayoutModel",
          "model_module_version": "1.2.0",
          "state": {
            "_view_name": "LayoutView",
            "grid_template_rows": null,
            "right": null,
            "justify_content": null,
            "_view_module": "@jupyter-widgets/base",
            "overflow": null,
            "_model_module_version": "1.2.0",
            "_view_count": null,
            "flex_flow": null,
            "width": null,
            "min_width": null,
            "border": null,
            "align_items": null,
            "bottom": null,
            "_model_module": "@jupyter-widgets/base",
            "top": null,
            "grid_column": null,
            "overflow_y": null,
            "overflow_x": null,
            "grid_auto_flow": null,
            "grid_area": null,
            "grid_template_columns": null,
            "flex": null,
            "_model_name": "LayoutModel",
            "justify_items": null,
            "grid_row": null,
            "max_height": null,
            "align_content": null,
            "visibility": null,
            "align_self": null,
            "height": null,
            "min_height": null,
            "padding": null,
            "grid_auto_rows": null,
            "grid_gap": null,
            "max_width": null,
            "order": null,
            "_view_module_version": "1.2.0",
            "grid_template_areas": null,
            "object_position": null,
            "object_fit": null,
            "grid_auto_columns": null,
            "margin": null,
            "display": null,
            "left": null
          }
        },
        "fdb7be0fcf0d4b4b88d7bf2b775b6e4b": {
          "model_module": "@jupyter-widgets/controls",
          "model_name": "DescriptionStyleModel",
          "model_module_version": "1.5.0",
          "state": {
            "_view_name": "StyleView",
            "_model_name": "DescriptionStyleModel",
            "description_width": "",
            "_view_module": "@jupyter-widgets/base",
            "_model_module_version": "1.5.0",
            "_view_count": null,
            "_view_module_version": "1.2.0",
            "_model_module": "@jupyter-widgets/controls"
          }
        },
        "a1b9718a88e8413f8a00ba8e5fd3b314": {
          "model_module": "@jupyter-widgets/base",
          "model_name": "LayoutModel",
          "model_module_version": "1.2.0",
          "state": {
            "_view_name": "LayoutView",
            "grid_template_rows": null,
            "right": null,
            "justify_content": null,
            "_view_module": "@jupyter-widgets/base",
            "overflow": null,
            "_model_module_version": "1.2.0",
            "_view_count": null,
            "flex_flow": null,
            "width": null,
            "min_width": null,
            "border": null,
            "align_items": null,
            "bottom": null,
            "_model_module": "@jupyter-widgets/base",
            "top": null,
            "grid_column": null,
            "overflow_y": null,
            "overflow_x": null,
            "grid_auto_flow": null,
            "grid_area": null,
            "grid_template_columns": null,
            "flex": null,
            "_model_name": "LayoutModel",
            "justify_items": null,
            "grid_row": null,
            "max_height": null,
            "align_content": null,
            "visibility": null,
            "align_self": null,
            "height": null,
            "min_height": null,
            "padding": null,
            "grid_auto_rows": null,
            "grid_gap": null,
            "max_width": null,
            "order": null,
            "_view_module_version": "1.2.0",
            "grid_template_areas": null,
            "object_position": null,
            "object_fit": null,
            "grid_auto_columns": null,
            "margin": null,
            "display": null,
            "left": null
          }
        }
      }
    }
  },
  "cells": [
    {
      "cell_type": "markdown",
      "source": [
        "# MLHB Workshop 3 - Funnel and Bias 🦝 "
      ],
      "metadata": {
        "id": "wnWX_VzBeoym"
      }
    },
    {
      "cell_type": "markdown",
      "metadata": {
        "id": "-vlvDYcn1XAm"
      },
      "source": [
        "## 1.1 Types of feedback (or: \"the funnel\")\n",
        "\n",
        "In this exercise, we will simulate and analyze a hypothetical recommender system. For simplicty, our system will have a single user, and the goal of the system is to provide her with relevant content.\n",
        "The user is described by a (latent) vector $u\\in \\mathbb{R}^d$, which is unknown to the system. For a given item $i$ with features $x_i \\in \\mathbb{R}^d$ (which are known to the system), relevance to the user is an integer $y \\in \\{1,\\dots,5\\}$, given by the following formula:\n",
        "$$\n",
        "y=\\texttt{round}(\\sigma(u^\\top x_i)-0.5) \\quad \\text{where} \\quad\n",
        "\\sigma(a)=1+\\frac{4}{1+e^{-1.5a}}\n",
        "$$\n",
        "Don't be allarmed - the formula simply: computes an inner product, squashes into $[0,1]$, expands to $[1,5]$, and rounds.\n",
        "\n",
        "To make its recommendations, **the system is given access to two types of data**, generated by the user as a response to past recommendations: clicks, and (possibly) ratings. Specifically, given a training set of previously-recommended items, for each of these items, the system also observes:\n",
        "  1. A binary *click* label $c \\in \\{0,1\\}$. The user clicks on a recommended item only if its *perceived* relevance $\\tilde{y}$ is higher than some threshold `thresh_click`. Perceived relevance differs from true relevance in two ways:\n",
        "    1. They are based only on partial information (think of how search results include only a short summary of an item). In our case, the user only gets to observe some of the features.\n",
        "    2. They include additive noise `eps_click` (this is applied to the inner prodect $u^\\top x_i$).\n",
        "  2. An integer *rating* label $r \\in \\{1,\\dots,5\\}$. Ratings are based on items relevancies, and are reported *only after items have been consumed*. This means that:\n",
        "    1. They are based on the entire feature vector (i.e., consuming an items means the user is exposed to the entire feature vector).\n",
        "    2. They are also affected by additive noise `eps_rating`.\n",
        "    3. Importantly, they are observed **only for items that have been clicked**.\n",
        "\n",
        "None of the parameters `thresh_click`, `eps_click`, and `eps_rating` are known to the system.\n",
        "\n",
        "In this exercise we will explore how the interaction between these two types of user feedback affect learning and recommendation."
      ]
    },
    {
      "cell_type": "markdown",
      "source": [
        "### Imports"
      ],
      "metadata": {
        "id": "YwS22RxEAWfF"
      }
    },
    {
      "cell_type": "code",
      "source": [
        "import pandas as pd\n",
        "import numpy as np\n",
        "import uuid\n",
        "from typing import List, Tuple\n",
        "\n",
        "from sklearn.linear_model import LogisticRegression, LinearRegression\n",
        "from sklearn.metrics import ndcg_score\n",
        "import matplotlib.pyplot as plt\n",
        "from sklearn.metrics import ndcg_score, mean_squared_error\n"
      ],
      "metadata": {
        "id": "Bh9XM6vAAZdD"
      },
      "execution_count": 2,
      "outputs": []
    },
    {
      "cell_type": "markdown",
      "source": [
        "### The `DatasetGenerator` class\n",
        "\n",
        "All the datasets in this exercise are represented using `pandas.DataFrame` objects ([API reference](https://pandas.pydata.org/docs/reference/api/pandas.DataFrame.html)).\n",
        "\n",
        "To generate the synthetic datasets, we will use the `DatasetGenerator` class defined below. The constructor includes three arguments: `thresh_click`, `eps_click`, and `eps_rating`, as described above. Calling `DatasetGenerator()` results in default arguments.\n",
        "\n",
        "Additionally, the class has two public instance methods that we're going to use:\n",
        "\n",
        "* `generate_evaluation_set(n_samples)` - Generate evaluation set of the given size. This function returns a `pandas.DataFrame` object. The dataframe is indexed by `item_id`, which is an arbitrary random string assigned to each item. The dataframe has clumns for each of the $d$ features, and and additional `true_relevance` column that stores the true (un-noised) relevancies of all items.\n",
        "\n",
        "* `generate_training_set(n_samples)` - Generate a training set of the given size. Similarly, this function returns a `pandas.DataFrame` object with the same type of index, and with feature columns. The dataframe does not include ture relevancies; instead it includes two additional columns:\n",
        " * The column `click` is an indicator of whether the user clicked an item ($c_{i}\\in\\{0,1\\}$ as in the definitions above).\n",
        " * The column `rating` contains the item rating ($r_{i}\\in\\{1,\\dots,5\\}$ in the definitions above).\n",
        "\n",
        "The next cell loads the `DatasetGenerator` class def - please simply run the cell, and ignore the internal implementation. In the cells that follow, we will guide you in how to use its public interface.\n"
      ],
      "metadata": {
        "id": "HCM6dYL67eLa"
      }
    },
    {
      "cell_type": "markdown",
      "source": [
        "### Class definition (hidden)\n",
        "  \n",
        "Please ignore internal implementation."
      ],
      "metadata": {
        "id": "loRIsiwG-7LP"
      }
    },
    {
      "cell_type": "code",
      "source": [
        "#@title DatasetGenerator Class\n",
        "\n",
        "\n",
        "class DatasetGenerator(object):\n",
        "  FEATURE_COLUMNS = [f'x{i+1}' for i in range(8)]\n",
        "\n",
        "  def __init__(self, thresh_click=2, eps_click=0.4, eps_rating=1):\n",
        "    self.thresh_click = thresh_click\n",
        "    self.eps_click = eps_click\n",
        "    self.eps_rating = eps_rating\n",
        "    self._latent_dim = len(self.FEATURE_COLUMNS)\n",
        "    self.top_k_idxs = np.arange(self._latent_dim)<5\n",
        "    \n",
        "    self._user_features = np.abs(np.random.randn(self._latent_dim))\n",
        "    self._user_features /= np.linalg.norm(self._user_features)\n",
        "    self._user_features_topk = self._user_features*self.top_k_idxs\n",
        "\n",
        "  def _generate_dataframe(self, n_samples) -> pd.DataFrame:\n",
        "    return pd.DataFrame(\n",
        "        index=pd.Index(\n",
        "            data=[str(uuid.uuid4()) for _ in range(n_samples)],\n",
        "            name='item_id',\n",
        "        ),\n",
        "        data={\n",
        "            feature_name: np.random.randn(n_samples)\n",
        "            for feature_name in self.FEATURE_COLUMNS\n",
        "        }\n",
        "    )\n",
        "  \n",
        "  @staticmethod\n",
        "  def _click_transform(x):\n",
        "    return x>2\n",
        "\n",
        "  @staticmethod\n",
        "  def _rating_transform(x):\n",
        "    sigmoid = lambda x: 1/(1+np.exp(-x))\n",
        "    return np.round((sigmoid(x*1.5)-0.5)*4 + 3).astype(int)\n",
        "\n",
        "  def generate_evaluation_set(self, n_samples: int) -> pd.DataFrame:\n",
        "    df = self._generate_dataframe(n_samples)\n",
        "    X = df[self.FEATURE_COLUMNS].to_numpy()\n",
        "    scores = X@self._user_features\n",
        "    y = self._rating_transform(scores)\n",
        "    return df.assign(true_relevance=y)\n",
        "\n",
        "  def generate_training_set(self, n_samples: int):\n",
        "    df = self._generate_dataframe(n_samples)\n",
        "    X = df[self.FEATURE_COLUMNS].to_numpy()\n",
        "    for _ in range(1000):  # rejection sampling\n",
        "      noisy_scores = X@self._user_features_topk + self.eps_click*np.random.logistic(size=X.shape[0])\n",
        "      y_click = pd.array(\n",
        "          (noisy_scores > self.thresh_click),\n",
        "          dtype=pd.Int64Dtype()\n",
        "      )\n",
        "      if len(y_click.unique())>1 and y_click.value_counts().min()>1:\n",
        "        break\n",
        "    for _ in range(1000):  # rejection sampling\n",
        "      noisy_scores = X@self._user_features + self.eps_rating*np.random.logistic(size=X.shape[0])\n",
        "      y_rating = pd.array(\n",
        "          self._rating_transform(noisy_scores),\n",
        "          dtype=pd.Int64Dtype(),\n",
        "      )\n",
        "      y_rating[y_click==0] = None\n",
        "      if len(y_rating.dropna().unique())>1:\n",
        "        break\n",
        "\n",
        "    return df.assign(click=y_click, rating=y_rating)"
      ],
      "metadata": {
        "id": "vCx11ogtgPt_",
        "cellView": "form"
      },
      "execution_count": 3,
      "outputs": []
    },
    {
      "cell_type": "markdown",
      "source": [
        "### Exploratory analysis\n",
        "\n",
        "`data_generator` is an instance of the `DatasetGenerator` class:\n"
      ],
      "metadata": {
        "id": "PZw3k7if-zLr"
      }
    },
    {
      "cell_type": "code",
      "source": [
        "data_generator = DatasetGenerator()"
      ],
      "metadata": {
        "id": "JWx4kzfzhhGj"
      },
      "execution_count": 4,
      "outputs": []
    },
    {
      "cell_type": "markdown",
      "source": [
        "\n",
        "\n",
        "Here we use the `generate_evaluation_set` function to generate an evaluation set with 500 samples, plot the first 5 rows, and plot an histogram of true (un-noised) relevance scores:"
      ],
      "metadata": {
        "id": "P1X55HWEhfH_"
      }
    },
    {
      "cell_type": "code",
      "source": [
        "exploratory_evaluation_df = data_generator.generate_evaluation_set(500)\n",
        "exploratory_evaluation_df.head()"
      ],
      "metadata": {
        "id": "l5zaON_T6o4Z",
        "colab": {
          "base_uri": "https://localhost:8080/",
          "height": 252
        },
        "outputId": "cbe88dd0-db11-418f-e1de-75c04012cb5a"
      },
      "execution_count": 28,
      "outputs": [
        {
          "output_type": "execute_result",
          "data": {
            "text/html": [
              "<div>\n",
              "<style scoped>\n",
              "    .dataframe tbody tr th:only-of-type {\n",
              "        vertical-align: middle;\n",
              "    }\n",
              "\n",
              "    .dataframe tbody tr th {\n",
              "        vertical-align: top;\n",
              "    }\n",
              "\n",
              "    .dataframe thead th {\n",
              "        text-align: right;\n",
              "    }\n",
              "</style>\n",
              "<table border=\"1\" class=\"dataframe\">\n",
              "  <thead>\n",
              "    <tr style=\"text-align: right;\">\n",
              "      <th></th>\n",
              "      <th>x1</th>\n",
              "      <th>x2</th>\n",
              "      <th>x3</th>\n",
              "      <th>x4</th>\n",
              "      <th>x5</th>\n",
              "      <th>x6</th>\n",
              "      <th>x7</th>\n",
              "      <th>x8</th>\n",
              "      <th>true_relevance</th>\n",
              "    </tr>\n",
              "    <tr>\n",
              "      <th>item_id</th>\n",
              "      <th></th>\n",
              "      <th></th>\n",
              "      <th></th>\n",
              "      <th></th>\n",
              "      <th></th>\n",
              "      <th></th>\n",
              "      <th></th>\n",
              "      <th></th>\n",
              "      <th></th>\n",
              "    </tr>\n",
              "  </thead>\n",
              "  <tbody>\n",
              "    <tr>\n",
              "      <th>ce959b09-69f1-4775-8cda-55f219504b73</th>\n",
              "      <td>0.736980</td>\n",
              "      <td>0.035367</td>\n",
              "      <td>-0.034868</td>\n",
              "      <td>0.349759</td>\n",
              "      <td>-0.794358</td>\n",
              "      <td>-0.500148</td>\n",
              "      <td>0.458246</td>\n",
              "      <td>0.476754</td>\n",
              "      <td>3</td>\n",
              "    </tr>\n",
              "    <tr>\n",
              "      <th>647a9b80-af75-4ebf-a0ec-cadd911dd1e7</th>\n",
              "      <td>0.214225</td>\n",
              "      <td>-1.196794</td>\n",
              "      <td>0.450071</td>\n",
              "      <td>1.080878</td>\n",
              "      <td>-1.124354</td>\n",
              "      <td>1.168406</td>\n",
              "      <td>-1.020840</td>\n",
              "      <td>1.033228</td>\n",
              "      <td>4</td>\n",
              "    </tr>\n",
              "    <tr>\n",
              "      <th>cbb15e66-7f77-4b46-9d30-c93047b96492</th>\n",
              "      <td>0.160938</td>\n",
              "      <td>-0.351979</td>\n",
              "      <td>0.317269</td>\n",
              "      <td>1.211613</td>\n",
              "      <td>-0.067385</td>\n",
              "      <td>-0.210412</td>\n",
              "      <td>-1.020802</td>\n",
              "      <td>-0.765658</td>\n",
              "      <td>2</td>\n",
              "    </tr>\n",
              "    <tr>\n",
              "      <th>9cfe0eea-2c9d-4406-b2a1-eba3cbe3aa49</th>\n",
              "      <td>-0.321295</td>\n",
              "      <td>1.351375</td>\n",
              "      <td>0.691259</td>\n",
              "      <td>0.445561</td>\n",
              "      <td>-0.402472</td>\n",
              "      <td>0.251620</td>\n",
              "      <td>-1.274948</td>\n",
              "      <td>-0.346974</td>\n",
              "      <td>3</td>\n",
              "    </tr>\n",
              "    <tr>\n",
              "      <th>72b3c269-715f-43c3-8bdd-342d26d14db6</th>\n",
              "      <td>-1.012837</td>\n",
              "      <td>1.430738</td>\n",
              "      <td>1.667154</td>\n",
              "      <td>-1.811945</td>\n",
              "      <td>-0.088337</td>\n",
              "      <td>-1.062810</td>\n",
              "      <td>-0.924545</td>\n",
              "      <td>0.307237</td>\n",
              "      <td>2</td>\n",
              "    </tr>\n",
              "  </tbody>\n",
              "</table>\n",
              "</div>"
            ],
            "text/plain": [
              "                                            x1  ...  true_relevance\n",
              "item_id                                         ...                \n",
              "ce959b09-69f1-4775-8cda-55f219504b73  0.736980  ...               3\n",
              "647a9b80-af75-4ebf-a0ec-cadd911dd1e7  0.214225  ...               4\n",
              "cbb15e66-7f77-4b46-9d30-c93047b96492  0.160938  ...               2\n",
              "9cfe0eea-2c9d-4406-b2a1-eba3cbe3aa49 -0.321295  ...               3\n",
              "72b3c269-715f-43c3-8bdd-342d26d14db6 -1.012837  ...               2\n",
              "\n",
              "[5 rows x 9 columns]"
            ]
          },
          "metadata": {},
          "execution_count": 28
        }
      ]
    },
    {
      "cell_type": "code",
      "source": [
        "exploratory_evaluation_df['true_relevance'].plot.hist(\n",
        "    title='Evaluation dataset - Histogram of true relevance',\n",
        "    bins=[0.5,1.5,2.5,3.5,4.5,5.5]\n",
        ");"
      ],
      "metadata": {
        "id": "XEh1DAG37Fl4",
        "colab": {
          "base_uri": "https://localhost:8080/",
          "height": 301
        },
        "outputId": "d8411a41-fa4f-4e49-cac3-84055e609c12"
      },
      "execution_count": 29,
      "outputs": [
        {
          "output_type": "display_data",
          "data": {
            "image/png": "[encoded data removed]",
            "text/plain": [
              "<Figure size 432x288 with 1 Axes>"
            ]
          },
          "metadata": {
            "needs_background": "light"
          }
        }
      ]
    },
    {
      "cell_type": "markdown",
      "source": [
        "Here we use the `generate_training_set` function to generate a training set of size 10 and print it. Note that values of `rating` are only observed for items that were clicked:"
      ],
      "metadata": {
        "id": "1hdFJwZE_nlp"
      }
    },
    {
      "cell_type": "code",
      "source": [
        "exploratory_training_df = data_generator.generate_training_set(10)\n",
        "exploratory_training_df"
      ],
      "metadata": {
        "id": "MUn9uRDKA25y",
        "colab": {
          "base_uri": "https://localhost:8080/",
          "height": 405
        },
        "outputId": "2ea044fd-71ce-4bde-a88a-873205af81b4"
      },
      "execution_count": 30,
      "outputs": [
        {
          "output_type": "execute_result",
          "data": {
            "text/html": [
              "<div>\n",
              "<style scoped>\n",
              "    .dataframe tbody tr th:only-of-type {\n",
              "        vertical-align: middle;\n",
              "    }\n",
              "\n",
              "    .dataframe tbody tr th {\n",
              "        vertical-align: top;\n",
              "    }\n",
              "\n",
              "    .dataframe thead th {\n",
              "        text-align: right;\n",
              "    }\n",
              "</style>\n",
              "<table border=\"1\" class=\"dataframe\">\n",
              "  <thead>\n",
              "    <tr style=\"text-align: right;\">\n",
              "      <th></th>\n",
              "      <th>x1</th>\n",
              "      <th>x2</th>\n",
              "      <th>x3</th>\n",
              "      <th>x4</th>\n",
              "      <th>x5</th>\n",
              "      <th>x6</th>\n",
              "      <th>x7</th>\n",
              "      <th>x8</th>\n",
              "      <th>click</th>\n",
              "      <th>rating</th>\n",
              "    </tr>\n",
              "    <tr>\n",
              "      <th>item_id</th>\n",
              "      <th></th>\n",
              "      <th></th>\n",
              "      <th></th>\n",
              "      <th></th>\n",
              "      <th></th>\n",
              "      <th></th>\n",
              "      <th></th>\n",
              "      <th></th>\n",
              "      <th></th>\n",
              "      <th></th>\n",
              "    </tr>\n",
              "  </thead>\n",
              "  <tbody>\n",
              "    <tr>\n",
              "      <th>9c0ef51e-2902-4071-af82-b68cb598c0b1</th>\n",
              "      <td>-2.264502</td>\n",
              "      <td>-1.044992</td>\n",
              "      <td>0.543058</td>\n",
              "      <td>0.348990</td>\n",
              "      <td>-0.234751</td>\n",
              "      <td>1.010626</td>\n",
              "      <td>-1.065185</td>\n",
              "      <td>1.871938</td>\n",
              "      <td>0</td>\n",
              "      <td>&lt;NA&gt;</td>\n",
              "    </tr>\n",
              "    <tr>\n",
              "      <th>6494d43d-64ab-4a4f-8c8b-695910b14d52</th>\n",
              "      <td>-0.368415</td>\n",
              "      <td>-1.017136</td>\n",
              "      <td>-2.329432</td>\n",
              "      <td>-0.588182</td>\n",
              "      <td>0.716261</td>\n",
              "      <td>-1.501895</td>\n",
              "      <td>1.057845</td>\n",
              "      <td>-0.491706</td>\n",
              "      <td>0</td>\n",
              "      <td>&lt;NA&gt;</td>\n",
              "    </tr>\n",
              "    <tr>\n",
              "      <th>9fbe0782-372b-4987-aa1a-702ed13948cf</th>\n",
              "      <td>-0.583276</td>\n",
              "      <td>0.134422</td>\n",
              "      <td>0.186190</td>\n",
              "      <td>-1.262705</td>\n",
              "      <td>-1.349169</td>\n",
              "      <td>-1.050803</td>\n",
              "      <td>-0.739928</td>\n",
              "      <td>-0.161992</td>\n",
              "      <td>0</td>\n",
              "      <td>&lt;NA&gt;</td>\n",
              "    </tr>\n",
              "    <tr>\n",
              "      <th>1a142c39-042c-4922-a835-c003aa2a61ae</th>\n",
              "      <td>0.582689</td>\n",
              "      <td>-0.601647</td>\n",
              "      <td>0.153887</td>\n",
              "      <td>-0.574792</td>\n",
              "      <td>0.097351</td>\n",
              "      <td>-0.576980</td>\n",
              "      <td>-0.120155</td>\n",
              "      <td>0.030491</td>\n",
              "      <td>0</td>\n",
              "      <td>&lt;NA&gt;</td>\n",
              "    </tr>\n",
              "    <tr>\n",
              "      <th>41419482-c56c-4256-8a8e-1398405de293</th>\n",
              "      <td>-0.967506</td>\n",
              "      <td>-1.405122</td>\n",
              "      <td>0.774637</td>\n",
              "      <td>0.209006</td>\n",
              "      <td>0.067691</td>\n",
              "      <td>-0.836073</td>\n",
              "      <td>-0.579599</td>\n",
              "      <td>0.159478</td>\n",
              "      <td>0</td>\n",
              "      <td>&lt;NA&gt;</td>\n",
              "    </tr>\n",
              "    <tr>\n",
              "      <th>c670a81f-9443-45ba-b832-3a4c10341122</th>\n",
              "      <td>0.652408</td>\n",
              "      <td>2.027413</td>\n",
              "      <td>-0.208332</td>\n",
              "      <td>-2.486240</td>\n",
              "      <td>-2.445732</td>\n",
              "      <td>0.160843</td>\n",
              "      <td>-0.747796</td>\n",
              "      <td>-0.212992</td>\n",
              "      <td>0</td>\n",
              "      <td>&lt;NA&gt;</td>\n",
              "    </tr>\n",
              "    <tr>\n",
              "      <th>6ec8b546-c742-4e54-8043-2bb5e586f7ee</th>\n",
              "      <td>-0.546826</td>\n",
              "      <td>-0.375243</td>\n",
              "      <td>-1.505772</td>\n",
              "      <td>-0.863615</td>\n",
              "      <td>-1.093789</td>\n",
              "      <td>0.433169</td>\n",
              "      <td>0.874777</td>\n",
              "      <td>-1.146319</td>\n",
              "      <td>0</td>\n",
              "      <td>&lt;NA&gt;</td>\n",
              "    </tr>\n",
              "    <tr>\n",
              "      <th>78c0df15-ad54-43fd-974f-a51163140e73</th>\n",
              "      <td>0.230508</td>\n",
              "      <td>0.163114</td>\n",
              "      <td>0.029050</td>\n",
              "      <td>1.199585</td>\n",
              "      <td>0.702600</td>\n",
              "      <td>2.023370</td>\n",
              "      <td>-1.100737</td>\n",
              "      <td>0.392704</td>\n",
              "      <td>1</td>\n",
              "      <td>5</td>\n",
              "    </tr>\n",
              "    <tr>\n",
              "      <th>52672088-bbd3-40b7-8e6d-e9ee012af5e5</th>\n",
              "      <td>-0.277859</td>\n",
              "      <td>-1.591956</td>\n",
              "      <td>-0.023208</td>\n",
              "      <td>-0.710735</td>\n",
              "      <td>-0.972672</td>\n",
              "      <td>1.033816</td>\n",
              "      <td>1.491507</td>\n",
              "      <td>-0.778016</td>\n",
              "      <td>0</td>\n",
              "      <td>&lt;NA&gt;</td>\n",
              "    </tr>\n",
              "    <tr>\n",
              "      <th>e7cd435f-4b36-4158-acc2-ffcac327f23b</th>\n",
              "      <td>0.209502</td>\n",
              "      <td>0.523425</td>\n",
              "      <td>-0.242675</td>\n",
              "      <td>2.102231</td>\n",
              "      <td>-0.159075</td>\n",
              "      <td>0.702402</td>\n",
              "      <td>-2.523294</td>\n",
              "      <td>-0.848038</td>\n",
              "      <td>1</td>\n",
              "      <td>3</td>\n",
              "    </tr>\n",
              "  </tbody>\n",
              "</table>\n",
              "</div>"
            ],
            "text/plain": [
              "                                            x1        x2  ...  click  rating\n",
              "item_id                                                   ...               \n",
              "9c0ef51e-2902-4071-af82-b68cb598c0b1 -2.264502 -1.044992  ...      0    <NA>\n",
              "6494d43d-64ab-4a4f-8c8b-695910b14d52 -0.368415 -1.017136  ...      0    <NA>\n",
              "9fbe0782-372b-4987-aa1a-702ed13948cf -0.583276  0.134422  ...      0    <NA>\n",
              "1a142c39-042c-4922-a835-c003aa2a61ae  0.582689 -0.601647  ...      0    <NA>\n",
              "41419482-c56c-4256-8a8e-1398405de293 -0.967506 -1.405122  ...      0    <NA>\n",
              "c670a81f-9443-45ba-b832-3a4c10341122  0.652408  2.027413  ...      0    <NA>\n",
              "6ec8b546-c742-4e54-8043-2bb5e586f7ee -0.546826 -0.375243  ...      0    <NA>\n",
              "78c0df15-ad54-43fd-974f-a51163140e73  0.230508  0.163114  ...      1       5\n",
              "52672088-bbd3-40b7-8e6d-e9ee012af5e5 -0.277859 -1.591956  ...      0    <NA>\n",
              "e7cd435f-4b36-4158-acc2-ffcac327f23b  0.209502  0.523425  ...      1       3\n",
              "\n",
              "[10 rows x 10 columns]"
            ]
          },
          "metadata": {},
          "execution_count": 30
        }
      ]
    },
    {
      "cell_type": "markdown",
      "source": [
        "### 1.1.1 Exercise: Warm up\n",
        "\n",
        "To ensure that the technical API is clear, we will start with a couple of technical exercises. "
      ],
      "metadata": {
        "id": "vI2noTFpGLgT"
      }
    },
    {
      "cell_type": "markdown",
      "source": [
        "### 1.1.2 Exploratory analysis\n",
        "Use `data_generator` to generate a training set of size 1000, and print the first 3 rows:\n"
      ],
      "metadata": {
        "id": "GJPzXfcGtIX3"
      }
    },
    {
      "cell_type": "code",
      "source": [
        "exploratory_training_df = data_generator.generate_training_set(1000)\n",
        "exploratory_training_df.head(3)"
      ],
      "metadata": {
        "id": "z8uojU3bHMkp",
        "colab": {
          "base_uri": "https://localhost:8080/",
          "height": 191
        },
        "outputId": "b804877c-2954-4860-c8ad-0d40b4e2a1e7"
      },
      "execution_count": 31,
      "outputs": [
        {
          "output_type": "execute_result",
          "data": {
            "text/html": [
              "<div>\n",
              "<style scoped>\n",
              "    .dataframe tbody tr th:only-of-type {\n",
              "        vertical-align: middle;\n",
              "    }\n",
              "\n",
              "    .dataframe tbody tr th {\n",
              "        vertical-align: top;\n",
              "    }\n",
              "\n",
              "    .dataframe thead th {\n",
              "        text-align: right;\n",
              "    }\n",
              "</style>\n",
              "<table border=\"1\" class=\"dataframe\">\n",
              "  <thead>\n",
              "    <tr style=\"text-align: right;\">\n",
              "      <th></th>\n",
              "      <th>x1</th>\n",
              "      <th>x2</th>\n",
              "      <th>x3</th>\n",
              "      <th>x4</th>\n",
              "      <th>x5</th>\n",
              "      <th>x6</th>\n",
              "      <th>x7</th>\n",
              "      <th>x8</th>\n",
              "      <th>click</th>\n",
              "      <th>rating</th>\n",
              "    </tr>\n",
              "    <tr>\n",
              "      <th>item_id</th>\n",
              "      <th></th>\n",
              "      <th></th>\n",
              "      <th></th>\n",
              "      <th></th>\n",
              "      <th></th>\n",
              "      <th></th>\n",
              "      <th></th>\n",
              "      <th></th>\n",
              "      <th></th>\n",
              "      <th></th>\n",
              "    </tr>\n",
              "  </thead>\n",
              "  <tbody>\n",
              "    <tr>\n",
              "      <th>aadc3656-df42-4154-80d0-a591a573593e</th>\n",
              "      <td>-1.332374</td>\n",
              "      <td>0.703172</td>\n",
              "      <td>-0.938696</td>\n",
              "      <td>-0.318348</td>\n",
              "      <td>-0.623386</td>\n",
              "      <td>-1.597595</td>\n",
              "      <td>-0.204574</td>\n",
              "      <td>0.437351</td>\n",
              "      <td>0</td>\n",
              "      <td>&lt;NA&gt;</td>\n",
              "    </tr>\n",
              "    <tr>\n",
              "      <th>22296c21-87c2-410a-bef4-8a49fb368af2</th>\n",
              "      <td>0.767308</td>\n",
              "      <td>0.744932</td>\n",
              "      <td>-0.418141</td>\n",
              "      <td>-0.537963</td>\n",
              "      <td>0.935831</td>\n",
              "      <td>0.176469</td>\n",
              "      <td>0.395326</td>\n",
              "      <td>-0.892196</td>\n",
              "      <td>0</td>\n",
              "      <td>&lt;NA&gt;</td>\n",
              "    </tr>\n",
              "    <tr>\n",
              "      <th>2786bd7d-4f82-4ed7-8398-2339f50d033d</th>\n",
              "      <td>0.995300</td>\n",
              "      <td>-0.422968</td>\n",
              "      <td>0.273287</td>\n",
              "      <td>-0.328430</td>\n",
              "      <td>0.540526</td>\n",
              "      <td>0.785748</td>\n",
              "      <td>-1.033185</td>\n",
              "      <td>-1.034292</td>\n",
              "      <td>0</td>\n",
              "      <td>&lt;NA&gt;</td>\n",
              "    </tr>\n",
              "  </tbody>\n",
              "</table>\n",
              "</div>"
            ],
            "text/plain": [
              "                                            x1        x2  ...  click  rating\n",
              "item_id                                                   ...               \n",
              "aadc3656-df42-4154-80d0-a591a573593e -1.332374  0.703172  ...      0    <NA>\n",
              "22296c21-87c2-410a-bef4-8a49fb368af2  0.767308  0.744932  ...      0    <NA>\n",
              "2786bd7d-4f82-4ed7-8398-2339f50d033d  0.995300 -0.422968  ...      0    <NA>\n",
              "\n",
              "[3 rows x 10 columns]"
            ]
          },
          "metadata": {},
          "execution_count": 31
        }
      ]
    },
    {
      "cell_type": "markdown",
      "source": [
        "\n",
        "Calculate the proportion of items that were clicked (result should be a number between 0 and 1):\n",
        "\n",
        "*(try to do this in one line of pandas code!)*\n",
        "\n"
      ],
      "metadata": {
        "id": "6VZqNeghHLlr"
      }
    },
    {
      "cell_type": "code",
      "source": [
        "ratio = (exploratory_training_df[\"click\"] == 1).sum() / (len(exploratory_training_df[\"click\"]))\n",
        "ratio"
      ],
      "metadata": {
        "id": "ev7TIt1LHazG",
        "colab": {
          "base_uri": "https://localhost:8080/"
        },
        "outputId": "18358196-e87b-4632-d6e7-e6d9be585e1d"
      },
      "execution_count": 32,
      "outputs": [
        {
          "output_type": "execute_result",
          "data": {
            "text/plain": [
              "0.03"
            ]
          },
          "metadata": {},
          "execution_count": 32
        }
      ]
    },
    {
      "cell_type": "markdown",
      "source": [
        "Plot a bar chart showing the number of times each rating value (1,2,...,5) was observed.\n",
        "\n",
        "*(try to do this in one line of pandas code!)*"
      ],
      "metadata": {
        "id": "jmsA4Gp-HaNn"
      }
    },
    {
      "cell_type": "code",
      "source": [
        "exploratory_training_df['rating'].dropna().plot.hist(\n",
        "    title='Evaluation dataset - Histogram of rating',\n",
        "    bins=[0.5,1.5,2.5,3.5,4.5,5.5]\n",
        ");"
      ],
      "metadata": {
        "id": "_0iDJjo2HnIN",
        "colab": {
          "base_uri": "https://localhost:8080/",
          "height": 301
        },
        "outputId": "38b33913-a7c4-4710-c7bb-e9dbe2091adb"
      },
      "execution_count": 33,
      "outputs": [
        {
          "output_type": "display_data",
          "data": {
            "image/png": "[encoded data removed]",
            "text/plain": [
              "<Figure size 432x288 with 1 Axes>"
            ]
          },
          "metadata": {
            "needs_background": "light"
          }
        }
      ]
    },
    {
      "cell_type": "markdown",
      "source": [
        "Why is this histofram different than the one plotted for the evaluataion set? Explain your answer."
      ],
      "metadata": {
        "id": "Cjm9Ry3qC5-c"
      }
    },
    {
      "cell_type": "markdown",
      "source": [
        "**Answer:** The distribution of the evaluation set is across all data samples, and here we see only the distribution of clicked items. In fact there is high correlation between clicked items and rating them highly. # TODO @manor"
      ],
      "metadata": {
        "id": "6K_j0rVGn6RJ"
      }
    },
    {
      "cell_type": "markdown",
      "source": [
        "### 1.1.3 Basic model training\n",
        "\n",
        "We define a utility function `build_X_y_matrices` which will also be used later. The function takes an input a dataframe amd a column name for labels (and optionally column names for features), and returns a matrix $X$ with rows including item features, and a vector $y$ of corresponding labels. For label column names, use `click` or `rating` for train data, and `true_relevance` for evaluation data. For ratings data, the function automatically drops any `NaN` entries."
      ],
      "metadata": {
        "id": "65PMTrXPDqsU"
      }
    },
    {
      "cell_type": "code",
      "source": [
        "def build_X_y_matrices(\n",
        "    df: pd.DataFrame,\n",
        "    label_column: str,\n",
        "    feature_columns: List[str]=DatasetGenerator.FEATURE_COLUMNS,\n",
        "    get_valid_entries:bool=False ) -> Tuple[np.ndarray, np.array]:\n",
        "  \"\"\"\n",
        "  Extract training matrices and labels from the dataset DataFrame.\n",
        "  Entries for which the labels are missing are removed from the dataset.\n",
        "  Arguments:\n",
        "  - label_column (str): Name of column to be used as label (e.g 'click')\n",
        "  - feature_columns (List[str]): Columns to be used as features\n",
        "  \"\"\"\n",
        "  valid_entries = pd.notna(df[label_column])\n",
        "  X = df.loc[valid_entries][feature_columns].to_numpy()\n",
        "  y = df.loc[valid_entries][label_column].to_numpy()\n",
        "\n",
        "  if get_valid_entries:\n",
        "    return X,y,valid_entries\n",
        "  else:\n",
        "    return X,y"
      ],
      "metadata": {
        "id": "pYjziisBETeP"
      },
      "execution_count": 34,
      "outputs": []
    },
    {
      "cell_type": "markdown",
      "source": [
        "Use the above function to:\n",
        "* Create a train set of size 500 that includes ratings as labels.\n",
        "* Train a linear regression model (use scikit-learn).\n",
        "* Create an evaluation set of size 500 (that includes true relevancies $y$).\n",
        "* Use the learned model to generate predicted relevanceis $\\hat{y}$\n",
        "* Create a violin plot comparing $\\hat{y}$ to $\\hat{y}$ (code provided)."
      ],
      "metadata": {
        "id": "d2bPwNT3tMAT"
      }
    },
    {
      "cell_type": "code",
      "source": [
        "from sklearn.linear_model import LinearRegression\n",
        "\n",
        "\n",
        "exploratory_training_df = data_generator.generate_training_set(10000)\n",
        "x_train, y_train = build_X_y_matrices(exploratory_training_df, label_column=\"rating\")\n",
        "\n",
        "exploratory_evaluation_df = data_generator.generate_evaluation_set(10000)\n",
        "x_test, eval_r = build_X_y_matrices(exploratory_evaluation_df, label_column=\"true_relevance\")\n",
        "\n",
        "pred_r = LinearRegression().fit(x_train, y_train).predict(x_test)"
      ],
      "metadata": {
        "id": "rBmVHOcdf-4a",
        "colab": {
          "base_uri": "https://localhost:8080/"
        },
        "outputId": "2b66a6e9-2806-46ce-b0dd-b462c57ddd8e"
      },
      "execution_count": 37,
      "outputs": [
        {
          "output_type": "execute_result",
          "data": {
            "text/plain": [
              "array([2.37321599, 4.32190512, 2.0697422 , ..., 2.13554665, 4.27756996,\n",
              "       3.35744516])"
            ]
          },
          "metadata": {},
          "execution_count": 37
        }
      ]
    },
    {
      "cell_type": "code",
      "source": [
        "# [plot correlations]\n",
        "\n",
        "# eval_r: true ratings\n",
        "# pred_r: predicted ratings\n",
        "\n",
        "plt.figure(figsize=(8,6))\n",
        "rs = np.sort(np.unique(eval_r))\n",
        "pred_per_r = [pred_r[np.where(eval_r==r)] for r in rs]\n",
        "plt.violinplot(pred_per_r, rs, showmeans=True)\n",
        "plt.plot([1,5],[1,5],'k--');\n",
        "plt.show()"
      ],
      "metadata": {
        "id": "ZEYlesP7x1Fk",
        "colab": {
          "base_uri": "https://localhost:8080/",
          "height": 427
        },
        "outputId": "71c4ec4b-340c-489d-f669-9750b06e2ecc"
      },
      "execution_count": 36,
      "outputs": [
        {
          "output_type": "stream",
          "name": "stderr",
          "text": [
            "/usr/local/lib/python3.7/dist-packages/numpy/core/_asarray.py:83: VisibleDeprecationWarning: Creating an ndarray from ragged nested sequences (which is a list-or-tuple of lists-or-tuples-or ndarrays with different lengths or shapes) is deprecated. If you meant to do this, you must specify 'dtype=object' when creating the ndarray\n",
            "  return array(a, dtype, copy=False, order=order)\n"
          ]
        },
        {
          "output_type": "display_data",
          "data": {
            "image/png": "[encoded data removed]",
            "text/plain": [
              "<Figure size 576x432 with 1 Axes>"
            ]
          },
          "metadata": {
            "needs_background": "light"
          }
        }
      ]
    },
    {
      "cell_type": "markdown",
      "source": [
        "**Explain the plot -** Does the linear regression model capture the true relevance? "
      ],
      "metadata": {
        "id": "dmqxKsXHxqho"
      }
    },
    {
      "cell_type": "markdown",
      "source": [
        "Answer: The black linear line indicate the correct predictions. We see that the linear regression tends to predict close to the average all of possible rating (3), so it oversstimate items with low `true_relevance` and underestimate items with high `true_relevance`."
      ],
      "metadata": {
        "id": "rJ4yLMFvqCfD"
      }
    },
    {
      "cell_type": "markdown",
      "source": [
        "### 1.1.4 The effect of dataset size\n",
        "\n",
        "* Create a `DatasetGenerator` object with default arguments, and use it to generate an evaluation set of size 500.\n",
        "* For each n in `geomspace(50,20000,8)`, generate a training dataset of size n.\n",
        "* Train a click-prediction model using logistic regression.\n",
        "* Train a rating-prediction model using linear regression.\n",
        "* Evaluate and store the NDCG of each model on the evaluation set (use the following `ndcg_10` fuction that wraps scikit-learn's `ndcg_score` for top 10).\n",
        "* For each value of n, repeat the above procedure 20 times, and save results in `results_lst`.\n",
        "* Plot a line-plot showing the average NDCG per n for each of the two models. Include error bars. (The plotting function is given below.)"
      ],
      "metadata": {
        "id": "PhQh5666t9GM"
      }
    },
    {
      "cell_type": "code",
      "source": [
        "# Calculates ndcg at 10\n",
        "# Input: 2 arrays, true and estimated relevance\n",
        "# Output: float, score\n",
        "\n",
        "ndcg_10 = lambda y_true, y_est: ndcg_score(\n",
        "    np.expand_dims(y_true, 0),\n",
        "    np.expand_dims(y_est, 0),\n",
        "    k=10,\n",
        ")"
      ],
      "metadata": {
        "id": "o3PmDLgFw8aY"
      },
      "execution_count": 73,
      "outputs": []
    },
    {
      "cell_type": "code",
      "source": [
        "from sklearn.linear_model import LinearRegression\n",
        "from sklearn.linear_model import LogisticRegression\n",
        "\n",
        "\n",
        "def for_data_generator(data_generator, num_repeats, thresh_click):\n",
        "  log_model = LogisticRegression()\n",
        "  lin_model = LinearRegression()\n",
        "\n",
        "  exploratory_evaluation_df = data_generator.generate_evaluation_set(500)\n",
        "  x_test, eval_r = build_X_y_matrices(exploratory_evaluation_df, label_column=\"true_relevance\")\n",
        "\n",
        "  n_values_lst = np.geomspace(50,20000,8).astype(int)\n",
        "  results_lst = []\n",
        "\n",
        "  for rpt in range(num_repeats):\n",
        "    for n_samples in n_values_lst:\n",
        "\n",
        "      exploratory_training_df = data_generator.generate_training_set(n_samples)\n",
        "\n",
        "      x_train, y_train = build_X_y_matrices(exploratory_training_df, label_column=\"click\")\n",
        "      pred_r_prob_log = log_model.fit(x_train, y_train.astype(float)).predict_proba(x_test)\n",
        "\n",
        "      x_train, y_train = build_X_y_matrices(exploratory_training_df, label_column=\"rating\")\n",
        "      pred_r_lin = lin_model.fit(x_train, y_train).predict(x_test)\n",
        "\n",
        "      # store results:\n",
        "      results_lst.append({\n",
        "          'thresh_click': thresh_click,\n",
        "          'n_samples': n_samples,\n",
        "          'repetition': rpt,\n",
        "          'click_ndcg': ndcg_10(eval_r, pred_r_prob_log[:, 1]),\n",
        "          'rating_ndcg': ndcg_10(eval_r, pred_r_lin),\n",
        "      })\n",
        "\n",
        "  results_df = pd.DataFrame(results_lst)\n",
        "  return results_df"
      ],
      "metadata": {
        "id": "teM4Ba80wqcN"
      },
      "execution_count": 74,
      "outputs": []
    },
    {
      "cell_type": "code",
      "source": [
        "from sklearn.linear_model import LinearRegression\n",
        "from sklearn.linear_model import LogisticRegression\n",
        "\n",
        "np.random.seed(42)\n",
        "num_repeats = 20\n",
        "\n",
        "data_generator = DatasetGenerator()\n",
        "\n",
        "results_df = for_data_generator(data_generator, num_repeats, thresh_click=data_generator.thresh_click)\n",
        "results_df.head()"
      ],
      "metadata": {
        "id": "ky5txoB9iSWg",
        "colab": {
          "base_uri": "https://localhost:8080/",
          "height": 221
        },
        "outputId": "d64842d4-2c9e-488f-cb04-f1a2f929b5ae"
      },
      "execution_count": 75,
      "outputs": [
        {
          "output_type": "execute_result",
          "data": {
            "text/html": [
              "<div>\n",
              "<style scoped>\n",
              "    .dataframe tbody tr th:only-of-type {\n",
              "        vertical-align: middle;\n",
              "    }\n",
              "\n",
              "    .dataframe tbody tr th {\n",
              "        vertical-align: top;\n",
              "    }\n",
              "\n",
              "    .dataframe thead th {\n",
              "        text-align: right;\n",
              "    }\n",
              "</style>\n",
              "<table border=\"1\" class=\"dataframe\">\n",
              "  <thead>\n",
              "    <tr style=\"text-align: right;\">\n",
              "      <th></th>\n",
              "      <th>thresh_click</th>\n",
              "      <th>n_samples</th>\n",
              "      <th>repetition</th>\n",
              "      <th>click_ndcg</th>\n",
              "      <th>rating_ndcg</th>\n",
              "    </tr>\n",
              "  </thead>\n",
              "  <tbody>\n",
              "    <tr>\n",
              "      <th>0</th>\n",
              "      <td>2</td>\n",
              "      <td>49</td>\n",
              "      <td>0</td>\n",
              "      <td>0.956923</td>\n",
              "      <td>0.755841</td>\n",
              "    </tr>\n",
              "    <tr>\n",
              "      <th>1</th>\n",
              "      <td>2</td>\n",
              "      <td>117</td>\n",
              "      <td>0</td>\n",
              "      <td>1.000000</td>\n",
              "      <td>0.756827</td>\n",
              "    </tr>\n",
              "    <tr>\n",
              "      <th>2</th>\n",
              "      <td>2</td>\n",
              "      <td>276</td>\n",
              "      <td>0</td>\n",
              "      <td>0.900293</td>\n",
              "      <td>0.487546</td>\n",
              "    </tr>\n",
              "    <tr>\n",
              "      <th>3</th>\n",
              "      <td>2</td>\n",
              "      <td>651</td>\n",
              "      <td>0</td>\n",
              "      <td>0.903337</td>\n",
              "      <td>0.451515</td>\n",
              "    </tr>\n",
              "    <tr>\n",
              "      <th>4</th>\n",
              "      <td>2</td>\n",
              "      <td>1534</td>\n",
              "      <td>0</td>\n",
              "      <td>0.931580</td>\n",
              "      <td>0.972863</td>\n",
              "    </tr>\n",
              "  </tbody>\n",
              "</table>\n",
              "</div>"
            ],
            "text/plain": [
              "   thresh_click  n_samples  repetition  click_ndcg  rating_ndcg\n",
              "0             2         49           0    0.956923     0.755841\n",
              "1             2        117           0    1.000000     0.756827\n",
              "2             2        276           0    0.900293     0.487546\n",
              "3             2        651           0    0.903337     0.451515\n",
              "4             2       1534           0    0.931580     0.972863"
            ]
          },
          "metadata": {},
          "execution_count": 75
        }
      ]
    },
    {
      "cell_type": "markdown",
      "source": [
        "Run the following cell to plot your results:"
      ],
      "metadata": {
        "id": "Ai0_CcqLulqF"
      }
    },
    {
      "cell_type": "code",
      "source": [
        "(\n",
        "  results_df\n",
        "  .groupby('n_samples')\n",
        "  .agg(['mean','sem'])\n",
        "  [['click_ndcg','rating_ndcg']]\n",
        "  .swaplevel(axis=1)\n",
        "  .pipe(lambda df: df['mean'].plot.line(\n",
        "          logx=True,\n",
        "          yerr=df['sem'],\n",
        "          capsize=3,\n",
        "          legend=True,\n",
        "          grid=True,\n",
        "          ylabel='NDCG',\n",
        "          title='Comparing NDCG of \"clicks\" and \"ratings\" models'\n",
        "      )\n",
        "  )\n",
        ");\n"
      ],
      "metadata": {
        "id": "Vj59k6HbqCYZ",
        "colab": {
          "base_uri": "https://localhost:8080/",
          "height": 320
        },
        "outputId": "2cf970ad-5211-4c04-f77d-c62a20f5c548"
      },
      "execution_count": 76,
      "outputs": [
        {
          "output_type": "display_data",
          "data": {
            "image/png": "[encoded data removed]",
            "text/plain": [
              "<Figure size 432x288 with 1 Axes>"
            ]
          },
          "metadata": {
            "needs_background": "light"
          }
        }
      ]
    },
    {
      "cell_type": "markdown",
      "source": [
        "Explain your results."
      ],
      "metadata": {
        "id": "hcwoy9yv4wL6"
      }
    },
    {
      "cell_type": "markdown",
      "source": [
        "**Answer:** First, the more samples we have, the lower is the stderr (as expected). Regarding trends - when we have a small number of samples, the rating is biased towards highly-rated examples (since the user rates only samples she chose), while clicks \"sees\" all examples. In addition, when we have X samples, clicks \"see\" all of them, while rating \"see\" a lot less, since she can only access examples there were clicked. When increasing the number of samples, rating gets to see more and more diverse examples, both highly and poorly rated, thus it gets better in predicting the correct ratings while the click predictor saturates and reach its upper bound, since it sees only partial information as opposed to the rating predictor that sees all the information, a fact that doesn't get improved when having more examples."
      ],
      "metadata": {
        "id": "kxH5gCmOzVnd"
      }
    },
    {
      "cell_type": "markdown",
      "source": [
        "### 1.1.5 Varying click threshold\n",
        "Repeat the experiment, but this time:\n",
        "* Keep the number of samples fixed at 1000.\n",
        "* Vary the click noise factor $\\mathtt{thresh\\_click} \\in\\{0,0.25,\\dots,3\\}$. Pass this as a parameter to the DatasetGenerator constructor (note this means that now the data generator object should be constructed *inside* the loop).\n",
        "* For every noise factor run 20 random repeats and average.\n",
        "\n",
        "(Feel free to reuse code from the above question)"
      ],
      "metadata": {
        "id": "CPrnJT9RPKNe"
      }
    },
    {
      "cell_type": "code",
      "source": [
        "from sklearn.linear_model import LinearRegression\n",
        "from sklearn.linear_model import LogisticRegression\n",
        "\n",
        "\n",
        "def for_data_generator(data_generator, num_repeats, thresh_click):\n",
        "  log_model = LogisticRegression()\n",
        "  lin_model = LinearRegression()\n",
        "\n",
        "  exploratory_evaluation_df = data_generator.generate_evaluation_set(500)\n",
        "  x_test, eval_r = build_X_y_matrices(exploratory_evaluation_df, label_column=\"true_relevance\")\n",
        "\n",
        "  results_lst = []\n",
        "\n",
        "  for rpt in range(num_repeats):\n",
        "\n",
        "    exploratory_training_df = data_generator.generate_training_set(1000)\n",
        "\n",
        "    x_train, y_train = build_X_y_matrices(exploratory_training_df, label_column=\"click\")\n",
        "    pred_r_prob_log = log_model.fit(x_train, y_train.astype(float)).predict_proba(x_test)\n",
        "\n",
        "    x_train, y_train = build_X_y_matrices(exploratory_training_df, label_column=\"rating\")\n",
        "    pred_r_lin = lin_model.fit(x_train, y_train).predict(x_test)\n",
        "\n",
        "    # store results:\n",
        "    results_lst.append({\n",
        "        'thresh_click': thresh_click,\n",
        "        'n_samples': 1000,\n",
        "        'repetition': rpt,\n",
        "        'click_ndcg': ndcg_10(eval_r, pred_r_prob_log[:, 1]),\n",
        "        'rating_ndcg': ndcg_10(eval_r, pred_r_lin),\n",
        "    })\n",
        "\n",
        "  results_df = pd.DataFrame(results_lst)\n",
        "  return results_df"
      ],
      "metadata": {
        "id": "GL684sqJ0NDS"
      },
      "execution_count": 86,
      "outputs": []
    },
    {
      "cell_type": "code",
      "source": [
        "from tqdm.notebook import tqdm\n",
        "\n",
        "\n",
        "num_repeats = 20\n",
        "\n",
        "results_df = pd.DataFrame()\n",
        "for thresh_click in tqdm(np.linspace(0, 3, num=13, endpoint=True)):\n",
        "\n",
        "  np.random.seed(42)\n",
        "  data_generator = DatasetGenerator(thresh_click=thresh_click)\n",
        "  df = for_data_generator(data_generator, num_repeats, thresh_click=data_generator.thresh_click)\n",
        "  results_df = pd.concat([results_df, df])\n",
        "\n",
        "results_df.head()"
      ],
      "metadata": {
        "id": "ojmOBMSaPNwS",
        "colab": {
          "base_uri": "https://localhost:8080/",
          "height": 253,
          "referenced_widgets": [
            "a95bd351e99e4d8d83bd96329d2d22f0",
            "74e68c3e32944aec949200c85b561874",
            "8c7c1d4a2b50489f89b62430a148e6ce",
            "9f452e2c5c2d4c8e95349f4e8deed85a",
            "1c81679dd39540fdaf7aa8eb6a92d347",
            "a40849bd5a7448b592179af6fa44d1f9",
            "053b579b8cee425b8b6050b1b80faf85",
            "57cdf4434f604e22b40ff017208139e8",
            "ffdf6a84d40649debb4f23c39da64dab",
            "b6d6a4e47a574c9a8cfb6835d159994c",
            "b8ca167be34943a49b77053628430fc4"
          ]
        },
        "outputId": "3755d402-e489-4829-fa36-3ec240d710aa"
      },
      "execution_count": 87,
      "outputs": [
        {
          "output_type": "display_data",
          "data": {
            "application/vnd.jupyter.widget-view+json": {
              "model_id": "a95bd351e99e4d8d83bd96329d2d22f0",
              "version_minor": 0,
              "version_major": 2
            },
            "text/plain": [
              "  0%|          | 0/13 [00:00<?, ?it/s]"
            ]
          },
          "metadata": {}
        },
        {
          "output_type": "execute_result",
          "data": {
            "text/html": [
              "<div>\n",
              "<style scoped>\n",
              "    .dataframe tbody tr th:only-of-type {\n",
              "        vertical-align: middle;\n",
              "    }\n",
              "\n",
              "    .dataframe tbody tr th {\n",
              "        vertical-align: top;\n",
              "    }\n",
              "\n",
              "    .dataframe thead th {\n",
              "        text-align: right;\n",
              "    }\n",
              "</style>\n",
              "<table border=\"1\" class=\"dataframe\">\n",
              "  <thead>\n",
              "    <tr style=\"text-align: right;\">\n",
              "      <th></th>\n",
              "      <th>thresh_click</th>\n",
              "      <th>n_samples</th>\n",
              "      <th>repetition</th>\n",
              "      <th>click_ndcg</th>\n",
              "      <th>rating_ndcg</th>\n",
              "    </tr>\n",
              "  </thead>\n",
              "  <tbody>\n",
              "    <tr>\n",
              "      <th>0</th>\n",
              "      <td>0.0</td>\n",
              "      <td>1000</td>\n",
              "      <td>0</td>\n",
              "      <td>0.903436</td>\n",
              "      <td>1.0</td>\n",
              "    </tr>\n",
              "    <tr>\n",
              "      <th>1</th>\n",
              "      <td>0.0</td>\n",
              "      <td>1000</td>\n",
              "      <td>1</td>\n",
              "      <td>0.927144</td>\n",
              "      <td>1.0</td>\n",
              "    </tr>\n",
              "    <tr>\n",
              "      <th>2</th>\n",
              "      <td>0.0</td>\n",
              "      <td>1000</td>\n",
              "      <td>2</td>\n",
              "      <td>0.915525</td>\n",
              "      <td>1.0</td>\n",
              "    </tr>\n",
              "    <tr>\n",
              "      <th>3</th>\n",
              "      <td>0.0</td>\n",
              "      <td>1000</td>\n",
              "      <td>3</td>\n",
              "      <td>0.914176</td>\n",
              "      <td>1.0</td>\n",
              "    </tr>\n",
              "    <tr>\n",
              "      <th>4</th>\n",
              "      <td>0.0</td>\n",
              "      <td>1000</td>\n",
              "      <td>4</td>\n",
              "      <td>0.939232</td>\n",
              "      <td>1.0</td>\n",
              "    </tr>\n",
              "  </tbody>\n",
              "</table>\n",
              "</div>"
            ],
            "text/plain": [
              "   thresh_click  n_samples  repetition  click_ndcg  rating_ndcg\n",
              "0           0.0       1000           0    0.903436          1.0\n",
              "1           0.0       1000           1    0.927144          1.0\n",
              "2           0.0       1000           2    0.915525          1.0\n",
              "3           0.0       1000           3    0.914176          1.0\n",
              "4           0.0       1000           4    0.939232          1.0"
            ]
          },
          "metadata": {},
          "execution_count": 87
        }
      ]
    },
    {
      "cell_type": "code",
      "source": [
        "(\n",
        "  results_df\n",
        "  .groupby('thresh_click')\n",
        "  .agg(['mean','sem'])\n",
        "  [['click_ndcg','rating_ndcg']]\n",
        "  .swaplevel(axis=1)\n",
        "  .pipe(lambda df: df['mean'].plot.line(\n",
        "          yerr=df['sem'],\n",
        "          capsize=3,\n",
        "          legend=True,\n",
        "          grid=True,\n",
        "          ylabel='NDCG',\n",
        "          title='Comparing NDCG of \"clicks\" and \"ratings\" models'\n",
        "      )\n",
        "  )\n",
        ");\n"
      ],
      "metadata": {
        "id": "68HaF3trPvwM",
        "colab": {
          "base_uri": "https://localhost:8080/",
          "height": 316
        },
        "outputId": "357d863c-1b6b-4d9a-9fff-bdc7db705ef4"
      },
      "execution_count": 88,
      "outputs": [
        {
          "output_type": "display_data",
          "data": {
            "image/png": "[encoded data removed]",
            "text/plain": [
              "<Figure size 432x288 with 1 Axes>"
            ]
          },
          "metadata": {
            "needs_background": "light"
          }
        }
      ]
    },
    {
      "cell_type": "markdown",
      "source": [
        "Explain your results."
      ],
      "metadata": {
        "id": "M-vfvIcbSBXt"
      }
    },
    {
      "cell_type": "markdown",
      "source": [
        "Answer: TODO"
      ],
      "metadata": {
        "id": "u9zVHtjX7OMA"
      }
    },
    {
      "cell_type": "markdown",
      "source": [
        "### 1.1.6 Varying click noise\n",
        "Repeat the experiment, but this time:\n",
        "* Keep the number of samples fixed at 250.\n",
        "* Vary the click noise factor $\\mathtt{eps\\_click} \\in\\{0.25,0.5,\\dots,3.5\\}$. Pass this as a parameter to the DatasetGenerator constructor (be sure to use the constructor *inside* the loop).\n",
        "* For every noise factor run 50 random repeats and average."
      ],
      "metadata": {
        "id": "SG5LklHqKF-q"
      }
    },
    {
      "cell_type": "code",
      "source": [
        "from sklearn.linear_model import LinearRegression\n",
        "from sklearn.linear_model import LogisticRegression\n",
        "\n",
        "\n",
        "def for_data_generator(data_generator, num_repeats, eps_click):\n",
        "  log_model = LogisticRegression()\n",
        "  lin_model = LinearRegression()\n",
        "\n",
        "  exploratory_evaluation_df = data_generator.generate_evaluation_set(500)\n",
        "  x_test, eval_r = build_X_y_matrices(exploratory_evaluation_df, label_column=\"true_relevance\")\n",
        "\n",
        "  results_lst = []\n",
        "\n",
        "  for rpt in range(num_repeats):\n",
        "\n",
        "    exploratory_training_df = data_generator.generate_training_set(1000)\n",
        "\n",
        "    x_train, y_train = build_X_y_matrices(exploratory_training_df, label_column=\"click\")\n",
        "    pred_r_prob_log = log_model.fit(x_train, y_train.astype(float)).predict_proba(x_test)\n",
        "\n",
        "    x_train, y_train = build_X_y_matrices(exploratory_training_df, label_column=\"rating\")\n",
        "    pred_r_lin = lin_model.fit(x_train, y_train).predict(x_test)\n",
        "\n",
        "    # store results:\n",
        "    results_lst.append({\n",
        "        'eps_click': eps_click,\n",
        "        'n_samples': 1000,\n",
        "        'repetition': rpt,\n",
        "        'click_ndcg': ndcg_10(eval_r, pred_r_prob_log[:, 1]),\n",
        "        'rating_ndcg': ndcg_10(eval_r, pred_r_lin),\n",
        "    })\n",
        "\n",
        "  results_df = pd.DataFrame(results_lst)\n",
        "  return results_df"
      ],
      "metadata": {
        "id": "iOqzN4H0KImo"
      },
      "execution_count": 89,
      "outputs": []
    },
    {
      "cell_type": "code",
      "source": [
        "from tqdm.notebook import tqdm\n",
        "\n",
        "\n",
        "num_repeats = 20\n",
        "\n",
        "results_df = pd.DataFrame()\n",
        "for eps_click in tqdm(np.linspace(0.25, 3.5, num=14, endpoint=True)):\n",
        "\n",
        "  np.random.seed(42)\n",
        "  data_generator = DatasetGenerator(eps_click=eps_click)\n",
        "  df = for_data_generator(data_generator, num_repeats, eps_click=data_generator.eps_click)\n",
        "  results_df = pd.concat([results_df, df])\n",
        "\n",
        "results_df.head()"
      ],
      "metadata": {
        "colab": {
          "base_uri": "https://localhost:8080/",
          "height": 253,
          "referenced_widgets": [
            "118bb91c2bd640168ed18defb1aad0c5",
            "e3bb8f24bdce4fda9a796b5ccd72a20b",
            "dc84e419478b46448c7d91dc7f33b6d5",
            "d325b0f58f8b4e839e99e6b87c714610",
            "e830a6ed284d4c93809e8be0a93fedab",
            "58782d7c17e5487aa081ae2b401bf3fb",
            "8258d86c2b5b45a2ad6a4e5b5eb45119",
            "b9f9b289c40a4c8cbc4f9cbedd3977d8",
            "bab82512c3fe4480b3f02df25a946179",
            "fdb7be0fcf0d4b4b88d7bf2b775b6e4b",
            "a1b9718a88e8413f8a00ba8e5fd3b314"
          ]
        },
        "id": "FcG-OdtZ47_f",
        "outputId": "73d5d94c-a8ec-45ce-e8af-0e53fd1b495f"
      },
      "execution_count": 90,
      "outputs": [
        {
          "output_type": "display_data",
          "data": {
            "application/vnd.jupyter.widget-view+json": {
              "model_id": "118bb91c2bd640168ed18defb1aad0c5",
              "version_minor": 0,
              "version_major": 2
            },
            "text/plain": [
              "  0%|          | 0/14 [00:00<?, ?it/s]"
            ]
          },
          "metadata": {}
        },
        {
          "output_type": "execute_result",
          "data": {
            "text/html": [
              "<div>\n",
              "<style scoped>\n",
              "    .dataframe tbody tr th:only-of-type {\n",
              "        vertical-align: middle;\n",
              "    }\n",
              "\n",
              "    .dataframe tbody tr th {\n",
              "        vertical-align: top;\n",
              "    }\n",
              "\n",
              "    .dataframe thead th {\n",
              "        text-align: right;\n",
              "    }\n",
              "</style>\n",
              "<table border=\"1\" class=\"dataframe\">\n",
              "  <thead>\n",
              "    <tr style=\"text-align: right;\">\n",
              "      <th></th>\n",
              "      <th>eps_click</th>\n",
              "      <th>n_samples</th>\n",
              "      <th>repetition</th>\n",
              "      <th>click_ndcg</th>\n",
              "      <th>rating_ndcg</th>\n",
              "    </tr>\n",
              "  </thead>\n",
              "  <tbody>\n",
              "    <tr>\n",
              "      <th>0</th>\n",
              "      <td>0.25</td>\n",
              "      <td>1000</td>\n",
              "      <td>0</td>\n",
              "      <td>0.869280</td>\n",
              "      <td>0.987276</td>\n",
              "    </tr>\n",
              "    <tr>\n",
              "      <th>1</th>\n",
              "      <td>0.25</td>\n",
              "      <td>1000</td>\n",
              "      <td>1</td>\n",
              "      <td>0.919235</td>\n",
              "      <td>0.977991</td>\n",
              "    </tr>\n",
              "    <tr>\n",
              "      <th>2</th>\n",
              "      <td>0.25</td>\n",
              "      <td>1000</td>\n",
              "      <td>2</td>\n",
              "      <td>0.942475</td>\n",
              "      <td>0.723425</td>\n",
              "    </tr>\n",
              "    <tr>\n",
              "      <th>3</th>\n",
              "      <td>0.25</td>\n",
              "      <td>1000</td>\n",
              "      <td>3</td>\n",
              "      <td>0.826223</td>\n",
              "      <td>0.764071</td>\n",
              "    </tr>\n",
              "    <tr>\n",
              "      <th>4</th>\n",
              "      <td>0.25</td>\n",
              "      <td>1000</td>\n",
              "      <td>4</td>\n",
              "      <td>0.972076</td>\n",
              "      <td>0.382140</td>\n",
              "    </tr>\n",
              "  </tbody>\n",
              "</table>\n",
              "</div>"
            ],
            "text/plain": [
              "   eps_click  n_samples  repetition  click_ndcg  rating_ndcg\n",
              "0       0.25       1000           0    0.869280     0.987276\n",
              "1       0.25       1000           1    0.919235     0.977991\n",
              "2       0.25       1000           2    0.942475     0.723425\n",
              "3       0.25       1000           3    0.826223     0.764071\n",
              "4       0.25       1000           4    0.972076     0.382140"
            ]
          },
          "metadata": {},
          "execution_count": 90
        }
      ]
    },
    {
      "cell_type": "code",
      "source": [
        "(\n",
        "  results_df\n",
        "  .groupby('eps_click')\n",
        "  .agg(['mean','sem'])\n",
        "  [['click_ndcg','rating_ndcg']]\n",
        "  .swaplevel(axis=1)\n",
        "  .pipe(lambda df: df['mean'].plot.line(\n",
        "          yerr=df['sem'],\n",
        "          capsize=3,\n",
        "          legend=True,\n",
        "          grid=True,\n",
        "          ylabel='NDCG',\n",
        "          title='Comparing NDCG of \"clicks\" and \"ratings\" models'\n",
        "      )\n",
        "  )\n",
        ");"
      ],
      "metadata": {
        "id": "jSZO3GrJK1gZ",
        "colab": {
          "base_uri": "https://localhost:8080/",
          "height": 316
        },
        "outputId": "3f754530-5f57-494b-f5a9-52b567d78814"
      },
      "execution_count": 91,
      "outputs": [
        {
          "output_type": "display_data",
          "data": {
            "image/png": "[encoded data removed]",
            "text/plain": [
              "<Figure size 432x288 with 1 Axes>"
            ]
          },
          "metadata": {
            "needs_background": "light"
          }
        }
      ]
    },
    {
      "cell_type": "markdown",
      "source": [
        "Are these results surprising? Explain."
      ],
      "metadata": {
        "id": "jmHpqDPyPDal"
      }
    },
    {
      "cell_type": "markdown",
      "source": [
        "**Answer:** TODO"
      ],
      "metadata": {
        "id": "7Rrx1u9d7J9y"
      }
    },
    {
      "cell_type": "markdown",
      "source": [
        "## 1.2 Biased ratings\n",
        "\n",
        "In real life, users rarely rate all items they consume. Moreover - both the choice of *which* items to rate, and the actual *reported* ratings, are prone to behavioral biases. In this question we will examine the effects of different reporting schemes (i.e., ways in which uesrs report or fail to report ratings, and how they modify these ratings) on learning.\n",
        "\n",
        "\n",
        "We will examine five types of users:\n",
        "- Rational (random): Each rating $r$ is reported with a fixed probability $p=0.4$. Note this serves as a benchmark since it does not add bias to how ratings are reported.\n",
        "- Ranting: Only reports bad ratings, defined as $r \\le 2$.\n",
        "- Extereme: Only reports extreme ratings, defined as $r=1$ or $r=5$.\n",
        "- Optimistic: Reports only if ratings are high, $r \\ge 4$, but for each item with true relevance $r=4$, misreports it as $r=5$ with probability $p=0.8$.\n",
        "- Overreacts: Reports ratings for items with low ratings $r \\le 2$ and with high ratings $r \\ge 4$, and for these, reports them with probability $p=0.5$. However, he extremifies his ratings by misreporting $r=2$ as $r=1$ and $r=4$ as $r=5$.\n",
        "- **[Bonus]** *Joker: implement your own type!*\n",
        "\n",
        "Note: the above criterions and probabilities ensure that for all types, 40% of ratings are reported, so all types generate the same (expected) number of ratings. If you implement a Joker, ensure this holds as well.\n",
        "\n"
      ],
      "metadata": {
        "id": "sC1hY3tMCiUp"
      }
    },
    {
      "cell_type": "markdown",
      "source": [
        "### 1.2.1 Implementing user types\n",
        "Implement a function `selective_ratings` that takes as input an array `r_arr` of ratings, and simulates user behavior by returning a subset of `r_arr` matching one of the above types of user reporting behaviors, as determined by the parameter `utype`. The function also takes as input the set of item features `items_train`, and returns the subset of items corresponding to the reported ratings.\n"
      ],
      "metadata": {
        "id": "6UPZZSceCwcb"
      }
    },
    {
      "cell_type": "code",
      "source": [
        "from scipy.stats import bernoulli\n",
        "\n",
        "\n",
        "def selective_ratings(r_arr, utype='rational',items_train=None):\n",
        "\n",
        "  np.random.seed(0)\n",
        "\n",
        "  \"\"\"\n",
        "  input:\n",
        "  r_arr: ratings array - numpy\n",
        "  utype: string\n",
        "\n",
        "  return: numpy array of revealed ratings, the corresponding item features\n",
        "  \"\"\"\n",
        "\n",
        "  n_samples = len(r_arr)\n",
        "\n",
        "  if utype=='rational':\n",
        "\n",
        "    mask = (np.random.random_sample(size=(n_samples, )) < 0.4)\n",
        "    r_arr = r_arr[mask]\n",
        "    if items_train is not None:\n",
        "      items_train = items_train[mask, ...]\n",
        "\n",
        "    return r_arr, items_train\n",
        "\n",
        "  if utype=='ranting':\n",
        "\n",
        "    mask = (r_arr <= 2)\n",
        "    r_arr = r_arr[mask]\n",
        "    if items_train is not None:\n",
        "      items_train = items_train[mask, ...]\n",
        "\n",
        "    return r_arr, items_train\n",
        "\n",
        "  if utype=='extreme':\n",
        "\n",
        "    mask = (r_arr == 1) + (r_arr == 5)\n",
        "    r_arr = r_arr[mask]\n",
        "    if items_train is not None:\n",
        "      items_train = items_train[mask, ...]\n",
        "\n",
        "    return r_arr, items_train\n",
        "\n",
        "  if utype=='optimistic':\n",
        "\n",
        "    mask = (r_arr >= 4)  \n",
        "    r_arr = r_arr[mask]\n",
        "\n",
        "    optimism_mask = (np.random.random_sample(size=(len(r_arr), )) < 0.8)\n",
        "    r_arr[optimism_mask] = 5\n",
        "\n",
        "    if items_train is not None:\n",
        "      items_train = items_train[mask, ...]\n",
        "\n",
        "    return r_arr, items_train\n",
        "\n",
        "  if utype=='overreacts':\n",
        "\n",
        "    mask = (r_arr <= 2) + (r_arr >= 4)    \n",
        "    r_arr = r_arr[mask]\n",
        "\n",
        "    if items_train is not None:\n",
        "      items_train = items_train[mask, ...]\n",
        "\n",
        "    overreacts_mask = (np.random.random_sample(size=(len(r_arr), )) < 0.5)\n",
        "    r_arr = r_arr[overreacts_mask]\n",
        "\n",
        "    if items_train is not None:\n",
        "      items_train = items_train[overreacts_mask, ...]\n",
        "\n",
        "    r_arr[r_arr == 2] = 1\n",
        "    r_arr[r_arr == 4] = 5\n",
        "\n",
        "    return r_arr, items_train\n",
        "\n",
        "  if utype=='polish':\n",
        "\n",
        "    r_arr = 3 * np.ones_like(r_arr) # TODO\n",
        "\n",
        "    return r_arr, items_train"
      ],
      "metadata": {
        "id": "P9-8SeK9CoNs"
      },
      "execution_count": 95,
      "outputs": []
    },
    {
      "cell_type": "markdown",
      "source": [
        "Use the next block of code to experiment with your ratings filter models (optional)."
      ],
      "metadata": {
        "id": "QkkzImbzC3PW"
      }
    },
    {
      "cell_type": "code",
      "source": [
        "\"\"\"\n",
        "\n",
        "Try you code - optional\n",
        "You may use ratings generated below of the evaluation..\n",
        "\n",
        "\"\"\""
      ],
      "metadata": {
        "id": "RpS17UswC2RL"
      },
      "execution_count": null,
      "outputs": []
    },
    {
      "cell_type": "markdown",
      "source": [
        "## 1.2.2 Training and evaluation\n",
        "\n",
        "In this section we will:\n",
        "* generates train and test data\n",
        "* filters rating for each user type based on your implementation of `selective_ratings'\n",
        "* \n",
        "\n",
        "(If you implemented a Joker type - add it to the code below)"
      ],
      "metadata": {
        "id": "636FInE9DGk3"
      }
    },
    {
      "cell_type": "markdown",
      "source": [
        "**Before actually running the code** - give an educated guess for NDCG and RMSE values for each user type (if values are hard for you to guess, state relations, e.g. 'higher', 'lower', 'much lower'):"
      ],
      "metadata": {
        "id": "ZnMpWEKTDb6H"
      }
    },
    {
      "cell_type": "code",
      "source": [
        "Answer:..."
      ],
      "metadata": {
        "id": "k0_Er-GaDD4y"
      },
      "execution_count": null,
      "outputs": []
    },
    {
      "cell_type": "markdown",
      "source": [
        "Now, run the following cell, which generates data, trains, evaluates, and prints and stores predictions, NDCG, and RMSE test measures for each type."
      ],
      "metadata": {
        "id": "xRKZOcDuDfO0"
      }
    },
    {
      "cell_type": "code",
      "source": [
        "np.random.seed(42)\n",
        "data_generator = DatasetGenerator()\n",
        "\n",
        "# generate train data\n",
        "train_df = data_generator.generate_training_set(5000)\n",
        "items_train, ratings_train = build_X_y_matrices(train_df, 'rating')\n",
        "\n",
        "# generate test data\n",
        "test_df = data_generator.generate_evaluation_set(1000)\n",
        "items_test, true_relevance = build_X_y_matrices(test_df, 'true_relevance')\n",
        "\n",
        "utypes = ['rational', 'ranting', 'extreme', 'optimistic', 'overreacts', 'polish']\n",
        "\n",
        "ndcgs = []\n",
        "rmses = []\n",
        "preds = []\n",
        "for utype in utypes:\n",
        "  # train\n",
        "  ratings_train_, items_train_ = selective_ratings(ratings_train, utype,items_train)\n",
        "  clf2 = LinearRegression().fit(items_train_, ratings_train_)\n",
        "\n",
        "  # predict, evaluate, and store results\n",
        "  pred_test = clf2.predict(items_test)\n",
        "  preds.append(pred_test)\n",
        "  ndcgs.append(ndcg_10(true_relevance, pred_test))\n",
        "  rmses.append(np.sqrt(mean_squared_error(true_relevance, pred_test)))\n",
        "\n",
        "  # print results\n",
        "  print(utype)\n",
        "  print('ndcg:', ndcgs[-1])\n",
        "  print('rmse:', rmses[-1])\n",
        "  print()"
      ],
      "metadata": {
        "id": "KlPuXisBDhtk",
        "colab": {
          "base_uri": "https://localhost:8080/"
        },
        "outputId": "dbb09551-ab1a-4944-a109-e377d951bde5"
      },
      "execution_count": 96,
      "outputs": [
        {
          "output_type": "stream",
          "name": "stdout",
          "text": [
            "rational\n",
            "ndcg: 0.985327215580128\n",
            "rmse: 0.9263708841364119\n",
            "\n",
            "ranting\n",
            "ndcg: 0.6187629318641255\n",
            "rmse: 1.6244550720118534\n",
            "\n",
            "extreme\n",
            "ndcg: 0.9872758423602097\n",
            "rmse: 1.4258220725225021\n",
            "\n",
            "optimistic\n",
            "ndcg: 0.6739632583268074\n",
            "rmse: 2.222138253621638\n",
            "\n",
            "overreacts\n",
            "ndcg: 0.676606385875945\n",
            "rmse: 2.2128142824217814\n",
            "\n",
            "joker\n",
            "ndcg: 0.6038\n",
            "rmse: 1.1708970919769166\n",
            "\n"
          ]
        }
      ]
    },
    {
      "cell_type": "markdown",
      "source": [
        "### 1.2.3 Comparing guesses and results\n",
        "Do these results match your guesses? Why, or why not?\n",
        "\n",
        "To answer, first run the cell below which generates violin plots for each user type, and use it in your explanation."
      ],
      "metadata": {
        "id": "96qPZYkNFB53"
      }
    },
    {
      "cell_type": "code",
      "source": [
        "Answer:..."
      ],
      "metadata": {
        "id": "srF9nUc5DkPx"
      },
      "execution_count": null,
      "outputs": []
    },
    {
      "cell_type": "code",
      "source": [
        "for utype_, pred_, ndcg_, rmse_ in zip(utypes, preds, ndcgs, rmses):\n",
        "  rs = np.sort(np.unique(true_relevance))\n",
        "  pred_per_r = [pred_[np.where(true_relevance==r)] for r in rs]\n",
        "  plt.violinplot(pred_per_r, rs, showmeans=True)\n",
        "  plt.plot([1,5],[1,5],'k--');\n",
        "  plt.xlabel('true relevance')\n",
        "  plt.ylabel('predicted rating')\n",
        "  plt.title('{}: ndcg={:.3f}, rmse={:.3f}'.format(utype_, ndcg_, rmse_))\n",
        "  plt.show()"
      ],
      "metadata": {
        "id": "LBlizWaVFIoE",
        "colab": {
          "base_uri": "https://localhost:8080/",
          "height": 1000
        },
        "outputId": "98232014-add5-47c4-bfa7-2fb386a5f88e"
      },
      "execution_count": 97,
      "outputs": [
        {
          "output_type": "stream",
          "name": "stderr",
          "text": [
            "/usr/local/lib/python3.7/dist-packages/numpy/core/_asarray.py:83: VisibleDeprecationWarning: Creating an ndarray from ragged nested sequences (which is a list-or-tuple of lists-or-tuples-or ndarrays with different lengths or shapes) is deprecated. If you meant to do this, you must specify 'dtype=object' when creating the ndarray\n",
            "  return array(a, dtype, copy=False, order=order)\n"
          ]
        },
        {
          "output_type": "display_data",
          "data": {
            "image/png": "[encoded data removed]",
            "text/plain": [
              "<Figure size 432x288 with 1 Axes>"
            ]
          },
          "metadata": {
            "needs_background": "light"
          }
        },
        {
          "output_type": "display_data",
          "data": {
            "image/png": "[encoded data removed]",
            "text/plain": [
              "<Figure size 432x288 with 1 Axes>"
            ]
          },
          "metadata": {
            "needs_background": "light"
          }
        },
        {
          "output_type": "display_data",
          "data": {
            "image/png": "[encoded data removed]",
            "text/plain": [
              "<Figure size 432x288 with 1 Axes>"
            ]
          },
          "metadata": {
            "needs_background": "light"
          }
        },
        {
          "output_type": "display_data",
          "data": {
            "image/png": "[encoded data removed]",
            "text/plain": [
              "<Figure size 432x288 with 1 Axes>"
            ]
          },
          "metadata": {
            "needs_background": "light"
          }
        },
        {
          "output_type": "display_data",
          "data": {
            "image/png": "[encoded data removed]",
            "text/plain": [
              "<Figure size 432x288 with 1 Axes>"
            ]
          },
          "metadata": {
            "needs_background": "light"
          }
        },
        {
          "output_type": "display_data",
          "data": {
            "image/png": "[encoded data removed]",
            "text/plain": [
              "<Figure size 432x288 with 1 Axes>"
            ]
          },
          "metadata": {
            "needs_background": "light"
          }
        }
      ]
    },
    {
      "cell_type": "code",
      "source": [
        ""
      ],
      "metadata": {
        "id": "U9rSEWlrBGeR"
      },
      "execution_count": null,
      "outputs": []
    }
  ]
}