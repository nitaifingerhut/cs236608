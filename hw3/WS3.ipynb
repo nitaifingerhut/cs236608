{
  "nbformat": 4,
  "nbformat_minor": 0,
  "metadata": {
    "colab": {
      "name": "Copy of WS3_Students.ipynb",
      "provenance": [],
      "collapsed_sections": []
    },
    "kernelspec": {
      "name": "python3",
      "display_name": "Python 3"
    },
    "language_info": {
      "name": "python"
    },
    "widgets": {
      "application/vnd.jupyter.widget-state+json": {
        "4c2aef280a3c42ee842ce84ae5c6217f": {
          "model_module": "@jupyter-widgets/controls",
          "model_name": "HBoxModel",
          "model_module_version": "1.5.0",
          "state": {
            "_view_name": "HBoxView",
            "_dom_classes": [],
            "_model_name": "HBoxModel",
            "_view_module": "@jupyter-widgets/controls",
            "_model_module_version": "1.5.0",
            "_view_count": null,
            "_view_module_version": "1.5.0",
            "box_style": "",
            "layout": "IPY_MODEL_458bcf6426f04d41aee24fd02c49f061",
            "_model_module": "@jupyter-widgets/controls",
            "children": [
              "IPY_MODEL_49a40ba4ce074bad90d6c03465100a48",
              "IPY_MODEL_d0852b161920459b8845d356193cb1de",
              "IPY_MODEL_95672900edec42c0814f4cb9e5e9cae1"
            ]
          }
        },
        "458bcf6426f04d41aee24fd02c49f061": {
          "model_module": "@jupyter-widgets/base",
          "model_name": "LayoutModel",
          "model_module_version": "1.2.0",
          "state": {
            "_view_name": "LayoutView",
            "grid_template_rows": null,
            "right": null,
            "justify_content": null,
            "_view_module": "@jupyter-widgets/base",
            "overflow": null,
            "_model_module_version": "1.2.0",
            "_view_count": null,
            "flex_flow": null,
            "width": null,
            "min_width": null,
            "border": null,
            "align_items": null,
            "bottom": null,
            "_model_module": "@jupyter-widgets/base",
            "top": null,
            "grid_column": null,
            "overflow_y": null,
            "overflow_x": null,
            "grid_auto_flow": null,
            "grid_area": null,
            "grid_template_columns": null,
            "flex": null,
            "_model_name": "LayoutModel",
            "justify_items": null,
            "grid_row": null,
            "max_height": null,
            "align_content": null,
            "visibility": null,
            "align_self": null,
            "height": null,
            "min_height": null,
            "padding": null,
            "grid_auto_rows": null,
            "grid_gap": null,
            "max_width": null,
            "order": null,
            "_view_module_version": "1.2.0",
            "grid_template_areas": null,
            "object_position": null,
            "object_fit": null,
            "grid_auto_columns": null,
            "margin": null,
            "display": null,
            "left": null
          }
        },
        "49a40ba4ce074bad90d6c03465100a48": {
          "model_module": "@jupyter-widgets/controls",
          "model_name": "HTMLModel",
          "model_module_version": "1.5.0",
          "state": {
            "_view_name": "HTMLView",
            "style": "IPY_MODEL_0ba28b41cc794d38bb6888962a1bef69",
            "_dom_classes": [],
            "description": "",
            "_model_name": "HTMLModel",
            "placeholder": "​",
            "_view_module": "@jupyter-widgets/controls",
            "_model_module_version": "1.5.0",
            "value": "100%",
            "_view_count": null,
            "_view_module_version": "1.5.0",
            "description_tooltip": null,
            "_model_module": "@jupyter-widgets/controls",
            "layout": "IPY_MODEL_9eea42a7f9df4c5ea613e1546d8522d8"
          }
        },
        "d0852b161920459b8845d356193cb1de": {
          "model_module": "@jupyter-widgets/controls",
          "model_name": "FloatProgressModel",
          "model_module_version": "1.5.0",
          "state": {
            "_view_name": "ProgressView",
            "style": "IPY_MODEL_6243fd262ebc4e9f864b972ffed75ab3",
            "_dom_classes": [],
            "description": "",
            "_model_name": "FloatProgressModel",
            "bar_style": "success",
            "max": 13,
            "_view_module": "@jupyter-widgets/controls",
            "_model_module_version": "1.5.0",
            "value": 13,
            "_view_count": null,
            "_view_module_version": "1.5.0",
            "orientation": "horizontal",
            "min": 0,
            "description_tooltip": null,
            "_model_module": "@jupyter-widgets/controls",
            "layout": "IPY_MODEL_5758825d20674f82ac0c2f765758a4b2"
          }
        },
        "95672900edec42c0814f4cb9e5e9cae1": {
          "model_module": "@jupyter-widgets/controls",
          "model_name": "HTMLModel",
          "model_module_version": "1.5.0",
          "state": {
            "_view_name": "HTMLView",
            "style": "IPY_MODEL_cb8efcb597b649aaa7627ac14f2a96b4",
            "_dom_classes": [],
            "description": "",
            "_model_name": "HTMLModel",
            "placeholder": "​",
            "_view_module": "@jupyter-widgets/controls",
            "_model_module_version": "1.5.0",
            "value": " 13/13 [00:06&lt;00:00,  2.02it/s]",
            "_view_count": null,
            "_view_module_version": "1.5.0",
            "description_tooltip": null,
            "_model_module": "@jupyter-widgets/controls",
            "layout": "IPY_MODEL_adf6b9bcb09344ccbf1352d2f38fb7f5"
          }
        },
        "0ba28b41cc794d38bb6888962a1bef69": {
          "model_module": "@jupyter-widgets/controls",
          "model_name": "DescriptionStyleModel",
          "model_module_version": "1.5.0",
          "state": {
            "_view_name": "StyleView",
            "_model_name": "DescriptionStyleModel",
            "description_width": "",
            "_view_module": "@jupyter-widgets/base",
            "_model_module_version": "1.5.0",
            "_view_count": null,
            "_view_module_version": "1.2.0",
            "_model_module": "@jupyter-widgets/controls"
          }
        },
        "9eea42a7f9df4c5ea613e1546d8522d8": {
          "model_module": "@jupyter-widgets/base",
          "model_name": "LayoutModel",
          "model_module_version": "1.2.0",
          "state": {
            "_view_name": "LayoutView",
            "grid_template_rows": null,
            "right": null,
            "justify_content": null,
            "_view_module": "@jupyter-widgets/base",
            "overflow": null,
            "_model_module_version": "1.2.0",
            "_view_count": null,
            "flex_flow": null,
            "width": null,
            "min_width": null,
            "border": null,
            "align_items": null,
            "bottom": null,
            "_model_module": "@jupyter-widgets/base",
            "top": null,
            "grid_column": null,
            "overflow_y": null,
            "overflow_x": null,
            "grid_auto_flow": null,
            "grid_area": null,
            "grid_template_columns": null,
            "flex": null,
            "_model_name": "LayoutModel",
            "justify_items": null,
            "grid_row": null,
            "max_height": null,
            "align_content": null,
            "visibility": null,
            "align_self": null,
            "height": null,
            "min_height": null,
            "padding": null,
            "grid_auto_rows": null,
            "grid_gap": null,
            "max_width": null,
            "order": null,
            "_view_module_version": "1.2.0",
            "grid_template_areas": null,
            "object_position": null,
            "object_fit": null,
            "grid_auto_columns": null,
            "margin": null,
            "display": null,
            "left": null
          }
        },
        "6243fd262ebc4e9f864b972ffed75ab3": {
          "model_module": "@jupyter-widgets/controls",
          "model_name": "ProgressStyleModel",
          "model_module_version": "1.5.0",
          "state": {
            "_view_name": "StyleView",
            "_model_name": "ProgressStyleModel",
            "description_width": "",
            "_view_module": "@jupyter-widgets/base",
            "_model_module_version": "1.5.0",
            "_view_count": null,
            "_view_module_version": "1.2.0",
            "bar_color": null,
            "_model_module": "@jupyter-widgets/controls"
          }
        },
        "5758825d20674f82ac0c2f765758a4b2": {
          "model_module": "@jupyter-widgets/base",
          "model_name": "LayoutModel",
          "model_module_version": "1.2.0",
          "state": {
            "_view_name": "LayoutView",
            "grid_template_rows": null,
            "right": null,
            "justify_content": null,
            "_view_module": "@jupyter-widgets/base",
            "overflow": null,
            "_model_module_version": "1.2.0",
            "_view_count": null,
            "flex_flow": null,
            "width": null,
            "min_width": null,
            "border": null,
            "align_items": null,
            "bottom": null,
            "_model_module": "@jupyter-widgets/base",
            "top": null,
            "grid_column": null,
            "overflow_y": null,
            "overflow_x": null,
            "grid_auto_flow": null,
            "grid_area": null,
            "grid_template_columns": null,
            "flex": null,
            "_model_name": "LayoutModel",
            "justify_items": null,
            "grid_row": null,
            "max_height": null,
            "align_content": null,
            "visibility": null,
            "align_self": null,
            "height": null,
            "min_height": null,
            "padding": null,
            "grid_auto_rows": null,
            "grid_gap": null,
            "max_width": null,
            "order": null,
            "_view_module_version": "1.2.0",
            "grid_template_areas": null,
            "object_position": null,
            "object_fit": null,
            "grid_auto_columns": null,
            "margin": null,
            "display": null,
            "left": null
          }
        },
        "cb8efcb597b649aaa7627ac14f2a96b4": {
          "model_module": "@jupyter-widgets/controls",
          "model_name": "DescriptionStyleModel",
          "model_module_version": "1.5.0",
          "state": {
            "_view_name": "StyleView",
            "_model_name": "DescriptionStyleModel",
            "description_width": "",
            "_view_module": "@jupyter-widgets/base",
            "_model_module_version": "1.5.0",
            "_view_count": null,
            "_view_module_version": "1.2.0",
            "_model_module": "@jupyter-widgets/controls"
          }
        },
        "adf6b9bcb09344ccbf1352d2f38fb7f5": {
          "model_module": "@jupyter-widgets/base",
          "model_name": "LayoutModel",
          "model_module_version": "1.2.0",
          "state": {
            "_view_name": "LayoutView",
            "grid_template_rows": null,
            "right": null,
            "justify_content": null,
            "_view_module": "@jupyter-widgets/base",
            "overflow": null,
            "_model_module_version": "1.2.0",
            "_view_count": null,
            "flex_flow": null,
            "width": null,
            "min_width": null,
            "border": null,
            "align_items": null,
            "bottom": null,
            "_model_module": "@jupyter-widgets/base",
            "top": null,
            "grid_column": null,
            "overflow_y": null,
            "overflow_x": null,
            "grid_auto_flow": null,
            "grid_area": null,
            "grid_template_columns": null,
            "flex": null,
            "_model_name": "LayoutModel",
            "justify_items": null,
            "grid_row": null,
            "max_height": null,
            "align_content": null,
            "visibility": null,
            "align_self": null,
            "height": null,
            "min_height": null,
            "padding": null,
            "grid_auto_rows": null,
            "grid_gap": null,
            "max_width": null,
            "order": null,
            "_view_module_version": "1.2.0",
            "grid_template_areas": null,
            "object_position": null,
            "object_fit": null,
            "grid_auto_columns": null,
            "margin": null,
            "display": null,
            "left": null
          }
        },
        "88c4064aee964738aa150c860538585e": {
          "model_module": "@jupyter-widgets/controls",
          "model_name": "HBoxModel",
          "model_module_version": "1.5.0",
          "state": {
            "_view_name": "HBoxView",
            "_dom_classes": [],
            "_model_name": "HBoxModel",
            "_view_module": "@jupyter-widgets/controls",
            "_model_module_version": "1.5.0",
            "_view_count": null,
            "_view_module_version": "1.5.0",
            "box_style": "",
            "layout": "IPY_MODEL_bd196edae62047918a030b25cba405f0",
            "_model_module": "@jupyter-widgets/controls",
            "children": [
              "IPY_MODEL_13a2be0097f44f189149c73f2bb06312",
              "IPY_MODEL_4309d3351ea34959a4b3b60702b25869",
              "IPY_MODEL_ba7b75688e984438aaa495d2cb1f08c3"
            ]
          }
        },
        "bd196edae62047918a030b25cba405f0": {
          "model_module": "@jupyter-widgets/base",
          "model_name": "LayoutModel",
          "model_module_version": "1.2.0",
          "state": {
            "_view_name": "LayoutView",
            "grid_template_rows": null,
            "right": null,
            "justify_content": null,
            "_view_module": "@jupyter-widgets/base",
            "overflow": null,
            "_model_module_version": "1.2.0",
            "_view_count": null,
            "flex_flow": null,
            "width": null,
            "min_width": null,
            "border": null,
            "align_items": null,
            "bottom": null,
            "_model_module": "@jupyter-widgets/base",
            "top": null,
            "grid_column": null,
            "overflow_y": null,
            "overflow_x": null,
            "grid_auto_flow": null,
            "grid_area": null,
            "grid_template_columns": null,
            "flex": null,
            "_model_name": "LayoutModel",
            "justify_items": null,
            "grid_row": null,
            "max_height": null,
            "align_content": null,
            "visibility": null,
            "align_self": null,
            "height": null,
            "min_height": null,
            "padding": null,
            "grid_auto_rows": null,
            "grid_gap": null,
            "max_width": null,
            "order": null,
            "_view_module_version": "1.2.0",
            "grid_template_areas": null,
            "object_position": null,
            "object_fit": null,
            "grid_auto_columns": null,
            "margin": null,
            "display": null,
            "left": null
          }
        },
        "13a2be0097f44f189149c73f2bb06312": {
          "model_module": "@jupyter-widgets/controls",
          "model_name": "HTMLModel",
          "model_module_version": "1.5.0",
          "state": {
            "_view_name": "HTMLView",
            "style": "IPY_MODEL_05c12fcf4930429098c6021133f90b64",
            "_dom_classes": [],
            "description": "",
            "_model_name": "HTMLModel",
            "placeholder": "​",
            "_view_module": "@jupyter-widgets/controls",
            "_model_module_version": "1.5.0",
            "value": "100%",
            "_view_count": null,
            "_view_module_version": "1.5.0",
            "description_tooltip": null,
            "_model_module": "@jupyter-widgets/controls",
            "layout": "IPY_MODEL_9aa35398e63b423baa42d6eda058a3bd"
          }
        },
        "4309d3351ea34959a4b3b60702b25869": {
          "model_module": "@jupyter-widgets/controls",
          "model_name": "FloatProgressModel",
          "model_module_version": "1.5.0",
          "state": {
            "_view_name": "ProgressView",
            "style": "IPY_MODEL_604e75d1a1a34728a1a6f987744ddd46",
            "_dom_classes": [],
            "description": "",
            "_model_name": "FloatProgressModel",
            "bar_style": "success",
            "max": 14,
            "_view_module": "@jupyter-widgets/controls",
            "_model_module_version": "1.5.0",
            "value": 14,
            "_view_count": null,
            "_view_module_version": "1.5.0",
            "orientation": "horizontal",
            "min": 0,
            "description_tooltip": null,
            "_model_module": "@jupyter-widgets/controls",
            "layout": "IPY_MODEL_305dbf4be3c547968bbb802c7a1c1313"
          }
        },
        "ba7b75688e984438aaa495d2cb1f08c3": {
          "model_module": "@jupyter-widgets/controls",
          "model_name": "HTMLModel",
          "model_module_version": "1.5.0",
          "state": {
            "_view_name": "HTMLView",
            "style": "IPY_MODEL_6663a831dd0f42b69c8866ecf49dcf0b",
            "_dom_classes": [],
            "description": "",
            "_model_name": "HTMLModel",
            "placeholder": "​",
            "_view_module": "@jupyter-widgets/controls",
            "_model_module_version": "1.5.0",
            "value": " 14/14 [00:13&lt;00:00,  1.27it/s]",
            "_view_count": null,
            "_view_module_version": "1.5.0",
            "description_tooltip": null,
            "_model_module": "@jupyter-widgets/controls",
            "layout": "IPY_MODEL_305fb9fbc92b49e4ae9809715e24fafe"
          }
        },
        "05c12fcf4930429098c6021133f90b64": {
          "model_module": "@jupyter-widgets/controls",
          "model_name": "DescriptionStyleModel",
          "model_module_version": "1.5.0",
          "state": {
            "_view_name": "StyleView",
            "_model_name": "DescriptionStyleModel",
            "description_width": "",
            "_view_module": "@jupyter-widgets/base",
            "_model_module_version": "1.5.0",
            "_view_count": null,
            "_view_module_version": "1.2.0",
            "_model_module": "@jupyter-widgets/controls"
          }
        },
        "9aa35398e63b423baa42d6eda058a3bd": {
          "model_module": "@jupyter-widgets/base",
          "model_name": "LayoutModel",
          "model_module_version": "1.2.0",
          "state": {
            "_view_name": "LayoutView",
            "grid_template_rows": null,
            "right": null,
            "justify_content": null,
            "_view_module": "@jupyter-widgets/base",
            "overflow": null,
            "_model_module_version": "1.2.0",
            "_view_count": null,
            "flex_flow": null,
            "width": null,
            "min_width": null,
            "border": null,
            "align_items": null,
            "bottom": null,
            "_model_module": "@jupyter-widgets/base",
            "top": null,
            "grid_column": null,
            "overflow_y": null,
            "overflow_x": null,
            "grid_auto_flow": null,
            "grid_area": null,
            "grid_template_columns": null,
            "flex": null,
            "_model_name": "LayoutModel",
            "justify_items": null,
            "grid_row": null,
            "max_height": null,
            "align_content": null,
            "visibility": null,
            "align_self": null,
            "height": null,
            "min_height": null,
            "padding": null,
            "grid_auto_rows": null,
            "grid_gap": null,
            "max_width": null,
            "order": null,
            "_view_module_version": "1.2.0",
            "grid_template_areas": null,
            "object_position": null,
            "object_fit": null,
            "grid_auto_columns": null,
            "margin": null,
            "display": null,
            "left": null
          }
        },
        "604e75d1a1a34728a1a6f987744ddd46": {
          "model_module": "@jupyter-widgets/controls",
          "model_name": "ProgressStyleModel",
          "model_module_version": "1.5.0",
          "state": {
            "_view_name": "StyleView",
            "_model_name": "ProgressStyleModel",
            "description_width": "",
            "_view_module": "@jupyter-widgets/base",
            "_model_module_version": "1.5.0",
            "_view_count": null,
            "_view_module_version": "1.2.0",
            "bar_color": null,
            "_model_module": "@jupyter-widgets/controls"
          }
        },
        "305dbf4be3c547968bbb802c7a1c1313": {
          "model_module": "@jupyter-widgets/base",
          "model_name": "LayoutModel",
          "model_module_version": "1.2.0",
          "state": {
            "_view_name": "LayoutView",
            "grid_template_rows": null,
            "right": null,
            "justify_content": null,
            "_view_module": "@jupyter-widgets/base",
            "overflow": null,
            "_model_module_version": "1.2.0",
            "_view_count": null,
            "flex_flow": null,
            "width": null,
            "min_width": null,
            "border": null,
            "align_items": null,
            "bottom": null,
            "_model_module": "@jupyter-widgets/base",
            "top": null,
            "grid_column": null,
            "overflow_y": null,
            "overflow_x": null,
            "grid_auto_flow": null,
            "grid_area": null,
            "grid_template_columns": null,
            "flex": null,
            "_model_name": "LayoutModel",
            "justify_items": null,
            "grid_row": null,
            "max_height": null,
            "align_content": null,
            "visibility": null,
            "align_self": null,
            "height": null,
            "min_height": null,
            "padding": null,
            "grid_auto_rows": null,
            "grid_gap": null,
            "max_width": null,
            "order": null,
            "_view_module_version": "1.2.0",
            "grid_template_areas": null,
            "object_position": null,
            "object_fit": null,
            "grid_auto_columns": null,
            "margin": null,
            "display": null,
            "left": null
          }
        },
        "6663a831dd0f42b69c8866ecf49dcf0b": {
          "model_module": "@jupyter-widgets/controls",
          "model_name": "DescriptionStyleModel",
          "model_module_version": "1.5.0",
          "state": {
            "_view_name": "StyleView",
            "_model_name": "DescriptionStyleModel",
            "description_width": "",
            "_view_module": "@jupyter-widgets/base",
            "_model_module_version": "1.5.0",
            "_view_count": null,
            "_view_module_version": "1.2.0",
            "_model_module": "@jupyter-widgets/controls"
          }
        },
        "305fb9fbc92b49e4ae9809715e24fafe": {
          "model_module": "@jupyter-widgets/base",
          "model_name": "LayoutModel",
          "model_module_version": "1.2.0",
          "state": {
            "_view_name": "LayoutView",
            "grid_template_rows": null,
            "right": null,
            "justify_content": null,
            "_view_module": "@jupyter-widgets/base",
            "overflow": null,
            "_model_module_version": "1.2.0",
            "_view_count": null,
            "flex_flow": null,
            "width": null,
            "min_width": null,
            "border": null,
            "align_items": null,
            "bottom": null,
            "_model_module": "@jupyter-widgets/base",
            "top": null,
            "grid_column": null,
            "overflow_y": null,
            "overflow_x": null,
            "grid_auto_flow": null,
            "grid_area": null,
            "grid_template_columns": null,
            "flex": null,
            "_model_name": "LayoutModel",
            "justify_items": null,
            "grid_row": null,
            "max_height": null,
            "align_content": null,
            "visibility": null,
            "align_self": null,
            "height": null,
            "min_height": null,
            "padding": null,
            "grid_auto_rows": null,
            "grid_gap": null,
            "max_width": null,
            "order": null,
            "_view_module_version": "1.2.0",
            "grid_template_areas": null,
            "object_position": null,
            "object_fit": null,
            "grid_auto_columns": null,
            "margin": null,
            "display": null,
            "left": null
          }
        }
      }
    }
  },
  "cells": [
    {
      "cell_type": "markdown",
      "source": [
        "# MLHB Workshop 3 - Funnel and Bias 🦝 "
      ],
      "metadata": {
        "id": "wnWX_VzBeoym"
      }
    },
    {
      "cell_type": "markdown",
      "metadata": {
        "id": "-vlvDYcn1XAm"
      },
      "source": [
        "## 1.1 Types of feedback (or: \"the funnel\")\n",
        "\n",
        "In this exercise, we will simulate and analyze a hypothetical recommender system. For simplicty, our system will have a single user, and the goal of the system is to provide her with relevant content.\n",
        "The user is described by a (latent) vector $u\\in \\mathbb{R}^d$, which is unknown to the system. For a given item $i$ with features $x_i \\in \\mathbb{R}^d$ (which are known to the system), relevance to the user is an integer $y \\in \\{1,\\dots,5\\}$, given by the following formula:\n",
        "$$\n",
        "y=\\texttt{round}(\\sigma(u^\\top x_i)-0.5) \\quad \\text{where} \\quad\n",
        "\\sigma(a)=1+\\frac{4}{1+e^{-1.5a}}\n",
        "$$\n",
        "Don't be allarmed - the formula simply: computes an inner product, squashes into $[0,1]$, expands to $[1,5]$, and rounds.\n",
        "\n",
        "To make its recommendations, **the system is given access to two types of data**, generated by the user as a response to past recommendations: clicks, and (possibly) ratings. Specifically, given a training set of previously-recommended items, for each of these items, the system also observes:\n",
        "  1. A binary *click* label $c \\in \\{0,1\\}$. The user clicks on a recommended item only if its *perceived* relevance $\\tilde{y}$ is higher than some threshold `thresh_click`. Perceived relevance differs from true relevance in two ways:\n",
        "    1. They are based only on partial information (think of how search results include only a short summary of an item). In our case, the user only gets to observe some of the features.\n",
        "    2. They include additive noise `eps_click` (this is applied to the inner prodect $u^\\top x_i$).\n",
        "  2. An integer *rating* label $r \\in \\{1,\\dots,5\\}$. Ratings are based on items relevancies, and are reported *only after items have been consumed*. This means that:\n",
        "    1. They are based on the entire feature vector (i.e., consuming an items means the user is exposed to the entire feature vector).\n",
        "    2. They are also affected by additive noise `eps_rating`.\n",
        "    3. Importantly, they are observed **only for items that have been clicked**.\n",
        "\n",
        "None of the parameters `thresh_click`, `eps_click`, and `eps_rating` are known to the system.\n",
        "\n",
        "In this exercise we will explore how the interaction between these two types of user feedback affect learning and recommendation."
      ]
    },
    {
      "cell_type": "markdown",
      "source": [
        "### Imports"
      ],
      "metadata": {
        "id": "YwS22RxEAWfF"
      }
    },
    {
      "cell_type": "code",
      "source": [
        "import pandas as pd\n",
        "import numpy as np\n",
        "import uuid\n",
        "from typing import List, Tuple\n",
        "\n",
        "from sklearn.linear_model import LogisticRegression, LinearRegression\n",
        "from sklearn.metrics import ndcg_score\n",
        "import matplotlib.pyplot as plt\n",
        "from sklearn.metrics import ndcg_score, mean_squared_error\n"
      ],
      "metadata": {
        "id": "Bh9XM6vAAZdD"
      },
      "execution_count": 1,
      "outputs": []
    },
    {
      "cell_type": "markdown",
      "source": [
        "### The `DatasetGenerator` class\n",
        "\n",
        "All the datasets in this exercise are represented using `pandas.DataFrame` objects ([API reference](https://pandas.pydata.org/docs/reference/api/pandas.DataFrame.html)).\n",
        "\n",
        "To generate the synthetic datasets, we will use the `DatasetGenerator` class defined below. The constructor includes three arguments: `thresh_click`, `eps_click`, and `eps_rating`, as described above. Calling `DatasetGenerator()` results in default arguments.\n",
        "\n",
        "Additionally, the class has two public instance methods that we're going to use:\n",
        "\n",
        "* `generate_evaluation_set(n_samples)` - Generate evaluation set of the given size. This function returns a `pandas.DataFrame` object. The dataframe is indexed by `item_id`, which is an arbitrary random string assigned to each item. The dataframe has clumns for each of the $d$ features, and and additional `true_relevance` column that stores the true (un-noised) relevancies of all items.\n",
        "\n",
        "* `generate_training_set(n_samples)` - Generate a training set of the given size. Similarly, this function returns a `pandas.DataFrame` object with the same type of index, and with feature columns. The dataframe does not include ture relevancies; instead it includes two additional columns:\n",
        " * The column `click` is an indicator of whether the user clicked an item ($c_{i}\\in\\{0,1\\}$ as in the definitions above).\n",
        " * The column `rating` contains the item rating ($r_{i}\\in\\{1,\\dots,5\\}$ in the definitions above).\n",
        "\n",
        "The next cell loads the `DatasetGenerator` class def - please simply run the cell, and ignore the internal implementation. In the cells that follow, we will guide you in how to use its public interface.\n"
      ],
      "metadata": {
        "id": "HCM6dYL67eLa"
      }
    },
    {
      "cell_type": "markdown",
      "source": [
        "### Class definition (hidden)\n",
        "  \n",
        "Please ignore internal implementation."
      ],
      "metadata": {
        "id": "loRIsiwG-7LP"
      }
    },
    {
      "cell_type": "code",
      "source": [
        "#@title DatasetGenerator Class\n",
        "\n",
        "\n",
        "class DatasetGenerator(object):\n",
        "  FEATURE_COLUMNS = [f'x{i+1}' for i in range(8)]\n",
        "\n",
        "  def __init__(self, thresh_click=2, eps_click=0.4, eps_rating=1):\n",
        "    self.thresh_click = thresh_click\n",
        "    self.eps_click = eps_click\n",
        "    self.eps_rating = eps_rating\n",
        "    self._latent_dim = len(self.FEATURE_COLUMNS)\n",
        "    self.top_k_idxs = np.arange(self._latent_dim)<5\n",
        "    \n",
        "    self._user_features = np.abs(np.random.randn(self._latent_dim))\n",
        "    self._user_features /= np.linalg.norm(self._user_features)\n",
        "    self._user_features_topk = self._user_features*self.top_k_idxs\n",
        "\n",
        "  def _generate_dataframe(self, n_samples) -> pd.DataFrame:\n",
        "    return pd.DataFrame(\n",
        "        index=pd.Index(\n",
        "            data=[str(uuid.uuid4()) for _ in range(n_samples)],\n",
        "            name='item_id',\n",
        "        ),\n",
        "        data={\n",
        "            feature_name: np.random.randn(n_samples)\n",
        "            for feature_name in self.FEATURE_COLUMNS\n",
        "        }\n",
        "    )\n",
        "  \n",
        "  @staticmethod\n",
        "  def _click_transform(x):\n",
        "    return x>2\n",
        "\n",
        "  @staticmethod\n",
        "  def _rating_transform(x):\n",
        "    sigmoid = lambda x: 1/(1+np.exp(-x))\n",
        "    return np.round((sigmoid(x*1.5)-0.5)*4 + 3).astype(int)\n",
        "\n",
        "  def generate_evaluation_set(self, n_samples: int) -> pd.DataFrame:\n",
        "    df = self._generate_dataframe(n_samples)\n",
        "    X = df[self.FEATURE_COLUMNS].to_numpy()\n",
        "    scores = X@self._user_features\n",
        "    y = self._rating_transform(scores)\n",
        "    return df.assign(true_relevance=y)\n",
        "\n",
        "  def generate_training_set(self, n_samples: int):\n",
        "    df = self._generate_dataframe(n_samples)\n",
        "    X = df[self.FEATURE_COLUMNS].to_numpy()\n",
        "    for _ in range(1000):  # rejection sampling\n",
        "      noisy_scores = X@self._user_features_topk + self.eps_click*np.random.logistic(size=X.shape[0])\n",
        "      y_click = pd.array(\n",
        "          (noisy_scores > self.thresh_click),\n",
        "          dtype=pd.Int64Dtype()\n",
        "      )\n",
        "      if len(y_click.unique())>1 and y_click.value_counts().min()>1:\n",
        "        break\n",
        "    for _ in range(1000):  # rejection sampling\n",
        "      noisy_scores = X@self._user_features + self.eps_rating*np.random.logistic(size=X.shape[0])\n",
        "      y_rating = pd.array(\n",
        "          self._rating_transform(noisy_scores),\n",
        "          dtype=pd.Int64Dtype(),\n",
        "      )\n",
        "      y_rating[y_click==0] = None\n",
        "      if len(y_rating.dropna().unique())>1:\n",
        "        break\n",
        "\n",
        "    return df.assign(click=y_click, rating=y_rating)"
      ],
      "metadata": {
        "id": "vCx11ogtgPt_",
        "cellView": "form"
      },
      "execution_count": 2,
      "outputs": []
    },
    {
      "cell_type": "markdown",
      "source": [
        "### Exploratory analysis\n",
        "\n",
        "`data_generator` is an instance of the `DatasetGenerator` class:\n"
      ],
      "metadata": {
        "id": "PZw3k7if-zLr"
      }
    },
    {
      "cell_type": "code",
      "source": [
        "data_generator = DatasetGenerator()"
      ],
      "metadata": {
        "id": "JWx4kzfzhhGj"
      },
      "execution_count": 3,
      "outputs": []
    },
    {
      "cell_type": "markdown",
      "source": [
        "\n",
        "\n",
        "Here we use the `generate_evaluation_set` function to generate an evaluation set with 500 samples, plot the first 5 rows, and plot an histogram of true (un-noised) relevance scores:"
      ],
      "metadata": {
        "id": "P1X55HWEhfH_"
      }
    },
    {
      "cell_type": "code",
      "source": [
        "exploratory_evaluation_df = data_generator.generate_evaluation_set(500)\n",
        "exploratory_evaluation_df.head()"
      ],
      "metadata": {
        "id": "l5zaON_T6o4Z",
        "colab": {
          "base_uri": "https://localhost:8080/",
          "height": 237
        },
        "outputId": "894dac4e-d48d-4187-af87-343a5f9c6f7e"
      },
      "execution_count": 4,
      "outputs": [
        {
          "output_type": "execute_result",
          "data": {
            "text/html": [
              "\n",
              "  <div id=\"df-182d6e03-3784-4172-a41d-cd7520348553\">\n",
              "    <div class=\"colab-df-container\">\n",
              "      <div>\n",
              "<style scoped>\n",
              "    .dataframe tbody tr th:only-of-type {\n",
              "        vertical-align: middle;\n",
              "    }\n",
              "\n",
              "    .dataframe tbody tr th {\n",
              "        vertical-align: top;\n",
              "    }\n",
              "\n",
              "    .dataframe thead th {\n",
              "        text-align: right;\n",
              "    }\n",
              "</style>\n",
              "<table border=\"1\" class=\"dataframe\">\n",
              "  <thead>\n",
              "    <tr style=\"text-align: right;\">\n",
              "      <th></th>\n",
              "      <th>x1</th>\n",
              "      <th>x2</th>\n",
              "      <th>x3</th>\n",
              "      <th>x4</th>\n",
              "      <th>x5</th>\n",
              "      <th>x6</th>\n",
              "      <th>x7</th>\n",
              "      <th>x8</th>\n",
              "      <th>true_relevance</th>\n",
              "    </tr>\n",
              "    <tr>\n",
              "      <th>item_id</th>\n",
              "      <th></th>\n",
              "      <th></th>\n",
              "      <th></th>\n",
              "      <th></th>\n",
              "      <th></th>\n",
              "      <th></th>\n",
              "      <th></th>\n",
              "      <th></th>\n",
              "      <th></th>\n",
              "    </tr>\n",
              "  </thead>\n",
              "  <tbody>\n",
              "    <tr>\n",
              "      <th>02c755c1-c328-4297-b784-196f6bf643d8</th>\n",
              "      <td>-1.409424</td>\n",
              "      <td>-0.557585</td>\n",
              "      <td>0.780537</td>\n",
              "      <td>0.903517</td>\n",
              "      <td>-1.024390</td>\n",
              "      <td>0.358617</td>\n",
              "      <td>-1.909109</td>\n",
              "      <td>0.812573</td>\n",
              "      <td>2</td>\n",
              "    </tr>\n",
              "    <tr>\n",
              "      <th>82b210fd-da68-488b-bf24-61fd0c0f8e41</th>\n",
              "      <td>-0.839040</td>\n",
              "      <td>1.210948</td>\n",
              "      <td>-0.805287</td>\n",
              "      <td>-2.507661</td>\n",
              "      <td>2.052453</td>\n",
              "      <td>-0.192820</td>\n",
              "      <td>-0.652969</td>\n",
              "      <td>-1.094042</td>\n",
              "      <td>3</td>\n",
              "    </tr>\n",
              "    <tr>\n",
              "      <th>3cc9910a-c44f-4854-98b0-b16ea9e17fa5</th>\n",
              "      <td>-1.334535</td>\n",
              "      <td>0.411285</td>\n",
              "      <td>0.552407</td>\n",
              "      <td>0.935303</td>\n",
              "      <td>1.336317</td>\n",
              "      <td>1.117312</td>\n",
              "      <td>0.688528</td>\n",
              "      <td>0.346214</td>\n",
              "      <td>5</td>\n",
              "    </tr>\n",
              "    <tr>\n",
              "      <th>c44b87f4-fd04-4fb1-98b2-dbb59f04b118</th>\n",
              "      <td>-0.066041</td>\n",
              "      <td>0.155648</td>\n",
              "      <td>-1.100361</td>\n",
              "      <td>-0.493408</td>\n",
              "      <td>1.138160</td>\n",
              "      <td>0.348993</td>\n",
              "      <td>1.616335</td>\n",
              "      <td>1.369583</td>\n",
              "      <td>4</td>\n",
              "    </tr>\n",
              "    <tr>\n",
              "      <th>ece7907c-4ccd-4912-a21e-9d18d1aea5e8</th>\n",
              "      <td>-0.050236</td>\n",
              "      <td>0.378529</td>\n",
              "      <td>0.493236</td>\n",
              "      <td>-0.522939</td>\n",
              "      <td>0.356413</td>\n",
              "      <td>-1.909305</td>\n",
              "      <td>-1.338470</td>\n",
              "      <td>-0.278621</td>\n",
              "      <td>2</td>\n",
              "    </tr>\n",
              "  </tbody>\n",
              "</table>\n",
              "</div>\n",
              "      <button class=\"colab-df-convert\" onclick=\"convertToInteractive('df-182d6e03-3784-4172-a41d-cd7520348553')\"\n",
              "              title=\"Convert this dataframe to an interactive table.\"\n",
              "              style=\"display:none;\">\n",
              "        \n",
              "  <svg xmlns=\"http://www.w3.org/2000/svg\" height=\"24px\"viewBox=\"0 0 24 24\"\n",
              "       width=\"24px\">\n",
              "    <path d=\"M0 0h24v24H0V0z\" fill=\"none\"/>\n",
              "    <path d=\"M18.56 5.44l.94 2.06.94-2.06 2.06-.94-2.06-.94-.94-2.06-.94 2.06-2.06.94zm-11 1L8.5 8.5l.94-2.06 2.06-.94-2.06-.94L8.5 2.5l-.94 2.06-2.06.94zm10 10l.94 2.06.94-2.06 2.06-.94-2.06-.94-.94-2.06-.94 2.06-2.06.94z\"/><path d=\"M17.41 7.96l-1.37-1.37c-.4-.4-.92-.59-1.43-.59-.52 0-1.04.2-1.43.59L10.3 9.45l-7.72 7.72c-.78.78-.78 2.05 0 2.83L4 21.41c.39.39.9.59 1.41.59.51 0 1.02-.2 1.41-.59l7.78-7.78 2.81-2.81c.8-.78.8-2.07 0-2.86zM5.41 20L4 18.59l7.72-7.72 1.47 1.35L5.41 20z\"/>\n",
              "  </svg>\n",
              "      </button>\n",
              "      \n",
              "  <style>\n",
              "    .colab-df-container {\n",
              "      display:flex;\n",
              "      flex-wrap:wrap;\n",
              "      gap: 12px;\n",
              "    }\n",
              "\n",
              "    .colab-df-convert {\n",
              "      background-color: #E8F0FE;\n",
              "      border: none;\n",
              "      border-radius: 50%;\n",
              "      cursor: pointer;\n",
              "      display: none;\n",
              "      fill: #1967D2;\n",
              "      height: 32px;\n",
              "      padding: 0 0 0 0;\n",
              "      width: 32px;\n",
              "    }\n",
              "\n",
              "    .colab-df-convert:hover {\n",
              "      background-color: #E2EBFA;\n",
              "      box-shadow: 0px 1px 2px rgba(60, 64, 67, 0.3), 0px 1px 3px 1px rgba(60, 64, 67, 0.15);\n",
              "      fill: #174EA6;\n",
              "    }\n",
              "\n",
              "    [theme=dark] .colab-df-convert {\n",
              "      background-color: #3B4455;\n",
              "      fill: #D2E3FC;\n",
              "    }\n",
              "\n",
              "    [theme=dark] .colab-df-convert:hover {\n",
              "      background-color: #434B5C;\n",
              "      box-shadow: 0px 1px 3px 1px rgba(0, 0, 0, 0.15);\n",
              "      filter: drop-shadow(0px 1px 2px rgba(0, 0, 0, 0.3));\n",
              "      fill: #FFFFFF;\n",
              "    }\n",
              "  </style>\n",
              "\n",
              "      <script>\n",
              "        const buttonEl =\n",
              "          document.querySelector('#df-182d6e03-3784-4172-a41d-cd7520348553 button.colab-df-convert');\n",
              "        buttonEl.style.display =\n",
              "          google.colab.kernel.accessAllowed ? 'block' : 'none';\n",
              "\n",
              "        async function convertToInteractive(key) {\n",
              "          const element = document.querySelector('#df-182d6e03-3784-4172-a41d-cd7520348553');\n",
              "          const dataTable =\n",
              "            await google.colab.kernel.invokeFunction('convertToInteractive',\n",
              "                                                     [key], {});\n",
              "          if (!dataTable) return;\n",
              "\n",
              "          const docLinkHtml = 'Like what you see? Visit the ' +\n",
              "            '<a target=\"_blank\" href=https://colab.research.google.com/notebooks/data_table.ipynb>data table notebook</a>'\n",
              "            + ' to learn more about interactive tables.';\n",
              "          element.innerHTML = '';\n",
              "          dataTable['output_type'] = 'display_data';\n",
              "          await google.colab.output.renderOutput(dataTable, element);\n",
              "          const docLink = document.createElement('div');\n",
              "          docLink.innerHTML = docLinkHtml;\n",
              "          element.appendChild(docLink);\n",
              "        }\n",
              "      </script>\n",
              "    </div>\n",
              "  </div>\n",
              "  "
            ],
            "text/plain": [
              "                                            x1  ...  true_relevance\n",
              "item_id                                         ...                \n",
              "02c755c1-c328-4297-b784-196f6bf643d8 -1.409424  ...               2\n",
              "82b210fd-da68-488b-bf24-61fd0c0f8e41 -0.839040  ...               3\n",
              "3cc9910a-c44f-4854-98b0-b16ea9e17fa5 -1.334535  ...               5\n",
              "c44b87f4-fd04-4fb1-98b2-dbb59f04b118 -0.066041  ...               4\n",
              "ece7907c-4ccd-4912-a21e-9d18d1aea5e8 -0.050236  ...               2\n",
              "\n",
              "[5 rows x 9 columns]"
            ]
          },
          "metadata": {},
          "execution_count": 4
        }
      ]
    },
    {
      "cell_type": "code",
      "source": [
        "exploratory_evaluation_df['true_relevance'].plot.hist(\n",
        "    title='Evaluation dataset - Histogram of true relevance',\n",
        "    bins=[0.5,1.5,2.5,3.5,4.5,5.5]\n",
        ");"
      ],
      "metadata": {
        "id": "XEh1DAG37Fl4",
        "colab": {
          "base_uri": "https://localhost:8080/",
          "height": 281
        },
        "outputId": "48fb8308-2dca-40cf-9508-28201f7b595f"
      },
      "execution_count": 5,
      "outputs": [
        {
          "output_type": "display_data",
          "data": {
            "image/png": "[encoded data removed]",
            "text/plain": [
              "<Figure size 432x288 with 1 Axes>"
            ]
          },
          "metadata": {
            "needs_background": "light"
          }
        }
      ]
    },
    {
      "cell_type": "markdown",
      "source": [
        "Here we use the `generate_training_set` function to generate a training set of size 10 and print it. Note that values of `rating` are only observed for items that were clicked:"
      ],
      "metadata": {
        "id": "1hdFJwZE_nlp"
      }
    },
    {
      "cell_type": "code",
      "source": [
        "exploratory_training_df = data_generator.generate_training_set(10)\n",
        "exploratory_training_df"
      ],
      "metadata": {
        "id": "MUn9uRDKA25y",
        "colab": {
          "base_uri": "https://localhost:8080/",
          "height": 394
        },
        "outputId": "bbb8734c-daea-4961-e982-fe069a74551e"
      },
      "execution_count": 6,
      "outputs": [
        {
          "output_type": "execute_result",
          "data": {
            "text/html": [
              "\n",
              "  <div id=\"df-00e140ba-e4f3-492c-af07-e6965fae2e0b\">\n",
              "    <div class=\"colab-df-container\">\n",
              "      <div>\n",
              "<style scoped>\n",
              "    .dataframe tbody tr th:only-of-type {\n",
              "        vertical-align: middle;\n",
              "    }\n",
              "\n",
              "    .dataframe tbody tr th {\n",
              "        vertical-align: top;\n",
              "    }\n",
              "\n",
              "    .dataframe thead th {\n",
              "        text-align: right;\n",
              "    }\n",
              "</style>\n",
              "<table border=\"1\" class=\"dataframe\">\n",
              "  <thead>\n",
              "    <tr style=\"text-align: right;\">\n",
              "      <th></th>\n",
              "      <th>x1</th>\n",
              "      <th>x2</th>\n",
              "      <th>x3</th>\n",
              "      <th>x4</th>\n",
              "      <th>x5</th>\n",
              "      <th>x6</th>\n",
              "      <th>x7</th>\n",
              "      <th>x8</th>\n",
              "      <th>click</th>\n",
              "      <th>rating</th>\n",
              "    </tr>\n",
              "    <tr>\n",
              "      <th>item_id</th>\n",
              "      <th></th>\n",
              "      <th></th>\n",
              "      <th></th>\n",
              "      <th></th>\n",
              "      <th></th>\n",
              "      <th></th>\n",
              "      <th></th>\n",
              "      <th></th>\n",
              "      <th></th>\n",
              "      <th></th>\n",
              "    </tr>\n",
              "  </thead>\n",
              "  <tbody>\n",
              "    <tr>\n",
              "      <th>3104d88a-7a37-432d-8043-3054430acae0</th>\n",
              "      <td>1.534111</td>\n",
              "      <td>0.142334</td>\n",
              "      <td>-1.632699</td>\n",
              "      <td>-2.274233</td>\n",
              "      <td>0.643655</td>\n",
              "      <td>-0.003710</td>\n",
              "      <td>-0.279012</td>\n",
              "      <td>-1.205173</td>\n",
              "      <td>0</td>\n",
              "      <td>&lt;NA&gt;</td>\n",
              "    </tr>\n",
              "    <tr>\n",
              "      <th>e89cf9f8-df39-4eaf-bbd8-03c863dcce01</th>\n",
              "      <td>0.592422</td>\n",
              "      <td>0.118135</td>\n",
              "      <td>-0.934909</td>\n",
              "      <td>-1.326685</td>\n",
              "      <td>1.611392</td>\n",
              "      <td>-0.345553</td>\n",
              "      <td>-1.043627</td>\n",
              "      <td>-0.672677</td>\n",
              "      <td>0</td>\n",
              "      <td>&lt;NA&gt;</td>\n",
              "    </tr>\n",
              "    <tr>\n",
              "      <th>fcb2f8c4-229d-4002-a5c6-3d86887210af</th>\n",
              "      <td>-0.222979</td>\n",
              "      <td>-0.058818</td>\n",
              "      <td>0.187930</td>\n",
              "      <td>-0.299806</td>\n",
              "      <td>-0.045287</td>\n",
              "      <td>-0.917573</td>\n",
              "      <td>1.141212</td>\n",
              "      <td>2.266223</td>\n",
              "      <td>1</td>\n",
              "      <td>5</td>\n",
              "    </tr>\n",
              "    <tr>\n",
              "      <th>e10caaa4-98ab-4a6f-b4e8-8b9fa0f5400f</th>\n",
              "      <td>0.950481</td>\n",
              "      <td>-0.206632</td>\n",
              "      <td>0.496683</td>\n",
              "      <td>-0.550405</td>\n",
              "      <td>0.068419</td>\n",
              "      <td>-0.316031</td>\n",
              "      <td>0.073945</td>\n",
              "      <td>1.049377</td>\n",
              "      <td>0</td>\n",
              "      <td>&lt;NA&gt;</td>\n",
              "    </tr>\n",
              "    <tr>\n",
              "      <th>06730c0a-7fce-4c39-8fb4-cf1d5c72bfe5</th>\n",
              "      <td>0.610664</td>\n",
              "      <td>0.134325</td>\n",
              "      <td>0.227332</td>\n",
              "      <td>0.569734</td>\n",
              "      <td>0.083050</td>\n",
              "      <td>-1.221226</td>\n",
              "      <td>0.310317</td>\n",
              "      <td>0.520215</td>\n",
              "      <td>0</td>\n",
              "      <td>&lt;NA&gt;</td>\n",
              "    </tr>\n",
              "    <tr>\n",
              "      <th>f30c8921-9e19-4695-bdca-dcff9201e204</th>\n",
              "      <td>-0.576683</td>\n",
              "      <td>0.392195</td>\n",
              "      <td>0.367893</td>\n",
              "      <td>0.316752</td>\n",
              "      <td>-1.408945</td>\n",
              "      <td>-1.227687</td>\n",
              "      <td>-0.860664</td>\n",
              "      <td>0.140248</td>\n",
              "      <td>1</td>\n",
              "      <td>1</td>\n",
              "    </tr>\n",
              "    <tr>\n",
              "      <th>02128fed-1f13-4694-a519-fc6586831566</th>\n",
              "      <td>-0.931835</td>\n",
              "      <td>0.356277</td>\n",
              "      <td>0.583950</td>\n",
              "      <td>2.785696</td>\n",
              "      <td>-1.332778</td>\n",
              "      <td>0.504282</td>\n",
              "      <td>0.109422</td>\n",
              "      <td>0.908719</td>\n",
              "      <td>0</td>\n",
              "      <td>&lt;NA&gt;</td>\n",
              "    </tr>\n",
              "    <tr>\n",
              "      <th>be4bceac-dc86-4601-b479-45cfa803e8c8</th>\n",
              "      <td>0.513685</td>\n",
              "      <td>0.289070</td>\n",
              "      <td>-0.556773</td>\n",
              "      <td>0.112954</td>\n",
              "      <td>-1.648910</td>\n",
              "      <td>-0.711300</td>\n",
              "      <td>0.260667</td>\n",
              "      <td>1.653236</td>\n",
              "      <td>0</td>\n",
              "      <td>&lt;NA&gt;</td>\n",
              "    </tr>\n",
              "    <tr>\n",
              "      <th>c5b50ca1-ff67-4fd0-b616-c59f6880f0b5</th>\n",
              "      <td>1.307124</td>\n",
              "      <td>0.959353</td>\n",
              "      <td>-1.913758</td>\n",
              "      <td>0.658119</td>\n",
              "      <td>0.402639</td>\n",
              "      <td>-1.229443</td>\n",
              "      <td>1.175918</td>\n",
              "      <td>1.213958</td>\n",
              "      <td>0</td>\n",
              "      <td>&lt;NA&gt;</td>\n",
              "    </tr>\n",
              "    <tr>\n",
              "      <th>d97b16ac-ff26-411c-9da2-d24591c6cb11</th>\n",
              "      <td>-0.486127</td>\n",
              "      <td>-0.012109</td>\n",
              "      <td>0.798835</td>\n",
              "      <td>1.133437</td>\n",
              "      <td>0.248488</td>\n",
              "      <td>1.404026</td>\n",
              "      <td>-0.717031</td>\n",
              "      <td>0.752567</td>\n",
              "      <td>0</td>\n",
              "      <td>&lt;NA&gt;</td>\n",
              "    </tr>\n",
              "  </tbody>\n",
              "</table>\n",
              "</div>\n",
              "      <button class=\"colab-df-convert\" onclick=\"convertToInteractive('df-00e140ba-e4f3-492c-af07-e6965fae2e0b')\"\n",
              "              title=\"Convert this dataframe to an interactive table.\"\n",
              "              style=\"display:none;\">\n",
              "        \n",
              "  <svg xmlns=\"http://www.w3.org/2000/svg\" height=\"24px\"viewBox=\"0 0 24 24\"\n",
              "       width=\"24px\">\n",
              "    <path d=\"M0 0h24v24H0V0z\" fill=\"none\"/>\n",
              "    <path d=\"M18.56 5.44l.94 2.06.94-2.06 2.06-.94-2.06-.94-.94-2.06-.94 2.06-2.06.94zm-11 1L8.5 8.5l.94-2.06 2.06-.94-2.06-.94L8.5 2.5l-.94 2.06-2.06.94zm10 10l.94 2.06.94-2.06 2.06-.94-2.06-.94-.94-2.06-.94 2.06-2.06.94z\"/><path d=\"M17.41 7.96l-1.37-1.37c-.4-.4-.92-.59-1.43-.59-.52 0-1.04.2-1.43.59L10.3 9.45l-7.72 7.72c-.78.78-.78 2.05 0 2.83L4 21.41c.39.39.9.59 1.41.59.51 0 1.02-.2 1.41-.59l7.78-7.78 2.81-2.81c.8-.78.8-2.07 0-2.86zM5.41 20L4 18.59l7.72-7.72 1.47 1.35L5.41 20z\"/>\n",
              "  </svg>\n",
              "      </button>\n",
              "      \n",
              "  <style>\n",
              "    .colab-df-container {\n",
              "      display:flex;\n",
              "      flex-wrap:wrap;\n",
              "      gap: 12px;\n",
              "    }\n",
              "\n",
              "    .colab-df-convert {\n",
              "      background-color: #E8F0FE;\n",
              "      border: none;\n",
              "      border-radius: 50%;\n",
              "      cursor: pointer;\n",
              "      display: none;\n",
              "      fill: #1967D2;\n",
              "      height: 32px;\n",
              "      padding: 0 0 0 0;\n",
              "      width: 32px;\n",
              "    }\n",
              "\n",
              "    .colab-df-convert:hover {\n",
              "      background-color: #E2EBFA;\n",
              "      box-shadow: 0px 1px 2px rgba(60, 64, 67, 0.3), 0px 1px 3px 1px rgba(60, 64, 67, 0.15);\n",
              "      fill: #174EA6;\n",
              "    }\n",
              "\n",
              "    [theme=dark] .colab-df-convert {\n",
              "      background-color: #3B4455;\n",
              "      fill: #D2E3FC;\n",
              "    }\n",
              "\n",
              "    [theme=dark] .colab-df-convert:hover {\n",
              "      background-color: #434B5C;\n",
              "      box-shadow: 0px 1px 3px 1px rgba(0, 0, 0, 0.15);\n",
              "      filter: drop-shadow(0px 1px 2px rgba(0, 0, 0, 0.3));\n",
              "      fill: #FFFFFF;\n",
              "    }\n",
              "  </style>\n",
              "\n",
              "      <script>\n",
              "        const buttonEl =\n",
              "          document.querySelector('#df-00e140ba-e4f3-492c-af07-e6965fae2e0b button.colab-df-convert');\n",
              "        buttonEl.style.display =\n",
              "          google.colab.kernel.accessAllowed ? 'block' : 'none';\n",
              "\n",
              "        async function convertToInteractive(key) {\n",
              "          const element = document.querySelector('#df-00e140ba-e4f3-492c-af07-e6965fae2e0b');\n",
              "          const dataTable =\n",
              "            await google.colab.kernel.invokeFunction('convertToInteractive',\n",
              "                                                     [key], {});\n",
              "          if (!dataTable) return;\n",
              "\n",
              "          const docLinkHtml = 'Like what you see? Visit the ' +\n",
              "            '<a target=\"_blank\" href=https://colab.research.google.com/notebooks/data_table.ipynb>data table notebook</a>'\n",
              "            + ' to learn more about interactive tables.';\n",
              "          element.innerHTML = '';\n",
              "          dataTable['output_type'] = 'display_data';\n",
              "          await google.colab.output.renderOutput(dataTable, element);\n",
              "          const docLink = document.createElement('div');\n",
              "          docLink.innerHTML = docLinkHtml;\n",
              "          element.appendChild(docLink);\n",
              "        }\n",
              "      </script>\n",
              "    </div>\n",
              "  </div>\n",
              "  "
            ],
            "text/plain": [
              "                                            x1        x2  ...  click  rating\n",
              "item_id                                                   ...               \n",
              "3104d88a-7a37-432d-8043-3054430acae0  1.534111  0.142334  ...      0    <NA>\n",
              "e89cf9f8-df39-4eaf-bbd8-03c863dcce01  0.592422  0.118135  ...      0    <NA>\n",
              "fcb2f8c4-229d-4002-a5c6-3d86887210af -0.222979 -0.058818  ...      1       5\n",
              "e10caaa4-98ab-4a6f-b4e8-8b9fa0f5400f  0.950481 -0.206632  ...      0    <NA>\n",
              "06730c0a-7fce-4c39-8fb4-cf1d5c72bfe5  0.610664  0.134325  ...      0    <NA>\n",
              "f30c8921-9e19-4695-bdca-dcff9201e204 -0.576683  0.392195  ...      1       1\n",
              "02128fed-1f13-4694-a519-fc6586831566 -0.931835  0.356277  ...      0    <NA>\n",
              "be4bceac-dc86-4601-b479-45cfa803e8c8  0.513685  0.289070  ...      0    <NA>\n",
              "c5b50ca1-ff67-4fd0-b616-c59f6880f0b5  1.307124  0.959353  ...      0    <NA>\n",
              "d97b16ac-ff26-411c-9da2-d24591c6cb11 -0.486127 -0.012109  ...      0    <NA>\n",
              "\n",
              "[10 rows x 10 columns]"
            ]
          },
          "metadata": {},
          "execution_count": 6
        }
      ]
    },
    {
      "cell_type": "markdown",
      "source": [
        "### 1.1.1 Exercise: Warm up\n",
        "\n",
        "To ensure that the technical API is clear, we will start with a couple of technical exercises. "
      ],
      "metadata": {
        "id": "vI2noTFpGLgT"
      }
    },
    {
      "cell_type": "markdown",
      "source": [
        "### 1.1.2 Exploratory analysis\n",
        "Use `data_generator` to generate a training set of size 1000, and print the first 3 rows:\n"
      ],
      "metadata": {
        "id": "GJPzXfcGtIX3"
      }
    },
    {
      "cell_type": "code",
      "source": [
        "exploratory_training_df = data_generator.generate_training_set(1000)\n",
        "exploratory_training_df.head(3)"
      ],
      "metadata": {
        "id": "z8uojU3bHMkp",
        "colab": {
          "base_uri": "https://localhost:8080/",
          "height": 174
        },
        "outputId": "407c26e3-02b7-4de2-dd6f-221f7a85ead4"
      },
      "execution_count": 7,
      "outputs": [
        {
          "output_type": "execute_result",
          "data": {
            "text/html": [
              "\n",
              "  <div id=\"df-552e9347-96a6-48a9-bf0c-2d7a0e486dd3\">\n",
              "    <div class=\"colab-df-container\">\n",
              "      <div>\n",
              "<style scoped>\n",
              "    .dataframe tbody tr th:only-of-type {\n",
              "        vertical-align: middle;\n",
              "    }\n",
              "\n",
              "    .dataframe tbody tr th {\n",
              "        vertical-align: top;\n",
              "    }\n",
              "\n",
              "    .dataframe thead th {\n",
              "        text-align: right;\n",
              "    }\n",
              "</style>\n",
              "<table border=\"1\" class=\"dataframe\">\n",
              "  <thead>\n",
              "    <tr style=\"text-align: right;\">\n",
              "      <th></th>\n",
              "      <th>x1</th>\n",
              "      <th>x2</th>\n",
              "      <th>x3</th>\n",
              "      <th>x4</th>\n",
              "      <th>x5</th>\n",
              "      <th>x6</th>\n",
              "      <th>x7</th>\n",
              "      <th>x8</th>\n",
              "      <th>click</th>\n",
              "      <th>rating</th>\n",
              "    </tr>\n",
              "    <tr>\n",
              "      <th>item_id</th>\n",
              "      <th></th>\n",
              "      <th></th>\n",
              "      <th></th>\n",
              "      <th></th>\n",
              "      <th></th>\n",
              "      <th></th>\n",
              "      <th></th>\n",
              "      <th></th>\n",
              "      <th></th>\n",
              "      <th></th>\n",
              "    </tr>\n",
              "  </thead>\n",
              "  <tbody>\n",
              "    <tr>\n",
              "      <th>8820124f-cead-40c9-9b9b-61922b35c2b5</th>\n",
              "      <td>1.710266</td>\n",
              "      <td>0.817370</td>\n",
              "      <td>-0.003946</td>\n",
              "      <td>-0.153547</td>\n",
              "      <td>-0.684957</td>\n",
              "      <td>-0.489655</td>\n",
              "      <td>-1.023756</td>\n",
              "      <td>0.486315</td>\n",
              "      <td>0</td>\n",
              "      <td>&lt;NA&gt;</td>\n",
              "    </tr>\n",
              "    <tr>\n",
              "      <th>73a9daf4-32e2-4205-b0d5-bcaa19552303</th>\n",
              "      <td>1.564875</td>\n",
              "      <td>0.010163</td>\n",
              "      <td>-0.208586</td>\n",
              "      <td>-1.903580</td>\n",
              "      <td>0.593737</td>\n",
              "      <td>1.246593</td>\n",
              "      <td>-0.123962</td>\n",
              "      <td>-0.262089</td>\n",
              "      <td>0</td>\n",
              "      <td>&lt;NA&gt;</td>\n",
              "    </tr>\n",
              "    <tr>\n",
              "      <th>b00175ce-d22a-4e46-8dd2-b528ce53d742</th>\n",
              "      <td>-1.819889</td>\n",
              "      <td>-0.139538</td>\n",
              "      <td>0.242153</td>\n",
              "      <td>0.184429</td>\n",
              "      <td>0.059359</td>\n",
              "      <td>0.601360</td>\n",
              "      <td>1.102512</td>\n",
              "      <td>0.228126</td>\n",
              "      <td>0</td>\n",
              "      <td>&lt;NA&gt;</td>\n",
              "    </tr>\n",
              "  </tbody>\n",
              "</table>\n",
              "</div>\n",
              "      <button class=\"colab-df-convert\" onclick=\"convertToInteractive('df-552e9347-96a6-48a9-bf0c-2d7a0e486dd3')\"\n",
              "              title=\"Convert this dataframe to an interactive table.\"\n",
              "              style=\"display:none;\">\n",
              "        \n",
              "  <svg xmlns=\"http://www.w3.org/2000/svg\" height=\"24px\"viewBox=\"0 0 24 24\"\n",
              "       width=\"24px\">\n",
              "    <path d=\"M0 0h24v24H0V0z\" fill=\"none\"/>\n",
              "    <path d=\"M18.56 5.44l.94 2.06.94-2.06 2.06-.94-2.06-.94-.94-2.06-.94 2.06-2.06.94zm-11 1L8.5 8.5l.94-2.06 2.06-.94-2.06-.94L8.5 2.5l-.94 2.06-2.06.94zm10 10l.94 2.06.94-2.06 2.06-.94-2.06-.94-.94-2.06-.94 2.06-2.06.94z\"/><path d=\"M17.41 7.96l-1.37-1.37c-.4-.4-.92-.59-1.43-.59-.52 0-1.04.2-1.43.59L10.3 9.45l-7.72 7.72c-.78.78-.78 2.05 0 2.83L4 21.41c.39.39.9.59 1.41.59.51 0 1.02-.2 1.41-.59l7.78-7.78 2.81-2.81c.8-.78.8-2.07 0-2.86zM5.41 20L4 18.59l7.72-7.72 1.47 1.35L5.41 20z\"/>\n",
              "  </svg>\n",
              "      </button>\n",
              "      \n",
              "  <style>\n",
              "    .colab-df-container {\n",
              "      display:flex;\n",
              "      flex-wrap:wrap;\n",
              "      gap: 12px;\n",
              "    }\n",
              "\n",
              "    .colab-df-convert {\n",
              "      background-color: #E8F0FE;\n",
              "      border: none;\n",
              "      border-radius: 50%;\n",
              "      cursor: pointer;\n",
              "      display: none;\n",
              "      fill: #1967D2;\n",
              "      height: 32px;\n",
              "      padding: 0 0 0 0;\n",
              "      width: 32px;\n",
              "    }\n",
              "\n",
              "    .colab-df-convert:hover {\n",
              "      background-color: #E2EBFA;\n",
              "      box-shadow: 0px 1px 2px rgba(60, 64, 67, 0.3), 0px 1px 3px 1px rgba(60, 64, 67, 0.15);\n",
              "      fill: #174EA6;\n",
              "    }\n",
              "\n",
              "    [theme=dark] .colab-df-convert {\n",
              "      background-color: #3B4455;\n",
              "      fill: #D2E3FC;\n",
              "    }\n",
              "\n",
              "    [theme=dark] .colab-df-convert:hover {\n",
              "      background-color: #434B5C;\n",
              "      box-shadow: 0px 1px 3px 1px rgba(0, 0, 0, 0.15);\n",
              "      filter: drop-shadow(0px 1px 2px rgba(0, 0, 0, 0.3));\n",
              "      fill: #FFFFFF;\n",
              "    }\n",
              "  </style>\n",
              "\n",
              "      <script>\n",
              "        const buttonEl =\n",
              "          document.querySelector('#df-552e9347-96a6-48a9-bf0c-2d7a0e486dd3 button.colab-df-convert');\n",
              "        buttonEl.style.display =\n",
              "          google.colab.kernel.accessAllowed ? 'block' : 'none';\n",
              "\n",
              "        async function convertToInteractive(key) {\n",
              "          const element = document.querySelector('#df-552e9347-96a6-48a9-bf0c-2d7a0e486dd3');\n",
              "          const dataTable =\n",
              "            await google.colab.kernel.invokeFunction('convertToInteractive',\n",
              "                                                     [key], {});\n",
              "          if (!dataTable) return;\n",
              "\n",
              "          const docLinkHtml = 'Like what you see? Visit the ' +\n",
              "            '<a target=\"_blank\" href=https://colab.research.google.com/notebooks/data_table.ipynb>data table notebook</a>'\n",
              "            + ' to learn more about interactive tables.';\n",
              "          element.innerHTML = '';\n",
              "          dataTable['output_type'] = 'display_data';\n",
              "          await google.colab.output.renderOutput(dataTable, element);\n",
              "          const docLink = document.createElement('div');\n",
              "          docLink.innerHTML = docLinkHtml;\n",
              "          element.appendChild(docLink);\n",
              "        }\n",
              "      </script>\n",
              "    </div>\n",
              "  </div>\n",
              "  "
            ],
            "text/plain": [
              "                                            x1        x2  ...  click  rating\n",
              "item_id                                                   ...               \n",
              "8820124f-cead-40c9-9b9b-61922b35c2b5  1.710266  0.817370  ...      0    <NA>\n",
              "73a9daf4-32e2-4205-b0d5-bcaa19552303  1.564875  0.010163  ...      0    <NA>\n",
              "b00175ce-d22a-4e46-8dd2-b528ce53d742 -1.819889 -0.139538  ...      0    <NA>\n",
              "\n",
              "[3 rows x 10 columns]"
            ]
          },
          "metadata": {},
          "execution_count": 7
        }
      ]
    },
    {
      "cell_type": "markdown",
      "source": [
        "\n",
        "Calculate the proportion of items that were clicked (result should be a number between 0 and 1):\n",
        "\n",
        "*(try to do this in one line of pandas code!)*\n",
        "\n"
      ],
      "metadata": {
        "id": "6VZqNeghHLlr"
      }
    },
    {
      "cell_type": "code",
      "source": [
        "ratio = (exploratory_training_df[\"click\"] == 1).sum() / (len(exploratory_training_df[\"click\"]))\n",
        "ratio"
      ],
      "metadata": {
        "id": "ev7TIt1LHazG",
        "colab": {
          "base_uri": "https://localhost:8080/"
        },
        "outputId": "d9d345ac-e6a2-483c-84c6-4b2ee5e0a612"
      },
      "execution_count": 8,
      "outputs": [
        {
          "output_type": "execute_result",
          "data": {
            "text/plain": [
              "0.024"
            ]
          },
          "metadata": {},
          "execution_count": 8
        }
      ]
    },
    {
      "cell_type": "markdown",
      "source": [
        "Plot a bar chart showing the number of times each rating value (1,2,...,5) was observed.\n",
        "\n",
        "*(try to do this in one line of pandas code!)*"
      ],
      "metadata": {
        "id": "jmsA4Gp-HaNn"
      }
    },
    {
      "cell_type": "code",
      "source": [
        "exploratory_training_df['rating'].dropna().plot.hist(\n",
        "    title='Evaluation dataset - Histogram of rating',\n",
        "    bins=[0.5,1.5,2.5,3.5,4.5,5.5]\n",
        ");"
      ],
      "metadata": {
        "id": "_0iDJjo2HnIN",
        "colab": {
          "base_uri": "https://localhost:8080/",
          "height": 281
        },
        "outputId": "c1976eec-e141-46ba-95c7-353bfd0377cb"
      },
      "execution_count": 9,
      "outputs": [
        {
          "output_type": "display_data",
          "data": {
            "image/png": "[encoded data removed]",
            "text/plain": [
              "<Figure size 432x288 with 1 Axes>"
            ]
          },
          "metadata": {
            "needs_background": "light"
          }
        }
      ]
    },
    {
      "cell_type": "markdown",
      "source": [
        "Why is this histofram different than the one plotted for the evaluataion set? Explain your answer."
      ],
      "metadata": {
        "id": "Cjm9Ry3qC5-c"
      }
    },
    {
      "cell_type": "markdown",
      "source": [
        "**Answer:** The distribution of the evaluation set is across all data samples, and here we see only the distribution of clicked items. In fact there is high correlation between clicked items and rating them highly. In other words, users tend to give high rating to items they have chosen (they are biased towards not-being disappointed). I'm curious if the same bias holds for Israeli users as well :D"
      ],
      "metadata": {
        "id": "6K_j0rVGn6RJ"
      }
    },
    {
      "cell_type": "markdown",
      "source": [
        "### 1.1.3 Basic model training\n",
        "\n",
        "We define a utility function `build_X_y_matrices` which will also be used later. The function takes an input a dataframe amd a column name for labels (and optionally column names for features), and returns a matrix $X$ with rows including item features, and a vector $y$ of corresponding labels. For label column names, use `click` or `rating` for train data, and `true_relevance` for evaluation data. For ratings data, the function automatically drops any `NaN` entries."
      ],
      "metadata": {
        "id": "65PMTrXPDqsU"
      }
    },
    {
      "cell_type": "code",
      "source": [
        "def build_X_y_matrices(\n",
        "    df: pd.DataFrame,\n",
        "    label_column: str,\n",
        "    feature_columns: List[str]=DatasetGenerator.FEATURE_COLUMNS,\n",
        "    get_valid_entries:bool=False ) -> Tuple[np.ndarray, np.array]:\n",
        "  \"\"\"\n",
        "  Extract training matrices and labels from the dataset DataFrame.\n",
        "  Entries for which the labels are missing are removed from the dataset.\n",
        "  Arguments:\n",
        "  - label_column (str): Name of column to be used as label (e.g 'click')\n",
        "  - feature_columns (List[str]): Columns to be used as features\n",
        "  \"\"\"\n",
        "  valid_entries = pd.notna(df[label_column])\n",
        "  X = df.loc[valid_entries][feature_columns].to_numpy()\n",
        "  y = df.loc[valid_entries][label_column].to_numpy()\n",
        "\n",
        "  if get_valid_entries:\n",
        "    return X,y,valid_entries\n",
        "  else:\n",
        "    return X,y"
      ],
      "metadata": {
        "id": "pYjziisBETeP"
      },
      "execution_count": 10,
      "outputs": []
    },
    {
      "cell_type": "markdown",
      "source": [
        "Use the above function to:\n",
        "* Create a train set of size 500 that includes ratings as labels.\n",
        "* Train a linear regression model (use scikit-learn).\n",
        "* Create an evaluation set of size 500 (that includes true relevancies $y$).\n",
        "* Use the learned model to generate predicted relevanceis $\\hat{y}$\n",
        "* Create a violin plot comparing $\\hat{y}$ to $\\hat{y}$ (code provided)."
      ],
      "metadata": {
        "id": "d2bPwNT3tMAT"
      }
    },
    {
      "cell_type": "code",
      "source": [
        "from sklearn.linear_model import LinearRegression\n",
        "\n",
        "\n",
        "exploratory_training_df = data_generator.generate_training_set(10000)\n",
        "x_train, y_train = build_X_y_matrices(exploratory_training_df, label_column=\"rating\")\n",
        "\n",
        "exploratory_evaluation_df = data_generator.generate_evaluation_set(10000)\n",
        "x_test, eval_r = build_X_y_matrices(exploratory_evaluation_df, label_column=\"true_relevance\")\n",
        "\n",
        "pred_r = LinearRegression().fit(x_train, y_train).predict(x_test)"
      ],
      "metadata": {
        "id": "rBmVHOcdf-4a"
      },
      "execution_count": 11,
      "outputs": []
    },
    {
      "cell_type": "code",
      "source": [
        "# [plot correlations]\n",
        "\n",
        "# eval_r: true ratings\n",
        "# pred_r: predicted ratings\n",
        "\n",
        "plt.figure(figsize=(8,6))\n",
        "rs = np.sort(np.unique(eval_r))\n",
        "pred_per_r = [pred_r[np.where(eval_r==r)] for r in rs]\n",
        "plt.violinplot(pred_per_r, rs, showmeans=True)\n",
        "plt.plot([1,5],[1,5],'k--');\n",
        "plt.show()"
      ],
      "metadata": {
        "id": "ZEYlesP7x1Fk",
        "colab": {
          "base_uri": "https://localhost:8080/",
          "height": 431
        },
        "outputId": "6f2b9aa4-2ebf-41b2-ca0c-c6fe5a2f3fec"
      },
      "execution_count": 12,
      "outputs": [
        {
          "output_type": "stream",
          "name": "stderr",
          "text": [
            "/usr/local/lib/python3.7/dist-packages/numpy/core/_asarray.py:83: VisibleDeprecationWarning: Creating an ndarray from ragged nested sequences (which is a list-or-tuple of lists-or-tuples-or ndarrays with different lengths or shapes) is deprecated. If you meant to do this, you must specify 'dtype=object' when creating the ndarray\n",
            "  return array(a, dtype, copy=False, order=order)\n"
          ]
        },
        {
          "output_type": "display_data",
          "data": {
            "image/png": "[encoded data removed]",
            "text/plain": [
              "<Figure size 576x432 with 1 Axes>"
            ]
          },
          "metadata": {
            "needs_background": "light"
          }
        }
      ]
    },
    {
      "cell_type": "markdown",
      "source": [
        "**Explain the plot -** Does the linear regression model capture the true relevance? "
      ],
      "metadata": {
        "id": "dmqxKsXHxqho"
      }
    },
    {
      "cell_type": "markdown",
      "source": [
        "Answer: The black linear line indicate the correct predictions. We see that the linear regression tends to predict close to the average all of possible rating (3), so it oversstimate items with low `true_relevance` and underestimate items with high `true_relevance`."
      ],
      "metadata": {
        "id": "rJ4yLMFvqCfD"
      }
    },
    {
      "cell_type": "markdown",
      "source": [
        "### 1.1.4 The effect of dataset size\n",
        "\n",
        "* Create a `DatasetGenerator` object with default arguments, and use it to generate an evaluation set of size 500.\n",
        "* For each n in `geomspace(50,20000,8)`, generate a training dataset of size n.\n",
        "* Train a click-prediction model using logistic regression.\n",
        "* Train a rating-prediction model using linear regression.\n",
        "* Evaluate and store the NDCG of each model on the evaluation set (use the following `ndcg_10` fuction that wraps scikit-learn's `ndcg_score` for top 10).\n",
        "* For each value of n, repeat the above procedure 20 times, and save results in `results_lst`.\n",
        "* Plot a line-plot showing the average NDCG per n for each of the two models. Include error bars. (The plotting function is given below.)"
      ],
      "metadata": {
        "id": "PhQh5666t9GM"
      }
    },
    {
      "cell_type": "code",
      "source": [
        "# Calculates ndcg at 10\n",
        "# Input: 2 arrays, true and estimated relevance\n",
        "# Output: float, score\n",
        "\n",
        "ndcg_10 = lambda y_true, y_est: ndcg_score(\n",
        "    np.expand_dims(y_true, 0),\n",
        "    np.expand_dims(y_est, 0),\n",
        "    k=10,\n",
        ")"
      ],
      "metadata": {
        "id": "o3PmDLgFw8aY"
      },
      "execution_count": 13,
      "outputs": []
    },
    {
      "cell_type": "code",
      "source": [
        "from sklearn.linear_model import LinearRegression\n",
        "from sklearn.linear_model import LogisticRegression\n",
        "\n",
        "\n",
        "def for_data_generator__shmoo_on_n_samples(data_generator, num_repeats, thresh_click):\n",
        "  log_model = LogisticRegression()\n",
        "  lin_model = LinearRegression()\n",
        "\n",
        "  exploratory_evaluation_df = data_generator.generate_evaluation_set(500)\n",
        "  x_test, eval_r = build_X_y_matrices(exploratory_evaluation_df, label_column=\"true_relevance\")\n",
        "\n",
        "  n_values_lst = np.geomspace(50,20000,8).astype(int)\n",
        "  results_lst = []\n",
        "\n",
        "  for rpt in range(num_repeats):\n",
        "    for n_samples in n_values_lst:\n",
        "\n",
        "      exploratory_training_df = data_generator.generate_training_set(n_samples)\n",
        "\n",
        "      x_train, y_train = build_X_y_matrices(exploratory_training_df, label_column=\"click\")\n",
        "      pred_r_prob_log = log_model.fit(x_train, y_train.astype(float)).predict_proba(x_test)\n",
        "\n",
        "      x_train, y_train = build_X_y_matrices(exploratory_training_df, label_column=\"rating\")\n",
        "      pred_r_lin = lin_model.fit(x_train, y_train).predict(x_test)\n",
        "\n",
        "      # store results:\n",
        "      results_lst.append({\n",
        "          'thresh_click': thresh_click,\n",
        "          'n_samples': n_samples,\n",
        "          'repetition': rpt,\n",
        "          'click_ndcg': ndcg_10(eval_r, pred_r_prob_log[:, 1]),\n",
        "          'rating_ndcg': ndcg_10(eval_r, pred_r_lin),\n",
        "      })\n",
        "\n",
        "  results_df = pd.DataFrame(results_lst)\n",
        "  return results_df"
      ],
      "metadata": {
        "id": "teM4Ba80wqcN"
      },
      "execution_count": 14,
      "outputs": []
    },
    {
      "cell_type": "code",
      "source": [
        "from sklearn.linear_model import LinearRegression\n",
        "from sklearn.linear_model import LogisticRegression\n",
        "\n",
        "np.random.seed(42)\n",
        "num_repeats = 20\n",
        "\n",
        "data_generator = DatasetGenerator()\n",
        "\n",
        "results_df = for_data_generator__shmoo_on_n_samples(data_generator, num_repeats, thresh_click=data_generator.thresh_click)\n",
        "results_df.head()"
      ],
      "metadata": {
        "id": "ky5txoB9iSWg",
        "colab": {
          "base_uri": "https://localhost:8080/",
          "height": 206
        },
        "outputId": "efde423c-a4fe-4304-cbd2-b227cd6500f5"
      },
      "execution_count": 15,
      "outputs": [
        {
          "output_type": "execute_result",
          "data": {
            "text/html": [
              "\n",
              "  <div id=\"df-b021bc74-d39b-48da-a5c9-1359dbfc61ea\">\n",
              "    <div class=\"colab-df-container\">\n",
              "      <div>\n",
              "<style scoped>\n",
              "    .dataframe tbody tr th:only-of-type {\n",
              "        vertical-align: middle;\n",
              "    }\n",
              "\n",
              "    .dataframe tbody tr th {\n",
              "        vertical-align: top;\n",
              "    }\n",
              "\n",
              "    .dataframe thead th {\n",
              "        text-align: right;\n",
              "    }\n",
              "</style>\n",
              "<table border=\"1\" class=\"dataframe\">\n",
              "  <thead>\n",
              "    <tr style=\"text-align: right;\">\n",
              "      <th></th>\n",
              "      <th>thresh_click</th>\n",
              "      <th>n_samples</th>\n",
              "      <th>repetition</th>\n",
              "      <th>click_ndcg</th>\n",
              "      <th>rating_ndcg</th>\n",
              "    </tr>\n",
              "  </thead>\n",
              "  <tbody>\n",
              "    <tr>\n",
              "      <th>0</th>\n",
              "      <td>2</td>\n",
              "      <td>49</td>\n",
              "      <td>0</td>\n",
              "      <td>0.956923</td>\n",
              "      <td>0.755841</td>\n",
              "    </tr>\n",
              "    <tr>\n",
              "      <th>1</th>\n",
              "      <td>2</td>\n",
              "      <td>117</td>\n",
              "      <td>0</td>\n",
              "      <td>1.000000</td>\n",
              "      <td>0.756827</td>\n",
              "    </tr>\n",
              "    <tr>\n",
              "      <th>2</th>\n",
              "      <td>2</td>\n",
              "      <td>276</td>\n",
              "      <td>0</td>\n",
              "      <td>0.900293</td>\n",
              "      <td>0.487546</td>\n",
              "    </tr>\n",
              "    <tr>\n",
              "      <th>3</th>\n",
              "      <td>2</td>\n",
              "      <td>651</td>\n",
              "      <td>0</td>\n",
              "      <td>0.903337</td>\n",
              "      <td>0.451515</td>\n",
              "    </tr>\n",
              "    <tr>\n",
              "      <th>4</th>\n",
              "      <td>2</td>\n",
              "      <td>1534</td>\n",
              "      <td>0</td>\n",
              "      <td>0.931580</td>\n",
              "      <td>0.972863</td>\n",
              "    </tr>\n",
              "  </tbody>\n",
              "</table>\n",
              "</div>\n",
              "      <button class=\"colab-df-convert\" onclick=\"convertToInteractive('df-b021bc74-d39b-48da-a5c9-1359dbfc61ea')\"\n",
              "              title=\"Convert this dataframe to an interactive table.\"\n",
              "              style=\"display:none;\">\n",
              "        \n",
              "  <svg xmlns=\"http://www.w3.org/2000/svg\" height=\"24px\"viewBox=\"0 0 24 24\"\n",
              "       width=\"24px\">\n",
              "    <path d=\"M0 0h24v24H0V0z\" fill=\"none\"/>\n",
              "    <path d=\"M18.56 5.44l.94 2.06.94-2.06 2.06-.94-2.06-.94-.94-2.06-.94 2.06-2.06.94zm-11 1L8.5 8.5l.94-2.06 2.06-.94-2.06-.94L8.5 2.5l-.94 2.06-2.06.94zm10 10l.94 2.06.94-2.06 2.06-.94-2.06-.94-.94-2.06-.94 2.06-2.06.94z\"/><path d=\"M17.41 7.96l-1.37-1.37c-.4-.4-.92-.59-1.43-.59-.52 0-1.04.2-1.43.59L10.3 9.45l-7.72 7.72c-.78.78-.78 2.05 0 2.83L4 21.41c.39.39.9.59 1.41.59.51 0 1.02-.2 1.41-.59l7.78-7.78 2.81-2.81c.8-.78.8-2.07 0-2.86zM5.41 20L4 18.59l7.72-7.72 1.47 1.35L5.41 20z\"/>\n",
              "  </svg>\n",
              "      </button>\n",
              "      \n",
              "  <style>\n",
              "    .colab-df-container {\n",
              "      display:flex;\n",
              "      flex-wrap:wrap;\n",
              "      gap: 12px;\n",
              "    }\n",
              "\n",
              "    .colab-df-convert {\n",
              "      background-color: #E8F0FE;\n",
              "      border: none;\n",
              "      border-radius: 50%;\n",
              "      cursor: pointer;\n",
              "      display: none;\n",
              "      fill: #1967D2;\n",
              "      height: 32px;\n",
              "      padding: 0 0 0 0;\n",
              "      width: 32px;\n",
              "    }\n",
              "\n",
              "    .colab-df-convert:hover {\n",
              "      background-color: #E2EBFA;\n",
              "      box-shadow: 0px 1px 2px rgba(60, 64, 67, 0.3), 0px 1px 3px 1px rgba(60, 64, 67, 0.15);\n",
              "      fill: #174EA6;\n",
              "    }\n",
              "\n",
              "    [theme=dark] .colab-df-convert {\n",
              "      background-color: #3B4455;\n",
              "      fill: #D2E3FC;\n",
              "    }\n",
              "\n",
              "    [theme=dark] .colab-df-convert:hover {\n",
              "      background-color: #434B5C;\n",
              "      box-shadow: 0px 1px 3px 1px rgba(0, 0, 0, 0.15);\n",
              "      filter: drop-shadow(0px 1px 2px rgba(0, 0, 0, 0.3));\n",
              "      fill: #FFFFFF;\n",
              "    }\n",
              "  </style>\n",
              "\n",
              "      <script>\n",
              "        const buttonEl =\n",
              "          document.querySelector('#df-b021bc74-d39b-48da-a5c9-1359dbfc61ea button.colab-df-convert');\n",
              "        buttonEl.style.display =\n",
              "          google.colab.kernel.accessAllowed ? 'block' : 'none';\n",
              "\n",
              "        async function convertToInteractive(key) {\n",
              "          const element = document.querySelector('#df-b021bc74-d39b-48da-a5c9-1359dbfc61ea');\n",
              "          const dataTable =\n",
              "            await google.colab.kernel.invokeFunction('convertToInteractive',\n",
              "                                                     [key], {});\n",
              "          if (!dataTable) return;\n",
              "\n",
              "          const docLinkHtml = 'Like what you see? Visit the ' +\n",
              "            '<a target=\"_blank\" href=https://colab.research.google.com/notebooks/data_table.ipynb>data table notebook</a>'\n",
              "            + ' to learn more about interactive tables.';\n",
              "          element.innerHTML = '';\n",
              "          dataTable['output_type'] = 'display_data';\n",
              "          await google.colab.output.renderOutput(dataTable, element);\n",
              "          const docLink = document.createElement('div');\n",
              "          docLink.innerHTML = docLinkHtml;\n",
              "          element.appendChild(docLink);\n",
              "        }\n",
              "      </script>\n",
              "    </div>\n",
              "  </div>\n",
              "  "
            ],
            "text/plain": [
              "   thresh_click  n_samples  repetition  click_ndcg  rating_ndcg\n",
              "0             2         49           0    0.956923     0.755841\n",
              "1             2        117           0    1.000000     0.756827\n",
              "2             2        276           0    0.900293     0.487546\n",
              "3             2        651           0    0.903337     0.451515\n",
              "4             2       1534           0    0.931580     0.972863"
            ]
          },
          "metadata": {},
          "execution_count": 15
        }
      ]
    },
    {
      "cell_type": "markdown",
      "source": [
        "Run the following cell to plot your results:"
      ],
      "metadata": {
        "id": "Ai0_CcqLulqF"
      }
    },
    {
      "cell_type": "code",
      "source": [
        "(\n",
        "  results_df\n",
        "  .groupby('n_samples')\n",
        "  .agg(['mean','sem'])\n",
        "  [['click_ndcg','rating_ndcg']]\n",
        "  .swaplevel(axis=1)\n",
        "  .pipe(lambda df: df['mean'].plot.line(\n",
        "          logx=True,\n",
        "          yerr=df['sem'],\n",
        "          capsize=3,\n",
        "          legend=True,\n",
        "          grid=True,\n",
        "          ylabel='NDCG',\n",
        "          title='Comparing NDCG of \"clicks\" and \"ratings\" models'\n",
        "      )\n",
        "  )\n",
        ");\n"
      ],
      "metadata": {
        "id": "Vj59k6HbqCYZ",
        "colab": {
          "base_uri": "https://localhost:8080/",
          "height": 300
        },
        "outputId": "dbcba433-1b75-45a8-c4fe-c5887b4a658a"
      },
      "execution_count": 16,
      "outputs": [
        {
          "output_type": "display_data",
          "data": {
            "image/png": "[encoded data removed]",
            "text/plain": [
              "<Figure size 432x288 with 1 Axes>"
            ]
          },
          "metadata": {
            "needs_background": "light"
          }
        }
      ]
    },
    {
      "cell_type": "markdown",
      "source": [
        "Explain your results."
      ],
      "metadata": {
        "id": "hcwoy9yv4wL6"
      }
    },
    {
      "cell_type": "markdown",
      "source": [
        "**Answer:** First, the more samples we have, the lower is the stderr (as expected). Regarding trends - when we have a small number of samples, the rating is biased towards highly-rated examples (since the user rates only samples she chose, and as we saw in previous plot, tends to give high rating), while clicks \"sees\" all examples. In addition, when we have X samples, clicks \"see\" all of them, while rating \"see\" a lot less, since she can only access examples there were clicked. When increasing the number of samples, rating gets to see more and more diverse examples, both highly and poorly rated, thus it gets better in predicting the correct ratings while the click predictor saturates and reach its upper bound, since it sees only partial information as opposed to the rating predictor that sees all the information, a fact that doesn't get improved when having more examples."
      ],
      "metadata": {
        "id": "kxH5gCmOzVnd"
      }
    },
    {
      "cell_type": "markdown",
      "source": [
        "### 1.1.5 Varying click threshold\n",
        "Repeat the experiment, but this time:\n",
        "* Keep the number of samples fixed at 1000.\n",
        "* Vary the click noise factor $\\mathtt{thresh\\_click} \\in\\{0,0.25,\\dots,3\\}$. Pass this as a parameter to the DatasetGenerator constructor (note this means that now the data generator object should be constructed *inside* the loop).\n",
        "* For every noise factor run 20 random repeats and average.\n",
        "\n",
        "(Feel free to reuse code from the above question)"
      ],
      "metadata": {
        "id": "CPrnJT9RPKNe"
      }
    },
    {
      "cell_type": "code",
      "source": [
        "from sklearn.linear_model import LinearRegression\n",
        "from sklearn.linear_model import LogisticRegression\n",
        "from tqdm.notebook import tqdm\n",
        "\n",
        "\n",
        "def for_data_generator__single_thresh_click(data_generator, num_repeats, thresh_click):\n",
        "  log_model = LogisticRegression()\n",
        "  lin_model = LinearRegression()\n",
        "\n",
        "  exploratory_evaluation_df = data_generator.generate_evaluation_set(500)\n",
        "  x_test, eval_r = build_X_y_matrices(exploratory_evaluation_df, label_column=\"true_relevance\")\n",
        "\n",
        "  results_lst = []\n",
        "\n",
        "  for rpt in range(num_repeats):\n",
        "\n",
        "    exploratory_training_df = data_generator.generate_training_set(1000)\n",
        "\n",
        "    x_train, y_train = build_X_y_matrices(exploratory_training_df, label_column=\"click\")\n",
        "    pred_r_prob_log = log_model.fit(x_train, y_train.astype(float)).predict_proba(x_test)\n",
        "\n",
        "    x_train, y_train = build_X_y_matrices(exploratory_training_df, label_column=\"rating\")\n",
        "    pred_r_lin = lin_model.fit(x_train, y_train).predict(x_test)\n",
        "\n",
        "    # store results:\n",
        "    results_lst.append({\n",
        "        'thresh_click': thresh_click,\n",
        "        'n_samples': 1000,\n",
        "        'repetition': rpt,\n",
        "        'click_ndcg': ndcg_10(eval_r, pred_r_prob_log[:, 1]),\n",
        "        'rating_ndcg': ndcg_10(eval_r, pred_r_lin),\n",
        "    })\n",
        "\n",
        "  results_df = pd.DataFrame(results_lst)\n",
        "  return results_df\n",
        "\n",
        "def for_data_generator__shmoo_on_thresh_click():\n",
        "\n",
        "  results_df = pd.DataFrame()\n",
        "  \n",
        "  for thresh_click in tqdm(np.linspace(0, 3, num=13, endpoint=True)):\n",
        "    np.random.seed(42)\n",
        "    data_generator = DatasetGenerator(thresh_click=thresh_click)\n",
        "    df = for_data_generator__single_thresh_click(data_generator, 20, thresh_click=thresh_click)\n",
        "    results_df = pd.concat([results_df, df])\n",
        "  \n",
        "  return results_df"
      ],
      "metadata": {
        "id": "GL684sqJ0NDS"
      },
      "execution_count": 17,
      "outputs": []
    },
    {
      "cell_type": "code",
      "source": [
        "results_df = for_data_generator__shmoo_on_thresh_click()\n",
        "results_df.head()"
      ],
      "metadata": {
        "id": "ojmOBMSaPNwS",
        "colab": {
          "base_uri": "https://localhost:8080/",
          "height": 237,
          "referenced_widgets": [
            "4c2aef280a3c42ee842ce84ae5c6217f",
            "458bcf6426f04d41aee24fd02c49f061",
            "49a40ba4ce074bad90d6c03465100a48",
            "d0852b161920459b8845d356193cb1de",
            "95672900edec42c0814f4cb9e5e9cae1",
            "0ba28b41cc794d38bb6888962a1bef69",
            "9eea42a7f9df4c5ea613e1546d8522d8",
            "6243fd262ebc4e9f864b972ffed75ab3",
            "5758825d20674f82ac0c2f765758a4b2",
            "cb8efcb597b649aaa7627ac14f2a96b4",
            "adf6b9bcb09344ccbf1352d2f38fb7f5"
          ]
        },
        "outputId": "ac467932-b6b9-490a-f3a5-f7bdc9348e6d"
      },
      "execution_count": 18,
      "outputs": [
        {
          "output_type": "display_data",
          "data": {
            "application/vnd.jupyter.widget-view+json": {
              "model_id": "4c2aef280a3c42ee842ce84ae5c6217f",
              "version_minor": 0,
              "version_major": 2
            },
            "text/plain": [
              "  0%|          | 0/13 [00:00<?, ?it/s]"
            ]
          },
          "metadata": {}
        },
        {
          "output_type": "execute_result",
          "data": {
            "text/html": [
              "\n",
              "  <div id=\"df-97f8bab7-5954-4323-9a34-52ee9ca675d0\">\n",
              "    <div class=\"colab-df-container\">\n",
              "      <div>\n",
              "<style scoped>\n",
              "    .dataframe tbody tr th:only-of-type {\n",
              "        vertical-align: middle;\n",
              "    }\n",
              "\n",
              "    .dataframe tbody tr th {\n",
              "        vertical-align: top;\n",
              "    }\n",
              "\n",
              "    .dataframe thead th {\n",
              "        text-align: right;\n",
              "    }\n",
              "</style>\n",
              "<table border=\"1\" class=\"dataframe\">\n",
              "  <thead>\n",
              "    <tr style=\"text-align: right;\">\n",
              "      <th></th>\n",
              "      <th>thresh_click</th>\n",
              "      <th>n_samples</th>\n",
              "      <th>repetition</th>\n",
              "      <th>click_ndcg</th>\n",
              "      <th>rating_ndcg</th>\n",
              "    </tr>\n",
              "  </thead>\n",
              "  <tbody>\n",
              "    <tr>\n",
              "      <th>0</th>\n",
              "      <td>0.0</td>\n",
              "      <td>1000</td>\n",
              "      <td>0</td>\n",
              "      <td>0.903436</td>\n",
              "      <td>1.0</td>\n",
              "    </tr>\n",
              "    <tr>\n",
              "      <th>1</th>\n",
              "      <td>0.0</td>\n",
              "      <td>1000</td>\n",
              "      <td>1</td>\n",
              "      <td>0.927144</td>\n",
              "      <td>1.0</td>\n",
              "    </tr>\n",
              "    <tr>\n",
              "      <th>2</th>\n",
              "      <td>0.0</td>\n",
              "      <td>1000</td>\n",
              "      <td>2</td>\n",
              "      <td>0.915525</td>\n",
              "      <td>1.0</td>\n",
              "    </tr>\n",
              "    <tr>\n",
              "      <th>3</th>\n",
              "      <td>0.0</td>\n",
              "      <td>1000</td>\n",
              "      <td>3</td>\n",
              "      <td>0.914176</td>\n",
              "      <td>1.0</td>\n",
              "    </tr>\n",
              "    <tr>\n",
              "      <th>4</th>\n",
              "      <td>0.0</td>\n",
              "      <td>1000</td>\n",
              "      <td>4</td>\n",
              "      <td>0.939232</td>\n",
              "      <td>1.0</td>\n",
              "    </tr>\n",
              "  </tbody>\n",
              "</table>\n",
              "</div>\n",
              "      <button class=\"colab-df-convert\" onclick=\"convertToInteractive('df-97f8bab7-5954-4323-9a34-52ee9ca675d0')\"\n",
              "              title=\"Convert this dataframe to an interactive table.\"\n",
              "              style=\"display:none;\">\n",
              "        \n",
              "  <svg xmlns=\"http://www.w3.org/2000/svg\" height=\"24px\"viewBox=\"0 0 24 24\"\n",
              "       width=\"24px\">\n",
              "    <path d=\"M0 0h24v24H0V0z\" fill=\"none\"/>\n",
              "    <path d=\"M18.56 5.44l.94 2.06.94-2.06 2.06-.94-2.06-.94-.94-2.06-.94 2.06-2.06.94zm-11 1L8.5 8.5l.94-2.06 2.06-.94-2.06-.94L8.5 2.5l-.94 2.06-2.06.94zm10 10l.94 2.06.94-2.06 2.06-.94-2.06-.94-.94-2.06-.94 2.06-2.06.94z\"/><path d=\"M17.41 7.96l-1.37-1.37c-.4-.4-.92-.59-1.43-.59-.52 0-1.04.2-1.43.59L10.3 9.45l-7.72 7.72c-.78.78-.78 2.05 0 2.83L4 21.41c.39.39.9.59 1.41.59.51 0 1.02-.2 1.41-.59l7.78-7.78 2.81-2.81c.8-.78.8-2.07 0-2.86zM5.41 20L4 18.59l7.72-7.72 1.47 1.35L5.41 20z\"/>\n",
              "  </svg>\n",
              "      </button>\n",
              "      \n",
              "  <style>\n",
              "    .colab-df-container {\n",
              "      display:flex;\n",
              "      flex-wrap:wrap;\n",
              "      gap: 12px;\n",
              "    }\n",
              "\n",
              "    .colab-df-convert {\n",
              "      background-color: #E8F0FE;\n",
              "      border: none;\n",
              "      border-radius: 50%;\n",
              "      cursor: pointer;\n",
              "      display: none;\n",
              "      fill: #1967D2;\n",
              "      height: 32px;\n",
              "      padding: 0 0 0 0;\n",
              "      width: 32px;\n",
              "    }\n",
              "\n",
              "    .colab-df-convert:hover {\n",
              "      background-color: #E2EBFA;\n",
              "      box-shadow: 0px 1px 2px rgba(60, 64, 67, 0.3), 0px 1px 3px 1px rgba(60, 64, 67, 0.15);\n",
              "      fill: #174EA6;\n",
              "    }\n",
              "\n",
              "    [theme=dark] .colab-df-convert {\n",
              "      background-color: #3B4455;\n",
              "      fill: #D2E3FC;\n",
              "    }\n",
              "\n",
              "    [theme=dark] .colab-df-convert:hover {\n",
              "      background-color: #434B5C;\n",
              "      box-shadow: 0px 1px 3px 1px rgba(0, 0, 0, 0.15);\n",
              "      filter: drop-shadow(0px 1px 2px rgba(0, 0, 0, 0.3));\n",
              "      fill: #FFFFFF;\n",
              "    }\n",
              "  </style>\n",
              "\n",
              "      <script>\n",
              "        const buttonEl =\n",
              "          document.querySelector('#df-97f8bab7-5954-4323-9a34-52ee9ca675d0 button.colab-df-convert');\n",
              "        buttonEl.style.display =\n",
              "          google.colab.kernel.accessAllowed ? 'block' : 'none';\n",
              "\n",
              "        async function convertToInteractive(key) {\n",
              "          const element = document.querySelector('#df-97f8bab7-5954-4323-9a34-52ee9ca675d0');\n",
              "          const dataTable =\n",
              "            await google.colab.kernel.invokeFunction('convertToInteractive',\n",
              "                                                     [key], {});\n",
              "          if (!dataTable) return;\n",
              "\n",
              "          const docLinkHtml = 'Like what you see? Visit the ' +\n",
              "            '<a target=\"_blank\" href=https://colab.research.google.com/notebooks/data_table.ipynb>data table notebook</a>'\n",
              "            + ' to learn more about interactive tables.';\n",
              "          element.innerHTML = '';\n",
              "          dataTable['output_type'] = 'display_data';\n",
              "          await google.colab.output.renderOutput(dataTable, element);\n",
              "          const docLink = document.createElement('div');\n",
              "          docLink.innerHTML = docLinkHtml;\n",
              "          element.appendChild(docLink);\n",
              "        }\n",
              "      </script>\n",
              "    </div>\n",
              "  </div>\n",
              "  "
            ],
            "text/plain": [
              "   thresh_click  n_samples  repetition  click_ndcg  rating_ndcg\n",
              "0           0.0       1000           0    0.903436          1.0\n",
              "1           0.0       1000           1    0.927144          1.0\n",
              "2           0.0       1000           2    0.915525          1.0\n",
              "3           0.0       1000           3    0.914176          1.0\n",
              "4           0.0       1000           4    0.939232          1.0"
            ]
          },
          "metadata": {},
          "execution_count": 18
        }
      ]
    },
    {
      "cell_type": "code",
      "source": [
        "(\n",
        "  results_df\n",
        "  .groupby('thresh_click')\n",
        "  .agg(['mean','sem'])\n",
        "  [['click_ndcg','rating_ndcg']]\n",
        "  .swaplevel(axis=1)\n",
        "  .pipe(lambda df: df['mean'].plot.line(\n",
        "          yerr=df['sem'],\n",
        "          capsize=3,\n",
        "          legend=True,\n",
        "          grid=True,\n",
        "          ylabel='NDCG',\n",
        "          title='Comparing NDCG of \"clicks\" and \"ratings\" models'\n",
        "      )\n",
        "  )\n",
        ");\n"
      ],
      "metadata": {
        "id": "68HaF3trPvwM",
        "colab": {
          "base_uri": "https://localhost:8080/",
          "height": 295
        },
        "outputId": "ff57dde6-3fca-42ce-9775-da464819e948"
      },
      "execution_count": 24,
      "outputs": [
        {
          "output_type": "display_data",
          "data": {
            "image/png": "[encoded data removed]",
            "text/plain": [
              "<Figure size 432x288 with 1 Axes>"
            ]
          },
          "metadata": {
            "needs_background": "light"
          }
        }
      ]
    },
    {
      "cell_type": "markdown",
      "source": [
        "**Answer:** 1) For low theshold we observe higher NDCG for the rating predicition since the use 'always clicks'. It means that the user always rate, and given that, our rating predictor have more information than the click predictor and hence achieve better NDCG. 2) For high click threshold, and since the dataset is small, we observe better performance for the click predictor, since all samples can be used for training. In this area, the rating predictor have much less data to train on, since many item have not been clicked, and have not been rated."
      ],
      "metadata": {
        "id": "u9zVHtjX7OMA"
      }
    },
    {
      "cell_type": "markdown",
      "source": [
        "### 1.1.6 Varying click noise\n",
        "Repeat the experiment, but this time:\n",
        "* Keep the number of samples fixed at 250.\n",
        "* Vary the click noise factor $\\mathtt{eps\\_click} \\in\\{0.25,0.5,\\dots,3.5\\}$. Pass this as a parameter to the DatasetGenerator constructor (be sure to use the constructor *inside* the loop).\n",
        "* For every noise factor run 50 random repeats and average."
      ],
      "metadata": {
        "id": "SG5LklHqKF-q"
      }
    },
    {
      "cell_type": "code",
      "source": [
        "from sklearn.linear_model import LinearRegression\n",
        "from sklearn.linear_model import LogisticRegression\n",
        "from tqdm.notebook import tqdm\n",
        "\n",
        "\n",
        "def for_data_generator__single_eps_click(data_generator, num_repeats, eps_click):\n",
        "  log_model = LogisticRegression()\n",
        "  lin_model = LinearRegression()\n",
        "\n",
        "  exploratory_evaluation_df = data_generator.generate_evaluation_set(500)\n",
        "  x_test, eval_r = build_X_y_matrices(exploratory_evaluation_df, label_column=\"true_relevance\")\n",
        "\n",
        "  results_lst = []\n",
        "\n",
        "  for rpt in range(num_repeats):\n",
        "\n",
        "    exploratory_training_df = data_generator.generate_training_set(250)\n",
        "\n",
        "    x_train, y_train = build_X_y_matrices(exploratory_training_df, label_column=\"click\")\n",
        "    pred_r_prob_log = log_model.fit(x_train, y_train.astype(float)).predict_proba(x_test)\n",
        "\n",
        "    x_train, y_train = build_X_y_matrices(exploratory_training_df, label_column=\"rating\")\n",
        "    pred_r_lin = lin_model.fit(x_train, y_train).predict(x_test)\n",
        "\n",
        "    # store results:\n",
        "    results_lst.append({\n",
        "        'eps_click': eps_click,\n",
        "        'n_samples': 250,\n",
        "        'repetition': rpt,\n",
        "        'click_ndcg': ndcg_10(eval_r, pred_r_prob_log[:, 1]),\n",
        "        'rating_ndcg': ndcg_10(eval_r, pred_r_lin),\n",
        "    })\n",
        "\n",
        "  results_df = pd.DataFrame(results_lst)\n",
        "  return results_df\n",
        "\n",
        "def for_data_generator__shmoo_on_eps_click():\n",
        "\n",
        "  results_df = pd.DataFrame()\n",
        "\n",
        "  for eps_click in tqdm(np.linspace(0.25, 3.5, num=14, endpoint=True)):\n",
        "    np.random.seed(42)\n",
        "    data_generator = DatasetGenerator(eps_click=eps_click)\n",
        "    df = for_data_generator__single_eps_click(data_generator, 50, eps_click=eps_click)\n",
        "    results_df = pd.concat([results_df, df])\n",
        "  \n",
        "  return results_df"
      ],
      "metadata": {
        "id": "iOqzN4H0KImo"
      },
      "execution_count": 33,
      "outputs": []
    },
    {
      "cell_type": "code",
      "source": [
        "results_df = for_data_generator__shmoo_on_eps_click()\n",
        "results_df.head()"
      ],
      "metadata": {
        "colab": {
          "base_uri": "https://localhost:8080/",
          "height": 237,
          "referenced_widgets": [
            "88c4064aee964738aa150c860538585e",
            "bd196edae62047918a030b25cba405f0",
            "13a2be0097f44f189149c73f2bb06312",
            "4309d3351ea34959a4b3b60702b25869",
            "ba7b75688e984438aaa495d2cb1f08c3",
            "05c12fcf4930429098c6021133f90b64",
            "9aa35398e63b423baa42d6eda058a3bd",
            "604e75d1a1a34728a1a6f987744ddd46",
            "305dbf4be3c547968bbb802c7a1c1313",
            "6663a831dd0f42b69c8866ecf49dcf0b",
            "305fb9fbc92b49e4ae9809715e24fafe"
          ]
        },
        "id": "FcG-OdtZ47_f",
        "outputId": "97cf5f1d-4d4e-4468-fadf-cd579b66f048"
      },
      "execution_count": 34,
      "outputs": [
        {
          "output_type": "display_data",
          "data": {
            "application/vnd.jupyter.widget-view+json": {
              "model_id": "88c4064aee964738aa150c860538585e",
              "version_minor": 0,
              "version_major": 2
            },
            "text/plain": [
              "  0%|          | 0/14 [00:00<?, ?it/s]"
            ]
          },
          "metadata": {}
        },
        {
          "output_type": "execute_result",
          "data": {
            "text/html": [
              "\n",
              "  <div id=\"df-e1554a25-5555-4cfb-bf0a-3a63f7e15378\">\n",
              "    <div class=\"colab-df-container\">\n",
              "      <div>\n",
              "<style scoped>\n",
              "    .dataframe tbody tr th:only-of-type {\n",
              "        vertical-align: middle;\n",
              "    }\n",
              "\n",
              "    .dataframe tbody tr th {\n",
              "        vertical-align: top;\n",
              "    }\n",
              "\n",
              "    .dataframe thead th {\n",
              "        text-align: right;\n",
              "    }\n",
              "</style>\n",
              "<table border=\"1\" class=\"dataframe\">\n",
              "  <thead>\n",
              "    <tr style=\"text-align: right;\">\n",
              "      <th></th>\n",
              "      <th>eps_click</th>\n",
              "      <th>n_samples</th>\n",
              "      <th>repetition</th>\n",
              "      <th>click_ndcg</th>\n",
              "      <th>rating_ndcg</th>\n",
              "    </tr>\n",
              "  </thead>\n",
              "  <tbody>\n",
              "    <tr>\n",
              "      <th>0</th>\n",
              "      <td>0.25</td>\n",
              "      <td>250</td>\n",
              "      <td>0</td>\n",
              "      <td>0.867506</td>\n",
              "      <td>0.548989</td>\n",
              "    </tr>\n",
              "    <tr>\n",
              "      <th>1</th>\n",
              "      <td>0.25</td>\n",
              "      <td>250</td>\n",
              "      <td>1</td>\n",
              "      <td>0.897298</td>\n",
              "      <td>0.724888</td>\n",
              "    </tr>\n",
              "    <tr>\n",
              "      <th>2</th>\n",
              "      <td>0.25</td>\n",
              "      <td>250</td>\n",
              "      <td>2</td>\n",
              "      <td>0.648417</td>\n",
              "      <td>0.576217</td>\n",
              "    </tr>\n",
              "    <tr>\n",
              "      <th>3</th>\n",
              "      <td>0.25</td>\n",
              "      <td>250</td>\n",
              "      <td>3</td>\n",
              "      <td>0.914551</td>\n",
              "      <td>0.717915</td>\n",
              "    </tr>\n",
              "    <tr>\n",
              "      <th>4</th>\n",
              "      <td>0.25</td>\n",
              "      <td>250</td>\n",
              "      <td>4</td>\n",
              "      <td>0.884423</td>\n",
              "      <td>0.420377</td>\n",
              "    </tr>\n",
              "  </tbody>\n",
              "</table>\n",
              "</div>\n",
              "      <button class=\"colab-df-convert\" onclick=\"convertToInteractive('df-e1554a25-5555-4cfb-bf0a-3a63f7e15378')\"\n",
              "              title=\"Convert this dataframe to an interactive table.\"\n",
              "              style=\"display:none;\">\n",
              "        \n",
              "  <svg xmlns=\"http://www.w3.org/2000/svg\" height=\"24px\"viewBox=\"0 0 24 24\"\n",
              "       width=\"24px\">\n",
              "    <path d=\"M0 0h24v24H0V0z\" fill=\"none\"/>\n",
              "    <path d=\"M18.56 5.44l.94 2.06.94-2.06 2.06-.94-2.06-.94-.94-2.06-.94 2.06-2.06.94zm-11 1L8.5 8.5l.94-2.06 2.06-.94-2.06-.94L8.5 2.5l-.94 2.06-2.06.94zm10 10l.94 2.06.94-2.06 2.06-.94-2.06-.94-.94-2.06-.94 2.06-2.06.94z\"/><path d=\"M17.41 7.96l-1.37-1.37c-.4-.4-.92-.59-1.43-.59-.52 0-1.04.2-1.43.59L10.3 9.45l-7.72 7.72c-.78.78-.78 2.05 0 2.83L4 21.41c.39.39.9.59 1.41.59.51 0 1.02-.2 1.41-.59l7.78-7.78 2.81-2.81c.8-.78.8-2.07 0-2.86zM5.41 20L4 18.59l7.72-7.72 1.47 1.35L5.41 20z\"/>\n",
              "  </svg>\n",
              "      </button>\n",
              "      \n",
              "  <style>\n",
              "    .colab-df-container {\n",
              "      display:flex;\n",
              "      flex-wrap:wrap;\n",
              "      gap: 12px;\n",
              "    }\n",
              "\n",
              "    .colab-df-convert {\n",
              "      background-color: #E8F0FE;\n",
              "      border: none;\n",
              "      border-radius: 50%;\n",
              "      cursor: pointer;\n",
              "      display: none;\n",
              "      fill: #1967D2;\n",
              "      height: 32px;\n",
              "      padding: 0 0 0 0;\n",
              "      width: 32px;\n",
              "    }\n",
              "\n",
              "    .colab-df-convert:hover {\n",
              "      background-color: #E2EBFA;\n",
              "      box-shadow: 0px 1px 2px rgba(60, 64, 67, 0.3), 0px 1px 3px 1px rgba(60, 64, 67, 0.15);\n",
              "      fill: #174EA6;\n",
              "    }\n",
              "\n",
              "    [theme=dark] .colab-df-convert {\n",
              "      background-color: #3B4455;\n",
              "      fill: #D2E3FC;\n",
              "    }\n",
              "\n",
              "    [theme=dark] .colab-df-convert:hover {\n",
              "      background-color: #434B5C;\n",
              "      box-shadow: 0px 1px 3px 1px rgba(0, 0, 0, 0.15);\n",
              "      filter: drop-shadow(0px 1px 2px rgba(0, 0, 0, 0.3));\n",
              "      fill: #FFFFFF;\n",
              "    }\n",
              "  </style>\n",
              "\n",
              "      <script>\n",
              "        const buttonEl =\n",
              "          document.querySelector('#df-e1554a25-5555-4cfb-bf0a-3a63f7e15378 button.colab-df-convert');\n",
              "        buttonEl.style.display =\n",
              "          google.colab.kernel.accessAllowed ? 'block' : 'none';\n",
              "\n",
              "        async function convertToInteractive(key) {\n",
              "          const element = document.querySelector('#df-e1554a25-5555-4cfb-bf0a-3a63f7e15378');\n",
              "          const dataTable =\n",
              "            await google.colab.kernel.invokeFunction('convertToInteractive',\n",
              "                                                     [key], {});\n",
              "          if (!dataTable) return;\n",
              "\n",
              "          const docLinkHtml = 'Like what you see? Visit the ' +\n",
              "            '<a target=\"_blank\" href=https://colab.research.google.com/notebooks/data_table.ipynb>data table notebook</a>'\n",
              "            + ' to learn more about interactive tables.';\n",
              "          element.innerHTML = '';\n",
              "          dataTable['output_type'] = 'display_data';\n",
              "          await google.colab.output.renderOutput(dataTable, element);\n",
              "          const docLink = document.createElement('div');\n",
              "          docLink.innerHTML = docLinkHtml;\n",
              "          element.appendChild(docLink);\n",
              "        }\n",
              "      </script>\n",
              "    </div>\n",
              "  </div>\n",
              "  "
            ],
            "text/plain": [
              "   eps_click  n_samples  repetition  click_ndcg  rating_ndcg\n",
              "0       0.25        250           0    0.867506     0.548989\n",
              "1       0.25        250           1    0.897298     0.724888\n",
              "2       0.25        250           2    0.648417     0.576217\n",
              "3       0.25        250           3    0.914551     0.717915\n",
              "4       0.25        250           4    0.884423     0.420377"
            ]
          },
          "metadata": {},
          "execution_count": 34
        }
      ]
    },
    {
      "cell_type": "code",
      "source": [
        "(\n",
        "  results_df\n",
        "  .groupby('eps_click')\n",
        "  .agg(['mean','sem'])\n",
        "  [['click_ndcg','rating_ndcg']]\n",
        "  .swaplevel(axis=1)\n",
        "  .pipe(lambda df: df['mean'].plot.line(\n",
        "          yerr=df['sem'],\n",
        "          capsize=3,\n",
        "          legend=True,\n",
        "          grid=True,\n",
        "          ylabel='NDCG',\n",
        "          title='Comparing NDCG of \"clicks\" and \"ratings\" models'\n",
        "      )\n",
        "  )\n",
        ");"
      ],
      "metadata": {
        "id": "jSZO3GrJK1gZ",
        "colab": {
          "base_uri": "https://localhost:8080/",
          "height": 295
        },
        "outputId": "ec4f831f-5c8b-4ab6-a9a7-ff5fefad30ec"
      },
      "execution_count": 35,
      "outputs": [
        {
          "output_type": "display_data",
          "data": {
            "image/png": "[encoded data removed]",
            "text/plain": [
              "<Figure size 432x288 with 1 Axes>"
            ]
          },
          "metadata": {
            "needs_background": "light"
          }
        }
      ]
    },
    {
      "cell_type": "markdown",
      "source": [
        "Are these results surprising? Explain."
      ],
      "metadata": {
        "id": "jmHpqDPyPDal"
      }
    },
    {
      "cell_type": "markdown",
      "source": [
        "**Answer:** 1) For the click predictor the results makes perfect sense; as the click noise increases, there is more uncertainty in the true clicks data, makes it more difficult to predict correctly, and hence lower the NDCG. 2) for the rating predictor it more intersting since in first sight one would say it doesn't make sense: more noise leads to better results? what the f*ck? But it does make sense actually. Since the user rates items only when he clicked them, low noise leads to insufficient information for low-relevancy items (given the small number of samples). More noise means that the user sometimes clicks items which in a perfect world she wouldn't, and in that way our rating predictor learns to rate also items with low relevancy. "
      ],
      "metadata": {
        "id": "7Rrx1u9d7J9y"
      }
    },
    {
      "cell_type": "markdown",
      "source": [
        "## 1.2 Biased ratings\n",
        "\n",
        "In real life, users rarely rate all items they consume. Moreover - both the choice of *which* items to rate, and the actual *reported* ratings, are prone to behavioral biases. In this question we will examine the effects of different reporting schemes (i.e., ways in which uesrs report or fail to report ratings, and how they modify these ratings) on learning.\n",
        "\n",
        "\n",
        "We will examine five types of users:\n",
        "- Rational (random): Each rating $r$ is reported with a fixed probability $p=0.4$. Note this serves as a benchmark since it does not add bias to how ratings are reported.\n",
        "- Ranting: Only reports bad ratings, defined as $r \\le 2$.\n",
        "- Extereme: Only reports extreme ratings, defined as $r=1$ or $r=5$.\n",
        "- Optimistic: Reports only if ratings are high, $r \\ge 4$, but for each item with true relevance $r=4$, misreports it as $r=5$ with probability $p=0.8$.\n",
        "- Overreacts: Reports ratings for items with low ratings $r \\le 2$ and with high ratings $r \\ge 4$, and for these, reports them with probability $p=0.5$. However, he extremifies his ratings by misreporting $r=2$ as $r=1$ and $r=4$ as $r=5$.\n",
        "- **[Bonus]** *Joker: implement your own type!*\n",
        "\n",
        "Note: the above criterions and probabilities ensure that for all types, 40% of ratings are reported, so all types generate the same (expected) number of ratings. If you implement a Joker, ensure this holds as well.\n",
        "\n"
      ],
      "metadata": {
        "id": "sC1hY3tMCiUp"
      }
    },
    {
      "cell_type": "markdown",
      "source": [
        "### 1.2.1 Implementing user types\n",
        "Implement a function `selective_ratings` that takes as input an array `r_arr` of ratings, and simulates user behavior by returning a subset of `r_arr` matching one of the above types of user reporting behaviors, as determined by the parameter `utype`. The function also takes as input the set of item features `items_train`, and returns the subset of items corresponding to the reported ratings.\n"
      ],
      "metadata": {
        "id": "6UPZZSceCwcb"
      }
    },
    {
      "cell_type": "code",
      "source": [
        "from scipy.stats import bernoulli\n",
        "\n",
        "\n",
        "def selective_ratings(r_arr, utype='rational',items_train=None):\n",
        "\n",
        "  np.random.seed(0)\n",
        "\n",
        "  \"\"\"\n",
        "  input:\n",
        "  r_arr: ratings array - numpy\n",
        "  utype: string\n",
        "\n",
        "  return: numpy array of revealed ratings, the corresponding item features\n",
        "  \"\"\"\n",
        "\n",
        "  n_samples = len(r_arr)\n",
        "\n",
        "  if utype=='rational':\n",
        "\n",
        "    mask = (np.random.random_sample(size=(n_samples, )) < 0.4)\n",
        "    r_arr = r_arr[mask]\n",
        "    if items_train is not None:\n",
        "      items_train = items_train[mask, ...]\n",
        "\n",
        "    return r_arr, items_train\n",
        "\n",
        "  if utype=='ranting':\n",
        "\n",
        "    mask = (r_arr <= 2)\n",
        "    r_arr = r_arr[mask]\n",
        "    if items_train is not None:\n",
        "      items_train = items_train[mask, ...]\n",
        "\n",
        "    return r_arr, items_train\n",
        "\n",
        "  if utype=='extreme':\n",
        "\n",
        "    mask = (r_arr == 1) + (r_arr == 5)\n",
        "    r_arr = r_arr[mask]\n",
        "    if items_train is not None:\n",
        "      items_train = items_train[mask, ...]\n",
        "\n",
        "    return r_arr, items_train\n",
        "\n",
        "  if utype=='optimistic':\n",
        "\n",
        "    mask = (r_arr >= 4)  \n",
        "    r_arr = r_arr[mask]\n",
        "\n",
        "    optimism_mask = (np.random.random_sample(size=(len(r_arr), )) < 0.8)\n",
        "    r_arr[optimism_mask] = 5\n",
        "\n",
        "    if items_train is not None:\n",
        "      items_train = items_train[mask, ...]\n",
        "\n",
        "    return r_arr, items_train\n",
        "\n",
        "  if utype=='overreacts':\n",
        "\n",
        "    mask = (r_arr <= 2) + (r_arr >= 4)    \n",
        "    r_arr = r_arr[mask]\n",
        "\n",
        "    if items_train is not None:\n",
        "      items_train = items_train[mask, ...]\n",
        "\n",
        "    overreacts_mask = (np.random.random_sample(size=(len(r_arr), )) < 0.5)\n",
        "    r_arr = r_arr[overreacts_mask]\n",
        "\n",
        "    if items_train is not None:\n",
        "      items_train = items_train[overreacts_mask, ...]\n",
        "\n",
        "    r_arr[r_arr == 2] = 1\n",
        "    r_arr[r_arr == 4] = 5\n",
        "\n",
        "    return r_arr, items_train"
      ],
      "metadata": {
        "id": "P9-8SeK9CoNs"
      },
      "execution_count": 38,
      "outputs": []
    },
    {
      "cell_type": "markdown",
      "source": [
        "Use the next block of code to experiment with your ratings filter models (optional)."
      ],
      "metadata": {
        "id": "QkkzImbzC3PW"
      }
    },
    {
      "cell_type": "code",
      "source": [
        "\"\"\"\n",
        "\n",
        "Try you code - optional\n",
        "You may use ratings generated below of the evaluation..\n",
        "\n",
        "\"\"\""
      ],
      "metadata": {
        "id": "RpS17UswC2RL",
        "outputId": "0af0d18c-a4de-4d91-a019-77960b4dc7bc",
        "colab": {
          "base_uri": "https://localhost:8080/",
          "height": 36
        }
      },
      "execution_count": 39,
      "outputs": [
        {
          "output_type": "execute_result",
          "data": {
            "application/vnd.google.colaboratory.intrinsic+json": {
              "type": "string"
            },
            "text/plain": [
              "'\\n\\nTry you code - optional\\nYou may use ratings generated below of the evaluation..\\n\\n'"
            ]
          },
          "metadata": {},
          "execution_count": 39
        }
      ]
    },
    {
      "cell_type": "markdown",
      "source": [
        "## 1.2.2 Training and evaluation\n",
        "\n",
        "In this section we will:\n",
        "* generates train and test data\n",
        "* filters rating for each user type based on your implementation of `selective_ratings'\n",
        "* \n",
        "\n",
        "(If you implemented a Joker type - add it to the code below)"
      ],
      "metadata": {
        "id": "636FInE9DGk3"
      }
    },
    {
      "cell_type": "markdown",
      "source": [
        "**Before actually running the code** - give an educated guess for NDCG and RMSE values for each user type (if values are hard for you to guess, state relations, e.g. 'higher', 'lower', 'much lower'):"
      ],
      "metadata": {
        "id": "ZnMpWEKTDb6H"
      }
    },
    {
      "cell_type": "code",
      "source": [
        "Answer:..."
      ],
      "metadata": {
        "id": "k0_Er-GaDD4y"
      },
      "execution_count": null,
      "outputs": []
    },
    {
      "cell_type": "code",
      "source": [
        ""
      ],
      "metadata": {
        "id": "fGbvOmpYofsI"
      },
      "execution_count": null,
      "outputs": []
    },
    {
      "cell_type": "markdown",
      "source": [
        "**Answer:** rational: highest, extreme: lower, overreacts: lower, optimist: lower, ranting: lower"
      ],
      "metadata": {
        "id": "R6M_8WK1ogb0"
      }
    },
    {
      "cell_type": "markdown",
      "source": [
        "Now, run the following cell, which generates data, trains, evaluates, and prints and stores predictions, NDCG, and RMSE test measures for each type."
      ],
      "metadata": {
        "id": "xRKZOcDuDfO0"
      }
    },
    {
      "cell_type": "code",
      "source": [
        "np.random.seed(42)\n",
        "data_generator = DatasetGenerator()\n",
        "\n",
        "# generate train data\n",
        "train_df = data_generator.generate_training_set(5000)\n",
        "items_train, ratings_train = build_X_y_matrices(train_df, 'rating')\n",
        "\n",
        "# generate test data\n",
        "test_df = data_generator.generate_evaluation_set(1000)\n",
        "items_test, true_relevance = build_X_y_matrices(test_df, 'true_relevance')\n",
        "\n",
        "utypes = ['rational', 'ranting', 'extreme', 'optimistic', 'overreacts']\n",
        "\n",
        "ndcgs = []\n",
        "rmses = []\n",
        "preds = []\n",
        "for utype in utypes:\n",
        "  # train\n",
        "  ratings_train_, items_train_ = selective_ratings(ratings_train, utype,items_train)\n",
        "  clf2 = LinearRegression().fit(items_train_, ratings_train_)\n",
        "\n",
        "  # predict, evaluate, and store results\n",
        "  pred_test = clf2.predict(items_test)\n",
        "  preds.append(pred_test)\n",
        "  ndcgs.append(ndcg_10(true_relevance, pred_test))\n",
        "  rmses.append(np.sqrt(mean_squared_error(true_relevance, pred_test)))\n",
        "\n",
        "  # print results\n",
        "  print(utype)\n",
        "  print('ndcg:', ndcgs[-1])\n",
        "  print('rmse:', rmses[-1])\n",
        "  print()"
      ],
      "metadata": {
        "id": "KlPuXisBDhtk",
        "colab": {
          "base_uri": "https://localhost:8080/"
        },
        "outputId": "1f997553-3a58-48b0-ca48-27d974d6d9e8"
      },
      "execution_count": 41,
      "outputs": [
        {
          "output_type": "stream",
          "name": "stdout",
          "text": [
            "rational\n",
            "ndcg: 0.985327215580128\n",
            "rmse: 0.9263708841364119\n",
            "\n",
            "ranting\n",
            "ndcg: 0.6187629318641255\n",
            "rmse: 1.6244550720118534\n",
            "\n",
            "extreme\n",
            "ndcg: 0.9872758423602097\n",
            "rmse: 1.4258220725225021\n",
            "\n",
            "optimistic\n",
            "ndcg: 0.6739632583268074\n",
            "rmse: 2.222138253621638\n",
            "\n",
            "overreacts\n",
            "ndcg: 0.676606385875945\n",
            "rmse: 2.2128142824217814\n",
            "\n"
          ]
        }
      ]
    },
    {
      "cell_type": "markdown",
      "source": [
        "### 1.2.3 Comparing guesses and results\n",
        "Do these results match your guesses? Why, or why not?\n",
        "\n",
        "To answer, first run the cell below which generates violin plots for each user type, and use it in your explanation."
      ],
      "metadata": {
        "id": "96qPZYkNFB53"
      }
    },
    {
      "cell_type": "markdown",
      "source": [
        "**Answer:** The rational indeed achieved the almost the best NDCG. it makes sense since there is not build-in bias in the rating mechanism. The extreme achieved even better NDCG (with little difference), althogh the plots below shows an overestimation bias for all values except 5. The other shows an either overestimation or underestimation, and in any way lower NDCG, as expected. "
      ],
      "metadata": {
        "id": "ktn0npXAprSp"
      }
    },
    {
      "cell_type": "code",
      "source": [
        "for utype_, pred_, ndcg_, rmse_ in zip(utypes, preds, ndcgs, rmses):\n",
        "  rs = np.sort(np.unique(true_relevance))\n",
        "  pred_per_r = [pred_[np.where(true_relevance==r)] for r in rs]\n",
        "  plt.violinplot(pred_per_r, rs, showmeans=True)\n",
        "  plt.plot([1,5],[1,5],'k--');\n",
        "  plt.xlabel('true relevance')\n",
        "  plt.ylabel('predicted rating')\n",
        "  plt.title('{}: ndcg={:.3f}, rmse={:.3f}'.format(utype_, ndcg_, rmse_))\n",
        "  plt.show()"
      ],
      "metadata": {
        "id": "LBlizWaVFIoE",
        "colab": {
          "base_uri": "https://localhost:8080/",
          "height": 1000
        },
        "outputId": "e93f021b-1b42-404b-cf6f-05fdcd357dc7"
      },
      "execution_count": 42,
      "outputs": [
        {
          "output_type": "stream",
          "name": "stderr",
          "text": [
            "/usr/local/lib/python3.7/dist-packages/numpy/core/_asarray.py:83: VisibleDeprecationWarning: Creating an ndarray from ragged nested sequences (which is a list-or-tuple of lists-or-tuples-or ndarrays with different lengths or shapes) is deprecated. If you meant to do this, you must specify 'dtype=object' when creating the ndarray\n",
            "  return array(a, dtype, copy=False, order=order)\n"
          ]
        },
        {
          "output_type": "display_data",
          "data": {
            "image/png": "[encoded data removed]",
            "text/plain": [
              "<Figure size 432x288 with 1 Axes>"
            ]
          },
          "metadata": {
            "needs_background": "light"
          }
        },
        {
          "output_type": "display_data",
          "data": {
            "image/png": "[encoded data removed]",
            "text/plain": [
              "<Figure size 432x288 with 1 Axes>"
            ]
          },
          "metadata": {
            "needs_background": "light"
          }
        },
        {
          "output_type": "display_data",
          "data": {
            "image/png": "[encoded data removed]",
            "text/plain": [
              "<Figure size 432x288 with 1 Axes>"
            ]
          },
          "metadata": {
            "needs_background": "light"
          }
        },
        {
          "output_type": "display_data",
          "data": {
            "image/png": "[encoded data removed]",
            "text/plain": [
              "<Figure size 432x288 with 1 Axes>"
            ]
          },
          "metadata": {
            "needs_background": "light"
          }
        },
        {
          "output_type": "display_data",
          "data": {
            "image/png": "[encoded data removed]",
            "text/plain": [
              "<Figure size 432x288 with 1 Axes>"
            ]
          },
          "metadata": {
            "needs_background": "light"
          }
        }
      ]
    },
    {
      "cell_type": "code",
      "source": [
        ""
      ],
      "metadata": {
        "id": "PIqfU7TCpfkk"
      },
      "execution_count": null,
      "outputs": []
    }
  ]
}